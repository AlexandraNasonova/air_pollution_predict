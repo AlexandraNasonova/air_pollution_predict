{
 "cells": [
  {
   "cell_type": "code",
   "execution_count": 131,
   "outputs": [],
   "source": [
    "import glob\n",
    "import os\n",
    "import pathlib\n",
    "\n",
    "import numpy as np\n",
    "import pandas as pd\n",
    "import matplotlib.pyplot as plt\n",
    "import aqi_calculator.aqi_calculator as aqc\n",
    "%matplotlib inline\n",
    "\n",
    "#pd.set_option('display.max_rows', 500)\n",
    "pd.set_option('display.max_columns', 500)\n",
    "pd.set_option('display.width', 1000)"
   ],
   "metadata": {
    "collapsed": false
   }
  },
  {
   "cell_type": "markdown",
   "source": [
    "##### Константы"
   ],
   "metadata": {
    "collapsed": false
   }
  },
  {
   "cell_type": "code",
   "execution_count": 135,
   "outputs": [],
   "source": [
    "USE_COLUMNS = ['Countrycode', 'AirQualityStation', 'SamplingPoint', 'SamplingProcess', 'UnitOfMeasurement', 'Concentration', 'AveragingTime', 'DatetimeEnd', 'Validity', 'Verification']\n",
    "INDEX_COLUMNS = ['DatetimeEnd', 'AirQualityStation']\n",
    "CSV_PATH = '../datasources/aq_min/$pollutant_id$/'\n",
    "CSV_EDA_PATH = '../datasources/eda/'\n",
    "CSV_AQI_PATH = '../datasources/aqi_calc/'\n",
    "CSV_FILTER = \"*.csv\"\n",
    "POL_ID_PARAM = '$pollutant_id$'\n",
    "METADATA_USE_COLUMNS = ['Countrycode', 'AirQualityStation', 'SamplingProces', 'AirPollutantCode', 'Longitude', 'Latitude', 'Altitude', 'AirQualityStationType', 'AirQualityStationArea']\n",
    "METADATA_CSV_PATH = '../datasources/aq/PanEuropean_metadata.csv'\n",
    "POL_CODES = [7, 6001, 5, 10, 1, 8]\n",
    "POL_NAMES = {7: \"O3\", 6001: \"PM2.5\", 5: \"PM10\", 10: \"CO\", 1: \"SO2\", 8: \"NO2\"}\n",
    "POL_MEASURES = {7: \"µg/m3\", 6001: \"µg/m3\", 5: \"µg/m3\", 10: \"mg/m3\", 1: \"µg/m3\", 8: \"µg/m3\"}\n",
    "POL_URL = \"http://dd.eionet.europa.eu/vocabulary/aq/pollutant/\""
   ],
   "metadata": {
    "collapsed": false
   }
  },
  {
   "cell_type": "code",
   "execution_count": 3,
   "outputs": [],
   "source": [
    "country_code = 'NL'\n",
    "flag_data_clean_up = True"
   ],
   "metadata": {
    "collapsed": false
   }
  },
  {
   "cell_type": "markdown",
   "source": [
    "##### Загрузка csv файлов в один dataframe для каждого загрязнителя. Вывод типов данных и первых строк для первого загрязнителя"
   ],
   "metadata": {
    "collapsed": false
   }
  },
  {
   "cell_type": "code",
   "execution_count": 4,
   "outputs": [
    {
     "name": "stdout",
     "output_type": "stream",
     "text": [
      "Pollutant: O3        Lines count: 367636\n",
      "Pollutant: PM2.5     Lines count: 423406\n",
      "Pollutant: PM10      Lines count: 378057\n",
      "Pollutant: CO        Lines count: 412885\n",
      "Pollutant: SO2       Lines count: 364123\n",
      "Pollutant: NO2       Lines count: 262920\n"
     ]
    }
   ],
   "source": [
    "df_list= list()\n",
    "for pol_id in POL_CODES:\n",
    "    df = pd.concat(map(lambda p: pd.read_csv(p, usecols=USE_COLUMNS), glob.glob(os.path.join(CSV_PATH.replace(POL_ID_PARAM, str(pol_id)), CSV_FILTER))))\n",
    "    print(f'Pollutant: {POL_NAMES[pol_id] :10}Lines count: {df.shape[0]}')\n",
    "    df_list.append(df)"
   ],
   "metadata": {
    "collapsed": false
   }
  },
  {
   "cell_type": "code",
   "execution_count": 5,
   "outputs": [
    {
     "data": {
      "text/plain": "Countrycode           object\nAirQualityStation     object\nSamplingPoint         object\nSamplingProcess       object\nAveragingTime         object\nConcentration        float64\nUnitOfMeasurement     object\nDatetimeEnd           object\nValidity               int64\nVerification           int64\ndtype: object"
     },
     "metadata": {},
     "output_type": "display_data"
    }
   ],
   "source": [
    "display(df_list[0].dtypes)"
   ],
   "metadata": {
    "collapsed": false
   }
  },
  {
   "cell_type": "code",
   "execution_count": 6,
   "outputs": [
    {
     "data": {
      "text/plain": "  Countrycode AirQualityStation          SamplingPoint          SamplingProcess AveragingTime  Concentration UnitOfMeasurement                 DatetimeEnd  Validity  Verification\n0          NL       STA-NL00494  SPO-NL00494_00007_100  SPP-NL_A_UV-P_thermo49c          hour            2.9             µg/m3  2013-09-20 00:00:00 +01:00         1             1\n1          NL       STA-NL00494  SPO-NL00494_00007_100  SPP-NL_A_UV-P_thermo49c          hour            4.8             µg/m3  2013-09-22 10:00:00 +01:00         1             1\n2          NL       STA-NL00494  SPO-NL00494_00007_100  SPP-NL_A_UV-P_thermo49c          hour           20.9             µg/m3  2013-09-23 02:00:00 +01:00         1             1\n3          NL       STA-NL00494  SPO-NL00494_00007_100  SPP-NL_A_UV-P_thermo49c          hour            NaN             µg/m3  2013-09-23 05:00:00 +01:00        -1             1\n4          NL       STA-NL00494  SPO-NL00494_00007_100  SPP-NL_A_UV-P_thermo49c          hour            6.4             µg/m3  2013-09-24 19:00:00 +01:00         1             1",
      "text/html": "<div>\n<style scoped>\n    .dataframe tbody tr th:only-of-type {\n        vertical-align: middle;\n    }\n\n    .dataframe tbody tr th {\n        vertical-align: top;\n    }\n\n    .dataframe thead th {\n        text-align: right;\n    }\n</style>\n<table border=\"1\" class=\"dataframe\">\n  <thead>\n    <tr style=\"text-align: right;\">\n      <th></th>\n      <th>Countrycode</th>\n      <th>AirQualityStation</th>\n      <th>SamplingPoint</th>\n      <th>SamplingProcess</th>\n      <th>AveragingTime</th>\n      <th>Concentration</th>\n      <th>UnitOfMeasurement</th>\n      <th>DatetimeEnd</th>\n      <th>Validity</th>\n      <th>Verification</th>\n    </tr>\n  </thead>\n  <tbody>\n    <tr>\n      <th>0</th>\n      <td>NL</td>\n      <td>STA-NL00494</td>\n      <td>SPO-NL00494_00007_100</td>\n      <td>SPP-NL_A_UV-P_thermo49c</td>\n      <td>hour</td>\n      <td>2.9</td>\n      <td>µg/m3</td>\n      <td>2013-09-20 00:00:00 +01:00</td>\n      <td>1</td>\n      <td>1</td>\n    </tr>\n    <tr>\n      <th>1</th>\n      <td>NL</td>\n      <td>STA-NL00494</td>\n      <td>SPO-NL00494_00007_100</td>\n      <td>SPP-NL_A_UV-P_thermo49c</td>\n      <td>hour</td>\n      <td>4.8</td>\n      <td>µg/m3</td>\n      <td>2013-09-22 10:00:00 +01:00</td>\n      <td>1</td>\n      <td>1</td>\n    </tr>\n    <tr>\n      <th>2</th>\n      <td>NL</td>\n      <td>STA-NL00494</td>\n      <td>SPO-NL00494_00007_100</td>\n      <td>SPP-NL_A_UV-P_thermo49c</td>\n      <td>hour</td>\n      <td>20.9</td>\n      <td>µg/m3</td>\n      <td>2013-09-23 02:00:00 +01:00</td>\n      <td>1</td>\n      <td>1</td>\n    </tr>\n    <tr>\n      <th>3</th>\n      <td>NL</td>\n      <td>STA-NL00494</td>\n      <td>SPO-NL00494_00007_100</td>\n      <td>SPP-NL_A_UV-P_thermo49c</td>\n      <td>hour</td>\n      <td>NaN</td>\n      <td>µg/m3</td>\n      <td>2013-09-23 05:00:00 +01:00</td>\n      <td>-1</td>\n      <td>1</td>\n    </tr>\n    <tr>\n      <th>4</th>\n      <td>NL</td>\n      <td>STA-NL00494</td>\n      <td>SPO-NL00494_00007_100</td>\n      <td>SPP-NL_A_UV-P_thermo49c</td>\n      <td>hour</td>\n      <td>6.4</td>\n      <td>µg/m3</td>\n      <td>2013-09-24 19:00:00 +01:00</td>\n      <td>1</td>\n      <td>1</td>\n    </tr>\n  </tbody>\n</table>\n</div>"
     },
     "execution_count": 6,
     "metadata": {},
     "output_type": "execute_result"
    }
   ],
   "source": [
    "df_list[0].head()"
   ],
   "metadata": {
    "collapsed": false
   }
  },
  {
   "cell_type": "markdown",
   "source": [
    "***\n",
    "#### Общая статистика по каждому загрязнителю\n",
    "***"
   ],
   "metadata": {
    "collapsed": false
   }
  },
  {
   "cell_type": "code",
   "execution_count": 7,
   "outputs": [
    {
     "name": "stdout",
     "output_type": "stream",
     "text": [
      "--------------------------------------------POLLUTANT O3--------------------------------------------\n"
     ]
    },
    {
     "data": {
      "text/plain": "       Countrycode AirQualityStation          SamplingPoint          SamplingProcess AveragingTime  Concentration UnitOfMeasurement                 DatetimeEnd       Validity   Verification\ncount       367636            367636                 367636                   367636        367636  356997.000000            367636                      367636  367636.000000  367636.000000\nunique           1                 4                      4                        3             1            NaN                 1                       85694            NaN            NaN\ntop             NL       STA-NL00301  SPO-NL00301_00007_101  SPP-NL_A_UV-P_thermo49i          hour            NaN             µg/m3  2013-09-20 00:00:00 +01:00            NaN            NaN\nfreq        367636             94192                  94192                   253190        367636            NaN            367636                           8            NaN            NaN\nmean           NaN               NaN                    NaN                      NaN           NaN      45.520474               NaN                         NaN       0.959191       1.285364\nstd            NaN               NaN                    NaN                      NaN           NaN      26.517910               NaN                         NaN       0.362159       0.699497\nmin            NaN               NaN                    NaN                      NaN           NaN    -141.900000               NaN                         NaN      -1.000000       1.000000\n25%            NaN               NaN                    NaN                      NaN           NaN      26.000000               NaN                         NaN       1.000000       1.000000\n50%            NaN               NaN                    NaN                      NaN           NaN      46.310000               NaN                         NaN       1.000000       1.000000\n75%            NaN               NaN                    NaN                      NaN           NaN      63.500000               NaN                         NaN       1.000000       1.000000\nmax            NaN               NaN                    NaN                      NaN           NaN     278.960000               NaN                         NaN       2.000000       3.000000",
      "text/html": "<div>\n<style scoped>\n    .dataframe tbody tr th:only-of-type {\n        vertical-align: middle;\n    }\n\n    .dataframe tbody tr th {\n        vertical-align: top;\n    }\n\n    .dataframe thead th {\n        text-align: right;\n    }\n</style>\n<table border=\"1\" class=\"dataframe\">\n  <thead>\n    <tr style=\"text-align: right;\">\n      <th></th>\n      <th>Countrycode</th>\n      <th>AirQualityStation</th>\n      <th>SamplingPoint</th>\n      <th>SamplingProcess</th>\n      <th>AveragingTime</th>\n      <th>Concentration</th>\n      <th>UnitOfMeasurement</th>\n      <th>DatetimeEnd</th>\n      <th>Validity</th>\n      <th>Verification</th>\n    </tr>\n  </thead>\n  <tbody>\n    <tr>\n      <th>count</th>\n      <td>367636</td>\n      <td>367636</td>\n      <td>367636</td>\n      <td>367636</td>\n      <td>367636</td>\n      <td>356997.000000</td>\n      <td>367636</td>\n      <td>367636</td>\n      <td>367636.000000</td>\n      <td>367636.000000</td>\n    </tr>\n    <tr>\n      <th>unique</th>\n      <td>1</td>\n      <td>4</td>\n      <td>4</td>\n      <td>3</td>\n      <td>1</td>\n      <td>NaN</td>\n      <td>1</td>\n      <td>85694</td>\n      <td>NaN</td>\n      <td>NaN</td>\n    </tr>\n    <tr>\n      <th>top</th>\n      <td>NL</td>\n      <td>STA-NL00301</td>\n      <td>SPO-NL00301_00007_101</td>\n      <td>SPP-NL_A_UV-P_thermo49i</td>\n      <td>hour</td>\n      <td>NaN</td>\n      <td>µg/m3</td>\n      <td>2013-09-20 00:00:00 +01:00</td>\n      <td>NaN</td>\n      <td>NaN</td>\n    </tr>\n    <tr>\n      <th>freq</th>\n      <td>367636</td>\n      <td>94192</td>\n      <td>94192</td>\n      <td>253190</td>\n      <td>367636</td>\n      <td>NaN</td>\n      <td>367636</td>\n      <td>8</td>\n      <td>NaN</td>\n      <td>NaN</td>\n    </tr>\n    <tr>\n      <th>mean</th>\n      <td>NaN</td>\n      <td>NaN</td>\n      <td>NaN</td>\n      <td>NaN</td>\n      <td>NaN</td>\n      <td>45.520474</td>\n      <td>NaN</td>\n      <td>NaN</td>\n      <td>0.959191</td>\n      <td>1.285364</td>\n    </tr>\n    <tr>\n      <th>std</th>\n      <td>NaN</td>\n      <td>NaN</td>\n      <td>NaN</td>\n      <td>NaN</td>\n      <td>NaN</td>\n      <td>26.517910</td>\n      <td>NaN</td>\n      <td>NaN</td>\n      <td>0.362159</td>\n      <td>0.699497</td>\n    </tr>\n    <tr>\n      <th>min</th>\n      <td>NaN</td>\n      <td>NaN</td>\n      <td>NaN</td>\n      <td>NaN</td>\n      <td>NaN</td>\n      <td>-141.900000</td>\n      <td>NaN</td>\n      <td>NaN</td>\n      <td>-1.000000</td>\n      <td>1.000000</td>\n    </tr>\n    <tr>\n      <th>25%</th>\n      <td>NaN</td>\n      <td>NaN</td>\n      <td>NaN</td>\n      <td>NaN</td>\n      <td>NaN</td>\n      <td>26.000000</td>\n      <td>NaN</td>\n      <td>NaN</td>\n      <td>1.000000</td>\n      <td>1.000000</td>\n    </tr>\n    <tr>\n      <th>50%</th>\n      <td>NaN</td>\n      <td>NaN</td>\n      <td>NaN</td>\n      <td>NaN</td>\n      <td>NaN</td>\n      <td>46.310000</td>\n      <td>NaN</td>\n      <td>NaN</td>\n      <td>1.000000</td>\n      <td>1.000000</td>\n    </tr>\n    <tr>\n      <th>75%</th>\n      <td>NaN</td>\n      <td>NaN</td>\n      <td>NaN</td>\n      <td>NaN</td>\n      <td>NaN</td>\n      <td>63.500000</td>\n      <td>NaN</td>\n      <td>NaN</td>\n      <td>1.000000</td>\n      <td>1.000000</td>\n    </tr>\n    <tr>\n      <th>max</th>\n      <td>NaN</td>\n      <td>NaN</td>\n      <td>NaN</td>\n      <td>NaN</td>\n      <td>NaN</td>\n      <td>278.960000</td>\n      <td>NaN</td>\n      <td>NaN</td>\n      <td>2.000000</td>\n      <td>3.000000</td>\n    </tr>\n  </tbody>\n</table>\n</div>"
     },
     "metadata": {},
     "output_type": "display_data"
    },
    {
     "name": "stdout",
     "output_type": "stream",
     "text": [
      "--------------------------------------------POLLUTANT PM2.5--------------------------------------------\n"
     ]
    },
    {
     "data": {
      "text/plain": "       Countrycode AirQualityStation          SamplingPoint        SamplingProcess AveragingTime  Concentration UnitOfMeasurement                 DatetimeEnd       Validity   Verification\ncount       423406            423406                 423406                 423406        423406  411410.000000            423406                      423406  423406.000000  423406.000000\nunique           1                 5                      5                      3             2            NaN                 1                       85711            NaN            NaN\ntop             NL       STA-NL00561  SPO-NL00561_06001_100  SPP-NL_A_BETA_BAM1020          hour            NaN             µg/m3  2013-07-17 00:00:00 +01:00            NaN            NaN\nfreq        423406             91237                  91237                 321175        423041            NaN            423406                           9            NaN            NaN\nmean           NaN               NaN                    NaN                    NaN           NaN      12.479411               NaN                         NaN       0.965848       1.383485\nstd            NaN               NaN                    NaN                    NaN           NaN      11.242443               NaN                         NaN       0.366981       0.787344\nmin            NaN               NaN                    NaN                    NaN           NaN     -15.800000               NaN                         NaN      -1.000000       1.000000\n25%            NaN               NaN                    NaN                    NaN           NaN       5.739000               NaN                         NaN       1.000000       1.000000\n50%            NaN               NaN                    NaN                    NaN           NaN       9.300000               NaN                         NaN       1.000000       1.000000\n75%            NaN               NaN                    NaN                    NaN           NaN      15.900000               NaN                         NaN       1.000000       1.000000\nmax            NaN               NaN                    NaN                    NaN           NaN     665.986000               NaN                         NaN       2.000000       3.000000",
      "text/html": "<div>\n<style scoped>\n    .dataframe tbody tr th:only-of-type {\n        vertical-align: middle;\n    }\n\n    .dataframe tbody tr th {\n        vertical-align: top;\n    }\n\n    .dataframe thead th {\n        text-align: right;\n    }\n</style>\n<table border=\"1\" class=\"dataframe\">\n  <thead>\n    <tr style=\"text-align: right;\">\n      <th></th>\n      <th>Countrycode</th>\n      <th>AirQualityStation</th>\n      <th>SamplingPoint</th>\n      <th>SamplingProcess</th>\n      <th>AveragingTime</th>\n      <th>Concentration</th>\n      <th>UnitOfMeasurement</th>\n      <th>DatetimeEnd</th>\n      <th>Validity</th>\n      <th>Verification</th>\n    </tr>\n  </thead>\n  <tbody>\n    <tr>\n      <th>count</th>\n      <td>423406</td>\n      <td>423406</td>\n      <td>423406</td>\n      <td>423406</td>\n      <td>423406</td>\n      <td>411410.000000</td>\n      <td>423406</td>\n      <td>423406</td>\n      <td>423406.000000</td>\n      <td>423406.000000</td>\n    </tr>\n    <tr>\n      <th>unique</th>\n      <td>1</td>\n      <td>5</td>\n      <td>5</td>\n      <td>3</td>\n      <td>2</td>\n      <td>NaN</td>\n      <td>1</td>\n      <td>85711</td>\n      <td>NaN</td>\n      <td>NaN</td>\n    </tr>\n    <tr>\n      <th>top</th>\n      <td>NL</td>\n      <td>STA-NL00561</td>\n      <td>SPO-NL00561_06001_100</td>\n      <td>SPP-NL_A_BETA_BAM1020</td>\n      <td>hour</td>\n      <td>NaN</td>\n      <td>µg/m3</td>\n      <td>2013-07-17 00:00:00 +01:00</td>\n      <td>NaN</td>\n      <td>NaN</td>\n    </tr>\n    <tr>\n      <th>freq</th>\n      <td>423406</td>\n      <td>91237</td>\n      <td>91237</td>\n      <td>321175</td>\n      <td>423041</td>\n      <td>NaN</td>\n      <td>423406</td>\n      <td>9</td>\n      <td>NaN</td>\n      <td>NaN</td>\n    </tr>\n    <tr>\n      <th>mean</th>\n      <td>NaN</td>\n      <td>NaN</td>\n      <td>NaN</td>\n      <td>NaN</td>\n      <td>NaN</td>\n      <td>12.479411</td>\n      <td>NaN</td>\n      <td>NaN</td>\n      <td>0.965848</td>\n      <td>1.383485</td>\n    </tr>\n    <tr>\n      <th>std</th>\n      <td>NaN</td>\n      <td>NaN</td>\n      <td>NaN</td>\n      <td>NaN</td>\n      <td>NaN</td>\n      <td>11.242443</td>\n      <td>NaN</td>\n      <td>NaN</td>\n      <td>0.366981</td>\n      <td>0.787344</td>\n    </tr>\n    <tr>\n      <th>min</th>\n      <td>NaN</td>\n      <td>NaN</td>\n      <td>NaN</td>\n      <td>NaN</td>\n      <td>NaN</td>\n      <td>-15.800000</td>\n      <td>NaN</td>\n      <td>NaN</td>\n      <td>-1.000000</td>\n      <td>1.000000</td>\n    </tr>\n    <tr>\n      <th>25%</th>\n      <td>NaN</td>\n      <td>NaN</td>\n      <td>NaN</td>\n      <td>NaN</td>\n      <td>NaN</td>\n      <td>5.739000</td>\n      <td>NaN</td>\n      <td>NaN</td>\n      <td>1.000000</td>\n      <td>1.000000</td>\n    </tr>\n    <tr>\n      <th>50%</th>\n      <td>NaN</td>\n      <td>NaN</td>\n      <td>NaN</td>\n      <td>NaN</td>\n      <td>NaN</td>\n      <td>9.300000</td>\n      <td>NaN</td>\n      <td>NaN</td>\n      <td>1.000000</td>\n      <td>1.000000</td>\n    </tr>\n    <tr>\n      <th>75%</th>\n      <td>NaN</td>\n      <td>NaN</td>\n      <td>NaN</td>\n      <td>NaN</td>\n      <td>NaN</td>\n      <td>15.900000</td>\n      <td>NaN</td>\n      <td>NaN</td>\n      <td>1.000000</td>\n      <td>1.000000</td>\n    </tr>\n    <tr>\n      <th>max</th>\n      <td>NaN</td>\n      <td>NaN</td>\n      <td>NaN</td>\n      <td>NaN</td>\n      <td>NaN</td>\n      <td>665.986000</td>\n      <td>NaN</td>\n      <td>NaN</td>\n      <td>2.000000</td>\n      <td>3.000000</td>\n    </tr>\n  </tbody>\n</table>\n</div>"
     },
     "metadata": {},
     "output_type": "display_data"
    },
    {
     "name": "stdout",
     "output_type": "stream",
     "text": [
      "--------------------------------------------POLLUTANT PM10--------------------------------------------\n"
     ]
    },
    {
     "data": {
      "text/plain": "       Countrycode AirQualityStation          SamplingPoint               SamplingProcess AveragingTime  Concentration UnitOfMeasurement                 DatetimeEnd       Validity   Verification\ncount       378057            378057                 378056                        378056        378056  350274.000000            378056                      378056  378056.000000  378056.000000\nunique           1                 6                      5                             3             1            NaN                 1                       85695            NaN            NaN\ntop             NL       STA-NL00636  SPO-NL00636_00005_100  SPP-NL_A_BETA_andersenFH62IR          hour            NaN             µg/m3  2013-07-22 00:00:00 +01:00            NaN            NaN\nfreq        378057             93607                  93607                        178321        378056            NaN            378056                          10            NaN            NaN\nmean           NaN               NaN                    NaN                           NaN           NaN      20.276023               NaN                         NaN       0.875574       1.272060\nstd            NaN               NaN                    NaN                           NaN           NaN      14.863833               NaN                         NaN       0.548645       0.685642\nmin            NaN               NaN                    NaN                           NaN           NaN     -31.410000               NaN                         NaN      -1.000000       1.000000\n25%            NaN               NaN                    NaN                           NaN           NaN      11.582000               NaN                         NaN       1.000000       1.000000\n50%            NaN               NaN                    NaN                           NaN           NaN      17.800000               NaN                         NaN       1.000000       1.000000\n75%            NaN               NaN                    NaN                           NaN           NaN      26.100000               NaN                         NaN       1.000000       1.000000\nmax            NaN               NaN                    NaN                           NaN           NaN    1252.430000               NaN                         NaN       2.000000       3.000000",
      "text/html": "<div>\n<style scoped>\n    .dataframe tbody tr th:only-of-type {\n        vertical-align: middle;\n    }\n\n    .dataframe tbody tr th {\n        vertical-align: top;\n    }\n\n    .dataframe thead th {\n        text-align: right;\n    }\n</style>\n<table border=\"1\" class=\"dataframe\">\n  <thead>\n    <tr style=\"text-align: right;\">\n      <th></th>\n      <th>Countrycode</th>\n      <th>AirQualityStation</th>\n      <th>SamplingPoint</th>\n      <th>SamplingProcess</th>\n      <th>AveragingTime</th>\n      <th>Concentration</th>\n      <th>UnitOfMeasurement</th>\n      <th>DatetimeEnd</th>\n      <th>Validity</th>\n      <th>Verification</th>\n    </tr>\n  </thead>\n  <tbody>\n    <tr>\n      <th>count</th>\n      <td>378057</td>\n      <td>378057</td>\n      <td>378056</td>\n      <td>378056</td>\n      <td>378056</td>\n      <td>350274.000000</td>\n      <td>378056</td>\n      <td>378056</td>\n      <td>378056.000000</td>\n      <td>378056.000000</td>\n    </tr>\n    <tr>\n      <th>unique</th>\n      <td>1</td>\n      <td>6</td>\n      <td>5</td>\n      <td>3</td>\n      <td>1</td>\n      <td>NaN</td>\n      <td>1</td>\n      <td>85695</td>\n      <td>NaN</td>\n      <td>NaN</td>\n    </tr>\n    <tr>\n      <th>top</th>\n      <td>NL</td>\n      <td>STA-NL00636</td>\n      <td>SPO-NL00636_00005_100</td>\n      <td>SPP-NL_A_BETA_andersenFH62IR</td>\n      <td>hour</td>\n      <td>NaN</td>\n      <td>µg/m3</td>\n      <td>2013-07-22 00:00:00 +01:00</td>\n      <td>NaN</td>\n      <td>NaN</td>\n    </tr>\n    <tr>\n      <th>freq</th>\n      <td>378057</td>\n      <td>93607</td>\n      <td>93607</td>\n      <td>178321</td>\n      <td>378056</td>\n      <td>NaN</td>\n      <td>378056</td>\n      <td>10</td>\n      <td>NaN</td>\n      <td>NaN</td>\n    </tr>\n    <tr>\n      <th>mean</th>\n      <td>NaN</td>\n      <td>NaN</td>\n      <td>NaN</td>\n      <td>NaN</td>\n      <td>NaN</td>\n      <td>20.276023</td>\n      <td>NaN</td>\n      <td>NaN</td>\n      <td>0.875574</td>\n      <td>1.272060</td>\n    </tr>\n    <tr>\n      <th>std</th>\n      <td>NaN</td>\n      <td>NaN</td>\n      <td>NaN</td>\n      <td>NaN</td>\n      <td>NaN</td>\n      <td>14.863833</td>\n      <td>NaN</td>\n      <td>NaN</td>\n      <td>0.548645</td>\n      <td>0.685642</td>\n    </tr>\n    <tr>\n      <th>min</th>\n      <td>NaN</td>\n      <td>NaN</td>\n      <td>NaN</td>\n      <td>NaN</td>\n      <td>NaN</td>\n      <td>-31.410000</td>\n      <td>NaN</td>\n      <td>NaN</td>\n      <td>-1.000000</td>\n      <td>1.000000</td>\n    </tr>\n    <tr>\n      <th>25%</th>\n      <td>NaN</td>\n      <td>NaN</td>\n      <td>NaN</td>\n      <td>NaN</td>\n      <td>NaN</td>\n      <td>11.582000</td>\n      <td>NaN</td>\n      <td>NaN</td>\n      <td>1.000000</td>\n      <td>1.000000</td>\n    </tr>\n    <tr>\n      <th>50%</th>\n      <td>NaN</td>\n      <td>NaN</td>\n      <td>NaN</td>\n      <td>NaN</td>\n      <td>NaN</td>\n      <td>17.800000</td>\n      <td>NaN</td>\n      <td>NaN</td>\n      <td>1.000000</td>\n      <td>1.000000</td>\n    </tr>\n    <tr>\n      <th>75%</th>\n      <td>NaN</td>\n      <td>NaN</td>\n      <td>NaN</td>\n      <td>NaN</td>\n      <td>NaN</td>\n      <td>26.100000</td>\n      <td>NaN</td>\n      <td>NaN</td>\n      <td>1.000000</td>\n      <td>1.000000</td>\n    </tr>\n    <tr>\n      <th>max</th>\n      <td>NaN</td>\n      <td>NaN</td>\n      <td>NaN</td>\n      <td>NaN</td>\n      <td>NaN</td>\n      <td>1252.430000</td>\n      <td>NaN</td>\n      <td>NaN</td>\n      <td>2.000000</td>\n      <td>3.000000</td>\n    </tr>\n  </tbody>\n</table>\n</div>"
     },
     "metadata": {},
     "output_type": "display_data"
    },
    {
     "name": "stdout",
     "output_type": "stream",
     "text": [
      "--------------------------------------------POLLUTANT CO--------------------------------------------\n"
     ]
    },
    {
     "data": {
      "text/plain": "       Countrycode AirQualityStation          SamplingPoint        SamplingProcess AveragingTime  Concentration UnitOfMeasurement                 DatetimeEnd       Validity   Verification\ncount       412885            412885                 412885                 412885        412885  404039.000000            412885                      412885  412885.000000  412885.000000\nunique           1                 5                      5                      2             1            NaN                 1                       82763            NaN            NaN\ntop             NL       STA-NL00551  SPO-NL00551_00010_100  SPP-NL_A_IR-GFC_06003          hour            NaN             mg/m3  2015-06-27 23:00:00 +01:00            NaN            NaN\nfreq        412885             82690                  82690                 268314        412885            NaN            412885                           5            NaN            NaN\nmean           NaN               NaN                    NaN                    NaN           NaN       0.325147               NaN                         NaN       0.958279       1.301513\nstd            NaN               NaN                    NaN                    NaN           NaN       0.164006               NaN                         NaN       0.291698       0.715623\nmin            NaN               NaN                    NaN                    NaN           NaN      -0.093000               NaN                         NaN      -1.000000       1.000000\n25%            NaN               NaN                    NaN                    NaN           NaN       0.230000               NaN                         NaN       1.000000       1.000000\n50%            NaN               NaN                    NaN                    NaN           NaN       0.292500               NaN                         NaN       1.000000       1.000000\n75%            NaN               NaN                    NaN                    NaN           NaN       0.378000               NaN                         NaN       1.000000       1.000000\nmax            NaN               NaN                    NaN                    NaN           NaN       8.583000               NaN                         NaN       2.000000       3.000000",
      "text/html": "<div>\n<style scoped>\n    .dataframe tbody tr th:only-of-type {\n        vertical-align: middle;\n    }\n\n    .dataframe tbody tr th {\n        vertical-align: top;\n    }\n\n    .dataframe thead th {\n        text-align: right;\n    }\n</style>\n<table border=\"1\" class=\"dataframe\">\n  <thead>\n    <tr style=\"text-align: right;\">\n      <th></th>\n      <th>Countrycode</th>\n      <th>AirQualityStation</th>\n      <th>SamplingPoint</th>\n      <th>SamplingProcess</th>\n      <th>AveragingTime</th>\n      <th>Concentration</th>\n      <th>UnitOfMeasurement</th>\n      <th>DatetimeEnd</th>\n      <th>Validity</th>\n      <th>Verification</th>\n    </tr>\n  </thead>\n  <tbody>\n    <tr>\n      <th>count</th>\n      <td>412885</td>\n      <td>412885</td>\n      <td>412885</td>\n      <td>412885</td>\n      <td>412885</td>\n      <td>404039.000000</td>\n      <td>412885</td>\n      <td>412885</td>\n      <td>412885.000000</td>\n      <td>412885.000000</td>\n    </tr>\n    <tr>\n      <th>unique</th>\n      <td>1</td>\n      <td>5</td>\n      <td>5</td>\n      <td>2</td>\n      <td>1</td>\n      <td>NaN</td>\n      <td>1</td>\n      <td>82763</td>\n      <td>NaN</td>\n      <td>NaN</td>\n    </tr>\n    <tr>\n      <th>top</th>\n      <td>NL</td>\n      <td>STA-NL00551</td>\n      <td>SPO-NL00551_00010_100</td>\n      <td>SPP-NL_A_IR-GFC_06003</td>\n      <td>hour</td>\n      <td>NaN</td>\n      <td>mg/m3</td>\n      <td>2015-06-27 23:00:00 +01:00</td>\n      <td>NaN</td>\n      <td>NaN</td>\n    </tr>\n    <tr>\n      <th>freq</th>\n      <td>412885</td>\n      <td>82690</td>\n      <td>82690</td>\n      <td>268314</td>\n      <td>412885</td>\n      <td>NaN</td>\n      <td>412885</td>\n      <td>5</td>\n      <td>NaN</td>\n      <td>NaN</td>\n    </tr>\n    <tr>\n      <th>mean</th>\n      <td>NaN</td>\n      <td>NaN</td>\n      <td>NaN</td>\n      <td>NaN</td>\n      <td>NaN</td>\n      <td>0.325147</td>\n      <td>NaN</td>\n      <td>NaN</td>\n      <td>0.958279</td>\n      <td>1.301513</td>\n    </tr>\n    <tr>\n      <th>std</th>\n      <td>NaN</td>\n      <td>NaN</td>\n      <td>NaN</td>\n      <td>NaN</td>\n      <td>NaN</td>\n      <td>0.164006</td>\n      <td>NaN</td>\n      <td>NaN</td>\n      <td>0.291698</td>\n      <td>0.715623</td>\n    </tr>\n    <tr>\n      <th>min</th>\n      <td>NaN</td>\n      <td>NaN</td>\n      <td>NaN</td>\n      <td>NaN</td>\n      <td>NaN</td>\n      <td>-0.093000</td>\n      <td>NaN</td>\n      <td>NaN</td>\n      <td>-1.000000</td>\n      <td>1.000000</td>\n    </tr>\n    <tr>\n      <th>25%</th>\n      <td>NaN</td>\n      <td>NaN</td>\n      <td>NaN</td>\n      <td>NaN</td>\n      <td>NaN</td>\n      <td>0.230000</td>\n      <td>NaN</td>\n      <td>NaN</td>\n      <td>1.000000</td>\n      <td>1.000000</td>\n    </tr>\n    <tr>\n      <th>50%</th>\n      <td>NaN</td>\n      <td>NaN</td>\n      <td>NaN</td>\n      <td>NaN</td>\n      <td>NaN</td>\n      <td>0.292500</td>\n      <td>NaN</td>\n      <td>NaN</td>\n      <td>1.000000</td>\n      <td>1.000000</td>\n    </tr>\n    <tr>\n      <th>75%</th>\n      <td>NaN</td>\n      <td>NaN</td>\n      <td>NaN</td>\n      <td>NaN</td>\n      <td>NaN</td>\n      <td>0.378000</td>\n      <td>NaN</td>\n      <td>NaN</td>\n      <td>1.000000</td>\n      <td>1.000000</td>\n    </tr>\n    <tr>\n      <th>max</th>\n      <td>NaN</td>\n      <td>NaN</td>\n      <td>NaN</td>\n      <td>NaN</td>\n      <td>NaN</td>\n      <td>8.583000</td>\n      <td>NaN</td>\n      <td>NaN</td>\n      <td>2.000000</td>\n      <td>3.000000</td>\n    </tr>\n  </tbody>\n</table>\n</div>"
     },
     "metadata": {},
     "output_type": "display_data"
    },
    {
     "name": "stdout",
     "output_type": "stream",
     "text": [
      "--------------------------------------------POLLUTANT SO2--------------------------------------------\n"
     ]
    },
    {
     "data": {
      "text/plain": "       Countrycode AirQualityStation          SamplingPoint           SamplingProcess AveragingTime  Concentration UnitOfMeasurement                 DatetimeEnd       Validity   Verification\ncount       364123            364123                 364123                    364123        364123  335349.000000            364123                      364123  364123.000000  364123.000000\nunique           1                 4                      4                         3             1            NaN                 1                       85665            NaN            NaN\ntop             NL       STA-NL00722  SPO-NL00722_00001_111  SPP-NL_A_UV-FL_thermo43w          hour            NaN             µg/m3  2013-08-11 06:00:00 +01:00            NaN            NaN\nfreq        364123             94156                  94156                    246747        364123            NaN            364123                           8            NaN            NaN\nmean           NaN               NaN                    NaN                       NaN           NaN       0.893655               NaN                         NaN       1.039072       1.314899\nstd            NaN               NaN                    NaN                       NaN           NaN       1.670417               NaN                         NaN       0.715320       0.728449\nmin            NaN               NaN                    NaN                       NaN           NaN      -4.200000               NaN                         NaN      -1.000000       1.000000\n25%            NaN               NaN                    NaN                       NaN           NaN       0.090000               NaN                         NaN       1.000000       1.000000\n50%            NaN               NaN                    NaN                       NaN           NaN       0.450000               NaN                         NaN       1.000000       1.000000\n75%            NaN               NaN                    NaN                       NaN           NaN       1.210000               NaN                         NaN       1.000000       1.000000\nmax            NaN               NaN                    NaN                       NaN           NaN      82.410000               NaN                         NaN       2.000000       3.000000",
      "text/html": "<div>\n<style scoped>\n    .dataframe tbody tr th:only-of-type {\n        vertical-align: middle;\n    }\n\n    .dataframe tbody tr th {\n        vertical-align: top;\n    }\n\n    .dataframe thead th {\n        text-align: right;\n    }\n</style>\n<table border=\"1\" class=\"dataframe\">\n  <thead>\n    <tr style=\"text-align: right;\">\n      <th></th>\n      <th>Countrycode</th>\n      <th>AirQualityStation</th>\n      <th>SamplingPoint</th>\n      <th>SamplingProcess</th>\n      <th>AveragingTime</th>\n      <th>Concentration</th>\n      <th>UnitOfMeasurement</th>\n      <th>DatetimeEnd</th>\n      <th>Validity</th>\n      <th>Verification</th>\n    </tr>\n  </thead>\n  <tbody>\n    <tr>\n      <th>count</th>\n      <td>364123</td>\n      <td>364123</td>\n      <td>364123</td>\n      <td>364123</td>\n      <td>364123</td>\n      <td>335349.000000</td>\n      <td>364123</td>\n      <td>364123</td>\n      <td>364123.000000</td>\n      <td>364123.000000</td>\n    </tr>\n    <tr>\n      <th>unique</th>\n      <td>1</td>\n      <td>4</td>\n      <td>4</td>\n      <td>3</td>\n      <td>1</td>\n      <td>NaN</td>\n      <td>1</td>\n      <td>85665</td>\n      <td>NaN</td>\n      <td>NaN</td>\n    </tr>\n    <tr>\n      <th>top</th>\n      <td>NL</td>\n      <td>STA-NL00722</td>\n      <td>SPO-NL00722_00001_111</td>\n      <td>SPP-NL_A_UV-FL_thermo43w</td>\n      <td>hour</td>\n      <td>NaN</td>\n      <td>µg/m3</td>\n      <td>2013-08-11 06:00:00 +01:00</td>\n      <td>NaN</td>\n      <td>NaN</td>\n    </tr>\n    <tr>\n      <th>freq</th>\n      <td>364123</td>\n      <td>94156</td>\n      <td>94156</td>\n      <td>246747</td>\n      <td>364123</td>\n      <td>NaN</td>\n      <td>364123</td>\n      <td>8</td>\n      <td>NaN</td>\n      <td>NaN</td>\n    </tr>\n    <tr>\n      <th>mean</th>\n      <td>NaN</td>\n      <td>NaN</td>\n      <td>NaN</td>\n      <td>NaN</td>\n      <td>NaN</td>\n      <td>0.893655</td>\n      <td>NaN</td>\n      <td>NaN</td>\n      <td>1.039072</td>\n      <td>1.314899</td>\n    </tr>\n    <tr>\n      <th>std</th>\n      <td>NaN</td>\n      <td>NaN</td>\n      <td>NaN</td>\n      <td>NaN</td>\n      <td>NaN</td>\n      <td>1.670417</td>\n      <td>NaN</td>\n      <td>NaN</td>\n      <td>0.715320</td>\n      <td>0.728449</td>\n    </tr>\n    <tr>\n      <th>min</th>\n      <td>NaN</td>\n      <td>NaN</td>\n      <td>NaN</td>\n      <td>NaN</td>\n      <td>NaN</td>\n      <td>-4.200000</td>\n      <td>NaN</td>\n      <td>NaN</td>\n      <td>-1.000000</td>\n      <td>1.000000</td>\n    </tr>\n    <tr>\n      <th>25%</th>\n      <td>NaN</td>\n      <td>NaN</td>\n      <td>NaN</td>\n      <td>NaN</td>\n      <td>NaN</td>\n      <td>0.090000</td>\n      <td>NaN</td>\n      <td>NaN</td>\n      <td>1.000000</td>\n      <td>1.000000</td>\n    </tr>\n    <tr>\n      <th>50%</th>\n      <td>NaN</td>\n      <td>NaN</td>\n      <td>NaN</td>\n      <td>NaN</td>\n      <td>NaN</td>\n      <td>0.450000</td>\n      <td>NaN</td>\n      <td>NaN</td>\n      <td>1.000000</td>\n      <td>1.000000</td>\n    </tr>\n    <tr>\n      <th>75%</th>\n      <td>NaN</td>\n      <td>NaN</td>\n      <td>NaN</td>\n      <td>NaN</td>\n      <td>NaN</td>\n      <td>1.210000</td>\n      <td>NaN</td>\n      <td>NaN</td>\n      <td>1.000000</td>\n      <td>1.000000</td>\n    </tr>\n    <tr>\n      <th>max</th>\n      <td>NaN</td>\n      <td>NaN</td>\n      <td>NaN</td>\n      <td>NaN</td>\n      <td>NaN</td>\n      <td>82.410000</td>\n      <td>NaN</td>\n      <td>NaN</td>\n      <td>2.000000</td>\n      <td>3.000000</td>\n    </tr>\n  </tbody>\n</table>\n</div>"
     },
     "metadata": {},
     "output_type": "display_data"
    },
    {
     "name": "stdout",
     "output_type": "stream",
     "text": [
      "--------------------------------------------POLLUTANT NO2--------------------------------------------\n"
     ]
    },
    {
     "data": {
      "text/plain": "       Countrycode AirQualityStation          SamplingPoint        SamplingProcess AveragingTime  Concentration UnitOfMeasurement                 DatetimeEnd       Validity  Verification\ncount       262920            262920                 262920                 262920        262920  256749.000000            262920                      262920  262920.000000      262920.0\nunique           1                 5                      5                      3             1            NaN                 1                       43824            NaN           NaN\ntop             NL       STA-NL00564  SPO-NL00564_00008_100  SPP-NL_A_chemi_API200          hour            NaN             µg/m3  2013-04-17 08:00:00 +01:00            NaN           NaN\nfreq        262920             52584                  52584                 131472        262920            NaN            262920                          10            NaN           NaN\nmean           NaN               NaN                    NaN                    NaN           NaN      28.212617               NaN                         NaN       0.953511           1.0\nstd            NaN               NaN                    NaN                    NaN           NaN      20.807198               NaN                         NaN       0.303605           0.0\nmin            NaN               NaN                    NaN                    NaN           NaN      -4.890000               NaN                         NaN      -1.000000           1.0\n25%            NaN               NaN                    NaN                    NaN           NaN      12.990000               NaN                         NaN       1.000000           1.0\n50%            NaN               NaN                    NaN                    NaN           NaN      22.620000               NaN                         NaN       1.000000           1.0\n75%            NaN               NaN                    NaN                    NaN           NaN      38.000000               NaN                         NaN       1.000000           1.0\nmax            NaN               NaN                    NaN                    NaN           NaN     206.600000               NaN                         NaN       2.000000           1.0",
      "text/html": "<div>\n<style scoped>\n    .dataframe tbody tr th:only-of-type {\n        vertical-align: middle;\n    }\n\n    .dataframe tbody tr th {\n        vertical-align: top;\n    }\n\n    .dataframe thead th {\n        text-align: right;\n    }\n</style>\n<table border=\"1\" class=\"dataframe\">\n  <thead>\n    <tr style=\"text-align: right;\">\n      <th></th>\n      <th>Countrycode</th>\n      <th>AirQualityStation</th>\n      <th>SamplingPoint</th>\n      <th>SamplingProcess</th>\n      <th>AveragingTime</th>\n      <th>Concentration</th>\n      <th>UnitOfMeasurement</th>\n      <th>DatetimeEnd</th>\n      <th>Validity</th>\n      <th>Verification</th>\n    </tr>\n  </thead>\n  <tbody>\n    <tr>\n      <th>count</th>\n      <td>262920</td>\n      <td>262920</td>\n      <td>262920</td>\n      <td>262920</td>\n      <td>262920</td>\n      <td>256749.000000</td>\n      <td>262920</td>\n      <td>262920</td>\n      <td>262920.000000</td>\n      <td>262920.0</td>\n    </tr>\n    <tr>\n      <th>unique</th>\n      <td>1</td>\n      <td>5</td>\n      <td>5</td>\n      <td>3</td>\n      <td>1</td>\n      <td>NaN</td>\n      <td>1</td>\n      <td>43824</td>\n      <td>NaN</td>\n      <td>NaN</td>\n    </tr>\n    <tr>\n      <th>top</th>\n      <td>NL</td>\n      <td>STA-NL00564</td>\n      <td>SPO-NL00564_00008_100</td>\n      <td>SPP-NL_A_chemi_API200</td>\n      <td>hour</td>\n      <td>NaN</td>\n      <td>µg/m3</td>\n      <td>2013-04-17 08:00:00 +01:00</td>\n      <td>NaN</td>\n      <td>NaN</td>\n    </tr>\n    <tr>\n      <th>freq</th>\n      <td>262920</td>\n      <td>52584</td>\n      <td>52584</td>\n      <td>131472</td>\n      <td>262920</td>\n      <td>NaN</td>\n      <td>262920</td>\n      <td>10</td>\n      <td>NaN</td>\n      <td>NaN</td>\n    </tr>\n    <tr>\n      <th>mean</th>\n      <td>NaN</td>\n      <td>NaN</td>\n      <td>NaN</td>\n      <td>NaN</td>\n      <td>NaN</td>\n      <td>28.212617</td>\n      <td>NaN</td>\n      <td>NaN</td>\n      <td>0.953511</td>\n      <td>1.0</td>\n    </tr>\n    <tr>\n      <th>std</th>\n      <td>NaN</td>\n      <td>NaN</td>\n      <td>NaN</td>\n      <td>NaN</td>\n      <td>NaN</td>\n      <td>20.807198</td>\n      <td>NaN</td>\n      <td>NaN</td>\n      <td>0.303605</td>\n      <td>0.0</td>\n    </tr>\n    <tr>\n      <th>min</th>\n      <td>NaN</td>\n      <td>NaN</td>\n      <td>NaN</td>\n      <td>NaN</td>\n      <td>NaN</td>\n      <td>-4.890000</td>\n      <td>NaN</td>\n      <td>NaN</td>\n      <td>-1.000000</td>\n      <td>1.0</td>\n    </tr>\n    <tr>\n      <th>25%</th>\n      <td>NaN</td>\n      <td>NaN</td>\n      <td>NaN</td>\n      <td>NaN</td>\n      <td>NaN</td>\n      <td>12.990000</td>\n      <td>NaN</td>\n      <td>NaN</td>\n      <td>1.000000</td>\n      <td>1.0</td>\n    </tr>\n    <tr>\n      <th>50%</th>\n      <td>NaN</td>\n      <td>NaN</td>\n      <td>NaN</td>\n      <td>NaN</td>\n      <td>NaN</td>\n      <td>22.620000</td>\n      <td>NaN</td>\n      <td>NaN</td>\n      <td>1.000000</td>\n      <td>1.0</td>\n    </tr>\n    <tr>\n      <th>75%</th>\n      <td>NaN</td>\n      <td>NaN</td>\n      <td>NaN</td>\n      <td>NaN</td>\n      <td>NaN</td>\n      <td>38.000000</td>\n      <td>NaN</td>\n      <td>NaN</td>\n      <td>1.000000</td>\n      <td>1.0</td>\n    </tr>\n    <tr>\n      <th>max</th>\n      <td>NaN</td>\n      <td>NaN</td>\n      <td>NaN</td>\n      <td>NaN</td>\n      <td>NaN</td>\n      <td>206.600000</td>\n      <td>NaN</td>\n      <td>NaN</td>\n      <td>2.000000</td>\n      <td>1.0</td>\n    </tr>\n  </tbody>\n</table>\n</div>"
     },
     "metadata": {},
     "output_type": "display_data"
    }
   ],
   "source": [
    "for i in range(len(POL_CODES)):\n",
    "    print(f'--------------------------------------------POLLUTANT {POL_NAMES[POL_CODES[i]]}--------------------------------------------')\n",
    "    display(df_list[i].describe(include='all'))"
   ],
   "metadata": {
    "collapsed": false
   }
  },
  {
   "cell_type": "markdown",
   "source": [
    "**Выводы:**\n",
    "1. В столбце Concentration встречаются пропущенные значения. Необходимо оценить их долю и оставить для сохранения временных интервалов и последующего анализа.\n",
    "2. Есть невалидированные данные (Validity <= 0 или не определено). Необходимо оценить их долю. В соответствии с документацией к датасету, невалидными являются данные за пределами измерений приборов и проч. В данной работы не стоит цель оценки качества работы приборов, поэтому такие концентрации необходимо заменить на NaN и рассматривать впоследствии как отсутствующие.\n",
    "3. Есть неверифицированные или непрошедшие полный процесс верификации данные (Verification != 1). Необходимо оценить их долю. Такие данные не должны входить в формальные отчеты. Но в нашей учебной работе исключать их необходимости нет.\n",
    "4. Минимальные значения Concentration меньше нуля или равны нулю. Это не имеет физического смысла. Но в соответствии с некоторыми найденными регламентами можно утверждать, что в датасетах допускается небольшое количество отрицательных значений (если так отработал датчик, а показания надо сдавать). Необходимо проанализировать распределение отрицательных концентраций. Значения в близи нуля требуется привести к нулю, считая приборной погрешностью. Значения существенно выше нуля, можно счесть невалидными и проставить для них NaN.\n",
    "5. Максимальные значения Concentration на один-два порядка превышают средние и квантили, что указывает на выбросы. Необходимо оценить долю выбросов. Если таковых немного, то необходимо будет отделить выбросы от основного датасета и рассматривать их отдельно.\n",
    "6. На каждый загрязнитель имеется только одно значение для UnitOfMeasurement, значит не понадобится приводить единицы измерения, и столбец необходимо удалить.\n",
    "7. Для всех загрязнителей, кроме PM2.5, имеется только один тип временного интервала измерения концентраций - по часам (столбец AveragingTime). В случае с PM2.5 требуется проанализировать, каким является второй тип интервала. Если он окажется больше часа и кратным часу, то необходимо дополнить датасет строками на каждый час в интервале с концентрациями Nan и другими значениями взятыми из строки отличным от часа интервалом."
   ],
   "metadata": {
    "collapsed": false
   }
  },
  {
   "cell_type": "markdown",
   "source": [
    "***\n",
    "#### Оценка и удаление пропущенных, невалидных, неверифицированных значений. Проверки столбцов и их удаление\n",
    "***"
   ],
   "metadata": {
    "collapsed": false
   }
  },
  {
   "cell_type": "code",
   "execution_count": 8,
   "outputs": [],
   "source": [
    "def get_all_lines_count():\n",
    "    return sum(x.shape[0] for x in df_list)\n",
    "\n",
    "def print_pol_portion(p_id, part, full=None):\n",
    "        if full is not None:\n",
    "            print(f'    Загрязнитель   {POL_NAMES[POL_CODES[p_id]]:8} {round(part/full*100, 2)}% значений')\n",
    "        else:\n",
    "            print(f'    Загрязнитель   {POL_NAMES[POL_CODES[p_id]]:8} {part} значений')\n",
    "\n",
    "def print_all_poll_portion(part, full):\n",
    "    print(f'По всем загрязнителям: {round(part/full*100, 2)} %')\n",
    "\n",
    "def print_pol_divider(p_id):\n",
    "    print(f'--------------------------------------------POLLUTANT {POL_NAMES[POL_CODES[p_id]]}--------------------------------------------')"
   ],
   "metadata": {
    "collapsed": false
   }
  },
  {
   "cell_type": "markdown",
   "source": [
    "##### Проверка на полные дубликаты. Удаление"
   ],
   "metadata": {
    "collapsed": false
   }
  },
  {
   "cell_type": "code",
   "execution_count": 111,
   "outputs": [],
   "source": [
    "def check_duplicates_by_group(columns = None):\n",
    "    print(f'Количество дублированных строк по загрязнителям:')\n",
    "    for i in range(len(POL_CODES)):\n",
    "        dubl_count = df_list[i].duplicated(keep=False).sum() if (columns is None) else df_list[i].duplicated(subset=columns, keep='last').sum()\n",
    "        print_pol_portion(i, dubl_count, df_list[i].shape[0])\n",
    "        if flag_data_clean_up:\n",
    "            df_list[i].drop_duplicates(inplace=True)\n",
    "\n",
    "def check_duplicates_count(columns, limits):\n",
    "    print(f'Проверка строк с кол-вом различных концентраций > {limits} для группы строк {columns}')\n",
    "    flag_dif_val = False\n",
    "    for i in range(len(POL_CODES)):\n",
    "        df_temp = df_list[i].groupby(columns,as_index=False, sort=False).size()\n",
    "        for limit in limits:\n",
    "            df_dif_val = df_temp[df_temp['size'] > limit]\n",
    "            if df_dif_val.shape[0] > 0:\n",
    "                print_pol_divider(i)\n",
    "                print(f'Лимит > {limit}')\n",
    "                flag_dif_val = True\n",
    "                display(df_dif_val)\n",
    "    if not flag_dif_val:\n",
    "        print(f'Не найдены строки с кол-вом различных концентраций > {limits} для группы строк {columns}')\n",
    "\n",
    "def check_duplicates_for_station_dif_values():\n",
    "    print(f'проверка, что на если на станции применяется 2 SamplingProcess, то значения концентрации одинаковы:')\n",
    "    for i in range(len(POL_CODES)):\n",
    "        gr = (df_list[i].groupby(['AirQualityStation', 'DatetimeEnd', 'Concentration']).count())['SamplingProcess']\n",
    "        print(f'{POL_NAMES[POL_CODES[i]]} != 2: {gr[gr > 2].any()}')\n",
    "\n",
    "def check_duplicates_for_station_dif_values():\n",
    "    for i in range(len(POL_CODES)):\n",
    "        gr = (df_list[i].groupby(['AirQualityStation', 'DatetimeEnd', 'Concentration']).count())['SamplingProcess']\n",
    "        print(f'    {POL_NAMES[POL_CODES[i]]} != 2: {gr[gr > 2].any()}')\n",
    "\n",
    "def drop_sampling_process_duplicates():\n",
    "    if flag_data_clean_up:\n",
    "        for i in range(len(POL_CODES)):\n",
    "            df_list[i] = df_list[i].sort_values('SamplingProcess').drop_duplicates(subset=['AirQualityStation', 'DatetimeEnd', 'Concentration'], keep='last')"
   ],
   "metadata": {
    "collapsed": false
   }
  },
  {
   "cell_type": "code",
   "execution_count": 103,
   "outputs": [
    {
     "name": "stdout",
     "output_type": "stream",
     "text": [
      "Количество дублированных строк по загрязнителям:\n",
      "    Загрязнитель   O3       0.0% значений\n",
      "    Загрязнитель   PM2.5    16.23% значений\n",
      "    Загрязнитель   PM10     23.17% значений\n",
      "    Загрязнитель   CO       0.0% значений\n",
      "    Загрязнитель   SO2      19.25% значений\n",
      "    Загрязнитель   NO2      33.32% значений\n"
     ]
    }
   ],
   "source": [
    "check_duplicates_by_group(['AirQualityStation', 'DatetimeEnd'])"
   ],
   "metadata": {
    "collapsed": false
   }
  },
  {
   "cell_type": "code",
   "execution_count": 13,
   "outputs": [
    {
     "name": "stdout",
     "output_type": "stream",
     "text": [
      "Количество дублированных строк по загрязнителям:\n",
      "    Загрязнитель   O3       0.0% значений\n",
      "    Загрязнитель   PM2.5    0.0% значений\n",
      "    Загрязнитель   PM10     0.0% значений\n",
      "    Загрязнитель   CO       0.0% значений\n",
      "    Загрязнитель   SO2      0.0% значений\n",
      "    Загрязнитель   NO2      0.0% значений\n"
     ]
    }
   ],
   "source": [
    "check_duplicates_by_group(['AirQualityStation', 'DatetimeEnd', 'SamplingProcess'])"
   ],
   "metadata": {
    "collapsed": false
   }
  },
  {
   "cell_type": "code",
   "execution_count": 112,
   "outputs": [
    {
     "name": "stdout",
     "output_type": "stream",
     "text": [
      "Количество дублированных строк по загрязнителям:\n",
      "    Загрязнитель   O3       0.0% значений\n",
      "    Загрязнитель   PM2.5    0.0% значений\n",
      "    Загрязнитель   PM10     0.0% значений\n",
      "    Загрязнитель   CO       0.0% значений\n",
      "    Загрязнитель   SO2      0.0% значений\n",
      "    Загрязнитель   NO2      0.0% значений\n"
     ]
    }
   ],
   "source": [
    "drop_sampling_process_duplicates()\n",
    "check_duplicates_by_group(['AirQualityStation', 'DatetimeEnd'])"
   ],
   "metadata": {
    "collapsed": false
   }
  },
  {
   "cell_type": "markdown",
   "source": [
    "##### Оценка пропущенных значений\n",
    "##### Оценка строк с неуказанными концентрациями"
   ],
   "metadata": {
    "collapsed": false
   }
  },
  {
   "cell_type": "code",
   "execution_count": 113,
   "outputs": [
    {
     "name": "stdout",
     "output_type": "stream",
     "text": [
      "Доля значений c неуказанной концентрацией по загрязнителям:\n",
      "    Загрязнитель   O3       2.85% значений\n",
      "    Загрязнитель   PM2.5    2.93% значений\n",
      "    Загрязнитель   PM10     5.28% значений\n",
      "    Загрязнитель   CO       2.14% значений\n",
      "    Загрязнитель   SO2      8.81% значений\n",
      "    Загрязнитель   NO2      2.37% значений\n",
      "По всем загрязнителям: 4.04 %\n"
     ]
    }
   ],
   "source": [
    "all_lines_count = get_all_lines_count()\n",
    "invalid_lines_count = 0\n",
    "print(f'Доля значений c неуказанной концентрацией по загрязнителям:')\n",
    "for i in range(len(POL_CODES)):\n",
    "    dp = df_list[i][df_list[i]['Concentration'].isna()]\n",
    "    print_pol_portion(i, dp.shape[0], df_list[i].shape[0])\n",
    "    invalid_lines_count += dp.shape[0]\n",
    "print_all_poll_portion(invalid_lines_count, all_lines_count)"
   ],
   "metadata": {
    "collapsed": false
   }
  },
  {
   "cell_type": "markdown",
   "source": [
    "##### Оценка строк с неуказанной датой или станцией. Такие данные удаляем, мы не можем их использовать"
   ],
   "metadata": {
    "collapsed": false
   }
  },
  {
   "cell_type": "code",
   "execution_count": 15,
   "outputs": [
    {
     "name": "stdout",
     "output_type": "stream",
     "text": [
      "Доля значений с неуказанной датой или станцией. Будут удалены:\n",
      "    Загрязнитель   O3       0 значений\n",
      "    Загрязнитель   PM2.5    0 значений\n",
      "    Загрязнитель   PM10     1 значений\n",
      "        1 значений удалены\n",
      "    Загрязнитель   CO       0 значений\n",
      "    Загрязнитель   SO2      0 значений\n",
      "    Загрязнитель   NO2      0 значений\n",
      "По всем загрязнителям: 0.0 %\n"
     ]
    }
   ],
   "source": [
    "all_lines_count = get_all_lines_count()\n",
    "invalid_lines_count = 0\n",
    "print(f'Доля значений с неуказанной датой или станцией. Будут удалены:')\n",
    "for i in range(len(POL_CODES)):\n",
    "    bad_mask = df_list[i]['AirQualityStation'].isna() | df_list[i]['DatetimeEnd'].isna()\n",
    "    dp = df_list[i][bad_mask]\n",
    "    print_pol_portion(i, dp.shape[0])\n",
    "    if dp.shape[0] > 0:\n",
    "        df_list[i] = df_list[i][~bad_mask]\n",
    "        print(f'        {dp.shape[0]} значений удалены')\n",
    "    invalid_lines_count += dp.shape[0]\n",
    "print_all_poll_portion(invalid_lines_count, all_lines_count)"
   ],
   "metadata": {
    "collapsed": false
   }
  },
  {
   "cell_type": "markdown",
   "source": [
    "##### Оценка неверифицированных значений (за исключением пропущенных)"
   ],
   "metadata": {
    "collapsed": false
   }
  },
  {
   "cell_type": "code",
   "execution_count": 16,
   "outputs": [
    {
     "name": "stdout",
     "output_type": "stream",
     "text": [
      "Доля неверифицированных значений (за исключением пропущенных) по загрязнителям:\n",
      "    Загрязнитель   O3       14.27% значений\n",
      "    Загрязнитель   PM2.5    19.17% значений\n",
      "    Загрязнитель   PM10     13.6% значений\n",
      "    Загрязнитель   CO       15.08% значений\n",
      "    Загрязнитель   SO2      15.74% значений\n",
      "    Загрязнитель   NO2      0.0% значений\n",
      "По всем загрязнителям: 13.79 %\n"
     ]
    }
   ],
   "source": [
    "invalid_lines_count = 0\n",
    "print(f'Доля неверифицированных значений (за исключением пропущенных) по загрязнителям:')\n",
    "for i in range(len(POL_CODES)):\n",
    "    bad_mask = (~df_list[i]['Concentration'].isna()) & (df_list[i]['Verification'] != 1)\n",
    "    dp = df_list[i][bad_mask]\n",
    "    print_pol_portion(i, dp.shape[0], df_list[i].shape[0])\n",
    "    invalid_lines_count += dp.shape[0]\n",
    "print_all_poll_portion(invalid_lines_count, all_lines_count)"
   ],
   "metadata": {
    "collapsed": false
   }
  },
  {
   "cell_type": "markdown",
   "source": [
    "##### Оценка невалидных значений (за исключением пропущенных)"
   ],
   "metadata": {
    "collapsed": false
   }
  },
  {
   "cell_type": "code",
   "execution_count": 17,
   "outputs": [
    {
     "name": "stdout",
     "output_type": "stream",
     "text": [
      "Доли невалидных значений (за исключением пропущенных) по загрязнителям:\n",
      "    Загрязнитель   O3       0.0% значений\n",
      "    Загрязнитель   PM2.5    0.0% значений\n",
      "    Загрязнитель   PM10     0.0% значений\n",
      "    Загрязнитель   CO       0.0% значений\n",
      "    Загрязнитель   SO2      0.0% значений\n",
      "    Загрязнитель   NO2      0.0% значений\n",
      "По всем загрязнителям: 0.0 %\n"
     ]
    }
   ],
   "source": [
    "invalid_lines_count = 0\n",
    "print(f'Доли невалидных значений (за исключением пропущенных) по загрязнителям:')\n",
    "for i in range(len(POL_CODES)):\n",
    "    bad_mask = (~df_list[i]['Concentration'].isna()) & (df_list[i]['Validity'] <= 0)\n",
    "    dp = df_list[i][bad_mask]\n",
    "    print_pol_portion(i, dp.shape[0], df_list[i].shape[0])\n",
    "    invalid_lines_count += dp.shape[0]\n",
    "print_all_poll_portion(invalid_lines_count, all_lines_count)"
   ],
   "metadata": {
    "collapsed": false
   }
  },
  {
   "cell_type": "markdown",
   "source": [
    "##### Оценка нулевых значений"
   ],
   "metadata": {
    "collapsed": false
   }
  },
  {
   "cell_type": "code",
   "execution_count": 18,
   "outputs": [
    {
     "name": "stdout",
     "output_type": "stream",
     "text": [
      "Доля нулевых значений по загрязнителям:\n",
      "    Загрязнитель   O3       0.13% значений\n",
      "    Загрязнитель   PM2.5    0.15% значений\n",
      "    Загрязнитель   PM10     0.01% значений\n",
      "    Загрязнитель   CO       0.02% значений\n",
      "    Загрязнитель   SO2      2.7% значений\n",
      "    Загрязнитель   NO2      0.0% значений\n",
      "По всем загрязнителям: 0.5 %\n"
     ]
    }
   ],
   "source": [
    "invalid_lines_count = 0\n",
    "print(f'Доля нулевых значений по загрязнителям:')\n",
    "for i in range(len(POL_CODES)):\n",
    "    bad_mask = df_list[i]['Concentration'] == 0\n",
    "    dp = df_list[i][bad_mask]\n",
    "    print_pol_portion(i, dp.shape[0], df_list[i].shape[0])\n",
    "    invalid_lines_count += dp.shape[0]\n",
    "print_all_poll_portion(invalid_lines_count, all_lines_count)"
   ],
   "metadata": {
    "collapsed": false
   }
  },
  {
   "cell_type": "markdown",
   "source": [
    "##### Оценка отрицательных значений"
   ],
   "metadata": {
    "collapsed": false
   }
  },
  {
   "cell_type": "code",
   "execution_count": 114,
   "outputs": [
    {
     "name": "stdout",
     "output_type": "stream",
     "text": [
      "Доли отрицательных значений по загрязнителям:\n",
      "    Загрязнитель   O3       0.0% значений\n",
      "    Загрязнитель   PM2.5    0.0% значений\n",
      "    Загрязнитель   PM10     0.0% значений\n",
      "    Загрязнитель   CO       0.0% значений\n",
      "    Загрязнитель   SO2      0.0% значений\n",
      "    Загрязнитель   NO2      0.0% значений\n",
      "По всем загрязнителям: 0.0 %\n"
     ]
    },
    {
     "data": {
      "text/plain": "<Figure size 2100x600 with 6 Axes>",
      "image/png": "[encoded data removed]"
     },
     "metadata": {},
     "output_type": "display_data"
    }
   ],
   "source": [
    "invalid_lines_count = 0\n",
    "print(f'Доли отрицательных значений по загрязнителям:')\n",
    "dp_bad = list()\n",
    "df_means = list()\n",
    "df_stds = list()\n",
    "\n",
    "for i in range(len(POL_CODES)):\n",
    "    bad_mask = df_list[i]['Concentration'] < 0\n",
    "    dp = df_list[i][bad_mask]\n",
    "    print_pol_portion(i, dp.shape[0], df_list[i].shape[0])\n",
    "    invalid_lines_count += dp.shape[0]\n",
    "    dp_bad.append(dp)\n",
    "print_all_poll_portion(invalid_lines_count, all_lines_count)\n",
    "\n",
    "fig = plt.figure(figsize=(21, 6))\n",
    "for i in range(len(POL_CODES)):\n",
    "    axn = fig.add_subplot(231 + i)\n",
    "    dfmean = df_list[i][\"Concentration\"].mean()\n",
    "    df_means.append(dfmean)\n",
    "    dfstd = df_list[i][\"Concentration\"].std()\n",
    "    df_stds.append(dfstd)\n",
    "    dp_bad[i].plot.hist(column=['Concentration'], bins=20, title = POL_NAMES[POL_CODES[i]], ax=axn)\n",
    "    plt.legend([f'min = {round(dp_bad[i][\"Concentration\"].min(), 2)}, mean = {round(dfmean, 2)}, std = {round(dfstd, 2)}'])\n",
    "\n",
    "plt.subplots_adjust(hspace=0.4)"
   ],
   "metadata": {
    "collapsed": false
   }
  },
  {
   "cell_type": "markdown",
   "source": [],
   "metadata": {
    "collapsed": false
   }
  },
  {
   "cell_type": "markdown",
   "source": [
    "##### Отрицательные значения меньшие std, приведем к нулю. Остальные - к Nan."
   ],
   "metadata": {
    "collapsed": false
   }
  },
  {
   "cell_type": "code",
   "execution_count": 20,
   "outputs": [
    {
     "name": "stdout",
     "output_type": "stream",
     "text": [
      "Доля отрицательный значений меньших std по загрязнителям:\n",
      "    Загрязнитель   O3       0.0% значений\n",
      "    Загрязнитель   PM2.5    0.02% значений\n",
      "    Загрязнитель   PM10     0.05% значений\n",
      "    Загрязнитель   CO       0.0% значений\n",
      "    Загрязнитель   SO2      0.63% значений\n",
      "    Загрязнитель   NO2      0.0% значений\n",
      "По всем загрязнителям: 0.12 %\n"
     ]
    }
   ],
   "source": [
    "if flag_data_clean_up:\n",
    "    invalid_lines_count = 0\n",
    "    print(f'Доля отрицательный значений меньших std по загрязнителям:')\n",
    "    for i in range(len(POL_CODES)):\n",
    "        bad_mask = (abs(df_list[i]['Concentration']) > df_stds[i]) & (df_list[i]['Concentration'] < 0)\n",
    "        dp = df_list[i][bad_mask]\n",
    "        print_pol_portion(i, dp.shape[0], df_list[i].shape[0])\n",
    "        invalid_lines_count += dp.shape[0]\n",
    "        df_list[i].loc[bad_mask, 'Concentration'] = np.NaN\n",
    "        df_list[i].loc[(df_list[i]['Concentration'] <= df_stds[i]) & (df_list[i]['Concentration'] < 0), 'Concentration'] = 0.0\n",
    "    print_all_poll_portion(invalid_lines_count, all_lines_count)"
   ],
   "metadata": {
    "collapsed": false
   }
  },
  {
   "cell_type": "markdown",
   "source": [
    "##### Проверка временных интервалов измерения отличных от 1 часа. Оценка доли таких интервалов."
   ],
   "metadata": {
    "collapsed": false
   }
  },
  {
   "cell_type": "code",
   "execution_count": 115,
   "outputs": [
    {
     "name": "stdout",
     "output_type": "stream",
     "text": [
      "Доли интервалов, неравных 1 часу, по загрязнителям:\n"
     ]
    },
    {
     "ename": "KeyError",
     "evalue": "'AveragingTime'",
     "output_type": "error",
     "traceback": [
      "\u001B[0;31m---------------------------------------------------------------------------\u001B[0m",
      "\u001B[0;31mKeyError\u001B[0m                                  Traceback (most recent call last)",
      "File \u001B[0;32m~/work/projects/hse.air/AirPollutionDataLoader/venv/lib/python3.10/site-packages/pandas/core/indexes/base.py:3803\u001B[0m, in \u001B[0;36mIndex.get_loc\u001B[0;34m(self, key, method, tolerance)\u001B[0m\n\u001B[1;32m   3802\u001B[0m \u001B[38;5;28;01mtry\u001B[39;00m:\n\u001B[0;32m-> 3803\u001B[0m     \u001B[38;5;28;01mreturn\u001B[39;00m \u001B[38;5;28;43mself\u001B[39;49m\u001B[38;5;241;43m.\u001B[39;49m\u001B[43m_engine\u001B[49m\u001B[38;5;241;43m.\u001B[39;49m\u001B[43mget_loc\u001B[49m\u001B[43m(\u001B[49m\u001B[43mcasted_key\u001B[49m\u001B[43m)\u001B[49m\n\u001B[1;32m   3804\u001B[0m \u001B[38;5;28;01mexcept\u001B[39;00m \u001B[38;5;167;01mKeyError\u001B[39;00m \u001B[38;5;28;01mas\u001B[39;00m err:\n",
      "File \u001B[0;32m~/work/projects/hse.air/AirPollutionDataLoader/venv/lib/python3.10/site-packages/pandas/_libs/index.pyx:138\u001B[0m, in \u001B[0;36mpandas._libs.index.IndexEngine.get_loc\u001B[0;34m()\u001B[0m\n",
      "File \u001B[0;32m~/work/projects/hse.air/AirPollutionDataLoader/venv/lib/python3.10/site-packages/pandas/_libs/index.pyx:165\u001B[0m, in \u001B[0;36mpandas._libs.index.IndexEngine.get_loc\u001B[0;34m()\u001B[0m\n",
      "File \u001B[0;32mpandas/_libs/hashtable_class_helper.pxi:5745\u001B[0m, in \u001B[0;36mpandas._libs.hashtable.PyObjectHashTable.get_item\u001B[0;34m()\u001B[0m\n",
      "File \u001B[0;32mpandas/_libs/hashtable_class_helper.pxi:5753\u001B[0m, in \u001B[0;36mpandas._libs.hashtable.PyObjectHashTable.get_item\u001B[0;34m()\u001B[0m\n",
      "\u001B[0;31mKeyError\u001B[0m: 'AveragingTime'",
      "\nThe above exception was the direct cause of the following exception:\n",
      "\u001B[0;31mKeyError\u001B[0m                                  Traceback (most recent call last)",
      "Cell \u001B[0;32mIn [115], line 10\u001B[0m\n\u001B[1;32m      8\u001B[0m     warnings\u001B[38;5;241m.\u001B[39mfilterwarnings(\u001B[38;5;124m\"\u001B[39m\u001B[38;5;124mignore\u001B[39m\u001B[38;5;124m\"\u001B[39m, message\u001B[38;5;241m=\u001B[39m\u001B[38;5;124m\"\u001B[39m\u001B[38;5;124mdivide by zero encountered in divide\u001B[39m\u001B[38;5;124m\"\u001B[39m)\n\u001B[1;32m      9\u001B[0m     df_list[i][\u001B[38;5;124m'\u001B[39m\u001B[38;5;124mDatetimeEnd\u001B[39m\u001B[38;5;124m'\u001B[39m] \u001B[38;5;241m=\u001B[39m pd\u001B[38;5;241m.\u001B[39mto_datetime(df_list[i][\u001B[38;5;124m'\u001B[39m\u001B[38;5;124mDatetimeEnd\u001B[39m\u001B[38;5;124m'\u001B[39m])\n\u001B[0;32m---> 10\u001B[0m no_hour_mask \u001B[38;5;241m=\u001B[39m \u001B[43mdf_list\u001B[49m\u001B[43m[\u001B[49m\u001B[43mi\u001B[49m\u001B[43m]\u001B[49m\u001B[43m[\u001B[49m\u001B[38;5;124;43m'\u001B[39;49m\u001B[38;5;124;43mAveragingTime\u001B[39;49m\u001B[38;5;124;43m'\u001B[39;49m\u001B[43m]\u001B[49m \u001B[38;5;241m!=\u001B[39m \u001B[38;5;124m'\u001B[39m\u001B[38;5;124mhour\u001B[39m\u001B[38;5;124m'\u001B[39m\n\u001B[1;32m     11\u001B[0m df_hour_dif \u001B[38;5;241m=\u001B[39m df_list[i][no_hour_mask]\n\u001B[1;32m     12\u001B[0m print_pol_portion(i, df_hour_dif\u001B[38;5;241m.\u001B[39mshape[\u001B[38;5;241m0\u001B[39m], df_list[i]\u001B[38;5;241m.\u001B[39mshape[\u001B[38;5;241m0\u001B[39m])\n",
      "File \u001B[0;32m~/work/projects/hse.air/AirPollutionDataLoader/venv/lib/python3.10/site-packages/pandas/core/frame.py:3804\u001B[0m, in \u001B[0;36mDataFrame.__getitem__\u001B[0;34m(self, key)\u001B[0m\n\u001B[1;32m   3802\u001B[0m \u001B[38;5;28;01mif\u001B[39;00m \u001B[38;5;28mself\u001B[39m\u001B[38;5;241m.\u001B[39mcolumns\u001B[38;5;241m.\u001B[39mnlevels \u001B[38;5;241m>\u001B[39m \u001B[38;5;241m1\u001B[39m:\n\u001B[1;32m   3803\u001B[0m     \u001B[38;5;28;01mreturn\u001B[39;00m \u001B[38;5;28mself\u001B[39m\u001B[38;5;241m.\u001B[39m_getitem_multilevel(key)\n\u001B[0;32m-> 3804\u001B[0m indexer \u001B[38;5;241m=\u001B[39m \u001B[38;5;28;43mself\u001B[39;49m\u001B[38;5;241;43m.\u001B[39;49m\u001B[43mcolumns\u001B[49m\u001B[38;5;241;43m.\u001B[39;49m\u001B[43mget_loc\u001B[49m\u001B[43m(\u001B[49m\u001B[43mkey\u001B[49m\u001B[43m)\u001B[49m\n\u001B[1;32m   3805\u001B[0m \u001B[38;5;28;01mif\u001B[39;00m is_integer(indexer):\n\u001B[1;32m   3806\u001B[0m     indexer \u001B[38;5;241m=\u001B[39m [indexer]\n",
      "File \u001B[0;32m~/work/projects/hse.air/AirPollutionDataLoader/venv/lib/python3.10/site-packages/pandas/core/indexes/base.py:3805\u001B[0m, in \u001B[0;36mIndex.get_loc\u001B[0;34m(self, key, method, tolerance)\u001B[0m\n\u001B[1;32m   3803\u001B[0m     \u001B[38;5;28;01mreturn\u001B[39;00m \u001B[38;5;28mself\u001B[39m\u001B[38;5;241m.\u001B[39m_engine\u001B[38;5;241m.\u001B[39mget_loc(casted_key)\n\u001B[1;32m   3804\u001B[0m \u001B[38;5;28;01mexcept\u001B[39;00m \u001B[38;5;167;01mKeyError\u001B[39;00m \u001B[38;5;28;01mas\u001B[39;00m err:\n\u001B[0;32m-> 3805\u001B[0m     \u001B[38;5;28;01mraise\u001B[39;00m \u001B[38;5;167;01mKeyError\u001B[39;00m(key) \u001B[38;5;28;01mfrom\u001B[39;00m \u001B[38;5;21;01merr\u001B[39;00m\n\u001B[1;32m   3806\u001B[0m \u001B[38;5;28;01mexcept\u001B[39;00m \u001B[38;5;167;01mTypeError\u001B[39;00m:\n\u001B[1;32m   3807\u001B[0m     \u001B[38;5;66;03m# If we have a listlike key, _check_indexing_error will raise\u001B[39;00m\n\u001B[1;32m   3808\u001B[0m     \u001B[38;5;66;03m#  InvalidIndexError. Otherwise we fall through and re-raise\u001B[39;00m\n\u001B[1;32m   3809\u001B[0m     \u001B[38;5;66;03m#  the TypeError.\u001B[39;00m\n\u001B[1;32m   3810\u001B[0m     \u001B[38;5;28mself\u001B[39m\u001B[38;5;241m.\u001B[39m_check_indexing_error(key)\n",
      "\u001B[0;31mKeyError\u001B[0m: 'AveragingTime'"
     ]
    }
   ],
   "source": [
    "import warnings\n",
    "\n",
    "non_hour_lines_count = 0\n",
    "df_df_days = list()\n",
    "print(f'Доли интервалов, неравных 1 часу, по загрязнителям:')\n",
    "for i in range(len(POL_CODES)):\n",
    "    with warnings.catch_warnings():\n",
    "        warnings.filterwarnings(\"ignore\", message=\"divide by zero encountered in divide\")\n",
    "        df_list[i]['DatetimeEnd'] = pd.to_datetime(df_list[i]['DatetimeEnd'])\n",
    "    no_hour_mask = df_list[i]['AveragingTime'] != 'hour'\n",
    "    df_hour_dif = df_list[i][no_hour_mask]\n",
    "    print_pol_portion(i, df_hour_dif.shape[0], df_list[i].shape[0])\n",
    "    non_hour_lines_count += df_hour_dif.shape[0]\n",
    "    if df_hour_dif is not None and df_hour_dif.shape[0] > 0:\n",
    "        df_df_days.append(df_hour_dif)\n",
    "        print(f'Другой интервал: {df_hour_dif[\"AveragingTime\"].unique()}')\n",
    "    else:\n",
    "       df_df_days.append(None)"
   ],
   "metadata": {
    "collapsed": false
   }
  },
  {
   "cell_type": "markdown",
   "source": [
    "##### Замена дневных интервалов на часовые, заполнение, NaN - для концентраций"
   ],
   "metadata": {
    "collapsed": false
   }
  },
  {
   "cell_type": "code",
   "execution_count": 22,
   "outputs": [],
   "source": [
    "def get_hour_columns(df_days):\n",
    "    df_days.assign(AveragingTime = 'hour')\n",
    "    df_days.assign(Concentration = np.NaN)\n",
    "    df_dub = df_days.loc[df_days.index.repeat(23),:]\n",
    "    df_range = df_days.loc[:,'DatetimeEnd'].apply(lambda x: pd.date_range(x - pd.Timedelta(hours=23), x - pd.Timedelta(hours=1), freq='1h'))\n",
    "    df_dub['DatetimeEnd'] = df_range.explode()\n",
    "    return df_dub"
   ],
   "metadata": {
    "collapsed": false
   }
  },
  {
   "cell_type": "code",
   "execution_count": 23,
   "outputs": [],
   "source": [
    "if flag_data_clean_up:\n",
    "    for i in range(len(POL_CODES)):\n",
    "        if df_df_days[i] is None:\n",
    "            continue\n",
    "        df_list[i] = pd.concat([df_list[i], get_hour_columns(df_df_days[i])], axis=0, ignore_index=True)"
   ],
   "metadata": {
    "collapsed": false
   }
  },
  {
   "cell_type": "markdown",
   "source": [
    "##### Удаление столбцов Verification, Validity, UnitOfMeasurement, AveragingTime, SamplingPoint"
   ],
   "metadata": {
    "collapsed": false
   }
  },
  {
   "cell_type": "code",
   "execution_count": 118,
   "outputs": [],
   "source": [
    "for i in range(len(POL_CODES)):\n",
    "    df_list[i] = df_list[i].drop(columns= ['Verification', 'Validity', 'UnitOfMeasurement', 'AveragingTime', 'SamplingPoint', 'SamplingProcess', 'Countrycode'])\n",
    "    #df_list[i] = df_list[i].drop(columns= ['SamplingProcess', 'Countrycode'])"
   ],
   "metadata": {
    "collapsed": false
   }
  },
  {
   "cell_type": "markdown",
   "source": [
    "##### Индексация"
   ],
   "metadata": {
    "collapsed": false
   }
  },
  {
   "cell_type": "code",
   "execution_count": 119,
   "outputs": [
    {
     "data": {
      "text/plain": "  AirQualityStation  Concentration               DatetimeEnd\n0       STA-NL00012           30.3 2013-01-01 01:00:00+01:00\n1       STA-NL00012           37.6 2013-01-01 02:00:00+01:00\n2       STA-NL00012           39.0 2013-01-01 03:00:00+01:00\n3       STA-NL00012            NaN 2013-01-01 04:00:00+01:00\n4       STA-NL00012           44.5 2013-01-01 05:00:00+01:00",
      "text/html": "<div>\n<style scoped>\n    .dataframe tbody tr th:only-of-type {\n        vertical-align: middle;\n    }\n\n    .dataframe tbody tr th {\n        vertical-align: top;\n    }\n\n    .dataframe thead th {\n        text-align: right;\n    }\n</style>\n<table border=\"1\" class=\"dataframe\">\n  <thead>\n    <tr style=\"text-align: right;\">\n      <th></th>\n      <th>AirQualityStation</th>\n      <th>Concentration</th>\n      <th>DatetimeEnd</th>\n    </tr>\n  </thead>\n  <tbody>\n    <tr>\n      <th>0</th>\n      <td>STA-NL00012</td>\n      <td>30.3</td>\n      <td>2013-01-01 01:00:00+01:00</td>\n    </tr>\n    <tr>\n      <th>1</th>\n      <td>STA-NL00012</td>\n      <td>37.6</td>\n      <td>2013-01-01 02:00:00+01:00</td>\n    </tr>\n    <tr>\n      <th>2</th>\n      <td>STA-NL00012</td>\n      <td>39.0</td>\n      <td>2013-01-01 03:00:00+01:00</td>\n    </tr>\n    <tr>\n      <th>3</th>\n      <td>STA-NL00012</td>\n      <td>NaN</td>\n      <td>2013-01-01 04:00:00+01:00</td>\n    </tr>\n    <tr>\n      <th>4</th>\n      <td>STA-NL00012</td>\n      <td>44.5</td>\n      <td>2013-01-01 05:00:00+01:00</td>\n    </tr>\n  </tbody>\n</table>\n</div>"
     },
     "execution_count": 119,
     "metadata": {},
     "output_type": "execute_result"
    }
   ],
   "source": [
    "for i in range(len(POL_CODES)):\n",
    "    df_list[i].sort_values([\"AirQualityStation\", \"DatetimeEnd\"], ascending = True, inplace=True)\n",
    "    df_list[i].reset_index(drop=True, inplace=True)\n",
    "df_list[0].head()"
   ],
   "metadata": {
    "collapsed": false
   }
  },
  {
   "cell_type": "markdown",
   "source": [
    "##### Сохранение обработанных данных"
   ],
   "metadata": {
    "collapsed": false
   }
  },
  {
   "cell_type": "code",
   "execution_count": 121,
   "outputs": [],
   "source": [
    "for i in range(len(POL_CODES)):\n",
    "    file_path = os.path.join(CSV_EDA_PATH, f'{POL_CODES[i]}.csv')\n",
    "    df_list[i].to_csv(file_path)"
   ],
   "metadata": {
    "collapsed": false
   }
  },
  {
   "cell_type": "markdown",
   "source": [
    "**Выводы:**\n",
    "1. Были удалены данные с пропущенными значениями кода станции и временного интервала, их невозможно использовать.\n",
    "2. Приведены оценки доли пропущенных, невалидных, отрицательных и нулевых значений концентраций.\n",
    "3. Все единицы измерения в рамках загрязнителя одинаковы, столбец не несет полезной информации и был удален.\n",
    "4. Временной интервал измерения за редким исключением составляет 1 час (менее 1% для PM2.5- это интервалы в 1 день). Чтобы не искажать результаты последующих расчетов, строки с интервалов в день были дополнены строками в количестве 23 на каждый час на сутки до DatetimeEnd с теми же данными, кроме концентраций (для них указано значение NaN)\n",
    "5. Поскольку был зафиксирован интервал измерений длительностью в 1 час, один из столбцов с интервалом даты не несет полезной информации, поэтому столбец DatetimeBegin был удален.\n",
    "6. Была обнаружена большая часть полностью одинаковых строк. Анализ csv файла датасета показал, что одинаковым строкам соответствуют различные методы измерения, которые у нас в расчет не берутся. При этом проверено, что концентрации для разных методов в датасетах одинаковы. Для данной работы подобные дубликаты не несут никакой полезной информации, потому они были удалены"
   ],
   "metadata": {
    "collapsed": false
   }
  },
  {
   "cell_type": "markdown",
   "source": [
    "***\n",
    "#### Расчет индексов качества воздуха, сворачивание данных по дням\n",
    "***"
   ],
   "metadata": {
    "collapsed": false
   }
  },
  {
   "cell_type": "code",
   "execution_count": 147,
   "outputs": [
    {
     "ename": "TypeError",
     "evalue": "'<' not supported between instances of 'float' and 'NoneType'",
     "output_type": "error",
     "traceback": [
      "\u001B[0;31m---------------------------------------------------------------------------\u001B[0m",
      "\u001B[0;31mTypeError\u001B[0m                                 Traceback (most recent call last)",
      "Cell \u001B[0;32mIn [147], line 9\u001B[0m\n\u001B[1;32m      7\u001B[0m pathlib\u001B[38;5;241m.\u001B[39mPath(path)\u001B[38;5;241m.\u001B[39mmkdir(exist_ok\u001B[38;5;241m=\u001B[39m\u001B[38;5;28;01mTrue\u001B[39;00m)\n\u001B[1;32m      8\u001B[0m \u001B[38;5;28;01mfor\u001B[39;00m s \u001B[38;5;129;01min\u001B[39;00m stations:\n\u001B[0;32m----> 9\u001B[0m     g \u001B[38;5;241m=\u001B[39m \u001B[43maqc\u001B[49m\u001B[38;5;241;43m.\u001B[39;49m\u001B[43mcalc_aqi_for_day_pd\u001B[49m\u001B[43m(\u001B[49m\u001B[43mpollutant_id\u001B[49m\u001B[43m,\u001B[49m\u001B[43m \u001B[49m\u001B[43mdf_p\u001B[49m\u001B[43m[\u001B[49m\u001B[43mdf_p\u001B[49m\u001B[43m[\u001B[49m\u001B[38;5;124;43m'\u001B[39;49m\u001B[38;5;124;43mAirQualityStation\u001B[39;49m\u001B[38;5;124;43m'\u001B[39;49m\u001B[43m]\u001B[49m\u001B[43m \u001B[49m\u001B[38;5;241;43m==\u001B[39;49m\u001B[43m \u001B[49m\u001B[43ms\u001B[49m\u001B[43m]\u001B[49m\u001B[43m,\u001B[49m\u001B[43m \u001B[49m\u001B[43mmeasure\u001B[49m\u001B[43m)\u001B[49m\n\u001B[1;32m     10\u001B[0m     file_path \u001B[38;5;241m=\u001B[39m os\u001B[38;5;241m.\u001B[39mpath\u001B[38;5;241m.\u001B[39mjoin(path, \u001B[38;5;124mf\u001B[39m\u001B[38;5;124m'\u001B[39m\u001B[38;5;132;01m{\u001B[39;00ms\u001B[38;5;132;01m}\u001B[39;00m\u001B[38;5;124m.csv\u001B[39m\u001B[38;5;124m'\u001B[39m)\n\u001B[1;32m     11\u001B[0m     g\u001B[38;5;241m.\u001B[39mto_csv(file_path)\n",
      "File \u001B[0;32m~/work/projects/air_pollution_predict/airpollpredictor/aqi_calculator/aqi_calculator.py:59\u001B[0m, in \u001B[0;36mcalc_aqi_for_day_pd\u001B[0;34m(pollutant_id, df, measure)\u001B[0m\n\u001B[1;32m     57\u001B[0m pollutant_info \u001B[38;5;241m=\u001B[39m _POLLUTANTS_INFO[pollutant_id]\n\u001B[1;32m     58\u001B[0m g \u001B[38;5;241m=\u001B[39m __recalc_concentration_pd(pollutant_info, df, measure)\n\u001B[0;32m---> 59\u001B[0m g[\u001B[38;5;124m'\u001B[39m\u001B[38;5;124mAQI\u001B[39m\u001B[38;5;124m'\u001B[39m] \u001B[38;5;241m=\u001B[39m \u001B[43mg\u001B[49m\u001B[38;5;241;43m.\u001B[39;49m\u001B[43mapply\u001B[49m\u001B[43m(\u001B[49m\u001B[38;5;28;43;01mlambda\u001B[39;49;00m\u001B[43m \u001B[49m\u001B[43mx\u001B[49m\u001B[43m:\u001B[49m\u001B[43m \u001B[49m\u001B[43m__get_aqi_for_day\u001B[49m\u001B[43m(\u001B[49m\u001B[43mpollutant_info\u001B[49m\u001B[43m,\u001B[49m\u001B[43m \u001B[49m\u001B[43mx\u001B[49m\u001B[38;5;241;43m.\u001B[39;49m\u001B[43mvalues\u001B[49m\u001B[43m)\u001B[49m\u001B[43m,\u001B[49m\u001B[43m \u001B[49m\u001B[43maxis\u001B[49m\u001B[38;5;241;43m=\u001B[39;49m\u001B[38;5;241;43m1\u001B[39;49m\u001B[43m)\u001B[49m\n\u001B[1;32m     60\u001B[0m g\u001B[38;5;241m.\u001B[39mdrop(columns\u001B[38;5;241m=\u001B[39mg\u001B[38;5;241m.\u001B[39mcolumns\u001B[38;5;241m.\u001B[39mvalues[:\u001B[38;5;241m-\u001B[39m\u001B[38;5;241m1\u001B[39m], inplace\u001B[38;5;241m=\u001B[39m\u001B[38;5;28;01mTrue\u001B[39;00m)\n\u001B[1;32m     61\u001B[0m \u001B[38;5;28;01mreturn\u001B[39;00m g\n",
      "File \u001B[0;32m~/work/projects/hse.air/AirPollutionDataLoader/venv/lib/python3.10/site-packages/pandas/core/frame.py:9555\u001B[0m, in \u001B[0;36mDataFrame.apply\u001B[0;34m(self, func, axis, raw, result_type, args, **kwargs)\u001B[0m\n\u001B[1;32m   9544\u001B[0m \u001B[38;5;28;01mfrom\u001B[39;00m \u001B[38;5;21;01mpandas\u001B[39;00m\u001B[38;5;21;01m.\u001B[39;00m\u001B[38;5;21;01mcore\u001B[39;00m\u001B[38;5;21;01m.\u001B[39;00m\u001B[38;5;21;01mapply\u001B[39;00m \u001B[38;5;28;01mimport\u001B[39;00m frame_apply\n\u001B[1;32m   9546\u001B[0m op \u001B[38;5;241m=\u001B[39m frame_apply(\n\u001B[1;32m   9547\u001B[0m     \u001B[38;5;28mself\u001B[39m,\n\u001B[1;32m   9548\u001B[0m     func\u001B[38;5;241m=\u001B[39mfunc,\n\u001B[0;32m   (...)\u001B[0m\n\u001B[1;32m   9553\u001B[0m     kwargs\u001B[38;5;241m=\u001B[39mkwargs,\n\u001B[1;32m   9554\u001B[0m )\n\u001B[0;32m-> 9555\u001B[0m \u001B[38;5;28;01mreturn\u001B[39;00m \u001B[43mop\u001B[49m\u001B[38;5;241;43m.\u001B[39;49m\u001B[43mapply\u001B[49m\u001B[43m(\u001B[49m\u001B[43m)\u001B[49m\u001B[38;5;241m.\u001B[39m__finalize__(\u001B[38;5;28mself\u001B[39m, method\u001B[38;5;241m=\u001B[39m\u001B[38;5;124m\"\u001B[39m\u001B[38;5;124mapply\u001B[39m\u001B[38;5;124m\"\u001B[39m)\n",
      "File \u001B[0;32m~/work/projects/hse.air/AirPollutionDataLoader/venv/lib/python3.10/site-packages/pandas/core/apply.py:746\u001B[0m, in \u001B[0;36mFrameApply.apply\u001B[0;34m(self)\u001B[0m\n\u001B[1;32m    743\u001B[0m \u001B[38;5;28;01melif\u001B[39;00m \u001B[38;5;28mself\u001B[39m\u001B[38;5;241m.\u001B[39mraw:\n\u001B[1;32m    744\u001B[0m     \u001B[38;5;28;01mreturn\u001B[39;00m \u001B[38;5;28mself\u001B[39m\u001B[38;5;241m.\u001B[39mapply_raw()\n\u001B[0;32m--> 746\u001B[0m \u001B[38;5;28;01mreturn\u001B[39;00m \u001B[38;5;28;43mself\u001B[39;49m\u001B[38;5;241;43m.\u001B[39;49m\u001B[43mapply_standard\u001B[49m\u001B[43m(\u001B[49m\u001B[43m)\u001B[49m\n",
      "File \u001B[0;32m~/work/projects/hse.air/AirPollutionDataLoader/venv/lib/python3.10/site-packages/pandas/core/apply.py:873\u001B[0m, in \u001B[0;36mFrameApply.apply_standard\u001B[0;34m(self)\u001B[0m\n\u001B[1;32m    872\u001B[0m \u001B[38;5;28;01mdef\u001B[39;00m \u001B[38;5;21mapply_standard\u001B[39m(\u001B[38;5;28mself\u001B[39m):\n\u001B[0;32m--> 873\u001B[0m     results, res_index \u001B[38;5;241m=\u001B[39m \u001B[38;5;28;43mself\u001B[39;49m\u001B[38;5;241;43m.\u001B[39;49m\u001B[43mapply_series_generator\u001B[49m\u001B[43m(\u001B[49m\u001B[43m)\u001B[49m\n\u001B[1;32m    875\u001B[0m     \u001B[38;5;66;03m# wrap results\u001B[39;00m\n\u001B[1;32m    876\u001B[0m     \u001B[38;5;28;01mreturn\u001B[39;00m \u001B[38;5;28mself\u001B[39m\u001B[38;5;241m.\u001B[39mwrap_results(results, res_index)\n",
      "File \u001B[0;32m~/work/projects/hse.air/AirPollutionDataLoader/venv/lib/python3.10/site-packages/pandas/core/apply.py:889\u001B[0m, in \u001B[0;36mFrameApply.apply_series_generator\u001B[0;34m(self)\u001B[0m\n\u001B[1;32m    886\u001B[0m \u001B[38;5;28;01mwith\u001B[39;00m option_context(\u001B[38;5;124m\"\u001B[39m\u001B[38;5;124mmode.chained_assignment\u001B[39m\u001B[38;5;124m\"\u001B[39m, \u001B[38;5;28;01mNone\u001B[39;00m):\n\u001B[1;32m    887\u001B[0m     \u001B[38;5;28;01mfor\u001B[39;00m i, v \u001B[38;5;129;01min\u001B[39;00m \u001B[38;5;28menumerate\u001B[39m(series_gen):\n\u001B[1;32m    888\u001B[0m         \u001B[38;5;66;03m# ignore SettingWithCopy here in case the user mutates\u001B[39;00m\n\u001B[0;32m--> 889\u001B[0m         results[i] \u001B[38;5;241m=\u001B[39m \u001B[38;5;28;43mself\u001B[39;49m\u001B[38;5;241;43m.\u001B[39;49m\u001B[43mf\u001B[49m\u001B[43m(\u001B[49m\u001B[43mv\u001B[49m\u001B[43m)\u001B[49m\n\u001B[1;32m    890\u001B[0m         \u001B[38;5;28;01mif\u001B[39;00m \u001B[38;5;28misinstance\u001B[39m(results[i], ABCSeries):\n\u001B[1;32m    891\u001B[0m             \u001B[38;5;66;03m# If we have a view on v, we need to make a copy because\u001B[39;00m\n\u001B[1;32m    892\u001B[0m             \u001B[38;5;66;03m#  series_generator will swap out the underlying data\u001B[39;00m\n\u001B[1;32m    893\u001B[0m             results[i] \u001B[38;5;241m=\u001B[39m results[i]\u001B[38;5;241m.\u001B[39mcopy(deep\u001B[38;5;241m=\u001B[39m\u001B[38;5;28;01mFalse\u001B[39;00m)\n",
      "File \u001B[0;32m~/work/projects/air_pollution_predict/airpollpredictor/aqi_calculator/aqi_calculator.py:59\u001B[0m, in \u001B[0;36mcalc_aqi_for_day_pd.<locals>.<lambda>\u001B[0;34m(x)\u001B[0m\n\u001B[1;32m     57\u001B[0m pollutant_info \u001B[38;5;241m=\u001B[39m _POLLUTANTS_INFO[pollutant_id]\n\u001B[1;32m     58\u001B[0m g \u001B[38;5;241m=\u001B[39m __recalc_concentration_pd(pollutant_info, df, measure)\n\u001B[0;32m---> 59\u001B[0m g[\u001B[38;5;124m'\u001B[39m\u001B[38;5;124mAQI\u001B[39m\u001B[38;5;124m'\u001B[39m] \u001B[38;5;241m=\u001B[39m g\u001B[38;5;241m.\u001B[39mapply(\u001B[38;5;28;01mlambda\u001B[39;00m x: \u001B[43m__get_aqi_for_day\u001B[49m\u001B[43m(\u001B[49m\u001B[43mpollutant_info\u001B[49m\u001B[43m,\u001B[49m\u001B[43m \u001B[49m\u001B[43mx\u001B[49m\u001B[38;5;241;43m.\u001B[39;49m\u001B[43mvalues\u001B[49m\u001B[43m)\u001B[49m, axis\u001B[38;5;241m=\u001B[39m\u001B[38;5;241m1\u001B[39m)\n\u001B[1;32m     60\u001B[0m g\u001B[38;5;241m.\u001B[39mdrop(columns\u001B[38;5;241m=\u001B[39mg\u001B[38;5;241m.\u001B[39mcolumns\u001B[38;5;241m.\u001B[39mvalues[:\u001B[38;5;241m-\u001B[39m\u001B[38;5;241m1\u001B[39m], inplace\u001B[38;5;241m=\u001B[39m\u001B[38;5;28;01mTrue\u001B[39;00m)\n\u001B[1;32m     61\u001B[0m \u001B[38;5;28;01mreturn\u001B[39;00m g\n",
      "File \u001B[0;32m~/work/projects/air_pollution_predict/airpollpredictor/aqi_calculator/aqi_calculator.py:107\u001B[0m, in \u001B[0;36m__get_aqi_for_day\u001B[0;34m(pollutant_info, c)\u001B[0m\n\u001B[1;32m    105\u001B[0m     aqi_val \u001B[38;5;241m=\u001B[39m \u001B[38;5;28mmax\u001B[39m(aqi_8, aqi_1)\n\u001B[1;32m    106\u001B[0m \u001B[38;5;28;01melif\u001B[39;00m pollutant_info\u001B[38;5;241m.\u001B[39mpollutant_code \u001B[38;5;241m==\u001B[39m \u001B[38;5;124m\"\u001B[39m\u001B[38;5;124mSO2\u001B[39m\u001B[38;5;124m\"\u001B[39m:\n\u001B[0;32m--> 107\u001B[0m     bp \u001B[38;5;241m=\u001B[39m \u001B[43m__get_concentration_breakpoints_so2\u001B[49m\u001B[43m(\u001B[49m\u001B[43mpollutant_info\u001B[49m\u001B[43m,\u001B[49m\u001B[43m \u001B[49m\u001B[43mc\u001B[49m\u001B[43m[\u001B[49m\u001B[38;5;241;43m0\u001B[39;49m\u001B[43m]\u001B[49m\u001B[43m,\u001B[49m\u001B[43m \u001B[49m\u001B[43mc\u001B[49m\u001B[43m[\u001B[49m\u001B[38;5;241;43m1\u001B[39;49m\u001B[43m]\u001B[49m\u001B[43m)\u001B[49m\n\u001B[1;32m    108\u001B[0m     \u001B[38;5;28;01mif\u001B[39;00m bp\u001B[38;5;241m.\u001B[39mbp_ind \u001B[38;5;241m>\u001B[39m \u001B[38;5;241m-\u001B[39m\u001B[38;5;241m1\u001B[39m:\n\u001B[1;32m    109\u001B[0m         aqi_val \u001B[38;5;241m=\u001B[39m __aqi_calc_formula(bp)\n",
      "File \u001B[0;32m~/work/projects/air_pollution_predict/airpollpredictor/aqi_calculator/aqi_calculator.py:240\u001B[0m, in \u001B[0;36m__get_concentration_breakpoints_so2\u001B[0;34m(pollutant_info, c1, c24)\u001B[0m\n\u001B[1;32m    237\u001B[0m     bp_hi \u001B[38;5;241m=\u001B[39m breakpoints_24[i]\n\u001B[1;32m    238\u001B[0m     to24 \u001B[38;5;241m=\u001B[39m \u001B[38;5;28;01mTrue\u001B[39;00m\n\u001B[0;32m--> 240\u001B[0m \u001B[38;5;28;01mif\u001B[39;00m \u001B[43mc\u001B[49m\u001B[43m \u001B[49m\u001B[38;5;241;43m<\u001B[39;49m\u001B[43m \u001B[49m\u001B[43mbp_hi\u001B[49m:\n\u001B[1;32m    241\u001B[0m     bp_ind \u001B[38;5;241m=\u001B[39m i\n\u001B[1;32m    242\u001B[0m     \u001B[38;5;28;01mbreak\u001B[39;00m\n",
      "\u001B[0;31mTypeError\u001B[0m: '<' not supported between instances of 'float' and 'NoneType'"
     ]
    }
   ],
   "source": [
    "for i in range(len(POL_CODES)):\n",
    "    pollutant_id = POL_CODES[i]\n",
    "    measure = POL_MEASURES[pollutant_id]\n",
    "    df_p = pd.read_csv(os.path.join(CSV_EDA_PATH, f'{pollutant_id}.csv'), parse_dates=True, index_col='DatetimeEnd')\n",
    "    stations = df_p['AirQualityStation'].value_counts().index.tolist()\n",
    "    path = os.path.join(CSV_AQI_PATH, str(pollutant_id))\n",
    "    pathlib.Path(path).mkdir(exist_ok=True)\n",
    "    for s in stations:\n",
    "        g = aqc.calc_aqi_for_day_pd(pollutant_id, df_p[df_p['AirQualityStation'] == s], measure)\n",
    "        file_path = os.path.join(path, f'{s}.csv')\n",
    "        g.to_csv(file_path)"
   ],
   "metadata": {
    "collapsed": false
   }
  }
 ],
 "metadata": {
  "kernelspec": {
   "display_name": "Python 3",
   "language": "python",
   "name": "python3"
  },
  "language_info": {
   "codemirror_mode": {
    "name": "ipython",
    "version": 2
   },
   "file_extension": ".py",
   "mimetype": "text/x-python",
   "name": "python",
   "nbconvert_exporter": "python",
   "pygments_lexer": "ipython2",
   "version": "2.7.6"
  }
 },
 "nbformat": 4,
 "nbformat_minor": 0
}
