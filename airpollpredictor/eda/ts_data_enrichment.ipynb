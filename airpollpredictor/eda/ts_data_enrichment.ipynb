{
 "cells": [
  {
   "cell_type": "code",
   "execution_count": 5,
   "outputs": [],
   "source": [
    "import os\n",
    "import pandas as pd\n",
    "import ts_lag_features_generator as lag_gen\n",
    "import aqi_calculator.aqi_calculator as aqc\n",
    "import warnings\n",
    "import time\n",
    "warnings.filterwarnings('ignore')"
   ],
   "metadata": {
    "collapsed": false
   }
  },
  {
   "cell_type": "code",
   "execution_count": 6,
   "outputs": [],
   "source": [
    "CSV_PATH = '../datasources/aq_min/$pollutant_id$/'\n",
    "CSV_EDA_PATH = '../datasources/eda/'\n",
    "CSV_AQI_ENRICH_PATH = '../datasources/aqi_enrich/'\n",
    "POL_CODES = [7, 6001, 5, 10]\n",
    "#POL_CODES = [7]\n",
    "POL_NAMES = {7: \"O3\", 6001: \"PM2.5\", 5: \"PM10\", 10: \"CO\", 1: \"SO2\", 8: \"NO2\"}\n",
    "POL_MEASURES = {7: \"µg/m3\", 6001: \"µg/m3\", 5: \"µg/m3\", 10: \"mg/m3\", 1: \"µg/m3\", 8: \"µg/m3\"}"
   ],
   "metadata": {
    "collapsed": false
   }
  },
  {
   "cell_type": "code",
   "execution_count": 7,
   "outputs": [],
   "source": [
    "DATE_FROM = '2013-01-01'\n",
    "DATE_END = '2022-10-29'\n",
    "CONCENTRATION_AGGREGATES = ['mean', 'median', 'min', 'max']\n",
    "CONCENTRATION_AGGREGATES_FOR_LAGS = ['mean', 'median']"
   ],
   "metadata": {
    "collapsed": false
   }
  },
  {
   "cell_type": "code",
   "execution_count": 8,
   "outputs": [],
   "source": [
    "def save_calc(df: pd.DataFrame, file_name: str):\n",
    "\tfile_path = os.path.join(CSV_AQI_ENRICH_PATH, file_name)\n",
    "\tdf.to_csv(file_path)"
   ],
   "metadata": {
    "collapsed": false
   }
  },
  {
   "cell_type": "code",
   "execution_count": 9,
   "outputs": [],
   "source": [
    "def timeit(show_args):\n",
    "    def timeit_func(func):\n",
    "        def timeit_wrapper(*args, **kwargs):\n",
    "            start_time = time.perf_counter()\n",
    "            result = func(*args, **kwargs)\n",
    "            end_time = time.perf_counter()\n",
    "            total_time = end_time - start_time\n",
    "            if show_args:\n",
    "                print(f'Function {func.__name__}{args} {kwargs} Took {total_time:.4f} seconds')\n",
    "            else:\n",
    "                print(f'Function {func.__name__} Took {total_time:.4f} seconds')\n",
    "            return result\n",
    "        return timeit_wrapper\n",
    "    return timeit_func"
   ],
   "metadata": {
    "collapsed": false
   }
  },
  {
   "cell_type": "code",
   "execution_count": null,
   "outputs": [],
   "source": [
    "#Later\n",
    "def calc_mode(df):\n",
    "    # Factorize\n",
    "    y, label = pd.factorize(df)\n",
    "    y = pd.Series(y)\n",
    "    label = pd.Series(label)\n",
    "    y = y.rolling(window=7, min_periods=1).apply(lambda x: mode(x)[0])\n",
    "    # Unfactorize\n",
    "    y = y.map(label)\n",
    "    return y"
   ],
   "metadata": {
    "collapsed": false
   }
  },
  {
   "cell_type": "markdown",
   "source": [
    "## Расчет по дням: индексов качества воздуха, статистик концентраций, объединение данных"
   ],
   "metadata": {
    "collapsed": false
   }
  },
  {
   "cell_type": "code",
   "execution_count": 10,
   "outputs": [],
   "source": [
    "def read_dataframe_for_pollutant(pollutant_id: int):\n",
    "    df_p = pd.read_csv(os.path.join(CSV_EDA_PATH, f'{pollutant_id}.csv'), parse_dates=True, index_col='DatetimeEnd')\n",
    "    df_p.drop(columns=['Unnamed: 0'], inplace=True)\n",
    "    return df_p\n",
    "\n",
    "def merge_column_by_index(pollutant_id: int, df_gen: pd.DataFrame, df_to_merge: pd.DataFrame, source_column: str, new_column=None) -> pd.DataFrame:\n",
    "    if new_column is None:\n",
    "        new_column=source_column\n",
    "\n",
    "    df_gen = df_gen.merge(df_to_merge[source_column], left_index=True, right_index=True)\n",
    "    df_gen = df_gen.rename(columns={source_column: f'{new_column}_{POL_NAMES[pollutant_id]}'})\n",
    "    return df_gen\n",
    "\n",
    "def calc_aqi_per_pollutant_and_merge_pollutants(g: pd.DataFrame) -> pd.DataFrame:\n",
    "        for pollutant_id in POL_CODES:\n",
    "            df_p = read_dataframe_for_pollutant(pollutant_id)\n",
    "            measure = POL_MEASURES[pollutant_id]\n",
    "            g_p = aqc.calc_aqi_for_day_pd(pollutant_id, df_p, measure).tz_localize(None)\n",
    "            g = merge_column_by_index(pollutant_id, g, g_p, 'AQI')\n",
    "        return g\n",
    "\n",
    "def calc_mean_concentration_and_merge_pollutants(g: pd.DataFrame) -> pd.DataFrame:\n",
    "    for pollutant_id in POL_CODES:\n",
    "        df_p = read_dataframe_for_pollutant(pollutant_id)\n",
    "        for method in CONCENTRATION_AGGREGATES:\n",
    "            g_p = df_p['Concentration'].groupby(pd.Grouper(freq=\"24H\")).agg(method).tz_localize(None).to_frame()\n",
    "            g = merge_column_by_index(pollutant_id, g, g_p, 'Concentration', f'C_{method if type(method) is str else method.__name__}')\n",
    "    return g\n",
    "\n",
    "def calc_aqi_and_mean_concentration_and_merge(date_from, date_end) -> pd.DataFrame:\n",
    "    g = pd.DataFrame(index=pd.date_range(start=date_from, end=date_end, freq='D', inclusive=\"both\", name='DatetimeEnd'))\n",
    "    g = calc_aqi_per_pollutant_and_merge_pollutants(g)\n",
    "    g['Pollutant'] = g.idxmax(axis=1).apply(lambda x: x[x.index('_') + 1:])\n",
    "    g['AQI'] = g.max(axis=1)\n",
    "    g = calc_mean_concentration_and_merge_pollutants(g)\n",
    "    return g"
   ],
   "metadata": {
    "collapsed": false
   }
  },
  {
   "cell_type": "code",
   "execution_count": 11,
   "outputs": [],
   "source": [
    "def add_date_info(df: pd.DataFrame) -> pd.DataFrame:\n",
    "    df[\"weekday\"] = df.index.weekday\n",
    "    df[\"day\"] = df.index.day\n",
    "    df['month'] = df.index.month\n",
    "    df['year'] = df.index.year\n",
    "    df['season'] = df.index.to_series().apply(lambda x: 0 if x.month < 3 else 1 if x.month < 6 else 2 if x.month < 9 else 3)\n",
    "    df['is_weekend'] = [df['weekday'].isin([5,6])][0]*1\n",
    "    #df['holiday'] = [df.index.isin(pd.to_datetime(holidays).date)][0]*1\n",
    "    return df"
   ],
   "metadata": {
    "collapsed": false
   }
  },
  {
   "cell_type": "code",
   "execution_count": 12,
   "outputs": [
    {
     "data": {
      "text/plain": "             AQI_O3  AQI_PM2.5  AQI_PM10  AQI_CO Pollutant  AQI  C_mean_O3  \\\nDatetimeEnd                                                                  \n2013-01-01       26         64        30       4     PM2.5   64  48.331818   \n2013-01-02       26         31        21       4     PM2.5   31  33.912500   \n2013-01-03       16         47        23       4     PM2.5   47  25.217391   \n2013-01-04       15         54        26       3     PM2.5   54  22.108333   \n2013-01-05       17         56        22       4     PM2.5   56  19.282609   \n\n             C_median_O3  C_min_O3  C_max_O3  ...  C_mean_CO  C_median_CO  \\\nDatetimeEnd                                   ...                           \n2013-01-01         51.10      23.5      59.9  ...   0.322870       0.3040   \n2013-01-02         31.90      16.5      54.2  ...   0.349217       0.3770   \n2013-01-03         25.10      15.2      37.1  ...   0.332292       0.3305   \n2013-01-04         20.65      10.4      44.3  ...   0.313042       0.3095   \n2013-01-05         22.80       2.5      38.8  ...   0.371261       0.3740   \n\n             C_min_CO  C_max_CO  weekday  day  month  year  season  is_weekend  \nDatetimeEnd                                                                     \n2013-01-01      0.260     0.424        1    1      1  2013       0           0  \n2013-01-02      0.253     0.450        2    2      1  2013       0           0  \n2013-01-03      0.283     0.398        3    3      1  2013       0           0  \n2013-01-04      0.276     0.373        4    4      1  2013       0           0  \n2013-01-05      0.266     0.514        5    5      1  2013       0           1  \n\n[5 rows x 28 columns]",
      "text/html": "<div>\n<style scoped>\n    .dataframe tbody tr th:only-of-type {\n        vertical-align: middle;\n    }\n\n    .dataframe tbody tr th {\n        vertical-align: top;\n    }\n\n    .dataframe thead th {\n        text-align: right;\n    }\n</style>\n<table border=\"1\" class=\"dataframe\">\n  <thead>\n    <tr style=\"text-align: right;\">\n      <th></th>\n      <th>AQI_O3</th>\n      <th>AQI_PM2.5</th>\n      <th>AQI_PM10</th>\n      <th>AQI_CO</th>\n      <th>Pollutant</th>\n      <th>AQI</th>\n      <th>C_mean_O3</th>\n      <th>C_median_O3</th>\n      <th>C_min_O3</th>\n      <th>C_max_O3</th>\n      <th>...</th>\n      <th>C_mean_CO</th>\n      <th>C_median_CO</th>\n      <th>C_min_CO</th>\n      <th>C_max_CO</th>\n      <th>weekday</th>\n      <th>day</th>\n      <th>month</th>\n      <th>year</th>\n      <th>season</th>\n      <th>is_weekend</th>\n    </tr>\n    <tr>\n      <th>DatetimeEnd</th>\n      <th></th>\n      <th></th>\n      <th></th>\n      <th></th>\n      <th></th>\n      <th></th>\n      <th></th>\n      <th></th>\n      <th></th>\n      <th></th>\n      <th></th>\n      <th></th>\n      <th></th>\n      <th></th>\n      <th></th>\n      <th></th>\n      <th></th>\n      <th></th>\n      <th></th>\n      <th></th>\n      <th></th>\n    </tr>\n  </thead>\n  <tbody>\n    <tr>\n      <th>2013-01-01</th>\n      <td>26</td>\n      <td>64</td>\n      <td>30</td>\n      <td>4</td>\n      <td>PM2.5</td>\n      <td>64</td>\n      <td>48.331818</td>\n      <td>51.10</td>\n      <td>23.5</td>\n      <td>59.9</td>\n      <td>...</td>\n      <td>0.322870</td>\n      <td>0.3040</td>\n      <td>0.260</td>\n      <td>0.424</td>\n      <td>1</td>\n      <td>1</td>\n      <td>1</td>\n      <td>2013</td>\n      <td>0</td>\n      <td>0</td>\n    </tr>\n    <tr>\n      <th>2013-01-02</th>\n      <td>26</td>\n      <td>31</td>\n      <td>21</td>\n      <td>4</td>\n      <td>PM2.5</td>\n      <td>31</td>\n      <td>33.912500</td>\n      <td>31.90</td>\n      <td>16.5</td>\n      <td>54.2</td>\n      <td>...</td>\n      <td>0.349217</td>\n      <td>0.3770</td>\n      <td>0.253</td>\n      <td>0.450</td>\n      <td>2</td>\n      <td>2</td>\n      <td>1</td>\n      <td>2013</td>\n      <td>0</td>\n      <td>0</td>\n    </tr>\n    <tr>\n      <th>2013-01-03</th>\n      <td>16</td>\n      <td>47</td>\n      <td>23</td>\n      <td>4</td>\n      <td>PM2.5</td>\n      <td>47</td>\n      <td>25.217391</td>\n      <td>25.10</td>\n      <td>15.2</td>\n      <td>37.1</td>\n      <td>...</td>\n      <td>0.332292</td>\n      <td>0.3305</td>\n      <td>0.283</td>\n      <td>0.398</td>\n      <td>3</td>\n      <td>3</td>\n      <td>1</td>\n      <td>2013</td>\n      <td>0</td>\n      <td>0</td>\n    </tr>\n    <tr>\n      <th>2013-01-04</th>\n      <td>15</td>\n      <td>54</td>\n      <td>26</td>\n      <td>3</td>\n      <td>PM2.5</td>\n      <td>54</td>\n      <td>22.108333</td>\n      <td>20.65</td>\n      <td>10.4</td>\n      <td>44.3</td>\n      <td>...</td>\n      <td>0.313042</td>\n      <td>0.3095</td>\n      <td>0.276</td>\n      <td>0.373</td>\n      <td>4</td>\n      <td>4</td>\n      <td>1</td>\n      <td>2013</td>\n      <td>0</td>\n      <td>0</td>\n    </tr>\n    <tr>\n      <th>2013-01-05</th>\n      <td>17</td>\n      <td>56</td>\n      <td>22</td>\n      <td>4</td>\n      <td>PM2.5</td>\n      <td>56</td>\n      <td>19.282609</td>\n      <td>22.80</td>\n      <td>2.5</td>\n      <td>38.8</td>\n      <td>...</td>\n      <td>0.371261</td>\n      <td>0.3740</td>\n      <td>0.266</td>\n      <td>0.514</td>\n      <td>5</td>\n      <td>5</td>\n      <td>1</td>\n      <td>2013</td>\n      <td>0</td>\n      <td>1</td>\n    </tr>\n  </tbody>\n</table>\n<p>5 rows × 28 columns</p>\n</div>"
     },
     "execution_count": 12,
     "metadata": {},
     "output_type": "execute_result"
    }
   ],
   "source": [
    "g = calc_aqi_and_mean_concentration_and_merge(DATE_FROM, DATE_END)\n",
    "g = add_date_info(g)\n"
   ],
   "metadata": {
    "collapsed": false
   }
  },
  {
   "cell_type": "code",
   "execution_count": 19,
   "outputs": [
    {
     "data": {
      "text/plain": "             AQI_O3  AQI_PM2.5  AQI_PM10  AQI_CO Pollutant  AQI  C_mean_O3  \\\nDatetimeEnd                                                                  \n2013-01-01       26         64        30       4     PM2.5   64  48.331818   \n2013-01-02       26         31        21       4     PM2.5   31  33.912500   \n2013-01-03       16         47        23       4     PM2.5   47  25.217391   \n2013-01-04       15         54        26       3     PM2.5   54  22.108333   \n2013-01-05       17         56        22       4     PM2.5   56  19.282609   \n...             ...        ...       ...     ...       ...  ...        ...   \n2022-10-24       28         17        12       4        O3   28  50.305000   \n2022-10-25       22         24        15       5     PM2.5   24  30.691667   \n2022-10-26       18         26        15       4     PM2.5   26  25.591304   \n2022-10-27       16         33        17       5     PM2.5   33  18.720833   \n2022-10-28       20         50        25       5     PM2.5   50  22.975000   \n\n             C_median_O3  C_min_O3  C_max_O3  ...  C_mean_CO  C_median_CO  \\\nDatetimeEnd                                   ...                           \n2013-01-01         51.10      23.5      59.9  ...   0.322870       0.3040   \n2013-01-02         31.90      16.5      54.2  ...   0.349217       0.3770   \n2013-01-03         25.10      15.2      37.1  ...   0.332292       0.3305   \n2013-01-04         20.65      10.4      44.3  ...   0.313042       0.3095   \n2013-01-05         22.80       2.5      38.8  ...   0.371261       0.3740   \n...                  ...       ...       ...  ...        ...          ...   \n2022-10-24         55.70      22.9      68.4  ...   0.288217       0.2690   \n2022-10-25         25.60      13.1      53.2  ...   0.375583       0.3850   \n2022-10-26         22.40      11.4      41.9  ...   0.354304       0.3670   \n2022-10-27         17.90       9.5      30.3  ...   0.388792       0.3635   \n2022-10-28         15.90       1.6      57.4  ...   0.338667       0.3220   \n\n             C_min_CO  C_max_CO  weekday  day  month  year  season  is_weekend  \nDatetimeEnd                                                                     \n2013-01-01      0.260     0.424        1    1      1  2013       0           0  \n2013-01-02      0.253     0.450        2    2      1  2013       0           0  \n2013-01-03      0.283     0.398        3    3      1  2013       0           0  \n2013-01-04      0.276     0.373        4    4      1  2013       0           0  \n2013-01-05      0.266     0.514        5    5      1  2013       0           1  \n...               ...       ...      ...  ...    ...   ...     ...         ...  \n2022-10-24      0.208     0.416        0   24     10  2022       3           0  \n2022-10-25      0.215     0.579        1   25     10  2022       3           0  \n2022-10-26      0.233     0.452        2   26     10  2022       3           0  \n2022-10-27      0.252     0.681        3   27     10  2022       3           0  \n2022-10-28      0.298     0.396        4   28     10  2022       3           0  \n\n[3588 rows x 28 columns]",
      "text/html": "<div>\n<style scoped>\n    .dataframe tbody tr th:only-of-type {\n        vertical-align: middle;\n    }\n\n    .dataframe tbody tr th {\n        vertical-align: top;\n    }\n\n    .dataframe thead th {\n        text-align: right;\n    }\n</style>\n<table border=\"1\" class=\"dataframe\">\n  <thead>\n    <tr style=\"text-align: right;\">\n      <th></th>\n      <th>AQI_O3</th>\n      <th>AQI_PM2.5</th>\n      <th>AQI_PM10</th>\n      <th>AQI_CO</th>\n      <th>Pollutant</th>\n      <th>AQI</th>\n      <th>C_mean_O3</th>\n      <th>C_median_O3</th>\n      <th>C_min_O3</th>\n      <th>C_max_O3</th>\n      <th>...</th>\n      <th>C_mean_CO</th>\n      <th>C_median_CO</th>\n      <th>C_min_CO</th>\n      <th>C_max_CO</th>\n      <th>weekday</th>\n      <th>day</th>\n      <th>month</th>\n      <th>year</th>\n      <th>season</th>\n      <th>is_weekend</th>\n    </tr>\n    <tr>\n      <th>DatetimeEnd</th>\n      <th></th>\n      <th></th>\n      <th></th>\n      <th></th>\n      <th></th>\n      <th></th>\n      <th></th>\n      <th></th>\n      <th></th>\n      <th></th>\n      <th></th>\n      <th></th>\n      <th></th>\n      <th></th>\n      <th></th>\n      <th></th>\n      <th></th>\n      <th></th>\n      <th></th>\n      <th></th>\n      <th></th>\n    </tr>\n  </thead>\n  <tbody>\n    <tr>\n      <th>2013-01-01</th>\n      <td>26</td>\n      <td>64</td>\n      <td>30</td>\n      <td>4</td>\n      <td>PM2.5</td>\n      <td>64</td>\n      <td>48.331818</td>\n      <td>51.10</td>\n      <td>23.5</td>\n      <td>59.9</td>\n      <td>...</td>\n      <td>0.322870</td>\n      <td>0.3040</td>\n      <td>0.260</td>\n      <td>0.424</td>\n      <td>1</td>\n      <td>1</td>\n      <td>1</td>\n      <td>2013</td>\n      <td>0</td>\n      <td>0</td>\n    </tr>\n    <tr>\n      <th>2013-01-02</th>\n      <td>26</td>\n      <td>31</td>\n      <td>21</td>\n      <td>4</td>\n      <td>PM2.5</td>\n      <td>31</td>\n      <td>33.912500</td>\n      <td>31.90</td>\n      <td>16.5</td>\n      <td>54.2</td>\n      <td>...</td>\n      <td>0.349217</td>\n      <td>0.3770</td>\n      <td>0.253</td>\n      <td>0.450</td>\n      <td>2</td>\n      <td>2</td>\n      <td>1</td>\n      <td>2013</td>\n      <td>0</td>\n      <td>0</td>\n    </tr>\n    <tr>\n      <th>2013-01-03</th>\n      <td>16</td>\n      <td>47</td>\n      <td>23</td>\n      <td>4</td>\n      <td>PM2.5</td>\n      <td>47</td>\n      <td>25.217391</td>\n      <td>25.10</td>\n      <td>15.2</td>\n      <td>37.1</td>\n      <td>...</td>\n      <td>0.332292</td>\n      <td>0.3305</td>\n      <td>0.283</td>\n      <td>0.398</td>\n      <td>3</td>\n      <td>3</td>\n      <td>1</td>\n      <td>2013</td>\n      <td>0</td>\n      <td>0</td>\n    </tr>\n    <tr>\n      <th>2013-01-04</th>\n      <td>15</td>\n      <td>54</td>\n      <td>26</td>\n      <td>3</td>\n      <td>PM2.5</td>\n      <td>54</td>\n      <td>22.108333</td>\n      <td>20.65</td>\n      <td>10.4</td>\n      <td>44.3</td>\n      <td>...</td>\n      <td>0.313042</td>\n      <td>0.3095</td>\n      <td>0.276</td>\n      <td>0.373</td>\n      <td>4</td>\n      <td>4</td>\n      <td>1</td>\n      <td>2013</td>\n      <td>0</td>\n      <td>0</td>\n    </tr>\n    <tr>\n      <th>2013-01-05</th>\n      <td>17</td>\n      <td>56</td>\n      <td>22</td>\n      <td>4</td>\n      <td>PM2.5</td>\n      <td>56</td>\n      <td>19.282609</td>\n      <td>22.80</td>\n      <td>2.5</td>\n      <td>38.8</td>\n      <td>...</td>\n      <td>0.371261</td>\n      <td>0.3740</td>\n      <td>0.266</td>\n      <td>0.514</td>\n      <td>5</td>\n      <td>5</td>\n      <td>1</td>\n      <td>2013</td>\n      <td>0</td>\n      <td>1</td>\n    </tr>\n    <tr>\n      <th>...</th>\n      <td>...</td>\n      <td>...</td>\n      <td>...</td>\n      <td>...</td>\n      <td>...</td>\n      <td>...</td>\n      <td>...</td>\n      <td>...</td>\n      <td>...</td>\n      <td>...</td>\n      <td>...</td>\n      <td>...</td>\n      <td>...</td>\n      <td>...</td>\n      <td>...</td>\n      <td>...</td>\n      <td>...</td>\n      <td>...</td>\n      <td>...</td>\n      <td>...</td>\n      <td>...</td>\n    </tr>\n    <tr>\n      <th>2022-10-24</th>\n      <td>28</td>\n      <td>17</td>\n      <td>12</td>\n      <td>4</td>\n      <td>O3</td>\n      <td>28</td>\n      <td>50.305000</td>\n      <td>55.70</td>\n      <td>22.9</td>\n      <td>68.4</td>\n      <td>...</td>\n      <td>0.288217</td>\n      <td>0.2690</td>\n      <td>0.208</td>\n      <td>0.416</td>\n      <td>0</td>\n      <td>24</td>\n      <td>10</td>\n      <td>2022</td>\n      <td>3</td>\n      <td>0</td>\n    </tr>\n    <tr>\n      <th>2022-10-25</th>\n      <td>22</td>\n      <td>24</td>\n      <td>15</td>\n      <td>5</td>\n      <td>PM2.5</td>\n      <td>24</td>\n      <td>30.691667</td>\n      <td>25.60</td>\n      <td>13.1</td>\n      <td>53.2</td>\n      <td>...</td>\n      <td>0.375583</td>\n      <td>0.3850</td>\n      <td>0.215</td>\n      <td>0.579</td>\n      <td>1</td>\n      <td>25</td>\n      <td>10</td>\n      <td>2022</td>\n      <td>3</td>\n      <td>0</td>\n    </tr>\n    <tr>\n      <th>2022-10-26</th>\n      <td>18</td>\n      <td>26</td>\n      <td>15</td>\n      <td>4</td>\n      <td>PM2.5</td>\n      <td>26</td>\n      <td>25.591304</td>\n      <td>22.40</td>\n      <td>11.4</td>\n      <td>41.9</td>\n      <td>...</td>\n      <td>0.354304</td>\n      <td>0.3670</td>\n      <td>0.233</td>\n      <td>0.452</td>\n      <td>2</td>\n      <td>26</td>\n      <td>10</td>\n      <td>2022</td>\n      <td>3</td>\n      <td>0</td>\n    </tr>\n    <tr>\n      <th>2022-10-27</th>\n      <td>16</td>\n      <td>33</td>\n      <td>17</td>\n      <td>5</td>\n      <td>PM2.5</td>\n      <td>33</td>\n      <td>18.720833</td>\n      <td>17.90</td>\n      <td>9.5</td>\n      <td>30.3</td>\n      <td>...</td>\n      <td>0.388792</td>\n      <td>0.3635</td>\n      <td>0.252</td>\n      <td>0.681</td>\n      <td>3</td>\n      <td>27</td>\n      <td>10</td>\n      <td>2022</td>\n      <td>3</td>\n      <td>0</td>\n    </tr>\n    <tr>\n      <th>2022-10-28</th>\n      <td>20</td>\n      <td>50</td>\n      <td>25</td>\n      <td>5</td>\n      <td>PM2.5</td>\n      <td>50</td>\n      <td>22.975000</td>\n      <td>15.90</td>\n      <td>1.6</td>\n      <td>57.4</td>\n      <td>...</td>\n      <td>0.338667</td>\n      <td>0.3220</td>\n      <td>0.298</td>\n      <td>0.396</td>\n      <td>4</td>\n      <td>28</td>\n      <td>10</td>\n      <td>2022</td>\n      <td>3</td>\n      <td>0</td>\n    </tr>\n  </tbody>\n</table>\n<p>3588 rows × 28 columns</p>\n</div>"
     },
     "execution_count": 19,
     "metadata": {},
     "output_type": "execute_result"
    }
   ],
   "source": [
    "g"
   ],
   "metadata": {
    "collapsed": false
   }
  },
  {
   "cell_type": "markdown",
   "source": [
    "***\n",
    "#### Добавление лагов\n",
    "***"
   ],
   "metadata": {
    "collapsed": false
   }
  },
  {
   "cell_type": "code",
   "execution_count": 13,
   "outputs": [],
   "source": [
    "def get_all_concentration_and_aqi_columns(df):\n",
    "    return [x for x in df.columns.values if [p for p in POL_CODES if x.endswith(POL_NAMES[p])]] + ['AQI'] + ['Pollutant']\n",
    "\n",
    "def get_aqi_columns(df):\n",
    "    return [x for x in df.columns.values if x.startswith('AQI') and [p for p in POL_CODES if x.endswith(POL_NAMES[p])]] + ['AQI']\n",
    "\n",
    "def get_concentration_columns_by_method(df, method):\n",
    "    return [x for x in df.columns.values if x.startswith(f'C_{method}') and [p for p in POL_CODES if x.endswith(POL_NAMES[p])]]"
   ],
   "metadata": {
    "collapsed": false
   }
  },
  {
   "cell_type": "code",
   "execution_count": 23,
   "outputs": [],
   "source": [
    "@timeit(show_args=False)\n",
    "def get_lag_data_shift(df: pd.DataFrame) -> pd.DataFrame:\n",
    "    method_name = 'get_lag_data_shift'\n",
    "    print(f'-------------------------------------------')\n",
    "    print(f'{method_name} started')\n",
    "    df_c = df.copy(deep=True)\n",
    "    target_cols = get_all_concentration_and_aqi_columns(df_c)\n",
    "    lags = [7, 8, 9, 10, 11, 12,  13, 14, 21, 28]\n",
    "\n",
    "    for column in target_cols:\n",
    "        for lag in lags:\n",
    "            df_c[f'{column}_lag{lag}'] = df[column].shift(lag)\n",
    "\n",
    "    print(f'{method_name} finished')\n",
    "    return df_c\n",
    "\n",
    "@timeit(show_args=False)\n",
    "def get_lag_data_aqi(df: pd.DataFrame) -> pd.DataFrame:\n",
    "        method_name = 'get_lag_data_aqi'\n",
    "        print(f'-------------------------------------------')\n",
    "        print(f'{method_name} started')\n",
    "\n",
    "        target_cols = get_aqi_columns(df)\n",
    "        id_cols = []\n",
    "        date_col = 'DatetimeEnd'\n",
    "        filters = ['NoFilter', 'weekday', 'month']\n",
    "\n",
    "        windows = {\n",
    "            'NoFilter': ['3D', '5D', '7D', '14D', '28D'],\n",
    "            'weekday':  ['28D', '56D'],\n",
    "            'month':    ['90D']\n",
    "        }\n",
    "        lags = [7, 10, 14, 21, 28]\n",
    "        agg_methods = ['mean', 'median', lag_gen.percentile(10),  lag_gen.percentile(90)] #, pd.Series.skew, pd.Series.kurtosis]\n",
    "        ewm_params={\n",
    "            'NoFilter': [7, 14, 21, 28],\n",
    "            'weekday': [28, 56],\n",
    "            'month': [90],\n",
    "        }\n",
    "        df['NoFilter'] = 1\n",
    "\n",
    "        total = len(target_cols) * len(lags) * len(windows) * len(agg_methods) * len(filters)\n",
    "        print(f'New columns count: {total}')\n",
    "\n",
    "        df_lagged_features = lag_gen.generate_lagged_features(df\n",
    "                    , target_cols = target_cols\n",
    "                    , id_cols = id_cols\n",
    "                    , date_col = date_col\n",
    "                    , lags = lags\n",
    "                    , windows = windows\n",
    "                    , preagg_methods = ['mean']\n",
    "                    , agg_methods = agg_methods\n",
    "                    , dynamic_filters = filters\n",
    "                    , ewm_params=ewm_params\n",
    "                    )\n",
    "        df_lagged_features.set_index(date_col, inplace = True)\n",
    "\n",
    "        print(f'{method_name} finished')\n",
    "        return df_lagged_features\n",
    "\n",
    "@timeit(show_args=False)\n",
    "def get_lag_data_concentration(df: pd.DataFrame, method) -> pd.DataFrame:\n",
    "        method_name = 'get_lag_data_concentration'\n",
    "        print(f'-------------------------------------------')\n",
    "        print(f'{method_name} started for {method}')\n",
    "\n",
    "        target_cols = get_concentration_columns_by_method(df, method)\n",
    "        id_cols = []\n",
    "        date_col = 'DatetimeEnd'\n",
    "        filters = ['NoFilter', 'weekday', 'month']\n",
    "\n",
    "        windows = {\n",
    "            'NoFilter': ['3D', '5D', '7D', '14D', '28D'],\n",
    "            'weekday':  ['28D', '42D'],\n",
    "            'month':    ['7D', '14D', '28D']\n",
    "        }\n",
    "\n",
    "        lags = [7, 10, 14, 21, 28]\n",
    "        agg_methods = [method]\n",
    "        ewm_params={\n",
    "            'NoFilter': [7, 14, 21, 28],\n",
    "            'weekday': [7, 14, 21, 28],\n",
    "            'month': [7, 14, 21, 28],\n",
    "        }\n",
    "        df['NoFilter'] = 1\n",
    "\n",
    "        total = len(target_cols) * len(lags) * len(windows) * len(agg_methods) * len(filters)\n",
    "        print(f'New columns count: {total}')\n",
    "\n",
    "        df_lagged_features = lag_gen.generate_lagged_features(df\n",
    "                    , target_cols = target_cols\n",
    "                    , id_cols = id_cols\n",
    "                    , date_col = date_col\n",
    "                    , lags = lags\n",
    "                    , windows = windows\n",
    "                    , preagg_methods = ['mean']\n",
    "                    , agg_methods = agg_methods\n",
    "                    , dynamic_filters = filters\n",
    "                    , ewm_params=ewm_params\n",
    "                    )\n",
    "        df_lagged_features.set_index(date_col, inplace = True)\n",
    "\n",
    "        print(f'{method_name} finished')\n",
    "        return df_lagged_features\n",
    "\n",
    "def get_all_lag_data(df: pd.DataFrame) -> pd.DataFrame:\n",
    "    g_shift = get_lag_data_shift(df)\n",
    "    g_shift = get_lag_data_aqi(g_shift)\n",
    "    for method in CONCENTRATION_AGGREGATES_FOR_LAGS:\n",
    "        g_shift = get_lag_data_concentration(g_shift, method)\n",
    "    return g_shift"
   ],
   "metadata": {
    "collapsed": false
   }
  },
  {
   "cell_type": "code",
   "execution_count": 15,
   "outputs": [
    {
     "name": "stdout",
     "output_type": "stream",
     "text": [
      "-------------------------------------------\n",
      "get_lag_data_shift started\n",
      "get_lag_data_shift finished\n",
      "Function get_lag_data_shift Took 0.1708 seconds\n",
      "-------------------------------------------\n",
      "get_lag_data_aqi started\n",
      "New columns count: 900\n"
     ]
    },
    {
     "data": {
      "text/plain": "IntProgress(value=0, max=225)",
      "application/vnd.jupyter.widget-view+json": {
       "version_major": 2,
       "version_minor": 0,
       "model_id": "d95251277a1748719f6b85692994e94f"
      }
     },
     "metadata": {},
     "output_type": "display_data"
    },
    {
     "name": "stdout",
     "output_type": "stream",
     "text": [
      "get_lag_data_aqi finished\n",
      "Function get_lag_data_aqi Took 947.9074 seconds\n",
      "-------------------------------------------\n",
      "get_lag_data_concentration started for mean\n",
      "New columns count: 180\n"
     ]
    },
    {
     "data": {
      "text/plain": "IntProgress(value=0, max=90)",
      "application/vnd.jupyter.widget-view+json": {
       "version_major": 2,
       "version_minor": 0,
       "model_id": "5f57a4e3fd7540218f80a6405f1a9068"
      }
     },
     "metadata": {},
     "output_type": "display_data"
    },
    {
     "name": "stdout",
     "output_type": "stream",
     "text": [
      "get_lag_data_concentration finished\n",
      "Function get_lag_data_concentration Took 9.8658 seconds\n",
      "-------------------------------------------\n",
      "get_lag_data_concentration started for median\n",
      "New columns count: 180\n"
     ]
    },
    {
     "data": {
      "text/plain": "IntProgress(value=0, max=90)",
      "application/vnd.jupyter.widget-view+json": {
       "version_major": 2,
       "version_minor": 0,
       "model_id": "61be3c912310498abf8e606d57a7ac91"
      }
     },
     "metadata": {},
     "output_type": "display_data"
    },
    {
     "name": "stdout",
     "output_type": "stream",
     "text": [
      "get_lag_data_concentration finished\n",
      "Function get_lag_data_concentration Took 12.0582 seconds\n"
     ]
    },
    {
     "data": {
      "text/plain": "             AQI_O3  AQI_PM2.5  AQI_PM10  AQI_CO Pollutant  AQI  C_mean_O3  \\\nDatetimeEnd                                                                  \n2013-01-01       26         64        30       4     PM2.5   64  48.331818   \n2013-01-02       26         31        21       4     PM2.5   31  33.912500   \n2013-01-03       16         47        23       4     PM2.5   47  25.217391   \n2013-01-04       15         54        26       3     PM2.5   54  22.108333   \n2013-01-05       17         56        22       4     PM2.5   56  19.282609   \n...             ...        ...       ...     ...       ...  ...        ...   \n2022-10-24       28         17        12       4        O3   28  50.305000   \n2022-10-25       22         24        15       5     PM2.5   24  30.691667   \n2022-10-26       18         26        15       4     PM2.5   26  25.591304   \n2022-10-27       16         33        17       5     PM2.5   33  18.720833   \n2022-10-28       20         50        25       5     PM2.5   50  22.975000   \n\n             C_median_O3  C_min_O3  C_max_O3  ...  \\\nDatetimeEnd                                   ...   \n2013-01-01         51.10      23.5      59.9  ...   \n2013-01-02         31.90      16.5      54.2  ...   \n2013-01-03         25.10      15.2      37.1  ...   \n2013-01-04         20.65      10.4      44.3  ...   \n2013-01-05         22.80       2.5      38.8  ...   \n...                  ...       ...       ...  ...   \n2022-10-24         55.70      22.9      68.4  ...   \n2022-10-25         25.60      13.1      53.2  ...   \n2022-10-26         22.40      11.4      41.9  ...   \n2022-10-27         17.90       9.5      30.3  ...   \n2022-10-28         15.90       1.6      57.4  ...   \n\n             C_median_PM10_lag21d_win90D_ag:median_filt:month  \\\nDatetimeEnd                                                     \n2013-01-01                                                NaN   \n2013-01-02                                                NaN   \n2013-01-03                                                NaN   \n2013-01-04                                                NaN   \n2013-01-05                                                NaN   \n...                                                       ...   \n2022-10-24                                             16.750   \n2022-10-25                                             18.450   \n2022-10-26                                             16.750   \n2022-10-27                                             16.275   \n2022-10-28                                             16.750   \n\n             C_median_CO_lag21d_win90D_ag:median_filt:month  \\\nDatetimeEnd                                                   \n2013-01-01                                              NaN   \n2013-01-02                                              NaN   \n2013-01-03                                              NaN   \n2013-01-04                                              NaN   \n2013-01-05                                              NaN   \n...                                                     ...   \n2022-10-24                                           0.2825   \n2022-10-25                                           0.3425   \n2022-10-26                                           0.2885   \n2022-10-27                                           0.2855   \n2022-10-28                                           0.2885   \n\n             C_median_O3_lag28d_ewm90_filt:month  \\\nDatetimeEnd                                        \n2013-01-01                                   NaN   \n2013-01-02                                   NaN   \n2013-01-03                                   NaN   \n2013-01-04                                   NaN   \n2013-01-05                                   NaN   \n...                                          ...   \n2022-10-24                              33.91433   \n2022-10-25                              33.91433   \n2022-10-26                              33.91433   \n2022-10-27                              33.91433   \n2022-10-28                              33.91433   \n\n             C_median_PM2.5_lag28d_ewm90_filt:month  \\\nDatetimeEnd                                           \n2013-01-01                                      NaN   \n2013-01-02                                      NaN   \n2013-01-03                                      NaN   \n2013-01-04                                      NaN   \n2013-01-05                                      NaN   \n...                                             ...   \n2022-10-24                                10.084203   \n2022-10-25                                10.084203   \n2022-10-26                                10.084203   \n2022-10-27                                10.084203   \n2022-10-28                                10.084203   \n\n             C_median_PM10_lag28d_ewm90_filt:month  \\\nDatetimeEnd                                          \n2013-01-01                                     NaN   \n2013-01-02                                     NaN   \n2013-01-03                                     NaN   \n2013-01-04                                     NaN   \n2013-01-05                                     NaN   \n...                                            ...   \n2022-10-24                               18.371554   \n2022-10-25                               18.371554   \n2022-10-26                               18.371554   \n2022-10-27                               18.371554   \n2022-10-28                               18.371554   \n\n             C_median_CO_lag28d_ewm90_filt:month  \\\nDatetimeEnd                                        \n2013-01-01                                   NaN   \n2013-01-02                                   NaN   \n2013-01-03                                   NaN   \n2013-01-04                                   NaN   \n2013-01-05                                   NaN   \n...                                          ...   \n2022-10-24                              0.383856   \n2022-10-25                              0.383856   \n2022-10-26                              0.383856   \n2022-10-27                              0.383856   \n2022-10-28                              0.383856   \n\n             C_median_O3_lag28d_win90D_ag:median_filt:month  \\\nDatetimeEnd                                                   \n2013-01-01                                              NaN   \n2013-01-02                                              NaN   \n2013-01-03                                              NaN   \n2013-01-04                                              NaN   \n2013-01-05                                              NaN   \n...                                                     ...   \n2022-10-24                                              NaN   \n2022-10-25                                              NaN   \n2022-10-26                                              NaN   \n2022-10-27                                              NaN   \n2022-10-28                                              NaN   \n\n             C_median_PM2.5_lag28d_win90D_ag:median_filt:month  \\\nDatetimeEnd                                                      \n2013-01-01                                                 NaN   \n2013-01-02                                                 NaN   \n2013-01-03                                                 NaN   \n2013-01-04                                                 NaN   \n2013-01-05                                                 NaN   \n...                                                        ...   \n2022-10-24                                                 NaN   \n2022-10-25                                                 NaN   \n2022-10-26                                                 NaN   \n2022-10-27                                                 NaN   \n2022-10-28                                                 NaN   \n\n             C_median_PM10_lag28d_win90D_ag:median_filt:month  \\\nDatetimeEnd                                                     \n2013-01-01                                                NaN   \n2013-01-02                                                NaN   \n2013-01-03                                                NaN   \n2013-01-04                                                NaN   \n2013-01-05                                                NaN   \n...                                                       ...   \n2022-10-24                                                NaN   \n2022-10-25                                                NaN   \n2022-10-26                                                NaN   \n2022-10-27                                                NaN   \n2022-10-28                                                NaN   \n\n             C_median_CO_lag28d_win90D_ag:median_filt:month  \nDatetimeEnd                                                  \n2013-01-01                                              NaN  \n2013-01-02                                              NaN  \n2013-01-03                                              NaN  \n2013-01-04                                              NaN  \n2013-01-05                                              NaN  \n...                                                     ...  \n2022-10-24                                              NaN  \n2022-10-25                                              NaN  \n2022-10-26                                              NaN  \n2022-10-27                                              NaN  \n2022-10-28                                              NaN  \n\n[3588 rows x 1824 columns]",
      "text/html": "<div>\n<style scoped>\n    .dataframe tbody tr th:only-of-type {\n        vertical-align: middle;\n    }\n\n    .dataframe tbody tr th {\n        vertical-align: top;\n    }\n\n    .dataframe thead th {\n        text-align: right;\n    }\n</style>\n<table border=\"1\" class=\"dataframe\">\n  <thead>\n    <tr style=\"text-align: right;\">\n      <th></th>\n      <th>AQI_O3</th>\n      <th>AQI_PM2.5</th>\n      <th>AQI_PM10</th>\n      <th>AQI_CO</th>\n      <th>Pollutant</th>\n      <th>AQI</th>\n      <th>C_mean_O3</th>\n      <th>C_median_O3</th>\n      <th>C_min_O3</th>\n      <th>C_max_O3</th>\n      <th>...</th>\n      <th>C_median_PM10_lag21d_win90D_ag:median_filt:month</th>\n      <th>C_median_CO_lag21d_win90D_ag:median_filt:month</th>\n      <th>C_median_O3_lag28d_ewm90_filt:month</th>\n      <th>C_median_PM2.5_lag28d_ewm90_filt:month</th>\n      <th>C_median_PM10_lag28d_ewm90_filt:month</th>\n      <th>C_median_CO_lag28d_ewm90_filt:month</th>\n      <th>C_median_O3_lag28d_win90D_ag:median_filt:month</th>\n      <th>C_median_PM2.5_lag28d_win90D_ag:median_filt:month</th>\n      <th>C_median_PM10_lag28d_win90D_ag:median_filt:month</th>\n      <th>C_median_CO_lag28d_win90D_ag:median_filt:month</th>\n    </tr>\n    <tr>\n      <th>DatetimeEnd</th>\n      <th></th>\n      <th></th>\n      <th></th>\n      <th></th>\n      <th></th>\n      <th></th>\n      <th></th>\n      <th></th>\n      <th></th>\n      <th></th>\n      <th></th>\n      <th></th>\n      <th></th>\n      <th></th>\n      <th></th>\n      <th></th>\n      <th></th>\n      <th></th>\n      <th></th>\n      <th></th>\n      <th></th>\n    </tr>\n  </thead>\n  <tbody>\n    <tr>\n      <th>2013-01-01</th>\n      <td>26</td>\n      <td>64</td>\n      <td>30</td>\n      <td>4</td>\n      <td>PM2.5</td>\n      <td>64</td>\n      <td>48.331818</td>\n      <td>51.10</td>\n      <td>23.5</td>\n      <td>59.9</td>\n      <td>...</td>\n      <td>NaN</td>\n      <td>NaN</td>\n      <td>NaN</td>\n      <td>NaN</td>\n      <td>NaN</td>\n      <td>NaN</td>\n      <td>NaN</td>\n      <td>NaN</td>\n      <td>NaN</td>\n      <td>NaN</td>\n    </tr>\n    <tr>\n      <th>2013-01-02</th>\n      <td>26</td>\n      <td>31</td>\n      <td>21</td>\n      <td>4</td>\n      <td>PM2.5</td>\n      <td>31</td>\n      <td>33.912500</td>\n      <td>31.90</td>\n      <td>16.5</td>\n      <td>54.2</td>\n      <td>...</td>\n      <td>NaN</td>\n      <td>NaN</td>\n      <td>NaN</td>\n      <td>NaN</td>\n      <td>NaN</td>\n      <td>NaN</td>\n      <td>NaN</td>\n      <td>NaN</td>\n      <td>NaN</td>\n      <td>NaN</td>\n    </tr>\n    <tr>\n      <th>2013-01-03</th>\n      <td>16</td>\n      <td>47</td>\n      <td>23</td>\n      <td>4</td>\n      <td>PM2.5</td>\n      <td>47</td>\n      <td>25.217391</td>\n      <td>25.10</td>\n      <td>15.2</td>\n      <td>37.1</td>\n      <td>...</td>\n      <td>NaN</td>\n      <td>NaN</td>\n      <td>NaN</td>\n      <td>NaN</td>\n      <td>NaN</td>\n      <td>NaN</td>\n      <td>NaN</td>\n      <td>NaN</td>\n      <td>NaN</td>\n      <td>NaN</td>\n    </tr>\n    <tr>\n      <th>2013-01-04</th>\n      <td>15</td>\n      <td>54</td>\n      <td>26</td>\n      <td>3</td>\n      <td>PM2.5</td>\n      <td>54</td>\n      <td>22.108333</td>\n      <td>20.65</td>\n      <td>10.4</td>\n      <td>44.3</td>\n      <td>...</td>\n      <td>NaN</td>\n      <td>NaN</td>\n      <td>NaN</td>\n      <td>NaN</td>\n      <td>NaN</td>\n      <td>NaN</td>\n      <td>NaN</td>\n      <td>NaN</td>\n      <td>NaN</td>\n      <td>NaN</td>\n    </tr>\n    <tr>\n      <th>2013-01-05</th>\n      <td>17</td>\n      <td>56</td>\n      <td>22</td>\n      <td>4</td>\n      <td>PM2.5</td>\n      <td>56</td>\n      <td>19.282609</td>\n      <td>22.80</td>\n      <td>2.5</td>\n      <td>38.8</td>\n      <td>...</td>\n      <td>NaN</td>\n      <td>NaN</td>\n      <td>NaN</td>\n      <td>NaN</td>\n      <td>NaN</td>\n      <td>NaN</td>\n      <td>NaN</td>\n      <td>NaN</td>\n      <td>NaN</td>\n      <td>NaN</td>\n    </tr>\n    <tr>\n      <th>...</th>\n      <td>...</td>\n      <td>...</td>\n      <td>...</td>\n      <td>...</td>\n      <td>...</td>\n      <td>...</td>\n      <td>...</td>\n      <td>...</td>\n      <td>...</td>\n      <td>...</td>\n      <td>...</td>\n      <td>...</td>\n      <td>...</td>\n      <td>...</td>\n      <td>...</td>\n      <td>...</td>\n      <td>...</td>\n      <td>...</td>\n      <td>...</td>\n      <td>...</td>\n      <td>...</td>\n    </tr>\n    <tr>\n      <th>2022-10-24</th>\n      <td>28</td>\n      <td>17</td>\n      <td>12</td>\n      <td>4</td>\n      <td>O3</td>\n      <td>28</td>\n      <td>50.305000</td>\n      <td>55.70</td>\n      <td>22.9</td>\n      <td>68.4</td>\n      <td>...</td>\n      <td>16.750</td>\n      <td>0.2825</td>\n      <td>33.91433</td>\n      <td>10.084203</td>\n      <td>18.371554</td>\n      <td>0.383856</td>\n      <td>NaN</td>\n      <td>NaN</td>\n      <td>NaN</td>\n      <td>NaN</td>\n    </tr>\n    <tr>\n      <th>2022-10-25</th>\n      <td>22</td>\n      <td>24</td>\n      <td>15</td>\n      <td>5</td>\n      <td>PM2.5</td>\n      <td>24</td>\n      <td>30.691667</td>\n      <td>25.60</td>\n      <td>13.1</td>\n      <td>53.2</td>\n      <td>...</td>\n      <td>18.450</td>\n      <td>0.3425</td>\n      <td>33.91433</td>\n      <td>10.084203</td>\n      <td>18.371554</td>\n      <td>0.383856</td>\n      <td>NaN</td>\n      <td>NaN</td>\n      <td>NaN</td>\n      <td>NaN</td>\n    </tr>\n    <tr>\n      <th>2022-10-26</th>\n      <td>18</td>\n      <td>26</td>\n      <td>15</td>\n      <td>4</td>\n      <td>PM2.5</td>\n      <td>26</td>\n      <td>25.591304</td>\n      <td>22.40</td>\n      <td>11.4</td>\n      <td>41.9</td>\n      <td>...</td>\n      <td>16.750</td>\n      <td>0.2885</td>\n      <td>33.91433</td>\n      <td>10.084203</td>\n      <td>18.371554</td>\n      <td>0.383856</td>\n      <td>NaN</td>\n      <td>NaN</td>\n      <td>NaN</td>\n      <td>NaN</td>\n    </tr>\n    <tr>\n      <th>2022-10-27</th>\n      <td>16</td>\n      <td>33</td>\n      <td>17</td>\n      <td>5</td>\n      <td>PM2.5</td>\n      <td>33</td>\n      <td>18.720833</td>\n      <td>17.90</td>\n      <td>9.5</td>\n      <td>30.3</td>\n      <td>...</td>\n      <td>16.275</td>\n      <td>0.2855</td>\n      <td>33.91433</td>\n      <td>10.084203</td>\n      <td>18.371554</td>\n      <td>0.383856</td>\n      <td>NaN</td>\n      <td>NaN</td>\n      <td>NaN</td>\n      <td>NaN</td>\n    </tr>\n    <tr>\n      <th>2022-10-28</th>\n      <td>20</td>\n      <td>50</td>\n      <td>25</td>\n      <td>5</td>\n      <td>PM2.5</td>\n      <td>50</td>\n      <td>22.975000</td>\n      <td>15.90</td>\n      <td>1.6</td>\n      <td>57.4</td>\n      <td>...</td>\n      <td>16.750</td>\n      <td>0.2885</td>\n      <td>33.91433</td>\n      <td>10.084203</td>\n      <td>18.371554</td>\n      <td>0.383856</td>\n      <td>NaN</td>\n      <td>NaN</td>\n      <td>NaN</td>\n      <td>NaN</td>\n    </tr>\n  </tbody>\n</table>\n<p>3588 rows × 1824 columns</p>\n</div>"
     },
     "execution_count": 15,
     "metadata": {},
     "output_type": "execute_result"
    }
   ],
   "source": [
    "g1 = get_all_lag_data(g)\n",
    "#save_calc(g1, 'aqi_enrich.csv')\n",
    "g1"
   ],
   "metadata": {
    "collapsed": false
   }
  },
  {
   "cell_type": "code",
   "execution_count": 24,
   "outputs": [
    {
     "name": "stdout",
     "output_type": "stream",
     "text": [
      "-------------------------------------------\n",
      "get_lag_data_pollutant started\n",
      "New columns count: 45\n"
     ]
    },
    {
     "data": {
      "text/plain": "IntProgress(value=0, max=45)",
      "application/vnd.jupyter.widget-view+json": {
       "version_major": 2,
       "version_minor": 0,
       "model_id": "243c879e23c64c35812dc29e6bc5685e"
      }
     },
     "metadata": {},
     "output_type": "display_data"
    },
    {
     "ename": "AttributeError",
     "evalue": "'mode' is not a valid function for 'DataFrameGroupBy' object",
     "output_type": "error",
     "traceback": [
      "\u001B[0;31m---------------------------------------------------------------------------\u001B[0m",
      "\u001B[0;31mAttributeError\u001B[0m                            Traceback (most recent call last)",
      "Cell \u001B[0;32mIn [24], line 1\u001B[0m\n\u001B[0;32m----> 1\u001B[0m gm \u001B[38;5;241m=\u001B[39m \u001B[43mget_lag_data_pollutant\u001B[49m\u001B[43m(\u001B[49m\u001B[43mg\u001B[49m\u001B[43m)\u001B[49m\n",
      "Cell \u001B[0;32mIn [9], line 5\u001B[0m, in \u001B[0;36mtimeit.<locals>.timeit_func.<locals>.timeit_wrapper\u001B[0;34m(*args, **kwargs)\u001B[0m\n\u001B[1;32m      3\u001B[0m \u001B[38;5;28;01mdef\u001B[39;00m \u001B[38;5;21mtimeit_wrapper\u001B[39m(\u001B[38;5;241m*\u001B[39margs, \u001B[38;5;241m*\u001B[39m\u001B[38;5;241m*\u001B[39mkwargs):\n\u001B[1;32m      4\u001B[0m     start_time \u001B[38;5;241m=\u001B[39m time\u001B[38;5;241m.\u001B[39mperf_counter()\n\u001B[0;32m----> 5\u001B[0m     result \u001B[38;5;241m=\u001B[39m \u001B[43mfunc\u001B[49m\u001B[43m(\u001B[49m\u001B[38;5;241;43m*\u001B[39;49m\u001B[43margs\u001B[49m\u001B[43m,\u001B[49m\u001B[43m \u001B[49m\u001B[38;5;241;43m*\u001B[39;49m\u001B[38;5;241;43m*\u001B[39;49m\u001B[43mkwargs\u001B[49m\u001B[43m)\u001B[49m\n\u001B[1;32m      6\u001B[0m     end_time \u001B[38;5;241m=\u001B[39m time\u001B[38;5;241m.\u001B[39mperf_counter()\n\u001B[1;32m      7\u001B[0m     total_time \u001B[38;5;241m=\u001B[39m end_time \u001B[38;5;241m-\u001B[39m start_time\n",
      "Cell \u001B[0;32mIn [23], line 86\u001B[0m, in \u001B[0;36mget_lag_data_pollutant\u001B[0;34m(df)\u001B[0m\n\u001B[1;32m     83\u001B[0m total \u001B[38;5;241m=\u001B[39m \u001B[38;5;28mlen\u001B[39m(target_cols) \u001B[38;5;241m*\u001B[39m \u001B[38;5;28mlen\u001B[39m(lags) \u001B[38;5;241m*\u001B[39m \u001B[38;5;28mlen\u001B[39m(windows) \u001B[38;5;241m*\u001B[39m \u001B[38;5;28mlen\u001B[39m(agg_methods) \u001B[38;5;241m*\u001B[39m \u001B[38;5;28mlen\u001B[39m(filters)\n\u001B[1;32m     84\u001B[0m \u001B[38;5;28mprint\u001B[39m(\u001B[38;5;124mf\u001B[39m\u001B[38;5;124m'\u001B[39m\u001B[38;5;124mNew columns count: \u001B[39m\u001B[38;5;132;01m{\u001B[39;00mtotal\u001B[38;5;132;01m}\u001B[39;00m\u001B[38;5;124m'\u001B[39m)\n\u001B[0;32m---> 86\u001B[0m df_lagged_features \u001B[38;5;241m=\u001B[39m \u001B[43mlag_gen\u001B[49m\u001B[38;5;241;43m.\u001B[39;49m\u001B[43mgenerate_lagged_features\u001B[49m\u001B[43m(\u001B[49m\u001B[43mdf\u001B[49m\n\u001B[1;32m     87\u001B[0m \u001B[43m            \u001B[49m\u001B[43m,\u001B[49m\u001B[43m \u001B[49m\u001B[43mtarget_cols\u001B[49m\u001B[43m \u001B[49m\u001B[38;5;241;43m=\u001B[39;49m\u001B[43m \u001B[49m\u001B[43mtarget_cols\u001B[49m\n\u001B[1;32m     88\u001B[0m \u001B[43m            \u001B[49m\u001B[43m,\u001B[49m\u001B[43m \u001B[49m\u001B[43mid_cols\u001B[49m\u001B[43m \u001B[49m\u001B[38;5;241;43m=\u001B[39;49m\u001B[43m \u001B[49m\u001B[43mid_cols\u001B[49m\n\u001B[1;32m     89\u001B[0m \u001B[43m            \u001B[49m\u001B[43m,\u001B[49m\u001B[43m \u001B[49m\u001B[43mdate_col\u001B[49m\u001B[43m \u001B[49m\u001B[38;5;241;43m=\u001B[39;49m\u001B[43m \u001B[49m\u001B[43mdate_col\u001B[49m\n\u001B[1;32m     90\u001B[0m \u001B[43m            \u001B[49m\u001B[43m,\u001B[49m\u001B[43m \u001B[49m\u001B[43mlags\u001B[49m\u001B[43m \u001B[49m\u001B[38;5;241;43m=\u001B[39;49m\u001B[43m \u001B[49m\u001B[43mlags\u001B[49m\n\u001B[1;32m     91\u001B[0m \u001B[43m            \u001B[49m\u001B[43m,\u001B[49m\u001B[43m \u001B[49m\u001B[43mwindows\u001B[49m\u001B[43m \u001B[49m\u001B[38;5;241;43m=\u001B[39;49m\u001B[43m \u001B[49m\u001B[43mwindows\u001B[49m\n\u001B[1;32m     92\u001B[0m \u001B[43m            \u001B[49m\u001B[43m,\u001B[49m\u001B[43m \u001B[49m\u001B[43mpreagg_methods\u001B[49m\u001B[43m \u001B[49m\u001B[38;5;241;43m=\u001B[39;49m\u001B[43m \u001B[49m\u001B[43m[\u001B[49m\u001B[38;5;124;43m'\u001B[39;49m\u001B[38;5;124;43mmode\u001B[39;49m\u001B[38;5;124;43m'\u001B[39;49m\u001B[43m]\u001B[49m\n\u001B[1;32m     93\u001B[0m \u001B[43m            \u001B[49m\u001B[43m,\u001B[49m\u001B[43m \u001B[49m\u001B[43magg_methods\u001B[49m\u001B[43m \u001B[49m\u001B[38;5;241;43m=\u001B[39;49m\u001B[43m \u001B[49m\u001B[43magg_methods\u001B[49m\n\u001B[1;32m     94\u001B[0m \u001B[43m            \u001B[49m\u001B[43m,\u001B[49m\u001B[43m \u001B[49m\u001B[43mdynamic_filters\u001B[49m\u001B[43m \u001B[49m\u001B[38;5;241;43m=\u001B[39;49m\u001B[43m \u001B[49m\u001B[43mfilters\u001B[49m\n\u001B[1;32m     95\u001B[0m \u001B[43m            \u001B[49m\u001B[43m,\u001B[49m\u001B[43m \u001B[49m\u001B[43mewm_params\u001B[49m\u001B[38;5;241;43m=\u001B[39;49m\u001B[43mewm_params\u001B[49m\n\u001B[1;32m     96\u001B[0m \u001B[43m            \u001B[49m\u001B[43m)\u001B[49m\n\u001B[1;32m     97\u001B[0m df_lagged_features\u001B[38;5;241m.\u001B[39mset_index(date_col, inplace \u001B[38;5;241m=\u001B[39m \u001B[38;5;28;01mTrue\u001B[39;00m)\n\u001B[1;32m     99\u001B[0m \u001B[38;5;28mprint\u001B[39m(\u001B[38;5;124mf\u001B[39m\u001B[38;5;124m'\u001B[39m\u001B[38;5;132;01m{\u001B[39;00mmethod_name\u001B[38;5;132;01m}\u001B[39;00m\u001B[38;5;124m finished\u001B[39m\u001B[38;5;124m'\u001B[39m)\n",
      "File \u001B[0;32m~/work/projects/air_pollution_predict/airpollpredictor/eda/ts_lag_features_generator.py:118\u001B[0m, in \u001B[0;36mgenerate_lagged_features\u001B[0;34m(data, target_cols, id_cols, date_col, lags, windows, preagg_methods, agg_methods, dynamic_filters, ewm_params)\u001B[0m\n\u001B[1;32m    115\u001B[0m preagg_str \u001B[38;5;241m=\u001B[39m \u001B[38;5;124mf\u001B[39m\u001B[38;5;124m'\u001B[39m\u001B[38;5;124mpreag:\u001B[39m\u001B[38;5;132;01m{\u001B[39;00mpreagg\u001B[38;5;132;01m}\u001B[39;00m\u001B[38;5;124m_\u001B[39m\u001B[38;5;124m'\u001B[39m \u001B[38;5;28;01mif\u001B[39;00m preagg_methods_count \u001B[38;5;241m>\u001B[39m \u001B[38;5;241m1\u001B[39m \u001B[38;5;28;01melse\u001B[39;00m \u001B[38;5;124m'\u001B[39m\u001B[38;5;124m'\u001B[39m\n\u001B[1;32m    116\u001B[0m filter_col_str \u001B[38;5;241m=\u001B[39m \u001B[38;5;124mf\u001B[39m\u001B[38;5;124m'\u001B[39m\u001B[38;5;124mfilt:\u001B[39m\u001B[38;5;132;01m{\u001B[39;00mfilter_col\u001B[38;5;132;01m}\u001B[39;00m\u001B[38;5;124m'\u001B[39m \u001B[38;5;28;01mif\u001B[39;00m filter_count \u001B[38;5;241m>\u001B[39m \u001B[38;5;241m1\u001B[39m \u001B[38;5;28;01melse\u001B[39;00m \u001B[38;5;124m'\u001B[39m\u001B[38;5;124m'\u001B[39m\n\u001B[0;32m--> 118\u001B[0m data_preag_filled \u001B[38;5;241m=\u001B[39m \u001B[43mcalc_preag_fill\u001B[49m\u001B[43m(\u001B[49m\u001B[43mdata\u001B[49m\u001B[43m,\u001B[49m\u001B[43m \u001B[49m\u001B[43mgroup_col\u001B[49m\u001B[43m,\u001B[49m\u001B[43m \u001B[49m\u001B[43mdate_col\u001B[49m\u001B[43m,\u001B[49m\u001B[43m \u001B[49m\u001B[43mtarget_cols\u001B[49m\u001B[43m,\u001B[49m\u001B[43m \u001B[49m\u001B[43mpreagg\u001B[49m\u001B[43m)\u001B[49m\n\u001B[1;32m    120\u001B[0m \u001B[38;5;66;03m## add ewm features\u001B[39;00m\n\u001B[1;32m    121\u001B[0m \u001B[38;5;28;01mfor\u001B[39;00m alpha \u001B[38;5;129;01min\u001B[39;00m ewm_params\u001B[38;5;241m.\u001B[39mget(filter_col, []):\n",
      "File \u001B[0;32m~/work/projects/air_pollution_predict/airpollpredictor/eda/ts_lag_features_generator.py:33\u001B[0m, in \u001B[0;36mcalc_preag_fill\u001B[0;34m(data, group_col, date_col, target_cols, preagg_method)\u001B[0m\n\u001B[1;32m     31\u001B[0m \u001B[38;5;28;01mdef\u001B[39;00m \u001B[38;5;21mcalc_preag_fill\u001B[39m(data, group_col, date_col, target_cols, preagg_method):\n\u001B[1;32m     32\u001B[0m     \u001B[38;5;66;03m## calc preaggregation\u001B[39;00m\n\u001B[0;32m---> 33\u001B[0m     data_preag \u001B[38;5;241m=\u001B[39m \u001B[43mdata\u001B[49m\u001B[38;5;241;43m.\u001B[39;49m\u001B[43mgroupby\u001B[49m\u001B[43m(\u001B[49m\u001B[43mgroup_col\u001B[49m\u001B[43m)\u001B[49m\u001B[38;5;241;43m.\u001B[39;49m\u001B[43magg\u001B[49m\u001B[43m(\u001B[49m\n\u001B[1;32m     34\u001B[0m \u001B[43m        \u001B[49m\u001B[43mpreagg_method\u001B[49m\u001B[43m)\u001B[49m[target_cols]\u001B[38;5;241m.\u001B[39mreset_index()\n\u001B[1;32m     36\u001B[0m     \u001B[38;5;66;03m## fill missing dates\u001B[39;00m\n\u001B[1;32m     37\u001B[0m     data_preag_filled \u001B[38;5;241m=\u001B[39m data_preag\u001B[38;5;241m.\u001B[39mgroupby(group_col[:\u001B[38;5;241m-\u001B[39m\u001B[38;5;241m1\u001B[39m])\u001B[38;5;241m.\u001B[39mapply(\n\u001B[1;32m     38\u001B[0m         fill_missing_dates, date_col\u001B[38;5;241m=\u001B[39mdate_col)\u001B[38;5;241m.\u001B[39mdrop(group_col[:\u001B[38;5;241m-\u001B[39m\u001B[38;5;241m1\u001B[39m],\n\u001B[1;32m     39\u001B[0m                                                     axis\u001B[38;5;241m=\u001B[39m\u001B[38;5;241m1\u001B[39m)\u001B[38;5;241m.\u001B[39mreset_index()\n",
      "File \u001B[0;32m~/work/projects/hse.air/AirPollutionDataLoader/venv/lib/python3.10/site-packages/pandas/core/groupby/generic.py:894\u001B[0m, in \u001B[0;36mDataFrameGroupBy.aggregate\u001B[0;34m(self, func, engine, engine_kwargs, *args, **kwargs)\u001B[0m\n\u001B[1;32m    891\u001B[0m func \u001B[38;5;241m=\u001B[39m maybe_mangle_lambdas(func)\n\u001B[1;32m    893\u001B[0m op \u001B[38;5;241m=\u001B[39m GroupByApply(\u001B[38;5;28mself\u001B[39m, func, args, kwargs)\n\u001B[0;32m--> 894\u001B[0m result \u001B[38;5;241m=\u001B[39m \u001B[43mop\u001B[49m\u001B[38;5;241;43m.\u001B[39;49m\u001B[43magg\u001B[49m\u001B[43m(\u001B[49m\u001B[43m)\u001B[49m\n\u001B[1;32m    895\u001B[0m \u001B[38;5;28;01mif\u001B[39;00m \u001B[38;5;129;01mnot\u001B[39;00m is_dict_like(func) \u001B[38;5;129;01mand\u001B[39;00m result \u001B[38;5;129;01mis\u001B[39;00m \u001B[38;5;129;01mnot\u001B[39;00m \u001B[38;5;28;01mNone\u001B[39;00m:\n\u001B[1;32m    896\u001B[0m     \u001B[38;5;28;01mreturn\u001B[39;00m result\n",
      "File \u001B[0;32m~/work/projects/hse.air/AirPollutionDataLoader/venv/lib/python3.10/site-packages/pandas/core/apply.py:166\u001B[0m, in \u001B[0;36mApply.agg\u001B[0;34m(self)\u001B[0m\n\u001B[1;32m    163\u001B[0m kwargs \u001B[38;5;241m=\u001B[39m \u001B[38;5;28mself\u001B[39m\u001B[38;5;241m.\u001B[39mkwargs\n\u001B[1;32m    165\u001B[0m \u001B[38;5;28;01mif\u001B[39;00m \u001B[38;5;28misinstance\u001B[39m(arg, \u001B[38;5;28mstr\u001B[39m):\n\u001B[0;32m--> 166\u001B[0m     \u001B[38;5;28;01mreturn\u001B[39;00m \u001B[38;5;28;43mself\u001B[39;49m\u001B[38;5;241;43m.\u001B[39;49m\u001B[43mapply_str\u001B[49m\u001B[43m(\u001B[49m\u001B[43m)\u001B[49m\n\u001B[1;32m    168\u001B[0m \u001B[38;5;28;01mif\u001B[39;00m is_dict_like(arg):\n\u001B[1;32m    169\u001B[0m     \u001B[38;5;28;01mreturn\u001B[39;00m \u001B[38;5;28mself\u001B[39m\u001B[38;5;241m.\u001B[39magg_dict_like()\n",
      "File \u001B[0;32m~/work/projects/hse.air/AirPollutionDataLoader/venv/lib/python3.10/site-packages/pandas/core/apply.py:562\u001B[0m, in \u001B[0;36mApply.apply_str\u001B[0;34m(self)\u001B[0m\n\u001B[1;32m    560\u001B[0m     \u001B[38;5;28;01melif\u001B[39;00m \u001B[38;5;28mself\u001B[39m\u001B[38;5;241m.\u001B[39maxis \u001B[38;5;241m!=\u001B[39m \u001B[38;5;241m0\u001B[39m:\n\u001B[1;32m    561\u001B[0m         \u001B[38;5;28;01mraise\u001B[39;00m \u001B[38;5;167;01mValueError\u001B[39;00m(\u001B[38;5;124mf\u001B[39m\u001B[38;5;124m\"\u001B[39m\u001B[38;5;124mOperation \u001B[39m\u001B[38;5;132;01m{\u001B[39;00mf\u001B[38;5;132;01m}\u001B[39;00m\u001B[38;5;124m does not support axis=1\u001B[39m\u001B[38;5;124m\"\u001B[39m)\n\u001B[0;32m--> 562\u001B[0m \u001B[38;5;28;01mreturn\u001B[39;00m \u001B[38;5;28;43mself\u001B[39;49m\u001B[38;5;241;43m.\u001B[39;49m\u001B[43m_try_aggregate_string_function\u001B[49m\u001B[43m(\u001B[49m\u001B[43mobj\u001B[49m\u001B[43m,\u001B[49m\u001B[43m \u001B[49m\u001B[43mf\u001B[49m\u001B[43m,\u001B[49m\u001B[43m \u001B[49m\u001B[38;5;241;43m*\u001B[39;49m\u001B[38;5;28;43mself\u001B[39;49m\u001B[38;5;241;43m.\u001B[39;49m\u001B[43margs\u001B[49m\u001B[43m,\u001B[49m\u001B[43m \u001B[49m\u001B[38;5;241;43m*\u001B[39;49m\u001B[38;5;241;43m*\u001B[39;49m\u001B[38;5;28;43mself\u001B[39;49m\u001B[38;5;241;43m.\u001B[39;49m\u001B[43mkwargs\u001B[49m\u001B[43m)\u001B[49m\n",
      "File \u001B[0;32m~/work/projects/hse.air/AirPollutionDataLoader/venv/lib/python3.10/site-packages/pandas/core/apply.py:644\u001B[0m, in \u001B[0;36mApply._try_aggregate_string_function\u001B[0;34m(self, obj, arg, *args, **kwargs)\u001B[0m\n\u001B[1;32m    640\u001B[0m \u001B[38;5;28;01mif\u001B[39;00m f \u001B[38;5;129;01mis\u001B[39;00m \u001B[38;5;129;01mnot\u001B[39;00m \u001B[38;5;28;01mNone\u001B[39;00m \u001B[38;5;129;01mand\u001B[39;00m \u001B[38;5;28mhasattr\u001B[39m(obj, \u001B[38;5;124m\"\u001B[39m\u001B[38;5;124m__array__\u001B[39m\u001B[38;5;124m\"\u001B[39m):\n\u001B[1;32m    641\u001B[0m     \u001B[38;5;66;03m# in particular exclude Window\u001B[39;00m\n\u001B[1;32m    642\u001B[0m     \u001B[38;5;28;01mreturn\u001B[39;00m f(obj, \u001B[38;5;241m*\u001B[39margs, \u001B[38;5;241m*\u001B[39m\u001B[38;5;241m*\u001B[39mkwargs)\n\u001B[0;32m--> 644\u001B[0m \u001B[38;5;28;01mraise\u001B[39;00m \u001B[38;5;167;01mAttributeError\u001B[39;00m(\n\u001B[1;32m    645\u001B[0m     \u001B[38;5;124mf\u001B[39m\u001B[38;5;124m\"\u001B[39m\u001B[38;5;124m'\u001B[39m\u001B[38;5;132;01m{\u001B[39;00marg\u001B[38;5;132;01m}\u001B[39;00m\u001B[38;5;124m'\u001B[39m\u001B[38;5;124m is not a valid function for \u001B[39m\u001B[38;5;124m'\u001B[39m\u001B[38;5;132;01m{\u001B[39;00m\u001B[38;5;28mtype\u001B[39m(obj)\u001B[38;5;241m.\u001B[39m\u001B[38;5;18m__name__\u001B[39m\u001B[38;5;132;01m}\u001B[39;00m\u001B[38;5;124m'\u001B[39m\u001B[38;5;124m object\u001B[39m\u001B[38;5;124m\"\u001B[39m\n\u001B[1;32m    646\u001B[0m )\n",
      "\u001B[0;31mAttributeError\u001B[0m: 'mode' is not a valid function for 'DataFrameGroupBy' object"
     ]
    }
   ],
   "source": [
    "gm = get_lag_data_pollutant(g)"
   ],
   "metadata": {
    "collapsed": false
   }
  }
 ],
 "metadata": {
  "kernelspec": {
   "display_name": "Python 3",
   "language": "python",
   "name": "python3"
  },
  "language_info": {
   "codemirror_mode": {
    "name": "ipython",
    "version": 2
   },
   "file_extension": ".py",
   "mimetype": "text/x-python",
   "name": "python",
   "nbconvert_exporter": "python",
   "pygments_lexer": "ipython2",
   "version": "2.7.6"
  }
 },
 "nbformat": 4,
 "nbformat_minor": 0
}
