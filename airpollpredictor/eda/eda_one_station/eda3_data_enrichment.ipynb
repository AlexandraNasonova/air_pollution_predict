{
 "cells": [
  {
   "cell_type": "code",
   "execution_count": 88,
   "outputs": [],
   "source": [
    "import os\n",
    "import pandas as pd\n",
    "import features_generator.ts_lag_features_generator as lag_gen\n",
    "import features_generator.ts_date_features_generator as date_gen\n",
    "import aqi_calculations.aqi_calculator as aqc\n",
    "import warnings\n",
    "import time\n",
    "warnings.filterwarnings('ignore')"
   ],
   "metadata": {
    "collapsed": false
   }
  },
  {
   "cell_type": "code",
   "execution_count": 89,
   "outputs": [],
   "source": [
    "CSV_EDA_CLEANUP_RES_PATH = '../../datasources/eda_cleanup_res/'\n",
    "CSV_AQI_ENRICH_PATH = '../../datasources/aqi_enrich/'\n",
    "POL_CODES = [7, 6001, 5, 8]\n",
    "POL_NAMES = {7: \"O3\", 6001: \"PM25\", 5: \"PM10\", 8: \"NO2\"}\n",
    "POL_NAMES_REVERSE = {\"O3\": 7, \"PM25\": 6001, \"PM10\": 5, \"NO2\": 8}\n",
    "POL_MEASURES = {7: \"µg/m3\", 6001: \"µg/m3\", 5: \"µg/m3\", 10: \"mg/m3\", 1: \"µg/m3\", 8: \"µg/m3\"}"
   ],
   "metadata": {
    "collapsed": false
   }
  },
  {
   "cell_type": "code",
   "execution_count": 90,
   "outputs": [],
   "source": [
    "FORECAST_DURATION_DAYS = 7\n",
    "TS_DATE_FROM = '2015-01-01'\n",
    "TS_DATE_END = '2023-02-12'\n",
    "\n",
    "#from datetime import timedelta, datetime\n",
    "#FC_DATE_END = (datetime.strptime(TS_DATE_END, '%Y-%m-%d').date() + timedelta(days=FORECAST_DURATION_DAYS)).strftime('%Y-%m-%d')\n",
    "\n",
    "CONCENTRATION_AGGREGATES = ['mean', 'median', 'min', 'max']\n",
    "CONCENTRATION_AGGREGATES_FOR_LAGS = ['mean', 'median']"
   ],
   "metadata": {
    "collapsed": false
   }
  },
  {
   "cell_type": "code",
   "execution_count": 91,
   "outputs": [],
   "source": [
    "def save_calc(df: pd.DataFrame, file_name: str):\n",
    "\tfile_path = os.path.join(CSV_AQI_ENRICH_PATH, file_name)\n",
    "\tdf.to_csv(file_path)"
   ],
   "metadata": {
    "collapsed": false
   }
  },
  {
   "cell_type": "code",
   "execution_count": 92,
   "outputs": [],
   "source": [
    "def timeit(show_args):\n",
    "    def timeit_func(func):\n",
    "        def timeit_wrapper(*args, **kwargs):\n",
    "            start_time = time.perf_counter()\n",
    "            result = func(*args, **kwargs)\n",
    "            end_time = time.perf_counter()\n",
    "            total_time = end_time - start_time\n",
    "            if show_args:\n",
    "                print(f'Function {func.__name__}{args} {kwargs} Took {total_time:.4f} seconds')\n",
    "            else:\n",
    "                print(f'Function {func.__name__} Took {total_time:.4f} seconds')\n",
    "            return result\n",
    "        return timeit_wrapper\n",
    "    return timeit_func"
   ],
   "metadata": {
    "collapsed": false
   }
  },
  {
   "cell_type": "markdown",
   "source": [
    "## Расчет по дням: индексов качества воздуха, статистик концентраций, объединение данных"
   ],
   "metadata": {
    "collapsed": false
   }
  },
  {
   "cell_type": "code",
   "execution_count": 93,
   "outputs": [],
   "source": [
    "def read_dataframe_for_pollutant(pollutant_id: int):\n",
    "    df_p = pd.read_csv(os.path.join(CSV_EDA_CLEANUP_RES_PATH, f'{pollutant_id}.csv'), parse_dates=True, index_col='DatetimeEnd')\n",
    "    #df_p.drop(columns=['Unnamed: 0'], inplace=True)\n",
    "    return df_p\n",
    "\n",
    "def merge_column_by_index(pollutant_id: int, df_gen: pd.DataFrame, df_to_merge: pd.DataFrame, source_column: str, new_column=None) -> pd.DataFrame:\n",
    "    if new_column is None:\n",
    "        new_column=source_column\n",
    "\n",
    "    df_gen = df_gen.merge(df_to_merge[source_column], left_index=True, right_index=True)\n",
    "    df_gen = df_gen.rename(columns={source_column: f'{new_column}_{POL_NAMES[pollutant_id]}'})\n",
    "    return df_gen\n",
    "\n",
    "def calc_aqi_per_pollutant_and_merge_pollutants(g: pd.DataFrame) -> pd.DataFrame:\n",
    "        for pollutant_id in POL_CODES:\n",
    "            df_p = read_dataframe_for_pollutant(pollutant_id)\n",
    "            measure = POL_MEASURES[pollutant_id]\n",
    "            g_p = aqc.calc_aqi_for_day_pd(pollutant_id, df_p, measure).tz_localize(None)\n",
    "            g = merge_column_by_index(pollutant_id, g, g_p, 'AQI')\n",
    "        return g\n",
    "\n",
    "def calc_mean_concentration_and_merge_pollutants(g: pd.DataFrame) -> pd.DataFrame:\n",
    "    for pollutant_id in POL_CODES:\n",
    "        df_p = read_dataframe_for_pollutant(pollutant_id)\n",
    "        for method in CONCENTRATION_AGGREGATES:\n",
    "            g_p = df_p['Concentration'].groupby(pd.Grouper(freq=\"24H\")).agg(method).tz_localize(None).to_frame()\n",
    "            g = merge_column_by_index(pollutant_id, g, g_p, 'Concentration', f'C_{method if type(method) is str else method.__name__}')\n",
    "    return g\n",
    "\n",
    "def calc_aqi_and_mean_concentration_and_merge(ts_date_from, fs_date_end) -> pd.DataFrame:\n",
    "    g = pd.DataFrame(index=pd.date_range(start=ts_date_from, end=fs_date_end, freq='D', inclusive=\"both\", name='DatetimeEnd'))\n",
    "    g = calc_aqi_per_pollutant_and_merge_pollutants(g)\n",
    "    #g['Pollutant'] = g.idxmax(axis=1).apply(lambda x: x[x.index('_') + 1:])\n",
    "    g['AQI'] = g.max(axis=1)\n",
    "    g['Pollutant'] = g.idxmax(axis=1).apply(lambda x: POL_NAMES_REVERSE[x[x.index('_') + 1:]])\n",
    "    g = calc_mean_concentration_and_merge_pollutants(g)\n",
    "    return g"
   ],
   "metadata": {
    "collapsed": false
   }
  },
  {
   "cell_type": "code",
   "execution_count": 94,
   "outputs": [
    {
     "data": {
      "text/plain": "             AQI_O3  AQI_PM25  AQI_PM10  AQI_NO2  Pollutant   AQI  C_mean_O3  \\\nDatetimeEnd                                                                    \n2015-01-01       17       128        39       26       6001  6001  25.610435   \n2015-01-02       26        46        20       15       6001  6001  47.734348   \n2015-01-03       22        46        19       38       6001  6001  23.824167   \n2015-01-04       26        32        20       39          8    39  37.753750   \n2015-01-05        4        80        25       32       6001  6001   4.281667   \n\n             C_median_O3  C_min_O3  C_max_O3  ...  C_min_PM25  C_max_PM25  \\\nDatetimeEnd                                   ...                           \n2015-01-01        27.160      6.07     40.25  ...    17.07320    390.7920   \n2015-01-02        47.410     36.02     59.91  ...     5.49618     21.4230   \n2015-01-03        25.160      0.21     49.34  ...     4.49700     21.0954   \n2015-01-04        46.165      1.01     63.54  ...     4.22673     14.7982   \n2015-01-05         3.095      0.04     16.93  ...    16.89120     35.2641   \n\n             C_mean_PM10  C_median_PM10  C_min_PM10  C_max_PM10  C_mean_NO2  \\\nDatetimeEnd                                                                   \n2015-01-01     42.384783          30.03       18.51      179.79   35.496087   \n2015-01-02     21.348261          21.07        8.27       36.43   22.372083   \n2015-01-03     20.216667          21.71        1.87       40.27   44.208750   \n2015-01-04     21.070000          19.15        9.55       37.71   37.371250   \n2015-01-05     27.150000          28.11       15.95       44.11   53.706522   \n\n             C_median_NO2  C_min_NO2  C_max_NO2  \nDatetimeEnd                                      \n2015-01-01         33.170      24.24      52.79  \n2015-01-02         22.180      12.51      30.84  \n2015-01-03         38.620      25.56      75.37  \n2015-01-04         28.485      15.90      77.12  \n2015-01-05         54.840      39.68      64.65  \n\n[5 rows x 22 columns]",
      "text/html": "<div>\n<style scoped>\n    .dataframe tbody tr th:only-of-type {\n        vertical-align: middle;\n    }\n\n    .dataframe tbody tr th {\n        vertical-align: top;\n    }\n\n    .dataframe thead th {\n        text-align: right;\n    }\n</style>\n<table border=\"1\" class=\"dataframe\">\n  <thead>\n    <tr style=\"text-align: right;\">\n      <th></th>\n      <th>AQI_O3</th>\n      <th>AQI_PM25</th>\n      <th>AQI_PM10</th>\n      <th>AQI_NO2</th>\n      <th>Pollutant</th>\n      <th>AQI</th>\n      <th>C_mean_O3</th>\n      <th>C_median_O3</th>\n      <th>C_min_O3</th>\n      <th>C_max_O3</th>\n      <th>...</th>\n      <th>C_min_PM25</th>\n      <th>C_max_PM25</th>\n      <th>C_mean_PM10</th>\n      <th>C_median_PM10</th>\n      <th>C_min_PM10</th>\n      <th>C_max_PM10</th>\n      <th>C_mean_NO2</th>\n      <th>C_median_NO2</th>\n      <th>C_min_NO2</th>\n      <th>C_max_NO2</th>\n    </tr>\n    <tr>\n      <th>DatetimeEnd</th>\n      <th></th>\n      <th></th>\n      <th></th>\n      <th></th>\n      <th></th>\n      <th></th>\n      <th></th>\n      <th></th>\n      <th></th>\n      <th></th>\n      <th></th>\n      <th></th>\n      <th></th>\n      <th></th>\n      <th></th>\n      <th></th>\n      <th></th>\n      <th></th>\n      <th></th>\n      <th></th>\n      <th></th>\n    </tr>\n  </thead>\n  <tbody>\n    <tr>\n      <th>2015-01-01</th>\n      <td>17</td>\n      <td>128</td>\n      <td>39</td>\n      <td>26</td>\n      <td>6001</td>\n      <td>6001</td>\n      <td>25.610435</td>\n      <td>27.160</td>\n      <td>6.07</td>\n      <td>40.25</td>\n      <td>...</td>\n      <td>17.07320</td>\n      <td>390.7920</td>\n      <td>42.384783</td>\n      <td>30.03</td>\n      <td>18.51</td>\n      <td>179.79</td>\n      <td>35.496087</td>\n      <td>33.170</td>\n      <td>24.24</td>\n      <td>52.79</td>\n    </tr>\n    <tr>\n      <th>2015-01-02</th>\n      <td>26</td>\n      <td>46</td>\n      <td>20</td>\n      <td>15</td>\n      <td>6001</td>\n      <td>6001</td>\n      <td>47.734348</td>\n      <td>47.410</td>\n      <td>36.02</td>\n      <td>59.91</td>\n      <td>...</td>\n      <td>5.49618</td>\n      <td>21.4230</td>\n      <td>21.348261</td>\n      <td>21.07</td>\n      <td>8.27</td>\n      <td>36.43</td>\n      <td>22.372083</td>\n      <td>22.180</td>\n      <td>12.51</td>\n      <td>30.84</td>\n    </tr>\n    <tr>\n      <th>2015-01-03</th>\n      <td>22</td>\n      <td>46</td>\n      <td>19</td>\n      <td>38</td>\n      <td>6001</td>\n      <td>6001</td>\n      <td>23.824167</td>\n      <td>25.160</td>\n      <td>0.21</td>\n      <td>49.34</td>\n      <td>...</td>\n      <td>4.49700</td>\n      <td>21.0954</td>\n      <td>20.216667</td>\n      <td>21.71</td>\n      <td>1.87</td>\n      <td>40.27</td>\n      <td>44.208750</td>\n      <td>38.620</td>\n      <td>25.56</td>\n      <td>75.37</td>\n    </tr>\n    <tr>\n      <th>2015-01-04</th>\n      <td>26</td>\n      <td>32</td>\n      <td>20</td>\n      <td>39</td>\n      <td>8</td>\n      <td>39</td>\n      <td>37.753750</td>\n      <td>46.165</td>\n      <td>1.01</td>\n      <td>63.54</td>\n      <td>...</td>\n      <td>4.22673</td>\n      <td>14.7982</td>\n      <td>21.070000</td>\n      <td>19.15</td>\n      <td>9.55</td>\n      <td>37.71</td>\n      <td>37.371250</td>\n      <td>28.485</td>\n      <td>15.90</td>\n      <td>77.12</td>\n    </tr>\n    <tr>\n      <th>2015-01-05</th>\n      <td>4</td>\n      <td>80</td>\n      <td>25</td>\n      <td>32</td>\n      <td>6001</td>\n      <td>6001</td>\n      <td>4.281667</td>\n      <td>3.095</td>\n      <td>0.04</td>\n      <td>16.93</td>\n      <td>...</td>\n      <td>16.89120</td>\n      <td>35.2641</td>\n      <td>27.150000</td>\n      <td>28.11</td>\n      <td>15.95</td>\n      <td>44.11</td>\n      <td>53.706522</td>\n      <td>54.840</td>\n      <td>39.68</td>\n      <td>64.65</td>\n    </tr>\n  </tbody>\n</table>\n<p>5 rows × 22 columns</p>\n</div>"
     },
     "execution_count": 94,
     "metadata": {},
     "output_type": "execute_result"
    }
   ],
   "source": [
    "df_aqi_mean = calc_aqi_and_mean_concentration_and_merge(TS_DATE_FROM, TS_DATE_END)\n",
    "df_aqi_mean.head()"
   ],
   "metadata": {
    "collapsed": false
   }
  },
  {
   "cell_type": "markdown",
   "source": [
    "#### Добавление доп. информации по датам"
   ],
   "metadata": {
    "collapsed": false
   }
  },
  {
   "cell_type": "code",
   "execution_count": 95,
   "outputs": [
    {
     "data": {
      "text/plain": "             AQI_O3  AQI_PM25  AQI_PM10  AQI_NO2  Pollutant   AQI  C_mean_O3  \\\nDatetimeEnd                                                                    \n2015-01-01       17       128        39       26       6001  6001  25.610435   \n2015-01-02       26        46        20       15       6001  6001  47.734348   \n2015-01-03       22        46        19       38       6001  6001  23.824167   \n2015-01-04       26        32        20       39          8    39  37.753750   \n2015-01-05        4        80        25       32       6001  6001   4.281667   \n\n             C_median_O3  C_min_O3  C_max_O3  ...  C_mean_NO2  C_median_NO2  \\\nDatetimeEnd                                   ...                             \n2015-01-01        27.160      6.07     40.25  ...   35.496087        33.170   \n2015-01-02        47.410     36.02     59.91  ...   22.372083        22.180   \n2015-01-03        25.160      0.21     49.34  ...   44.208750        38.620   \n2015-01-04        46.165      1.01     63.54  ...   37.371250        28.485   \n2015-01-05         3.095      0.04     16.93  ...   53.706522        54.840   \n\n             C_min_NO2  C_max_NO2  weekday  day  month  year  season  \\\nDatetimeEnd                                                            \n2015-01-01       24.24      52.79        3    1      1  2015       0   \n2015-01-02       12.51      30.84        4    2      1  2015       0   \n2015-01-03       25.56      75.37        5    3      1  2015       0   \n2015-01-04       15.90      77.12        6    4      1  2015       0   \n2015-01-05       39.68      64.65        0    5      1  2015       0   \n\n             is_weekend  \nDatetimeEnd              \n2015-01-01            0  \n2015-01-02            0  \n2015-01-03            1  \n2015-01-04            1  \n2015-01-05            0  \n\n[5 rows x 28 columns]",
      "text/html": "<div>\n<style scoped>\n    .dataframe tbody tr th:only-of-type {\n        vertical-align: middle;\n    }\n\n    .dataframe tbody tr th {\n        vertical-align: top;\n    }\n\n    .dataframe thead th {\n        text-align: right;\n    }\n</style>\n<table border=\"1\" class=\"dataframe\">\n  <thead>\n    <tr style=\"text-align: right;\">\n      <th></th>\n      <th>AQI_O3</th>\n      <th>AQI_PM25</th>\n      <th>AQI_PM10</th>\n      <th>AQI_NO2</th>\n      <th>Pollutant</th>\n      <th>AQI</th>\n      <th>C_mean_O3</th>\n      <th>C_median_O3</th>\n      <th>C_min_O3</th>\n      <th>C_max_O3</th>\n      <th>...</th>\n      <th>C_mean_NO2</th>\n      <th>C_median_NO2</th>\n      <th>C_min_NO2</th>\n      <th>C_max_NO2</th>\n      <th>weekday</th>\n      <th>day</th>\n      <th>month</th>\n      <th>year</th>\n      <th>season</th>\n      <th>is_weekend</th>\n    </tr>\n    <tr>\n      <th>DatetimeEnd</th>\n      <th></th>\n      <th></th>\n      <th></th>\n      <th></th>\n      <th></th>\n      <th></th>\n      <th></th>\n      <th></th>\n      <th></th>\n      <th></th>\n      <th></th>\n      <th></th>\n      <th></th>\n      <th></th>\n      <th></th>\n      <th></th>\n      <th></th>\n      <th></th>\n      <th></th>\n      <th></th>\n      <th></th>\n    </tr>\n  </thead>\n  <tbody>\n    <tr>\n      <th>2015-01-01</th>\n      <td>17</td>\n      <td>128</td>\n      <td>39</td>\n      <td>26</td>\n      <td>6001</td>\n      <td>6001</td>\n      <td>25.610435</td>\n      <td>27.160</td>\n      <td>6.07</td>\n      <td>40.25</td>\n      <td>...</td>\n      <td>35.496087</td>\n      <td>33.170</td>\n      <td>24.24</td>\n      <td>52.79</td>\n      <td>3</td>\n      <td>1</td>\n      <td>1</td>\n      <td>2015</td>\n      <td>0</td>\n      <td>0</td>\n    </tr>\n    <tr>\n      <th>2015-01-02</th>\n      <td>26</td>\n      <td>46</td>\n      <td>20</td>\n      <td>15</td>\n      <td>6001</td>\n      <td>6001</td>\n      <td>47.734348</td>\n      <td>47.410</td>\n      <td>36.02</td>\n      <td>59.91</td>\n      <td>...</td>\n      <td>22.372083</td>\n      <td>22.180</td>\n      <td>12.51</td>\n      <td>30.84</td>\n      <td>4</td>\n      <td>2</td>\n      <td>1</td>\n      <td>2015</td>\n      <td>0</td>\n      <td>0</td>\n    </tr>\n    <tr>\n      <th>2015-01-03</th>\n      <td>22</td>\n      <td>46</td>\n      <td>19</td>\n      <td>38</td>\n      <td>6001</td>\n      <td>6001</td>\n      <td>23.824167</td>\n      <td>25.160</td>\n      <td>0.21</td>\n      <td>49.34</td>\n      <td>...</td>\n      <td>44.208750</td>\n      <td>38.620</td>\n      <td>25.56</td>\n      <td>75.37</td>\n      <td>5</td>\n      <td>3</td>\n      <td>1</td>\n      <td>2015</td>\n      <td>0</td>\n      <td>1</td>\n    </tr>\n    <tr>\n      <th>2015-01-04</th>\n      <td>26</td>\n      <td>32</td>\n      <td>20</td>\n      <td>39</td>\n      <td>8</td>\n      <td>39</td>\n      <td>37.753750</td>\n      <td>46.165</td>\n      <td>1.01</td>\n      <td>63.54</td>\n      <td>...</td>\n      <td>37.371250</td>\n      <td>28.485</td>\n      <td>15.90</td>\n      <td>77.12</td>\n      <td>6</td>\n      <td>4</td>\n      <td>1</td>\n      <td>2015</td>\n      <td>0</td>\n      <td>1</td>\n    </tr>\n    <tr>\n      <th>2015-01-05</th>\n      <td>4</td>\n      <td>80</td>\n      <td>25</td>\n      <td>32</td>\n      <td>6001</td>\n      <td>6001</td>\n      <td>4.281667</td>\n      <td>3.095</td>\n      <td>0.04</td>\n      <td>16.93</td>\n      <td>...</td>\n      <td>53.706522</td>\n      <td>54.840</td>\n      <td>39.68</td>\n      <td>64.65</td>\n      <td>0</td>\n      <td>5</td>\n      <td>1</td>\n      <td>2015</td>\n      <td>0</td>\n      <td>0</td>\n    </tr>\n  </tbody>\n</table>\n<p>5 rows × 28 columns</p>\n</div>"
     },
     "execution_count": 95,
     "metadata": {},
     "output_type": "execute_result"
    }
   ],
   "source": [
    "df_aqi_mean = date_gen.add_date_info(df_aqi_mean)\n",
    "df_aqi_mean.head()"
   ],
   "metadata": {
    "collapsed": false
   }
  },
  {
   "cell_type": "markdown",
   "source": [
    "#### Добавление лагов"
   ],
   "metadata": {
    "collapsed": false
   }
  },
  {
   "cell_type": "code",
   "execution_count": 96,
   "outputs": [],
   "source": [
    "def get_all_concentration_and_aqi_columns(df):\n",
    "    return [x for x in df.columns.values if [p for p in POL_CODES if x.endswith(POL_NAMES[p])]] + ['AQI'] + ['Pollutant']\n",
    "\n",
    "def get_aqi_columns(df):\n",
    "    return [x for x in df.columns.values if x.startswith('AQI') and [p for p in POL_CODES if x.endswith(POL_NAMES[p])]] + ['AQI']\n",
    "\n",
    "def get_concentration_columns_by_method(df, method):\n",
    "    return [x for x in df.columns.values if x.startswith(f'C_{method}') and [p for p in POL_CODES if x.endswith(POL_NAMES[p])]]"
   ],
   "metadata": {
    "collapsed": false
   }
  },
  {
   "cell_type": "code",
   "execution_count": 97,
   "outputs": [],
   "source": [
    "@timeit(show_args=False)\n",
    "def get_lag_data_shift(df: pd.DataFrame) -> pd.DataFrame:\n",
    "    method_name = 'get_lag_data_shift'\n",
    "    print(f'-------------------------------------------')\n",
    "    print(f'{method_name} started')\n",
    "    df_c = df.copy(deep=True)\n",
    "    target_cols = get_all_concentration_and_aqi_columns(df_c)\n",
    "    lags = [7, 8, 9, 10, 11, 12,  13, 14, 21, 28]\n",
    "\n",
    "    for column in target_cols:\n",
    "        for lag in lags:\n",
    "            df_c[f'{column}_lag{lag}'] = df[column].shift(lag)\n",
    "\n",
    "    print(f'{method_name} finished')\n",
    "    return df_c\n",
    "\n",
    "@timeit(show_args=False)\n",
    "def get_lag_data_aqi(df: pd.DataFrame) -> pd.DataFrame:\n",
    "        method_name = 'get_lag_data_aqi'\n",
    "        print(f'-------------------------------------------')\n",
    "        print(f'{method_name} started')\n",
    "\n",
    "        target_cols = get_aqi_columns(df)\n",
    "        id_cols = []\n",
    "        date_col = 'DatetimeEnd'\n",
    "        filters = ['NoFilter', 'weekday', 'month']\n",
    "\n",
    "        windows = {\n",
    "            'NoFilter': ['3D', '5D', '7D', '14D', '28D'],\n",
    "            'weekday':  ['28D', '56D'],\n",
    "            'month':    ['90D']\n",
    "        }\n",
    "        lags = [7, 10, 14, 21, 28]\n",
    "        agg_methods = ['mean', 'median', lag_gen.percentile(10),  lag_gen.percentile(90)] #, pd.Series.skew, pd.Series.kurtosis]\n",
    "        ewm_params={\n",
    "            'NoFilter': [7, 14, 21, 28],\n",
    "            'weekday': [28, 56],\n",
    "            'month': [90],\n",
    "        }\n",
    "        df['NoFilter'] = 1\n",
    "\n",
    "        total = len(target_cols) * len(lags) * len(windows) * len(agg_methods) * len(filters)\n",
    "        print(f'New columns count: {total}')\n",
    "\n",
    "        df_lagged_features = lag_gen.generate_lagged_features(df\n",
    "                    , target_cols = target_cols\n",
    "                    , id_cols = id_cols\n",
    "                    , date_col = date_col\n",
    "                    , lags = lags\n",
    "                    , windows = windows\n",
    "                    , preagg_methods = ['mean']\n",
    "                    , agg_methods = agg_methods\n",
    "                    , dynamic_filters = filters\n",
    "                    , ewm_params=ewm_params\n",
    "                    )\n",
    "        df_lagged_features.set_index(date_col, inplace = True)\n",
    "\n",
    "        print(f'{method_name} finished')\n",
    "        return df_lagged_features\n",
    "\n",
    "@timeit(show_args=False)\n",
    "def get_lag_data_concentration(df: pd.DataFrame, method) -> pd.DataFrame:\n",
    "        method_name = 'get_lag_data_concentration'\n",
    "        print(f'-------------------------------------------')\n",
    "        print(f'{method_name} started for {method}')\n",
    "\n",
    "        target_cols = get_concentration_columns_by_method(df, method)\n",
    "        id_cols = []\n",
    "        date_col = 'DatetimeEnd'\n",
    "        filters = ['NoFilter', 'weekday', 'month']\n",
    "\n",
    "        windows = {\n",
    "            'NoFilter': ['3D', '5D', '7D', '14D', '28D'],\n",
    "            'weekday':  ['28D', '42D'],\n",
    "            'month':    ['7D', '14D', '28D']\n",
    "        }\n",
    "\n",
    "        lags = [7, 10, 14, 21, 28]\n",
    "        agg_methods = [method]\n",
    "        ewm_params={\n",
    "            'NoFilter': [7, 14, 21, 28],\n",
    "            'weekday': [7, 14, 21, 28],\n",
    "            'month': [7, 14, 21, 28],\n",
    "        }\n",
    "        df['NoFilter'] = 1\n",
    "\n",
    "        total = len(target_cols) * len(lags) * len(windows) * len(agg_methods) * len(filters)\n",
    "        print(f'New columns count: {total}')\n",
    "\n",
    "        df_lagged_features = lag_gen.generate_lagged_features(df\n",
    "                    , target_cols = target_cols\n",
    "                    , id_cols = id_cols\n",
    "                    , date_col = date_col\n",
    "                    , lags = lags\n",
    "                    , windows = windows\n",
    "                    , preagg_methods = ['mean']\n",
    "                    , agg_methods = agg_methods\n",
    "                    , dynamic_filters = filters\n",
    "                    , ewm_params=ewm_params\n",
    "                    )\n",
    "        df_lagged_features.set_index(date_col, inplace = True)\n",
    "\n",
    "        print(f'{method_name} finished')\n",
    "        return df_lagged_features\n",
    "\n",
    "def get_all_lag_data(df: pd.DataFrame) -> pd.DataFrame:\n",
    "    g_shift = get_lag_data_shift(df)\n",
    "    g_shift = get_lag_data_aqi(g_shift)\n",
    "    for method in CONCENTRATION_AGGREGATES_FOR_LAGS:\n",
    "        g_shift = get_lag_data_concentration(g_shift, method)\n",
    "    return g_shift"
   ],
   "metadata": {
    "collapsed": false
   }
  },
  {
   "cell_type": "code",
   "execution_count": 98,
   "outputs": [
    {
     "name": "stdout",
     "output_type": "stream",
     "text": [
      "-------------------------------------------\n",
      "get_lag_data_shift started\n",
      "get_lag_data_shift finished\n",
      "Function get_lag_data_shift Took 0.0458 seconds\n",
      "-------------------------------------------\n",
      "get_lag_data_aqi started\n",
      "New columns count: 900\n"
     ]
    },
    {
     "data": {
      "text/plain": "IntProgress(value=0, max=225)",
      "application/vnd.jupyter.widget-view+json": {
       "version_major": 2,
       "version_minor": 0,
       "model_id": "fca7c82e38754e1facabb3a7b6a38ecb"
      }
     },
     "metadata": {},
     "output_type": "display_data"
    },
    {
     "name": "stdout",
     "output_type": "stream",
     "text": [
      "get_lag_data_aqi finished\n",
      "Function get_lag_data_aqi Took 196.7448 seconds\n",
      "-------------------------------------------\n",
      "get_lag_data_concentration started for mean\n",
      "New columns count: 180\n"
     ]
    },
    {
     "data": {
      "text/plain": "IntProgress(value=0, max=90)",
      "application/vnd.jupyter.widget-view+json": {
       "version_major": 2,
       "version_minor": 0,
       "model_id": "3eb4099a52fa4995a0e682e427e3a831"
      }
     },
     "metadata": {},
     "output_type": "display_data"
    },
    {
     "name": "stdout",
     "output_type": "stream",
     "text": [
      "get_lag_data_concentration finished\n",
      "Function get_lag_data_concentration Took 5.4445 seconds\n",
      "-------------------------------------------\n",
      "get_lag_data_concentration started for median\n",
      "New columns count: 180\n"
     ]
    },
    {
     "data": {
      "text/plain": "IntProgress(value=0, max=90)",
      "application/vnd.jupyter.widget-view+json": {
       "version_major": 2,
       "version_minor": 0,
       "model_id": "449641d4d3fb42c9a111936d0910a600"
      }
     },
     "metadata": {},
     "output_type": "display_data"
    },
    {
     "name": "stdout",
     "output_type": "stream",
     "text": [
      "get_lag_data_concentration finished\n",
      "Function get_lag_data_concentration Took 6.3841 seconds\n"
     ]
    },
    {
     "data": {
      "text/plain": "             AQI_O3  AQI_PM25  AQI_PM10  AQI_NO2  Pollutant   AQI  C_mean_O3  \\\nDatetimeEnd                                                                    \n2015-01-01       17       128        39       26       6001  6001  25.610435   \n2015-01-02       26        46        20       15       6001  6001  47.734348   \n2015-01-03       22        46        19       38       6001  6001  23.824167   \n2015-01-04       26        32        20       39          8    39  37.753750   \n2015-01-05        4        80        25       32       6001  6001   4.281667   \n\n             C_median_O3  C_min_O3  C_max_O3  ...  \\\nDatetimeEnd                                   ...   \n2015-01-01        27.160      6.07     40.25  ...   \n2015-01-02        47.410     36.02     59.91  ...   \n2015-01-03        25.160      0.21     49.34  ...   \n2015-01-04        46.165      1.01     63.54  ...   \n2015-01-05         3.095      0.04     16.93  ...   \n\n             C_median_PM10_lag28d_win7D_ag:median_filt:month  \\\nDatetimeEnd                                                    \n2015-01-01                                               NaN   \n2015-01-02                                               NaN   \n2015-01-03                                               NaN   \n2015-01-04                                               NaN   \n2015-01-05                                               NaN   \n\n             C_median_NO2_lag28d_win7D_ag:median_filt:month  \\\nDatetimeEnd                                                   \n2015-01-01                                              NaN   \n2015-01-02                                              NaN   \n2015-01-03                                              NaN   \n2015-01-04                                              NaN   \n2015-01-05                                              NaN   \n\n             C_median_O3_lag28d_win14D_ag:median_filt:month  \\\nDatetimeEnd                                                   \n2015-01-01                                              NaN   \n2015-01-02                                              NaN   \n2015-01-03                                              NaN   \n2015-01-04                                              NaN   \n2015-01-05                                              NaN   \n\n             C_median_PM25_lag28d_win14D_ag:median_filt:month  \\\nDatetimeEnd                                                     \n2015-01-01                                                NaN   \n2015-01-02                                                NaN   \n2015-01-03                                                NaN   \n2015-01-04                                                NaN   \n2015-01-05                                                NaN   \n\n             C_median_PM10_lag28d_win14D_ag:median_filt:month  \\\nDatetimeEnd                                                     \n2015-01-01                                                NaN   \n2015-01-02                                                NaN   \n2015-01-03                                                NaN   \n2015-01-04                                                NaN   \n2015-01-05                                                NaN   \n\n             C_median_NO2_lag28d_win14D_ag:median_filt:month  \\\nDatetimeEnd                                                    \n2015-01-01                                               NaN   \n2015-01-02                                               NaN   \n2015-01-03                                               NaN   \n2015-01-04                                               NaN   \n2015-01-05                                               NaN   \n\n             C_median_O3_lag28d_win28D_ag:median_filt:month  \\\nDatetimeEnd                                                   \n2015-01-01                                              NaN   \n2015-01-02                                              NaN   \n2015-01-03                                              NaN   \n2015-01-04                                              NaN   \n2015-01-05                                              NaN   \n\n             C_median_PM25_lag28d_win28D_ag:median_filt:month  \\\nDatetimeEnd                                                     \n2015-01-01                                                NaN   \n2015-01-02                                                NaN   \n2015-01-03                                                NaN   \n2015-01-04                                                NaN   \n2015-01-05                                                NaN   \n\n             C_median_PM10_lag28d_win28D_ag:median_filt:month  \\\nDatetimeEnd                                                     \n2015-01-01                                                NaN   \n2015-01-02                                                NaN   \n2015-01-03                                                NaN   \n2015-01-04                                                NaN   \n2015-01-05                                                NaN   \n\n             C_median_NO2_lag28d_win28D_ag:median_filt:month  \nDatetimeEnd                                                   \n2015-01-01                                               NaN  \n2015-01-02                                               NaN  \n2015-01-03                                               NaN  \n2015-01-04                                               NaN  \n2015-01-05                                               NaN  \n\n[5 rows x 2104 columns]",
      "text/html": "<div>\n<style scoped>\n    .dataframe tbody tr th:only-of-type {\n        vertical-align: middle;\n    }\n\n    .dataframe tbody tr th {\n        vertical-align: top;\n    }\n\n    .dataframe thead th {\n        text-align: right;\n    }\n</style>\n<table border=\"1\" class=\"dataframe\">\n  <thead>\n    <tr style=\"text-align: right;\">\n      <th></th>\n      <th>AQI_O3</th>\n      <th>AQI_PM25</th>\n      <th>AQI_PM10</th>\n      <th>AQI_NO2</th>\n      <th>Pollutant</th>\n      <th>AQI</th>\n      <th>C_mean_O3</th>\n      <th>C_median_O3</th>\n      <th>C_min_O3</th>\n      <th>C_max_O3</th>\n      <th>...</th>\n      <th>C_median_PM10_lag28d_win7D_ag:median_filt:month</th>\n      <th>C_median_NO2_lag28d_win7D_ag:median_filt:month</th>\n      <th>C_median_O3_lag28d_win14D_ag:median_filt:month</th>\n      <th>C_median_PM25_lag28d_win14D_ag:median_filt:month</th>\n      <th>C_median_PM10_lag28d_win14D_ag:median_filt:month</th>\n      <th>C_median_NO2_lag28d_win14D_ag:median_filt:month</th>\n      <th>C_median_O3_lag28d_win28D_ag:median_filt:month</th>\n      <th>C_median_PM25_lag28d_win28D_ag:median_filt:month</th>\n      <th>C_median_PM10_lag28d_win28D_ag:median_filt:month</th>\n      <th>C_median_NO2_lag28d_win28D_ag:median_filt:month</th>\n    </tr>\n    <tr>\n      <th>DatetimeEnd</th>\n      <th></th>\n      <th></th>\n      <th></th>\n      <th></th>\n      <th></th>\n      <th></th>\n      <th></th>\n      <th></th>\n      <th></th>\n      <th></th>\n      <th></th>\n      <th></th>\n      <th></th>\n      <th></th>\n      <th></th>\n      <th></th>\n      <th></th>\n      <th></th>\n      <th></th>\n      <th></th>\n      <th></th>\n    </tr>\n  </thead>\n  <tbody>\n    <tr>\n      <th>2015-01-01</th>\n      <td>17</td>\n      <td>128</td>\n      <td>39</td>\n      <td>26</td>\n      <td>6001</td>\n      <td>6001</td>\n      <td>25.610435</td>\n      <td>27.160</td>\n      <td>6.07</td>\n      <td>40.25</td>\n      <td>...</td>\n      <td>NaN</td>\n      <td>NaN</td>\n      <td>NaN</td>\n      <td>NaN</td>\n      <td>NaN</td>\n      <td>NaN</td>\n      <td>NaN</td>\n      <td>NaN</td>\n      <td>NaN</td>\n      <td>NaN</td>\n    </tr>\n    <tr>\n      <th>2015-01-02</th>\n      <td>26</td>\n      <td>46</td>\n      <td>20</td>\n      <td>15</td>\n      <td>6001</td>\n      <td>6001</td>\n      <td>47.734348</td>\n      <td>47.410</td>\n      <td>36.02</td>\n      <td>59.91</td>\n      <td>...</td>\n      <td>NaN</td>\n      <td>NaN</td>\n      <td>NaN</td>\n      <td>NaN</td>\n      <td>NaN</td>\n      <td>NaN</td>\n      <td>NaN</td>\n      <td>NaN</td>\n      <td>NaN</td>\n      <td>NaN</td>\n    </tr>\n    <tr>\n      <th>2015-01-03</th>\n      <td>22</td>\n      <td>46</td>\n      <td>19</td>\n      <td>38</td>\n      <td>6001</td>\n      <td>6001</td>\n      <td>23.824167</td>\n      <td>25.160</td>\n      <td>0.21</td>\n      <td>49.34</td>\n      <td>...</td>\n      <td>NaN</td>\n      <td>NaN</td>\n      <td>NaN</td>\n      <td>NaN</td>\n      <td>NaN</td>\n      <td>NaN</td>\n      <td>NaN</td>\n      <td>NaN</td>\n      <td>NaN</td>\n      <td>NaN</td>\n    </tr>\n    <tr>\n      <th>2015-01-04</th>\n      <td>26</td>\n      <td>32</td>\n      <td>20</td>\n      <td>39</td>\n      <td>8</td>\n      <td>39</td>\n      <td>37.753750</td>\n      <td>46.165</td>\n      <td>1.01</td>\n      <td>63.54</td>\n      <td>...</td>\n      <td>NaN</td>\n      <td>NaN</td>\n      <td>NaN</td>\n      <td>NaN</td>\n      <td>NaN</td>\n      <td>NaN</td>\n      <td>NaN</td>\n      <td>NaN</td>\n      <td>NaN</td>\n      <td>NaN</td>\n    </tr>\n    <tr>\n      <th>2015-01-05</th>\n      <td>4</td>\n      <td>80</td>\n      <td>25</td>\n      <td>32</td>\n      <td>6001</td>\n      <td>6001</td>\n      <td>4.281667</td>\n      <td>3.095</td>\n      <td>0.04</td>\n      <td>16.93</td>\n      <td>...</td>\n      <td>NaN</td>\n      <td>NaN</td>\n      <td>NaN</td>\n      <td>NaN</td>\n      <td>NaN</td>\n      <td>NaN</td>\n      <td>NaN</td>\n      <td>NaN</td>\n      <td>NaN</td>\n      <td>NaN</td>\n    </tr>\n  </tbody>\n</table>\n<p>5 rows × 2104 columns</p>\n</div>"
     },
     "execution_count": 98,
     "metadata": {},
     "output_type": "execute_result"
    }
   ],
   "source": [
    "df_aqi_mean_lags = get_all_lag_data(df_aqi_mean)\n",
    "save_calc(df_aqi_mean_lags, 'aqi_all_enrich.csv')\n",
    "df_aqi_mean_lags.head()"
   ],
   "metadata": {
    "collapsed": false
   }
  },
  {
   "cell_type": "code",
   "execution_count": 99,
   "outputs": [],
   "source": [
    "import re\n",
    "df_aqi_mean_lags = df_aqi_mean_lags.rename(columns = lambda x:re.sub('[^A-Za-z0-9_]+', '', x))\n",
    "save_calc(df_aqi_mean_lags, 'aqi_all_enrich.csv')"
   ],
   "metadata": {
    "collapsed": false
   }
  }
 ],
 "metadata": {
  "kernelspec": {
   "display_name": "Python 3",
   "language": "python",
   "name": "python3"
  },
  "language_info": {
   "codemirror_mode": {
    "name": "ipython",
    "version": 2
   },
   "file_extension": ".py",
   "mimetype": "text/x-python",
   "name": "python",
   "nbconvert_exporter": "python",
   "pygments_lexer": "ipython2",
   "version": "2.7.6"
  }
 },
 "nbformat": 4,
 "nbformat_minor": 0
}
