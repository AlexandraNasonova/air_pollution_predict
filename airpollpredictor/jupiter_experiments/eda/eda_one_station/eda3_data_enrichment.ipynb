{
 "cells": [
  {
   "cell_type": "code",
   "execution_count": 1,
   "outputs": [],
   "source": [
    "import os\n",
    "import pandas as pd\n",
    "import data_preprocessing.features_generations.ts_lag_features_generator as lag_gen\n",
    "import data_preprocessing.features_generations.ts_date_features_generator as date_gen\n",
    "import data_preprocessing.aqi_calculations.aqi_calculator as aqc\n",
    "import warnings\n",
    "import time\n",
    "warnings.filterwarnings('ignore')"
   ],
   "metadata": {
    "collapsed": false,
    "ExecuteTime": {
     "start_time": "2023-04-08T08:27:14.821943Z",
     "end_time": "2023-04-08T08:27:14.908565Z"
    }
   }
  },
  {
   "cell_type": "code",
   "execution_count": 2,
   "outputs": [],
   "source": [
    "CSV_EDA_CLEANUP_RES_PATH = '../../datasources/eda_cleanup_res/'\n",
    "CSV_AQI_ENRICH_PATH = '../../datasources/aqi_enrich/'\n",
    "POL_CODES = [7, 6001, 5, 8]\n",
    "POL_NAMES = {7: \"O3\", 6001: \"PM25\", 5: \"PM10\", 8: \"NO2\"}\n",
    "POL_NAMES_REVERSE = {\"O3\": 7, \"PM25\": 6001, \"PM10\": 5, \"NO2\": 8}\n",
    "POL_MEASURES = {7: \"µg/m3\", 6001: \"µg/m3\", 5: \"µg/m3\", 10: \"mg/m3\", 1: \"µg/m3\", 8: \"µg/m3\"}"
   ],
   "metadata": {
    "collapsed": false,
    "ExecuteTime": {
     "start_time": "2023-04-08T08:27:17.267395Z",
     "end_time": "2023-04-08T08:27:17.269121Z"
    }
   }
  },
  {
   "cell_type": "code",
   "execution_count": 13,
   "outputs": [],
   "source": [
    "FORECAST_DURATION_DAYS = 7\n",
    "TS_DATE_FROM = '2015-01-01'\n",
    "TS_DATE_END = '2023-02-12'\n",
    "\n",
    "#from datetime import timedelta, datetime\n",
    "#FC_DATE_END = (datetime.strptime(TS_DATE_END, '%Y-%m-%d').date() + timedelta(days=FORECAST_DURATION_DAYS)).strftime('%Y-%m-%d')\n",
    "\n",
    "CONCENTRATION_AGGREGATES = ['mean', 'median', 'min', 'max']\n",
    "CONCENTRATION_AGGREGATES_FOR_LAGS = ['mean', 'median']\n",
    "CONCENTRATION_AGGREGATES = ['mean']\n",
    "CONCENTRATION_AGGREGATES_FOR_LAGS = []"
   ],
   "metadata": {
    "collapsed": false,
    "ExecuteTime": {
     "start_time": "2023-04-08T08:29:48.937378Z",
     "end_time": "2023-04-08T08:29:48.978079Z"
    }
   }
  },
  {
   "cell_type": "code",
   "execution_count": 4,
   "outputs": [],
   "source": [
    "def save_calc(df: pd.DataFrame, file_name: str):\n",
    "\tfile_path = os.path.join(CSV_AQI_ENRICH_PATH, file_name)\n",
    "\tdf.to_csv(file_path)"
   ],
   "metadata": {
    "collapsed": false,
    "ExecuteTime": {
     "start_time": "2023-04-08T08:27:25.051649Z",
     "end_time": "2023-04-08T08:27:25.055973Z"
    }
   }
  },
  {
   "cell_type": "code",
   "execution_count": 7,
   "outputs": [],
   "source": [
    "def timeit(show_args):\n",
    "    def timeit_func(func):\n",
    "        def timeit_wrapper(*args, **kwargs):\n",
    "            start_time = time.perf_counter()\n",
    "            result = func(*args, **kwargs)\n",
    "            end_time = time.perf_counter()\n",
    "            total_time = end_time - start_time\n",
    "            if show_args:\n",
    "                print(f'Function {func.__name__}{args} {kwargs} Took {total_time:.4f} seconds')\n",
    "            else:\n",
    "                print(f'Function {func.__name__} Took {total_time:.4f} seconds')\n",
    "            return result\n",
    "        return timeit_wrapper\n",
    "    return timeit_func"
   ],
   "metadata": {
    "collapsed": false,
    "ExecuteTime": {
     "start_time": "2023-04-08T08:27:44.244652Z",
     "end_time": "2023-04-08T08:27:44.248185Z"
    }
   }
  },
  {
   "cell_type": "markdown",
   "source": [
    "## Расчет по дням: индексов качества воздуха, статистик концентраций, объединение данных"
   ],
   "metadata": {
    "collapsed": false
   }
  },
  {
   "cell_type": "code",
   "execution_count": 8,
   "outputs": [],
   "source": [
    "def read_dataframe_for_pollutant(pollutant_id: int):\n",
    "    df_p = pd.read_csv(os.path.join(CSV_EDA_CLEANUP_RES_PATH, f'{pollutant_id}.csv'), parse_dates=True, index_col='DatetimeEnd')\n",
    "    #df_p.drop(columns=['Unnamed: 0'], inplace=True)\n",
    "    return df_p\n",
    "\n",
    "def merge_column_by_index(pollutant_id: int, df_gen: pd.DataFrame, df_to_merge: pd.DataFrame, source_column: str, new_column=None) -> pd.DataFrame:\n",
    "    if new_column is None:\n",
    "        new_column=source_column\n",
    "\n",
    "    df_gen = df_gen.merge(df_to_merge[source_column], left_index=True, right_index=True)\n",
    "    df_gen = df_gen.rename(columns={source_column: f'{new_column}_{POL_NAMES[pollutant_id]}'})\n",
    "    return df_gen\n",
    "\n",
    "def calc_aqi_per_pollutant_and_merge_pollutants(g: pd.DataFrame) -> pd.DataFrame:\n",
    "        for pollutant_id in POL_CODES:\n",
    "            df_p = read_dataframe_for_pollutant(pollutant_id)\n",
    "            measure = POL_MEASURES[pollutant_id]\n",
    "            g_p = aqc.calc_aqi_for_day_pd(pollutant_id, df_p, measure).tz_localize(None)\n",
    "            g = merge_column_by_index(pollutant_id, g, g_p, 'AQI')\n",
    "        return g\n",
    "\n",
    "def calc_mean_concentration_and_merge_pollutants(g: pd.DataFrame) -> pd.DataFrame:\n",
    "    for pollutant_id in POL_CODES:\n",
    "        df_p = read_dataframe_for_pollutant(pollutant_id)\n",
    "        for method in CONCENTRATION_AGGREGATES:\n",
    "            g_p = df_p['Concentration'].groupby(pd.Grouper(freq=\"24H\")).agg(method).tz_localize(None).to_frame()\n",
    "            g = merge_column_by_index(pollutant_id, g, g_p, 'Concentration', f'C_{method if type(method) is str else method.__name__}')\n",
    "    return g\n",
    "\n",
    "def calc_aqi_and_mean_concentration_and_merge(ts_date_from, fs_date_end) -> pd.DataFrame:\n",
    "    g = pd.DataFrame(index=pd.date_range(start=ts_date_from, end=fs_date_end, freq='D', inclusive=\"both\", name='DatetimeEnd'))\n",
    "    g = calc_aqi_per_pollutant_and_merge_pollutants(g)\n",
    "    #g['Pollutant'] = g.idxmax(axis=1).apply(lambda x: x[x.index('_') + 1:])\n",
    "    g['AQI'] = g.max(axis=1)\n",
    "    g['Pollutant'] = g.idxmax(axis=1).apply(lambda x: POL_NAMES_REVERSE[x[x.index('_') + 1:]])\n",
    "    g = calc_mean_concentration_and_merge_pollutants(g)\n",
    "    return g"
   ],
   "metadata": {
    "collapsed": false,
    "ExecuteTime": {
     "start_time": "2023-04-08T08:27:46.799857Z",
     "end_time": "2023-04-08T08:27:46.842095Z"
    }
   }
  },
  {
   "cell_type": "code",
   "execution_count": 9,
   "outputs": [
    {
     "data": {
      "text/plain": "             AQI_O3  AQI_PM25  AQI_PM10  AQI_NO2  AQI  Pollutant  C_mean_O3   \nDatetimeEnd                                                                   \n2015-01-01       17       128        39       26  128       6001  25.610435  \\\n2015-01-02       26        46        20       15   46       6001  47.734348   \n2015-01-03       22        46        19       38   46       6001  23.824167   \n2015-01-04       26        32        20       39   39          8  37.753750   \n2015-01-05        4        80        25       32   80       6001   4.281667   \n\n             C_mean_PM25  C_mean_PM10  C_mean_NO2  \nDatetimeEnd                                        \n2015-01-01     46.612591    42.384783   35.496087  \n2015-01-02     11.071181    21.348261   22.372083  \n2015-01-03     10.969640    20.216667   44.208750  \n2015-01-04      7.645373    21.070000   37.371250  \n2015-01-05     26.080304    27.150000   53.706522  ",
      "text/html": "<div>\n<style scoped>\n    .dataframe tbody tr th:only-of-type {\n        vertical-align: middle;\n    }\n\n    .dataframe tbody tr th {\n        vertical-align: top;\n    }\n\n    .dataframe thead th {\n        text-align: right;\n    }\n</style>\n<table border=\"1\" class=\"dataframe\">\n  <thead>\n    <tr style=\"text-align: right;\">\n      <th></th>\n      <th>AQI_O3</th>\n      <th>AQI_PM25</th>\n      <th>AQI_PM10</th>\n      <th>AQI_NO2</th>\n      <th>AQI</th>\n      <th>Pollutant</th>\n      <th>C_mean_O3</th>\n      <th>C_mean_PM25</th>\n      <th>C_mean_PM10</th>\n      <th>C_mean_NO2</th>\n    </tr>\n    <tr>\n      <th>DatetimeEnd</th>\n      <th></th>\n      <th></th>\n      <th></th>\n      <th></th>\n      <th></th>\n      <th></th>\n      <th></th>\n      <th></th>\n      <th></th>\n      <th></th>\n    </tr>\n  </thead>\n  <tbody>\n    <tr>\n      <th>2015-01-01</th>\n      <td>17</td>\n      <td>128</td>\n      <td>39</td>\n      <td>26</td>\n      <td>128</td>\n      <td>6001</td>\n      <td>25.610435</td>\n      <td>46.612591</td>\n      <td>42.384783</td>\n      <td>35.496087</td>\n    </tr>\n    <tr>\n      <th>2015-01-02</th>\n      <td>26</td>\n      <td>46</td>\n      <td>20</td>\n      <td>15</td>\n      <td>46</td>\n      <td>6001</td>\n      <td>47.734348</td>\n      <td>11.071181</td>\n      <td>21.348261</td>\n      <td>22.372083</td>\n    </tr>\n    <tr>\n      <th>2015-01-03</th>\n      <td>22</td>\n      <td>46</td>\n      <td>19</td>\n      <td>38</td>\n      <td>46</td>\n      <td>6001</td>\n      <td>23.824167</td>\n      <td>10.969640</td>\n      <td>20.216667</td>\n      <td>44.208750</td>\n    </tr>\n    <tr>\n      <th>2015-01-04</th>\n      <td>26</td>\n      <td>32</td>\n      <td>20</td>\n      <td>39</td>\n      <td>39</td>\n      <td>8</td>\n      <td>37.753750</td>\n      <td>7.645373</td>\n      <td>21.070000</td>\n      <td>37.371250</td>\n    </tr>\n    <tr>\n      <th>2015-01-05</th>\n      <td>4</td>\n      <td>80</td>\n      <td>25</td>\n      <td>32</td>\n      <td>80</td>\n      <td>6001</td>\n      <td>4.281667</td>\n      <td>26.080304</td>\n      <td>27.150000</td>\n      <td>53.706522</td>\n    </tr>\n  </tbody>\n</table>\n</div>"
     },
     "execution_count": 9,
     "metadata": {},
     "output_type": "execute_result"
    }
   ],
   "source": [
    "df_aqi_mean = calc_aqi_and_mean_concentration_and_merge(TS_DATE_FROM, TS_DATE_END)\n",
    "df_aqi_mean.head()"
   ],
   "metadata": {
    "collapsed": false,
    "ExecuteTime": {
     "start_time": "2023-04-08T08:27:49.687095Z",
     "end_time": "2023-04-08T08:27:53.777688Z"
    }
   }
  },
  {
   "cell_type": "markdown",
   "source": [
    "#### Добавление доп. информации по датам"
   ],
   "metadata": {
    "collapsed": false
   }
  },
  {
   "cell_type": "code",
   "execution_count": 10,
   "outputs": [
    {
     "data": {
      "text/plain": "             AQI_O3  AQI_PM25  AQI_PM10  AQI_NO2  AQI  Pollutant  C_mean_O3   \nDatetimeEnd                                                                   \n2015-01-01       17       128        39       26  128       6001  25.610435  \\\n2015-01-02       26        46        20       15   46       6001  47.734348   \n2015-01-03       22        46        19       38   46       6001  23.824167   \n2015-01-04       26        32        20       39   39          8  37.753750   \n2015-01-05        4        80        25       32   80       6001   4.281667   \n\n             C_mean_PM25  C_mean_PM10  C_mean_NO2  weekday  day  month  year   \nDatetimeEnd                                                                    \n2015-01-01     46.612591    42.384783   35.496087        3    1      1  2015  \\\n2015-01-02     11.071181    21.348261   22.372083        4    2      1  2015   \n2015-01-03     10.969640    20.216667   44.208750        5    3      1  2015   \n2015-01-04      7.645373    21.070000   37.371250        6    4      1  2015   \n2015-01-05     26.080304    27.150000   53.706522        0    5      1  2015   \n\n             season  is_weekend  is_new_year  \nDatetimeEnd                                   \n2015-01-01        0           0            1  \n2015-01-02        0           0            0  \n2015-01-03        0           1            0  \n2015-01-04        0           1            0  \n2015-01-05        0           0            0  ",
      "text/html": "<div>\n<style scoped>\n    .dataframe tbody tr th:only-of-type {\n        vertical-align: middle;\n    }\n\n    .dataframe tbody tr th {\n        vertical-align: top;\n    }\n\n    .dataframe thead th {\n        text-align: right;\n    }\n</style>\n<table border=\"1\" class=\"dataframe\">\n  <thead>\n    <tr style=\"text-align: right;\">\n      <th></th>\n      <th>AQI_O3</th>\n      <th>AQI_PM25</th>\n      <th>AQI_PM10</th>\n      <th>AQI_NO2</th>\n      <th>AQI</th>\n      <th>Pollutant</th>\n      <th>C_mean_O3</th>\n      <th>C_mean_PM25</th>\n      <th>C_mean_PM10</th>\n      <th>C_mean_NO2</th>\n      <th>weekday</th>\n      <th>day</th>\n      <th>month</th>\n      <th>year</th>\n      <th>season</th>\n      <th>is_weekend</th>\n      <th>is_new_year</th>\n    </tr>\n    <tr>\n      <th>DatetimeEnd</th>\n      <th></th>\n      <th></th>\n      <th></th>\n      <th></th>\n      <th></th>\n      <th></th>\n      <th></th>\n      <th></th>\n      <th></th>\n      <th></th>\n      <th></th>\n      <th></th>\n      <th></th>\n      <th></th>\n      <th></th>\n      <th></th>\n      <th></th>\n    </tr>\n  </thead>\n  <tbody>\n    <tr>\n      <th>2015-01-01</th>\n      <td>17</td>\n      <td>128</td>\n      <td>39</td>\n      <td>26</td>\n      <td>128</td>\n      <td>6001</td>\n      <td>25.610435</td>\n      <td>46.612591</td>\n      <td>42.384783</td>\n      <td>35.496087</td>\n      <td>3</td>\n      <td>1</td>\n      <td>1</td>\n      <td>2015</td>\n      <td>0</td>\n      <td>0</td>\n      <td>1</td>\n    </tr>\n    <tr>\n      <th>2015-01-02</th>\n      <td>26</td>\n      <td>46</td>\n      <td>20</td>\n      <td>15</td>\n      <td>46</td>\n      <td>6001</td>\n      <td>47.734348</td>\n      <td>11.071181</td>\n      <td>21.348261</td>\n      <td>22.372083</td>\n      <td>4</td>\n      <td>2</td>\n      <td>1</td>\n      <td>2015</td>\n      <td>0</td>\n      <td>0</td>\n      <td>0</td>\n    </tr>\n    <tr>\n      <th>2015-01-03</th>\n      <td>22</td>\n      <td>46</td>\n      <td>19</td>\n      <td>38</td>\n      <td>46</td>\n      <td>6001</td>\n      <td>23.824167</td>\n      <td>10.969640</td>\n      <td>20.216667</td>\n      <td>44.208750</td>\n      <td>5</td>\n      <td>3</td>\n      <td>1</td>\n      <td>2015</td>\n      <td>0</td>\n      <td>1</td>\n      <td>0</td>\n    </tr>\n    <tr>\n      <th>2015-01-04</th>\n      <td>26</td>\n      <td>32</td>\n      <td>20</td>\n      <td>39</td>\n      <td>39</td>\n      <td>8</td>\n      <td>37.753750</td>\n      <td>7.645373</td>\n      <td>21.070000</td>\n      <td>37.371250</td>\n      <td>6</td>\n      <td>4</td>\n      <td>1</td>\n      <td>2015</td>\n      <td>0</td>\n      <td>1</td>\n      <td>0</td>\n    </tr>\n    <tr>\n      <th>2015-01-05</th>\n      <td>4</td>\n      <td>80</td>\n      <td>25</td>\n      <td>32</td>\n      <td>80</td>\n      <td>6001</td>\n      <td>4.281667</td>\n      <td>26.080304</td>\n      <td>27.150000</td>\n      <td>53.706522</td>\n      <td>0</td>\n      <td>5</td>\n      <td>1</td>\n      <td>2015</td>\n      <td>0</td>\n      <td>0</td>\n      <td>0</td>\n    </tr>\n  </tbody>\n</table>\n</div>"
     },
     "execution_count": 10,
     "metadata": {},
     "output_type": "execute_result"
    }
   ],
   "source": [
    "df_aqi_mean = date_gen.add_date_info(df_aqi_mean)\n",
    "df_aqi_mean.head()"
   ],
   "metadata": {
    "collapsed": false,
    "ExecuteTime": {
     "start_time": "2023-04-08T08:28:02.492381Z",
     "end_time": "2023-04-08T08:28:02.502400Z"
    }
   }
  },
  {
   "cell_type": "markdown",
   "source": [
    "#### Добавление лагов"
   ],
   "metadata": {
    "collapsed": false
   }
  },
  {
   "cell_type": "code",
   "execution_count": 11,
   "outputs": [],
   "source": [
    "def get_all_concentration_and_aqi_columns(df):\n",
    "    return [x for x in df.columns.values if [p for p in POL_CODES if x.endswith(POL_NAMES[p])]] + ['AQI'] + ['Pollutant']\n",
    "\n",
    "def get_aqi_columns(df):\n",
    "    return [x for x in df.columns.values if x.startswith('AQI') and [p for p in POL_CODES if x.endswith(POL_NAMES[p])]] + ['AQI']\n",
    "\n",
    "def get_concentration_columns_by_method(df, method):\n",
    "    return [x for x in df.columns.values if x.startswith(f'C_{method}') and [p for p in POL_CODES if x.endswith(POL_NAMES[p])]]"
   ],
   "metadata": {
    "collapsed": false,
    "ExecuteTime": {
     "start_time": "2023-04-08T08:28:05.188611Z",
     "end_time": "2023-04-08T08:28:05.190420Z"
    }
   }
  },
  {
   "cell_type": "code",
   "execution_count": 14,
   "outputs": [],
   "source": [
    "@timeit(show_args=False)\n",
    "def get_lag_data_shift(df: pd.DataFrame) -> pd.DataFrame:\n",
    "    method_name = 'get_lag_data_shift'\n",
    "    print(f'-------------------------------------------')\n",
    "    print(f'{method_name} started')\n",
    "    df_c = df.copy(deep=True)\n",
    "    target_cols = get_all_concentration_and_aqi_columns(df_c)\n",
    "    lags = [7, 8, 9, 10, 11, 12,  13, 14, 21, 28]\n",
    "\n",
    "    for column in target_cols:\n",
    "        for lag in lags:\n",
    "            df_c[f'{column}_lag{lag}'] = df[column].shift(lag)\n",
    "\n",
    "    print(f'{method_name} finished')\n",
    "    return df_c\n",
    "\n",
    "@timeit(show_args=False)\n",
    "def get_lag_data_aqi(df: pd.DataFrame) -> pd.DataFrame:\n",
    "        method_name = 'get_lag_data_aqi'\n",
    "        print(f'-------------------------------------------')\n",
    "        print(f'{method_name} started')\n",
    "\n",
    "        target_cols = get_aqi_columns(df)\n",
    "        id_cols = []\n",
    "        date_col = 'DatetimeEnd'\n",
    "        filters = ['NoFilter', 'weekday', 'month']\n",
    "\n",
    "        windows = {\n",
    "            'NoFilter': ['3D', '5D', '7D', '14D', '28D'],\n",
    "            'weekday':  ['28D', '56D'],\n",
    "            'month':    ['90D']\n",
    "        }\n",
    "        lags = [7, 10, 14, 21, 28]\n",
    "        agg_methods = ['mean', 'median', lag_gen.percentile(10),  lag_gen.percentile(90)] #, pd.Series.skew, pd.Series.kurtosis]\n",
    "        ewm_params={\n",
    "            'NoFilter': [7, 14, 21, 28],\n",
    "            'weekday': [28, 56],\n",
    "            'month': [90],\n",
    "        }\n",
    "        df['NoFilter'] = 1\n",
    "\n",
    "        total = len(target_cols) * len(lags) * len(windows) * len(agg_methods) * len(filters)\n",
    "        print(f'New columns count: {total}')\n",
    "\n",
    "        df_lagged_features = lag_gen.generate_lagged_features(df\n",
    "                    , target_cols = target_cols\n",
    "                    , id_cols = id_cols\n",
    "                    , date_col = date_col\n",
    "                    , lags = lags\n",
    "                    , windows = windows\n",
    "                    , preagg_methods = ['mean']\n",
    "                    , agg_methods = agg_methods\n",
    "                    , dynamic_filters = filters\n",
    "                    , ewm_params=ewm_params\n",
    "                    )\n",
    "        df_lagged_features.set_index(date_col, inplace = True)\n",
    "\n",
    "        print(f'{method_name} finished')\n",
    "        return df_lagged_features\n",
    "\n",
    "@timeit(show_args=False)\n",
    "def get_lag_data_concentration(df: pd.DataFrame, method) -> pd.DataFrame:\n",
    "        method_name = 'get_lag_data_concentration'\n",
    "        print(f'-------------------------------------------')\n",
    "        print(f'{method_name} started for {method}')\n",
    "\n",
    "        target_cols = get_concentration_columns_by_method(df, method)\n",
    "        id_cols = []\n",
    "        date_col = 'DatetimeEnd'\n",
    "        filters = ['NoFilter', 'weekday', 'month']\n",
    "\n",
    "        windows = {\n",
    "            'NoFilter': ['3D', '5D', '7D', '14D', '28D'],\n",
    "            'weekday':  ['28D', '42D'],\n",
    "            'month':    ['7D', '14D', '28D']\n",
    "        }\n",
    "\n",
    "        lags = [7, 10, 14, 21, 28]\n",
    "        agg_methods = [method]\n",
    "        ewm_params={\n",
    "            'NoFilter': [7, 14, 21, 28],\n",
    "            'weekday': [7, 14, 21, 28],\n",
    "            'month': [7, 14, 21, 28],\n",
    "        }\n",
    "        df['NoFilter'] = 1\n",
    "\n",
    "        total = len(target_cols) * len(lags) * len(windows) * len(agg_methods) * len(filters)\n",
    "        print(f'New columns count: {total}')\n",
    "\n",
    "        df_lagged_features = lag_gen.generate_lagged_features(df\n",
    "                    , target_cols = target_cols\n",
    "                    , id_cols = id_cols\n",
    "                    , date_col = date_col\n",
    "                    , lags = lags\n",
    "                    , windows = windows\n",
    "                    , preagg_methods = ['mean']\n",
    "                    , agg_methods = agg_methods\n",
    "                    , dynamic_filters = filters\n",
    "                    , ewm_params=ewm_params\n",
    "                    )\n",
    "        df_lagged_features.set_index(date_col, inplace = True)\n",
    "\n",
    "        print(f'{method_name} finished')\n",
    "        return df_lagged_features\n",
    "\n",
    "def get_all_lag_data(df: pd.DataFrame) -> pd.DataFrame:\n",
    "    g_shift = get_lag_data_shift(df)\n",
    "    g_shift = get_lag_data_aqi(g_shift)\n",
    "    for method in CONCENTRATION_AGGREGATES_FOR_LAGS:\n",
    "        g_shift = get_lag_data_concentration(g_shift, method)\n",
    "    return g_shift"
   ],
   "metadata": {
    "collapsed": false,
    "ExecuteTime": {
     "start_time": "2023-04-08T08:29:55.191449Z",
     "end_time": "2023-04-08T08:29:55.202663Z"
    }
   }
  },
  {
   "cell_type": "code",
   "execution_count": 15,
   "outputs": [
    {
     "name": "stdout",
     "output_type": "stream",
     "text": [
      "-------------------------------------------\n",
      "get_lag_data_shift started\n",
      "get_lag_data_shift finished\n",
      "Function get_lag_data_shift Took 0.0057 seconds\n",
      "-------------------------------------------\n",
      "get_lag_data_aqi started\n",
      "New columns count: 120\n"
     ]
    },
    {
     "ename": "TypeError",
     "evalue": "datetime64 type does not support sum operations",
     "output_type": "error",
     "traceback": [
      "\u001B[0;31m---------------------------------------------------------------------------\u001B[0m",
      "\u001B[0;31mTypeError\u001B[0m                                 Traceback (most recent call last)",
      "File \u001B[0;32m~/work/projects/air_pol/air_pollution_predict/airpollpredictor/venv/lib/python3.10/site-packages/pandas/core/groupby/groupby.py:1353\u001B[0m, in \u001B[0;36mGroupBy.apply\u001B[0;34m(self, func, *args, **kwargs)\u001B[0m\n\u001B[1;32m   1352\u001B[0m \u001B[38;5;28;01mtry\u001B[39;00m:\n\u001B[0;32m-> 1353\u001B[0m     result \u001B[38;5;241m=\u001B[39m \u001B[38;5;28;43mself\u001B[39;49m\u001B[38;5;241;43m.\u001B[39;49m\u001B[43m_python_apply_general\u001B[49m\u001B[43m(\u001B[49m\u001B[43mf\u001B[49m\u001B[43m,\u001B[49m\u001B[43m \u001B[49m\u001B[38;5;28;43mself\u001B[39;49m\u001B[38;5;241;43m.\u001B[39;49m\u001B[43m_selected_obj\u001B[49m\u001B[43m)\u001B[49m\n\u001B[1;32m   1354\u001B[0m \u001B[38;5;28;01mexcept\u001B[39;00m \u001B[38;5;167;01mTypeError\u001B[39;00m:\n\u001B[1;32m   1355\u001B[0m     \u001B[38;5;66;03m# gh-20949\u001B[39;00m\n\u001B[1;32m   1356\u001B[0m     \u001B[38;5;66;03m# try again, with .apply acting as a filtering\u001B[39;00m\n\u001B[0;32m   (...)\u001B[0m\n\u001B[1;32m   1360\u001B[0m     \u001B[38;5;66;03m# fails on *some* columns, e.g. a numeric operation\u001B[39;00m\n\u001B[1;32m   1361\u001B[0m     \u001B[38;5;66;03m# on a string grouper column\u001B[39;00m\n",
      "File \u001B[0;32m~/work/projects/air_pol/air_pollution_predict/airpollpredictor/venv/lib/python3.10/site-packages/pandas/core/groupby/groupby.py:1402\u001B[0m, in \u001B[0;36mGroupBy._python_apply_general\u001B[0;34m(self, f, data, not_indexed_same, is_transform, is_agg)\u001B[0m\n\u001B[1;32m   1376\u001B[0m \u001B[38;5;250m\u001B[39m\u001B[38;5;124;03m\"\"\"\u001B[39;00m\n\u001B[1;32m   1377\u001B[0m \u001B[38;5;124;03mApply function f in python space\u001B[39;00m\n\u001B[1;32m   1378\u001B[0m \n\u001B[0;32m   (...)\u001B[0m\n\u001B[1;32m   1400\u001B[0m \u001B[38;5;124;03m    data after applying f\u001B[39;00m\n\u001B[1;32m   1401\u001B[0m \u001B[38;5;124;03m\"\"\"\u001B[39;00m\n\u001B[0;32m-> 1402\u001B[0m values, mutated \u001B[38;5;241m=\u001B[39m \u001B[38;5;28;43mself\u001B[39;49m\u001B[38;5;241;43m.\u001B[39;49m\u001B[43mgrouper\u001B[49m\u001B[38;5;241;43m.\u001B[39;49m\u001B[43mapply\u001B[49m\u001B[43m(\u001B[49m\u001B[43mf\u001B[49m\u001B[43m,\u001B[49m\u001B[43m \u001B[49m\u001B[43mdata\u001B[49m\u001B[43m,\u001B[49m\u001B[43m \u001B[49m\u001B[38;5;28;43mself\u001B[39;49m\u001B[38;5;241;43m.\u001B[39;49m\u001B[43maxis\u001B[49m\u001B[43m)\u001B[49m\n\u001B[1;32m   1403\u001B[0m \u001B[38;5;28;01mif\u001B[39;00m not_indexed_same \u001B[38;5;129;01mis\u001B[39;00m \u001B[38;5;28;01mNone\u001B[39;00m:\n",
      "File \u001B[0;32m~/work/projects/air_pol/air_pollution_predict/airpollpredictor/venv/lib/python3.10/site-packages/pandas/core/groupby/ops.py:767\u001B[0m, in \u001B[0;36mBaseGrouper.apply\u001B[0;34m(self, f, data, axis)\u001B[0m\n\u001B[1;32m    766\u001B[0m group_axes \u001B[38;5;241m=\u001B[39m group\u001B[38;5;241m.\u001B[39maxes\n\u001B[0;32m--> 767\u001B[0m res \u001B[38;5;241m=\u001B[39m \u001B[43mf\u001B[49m\u001B[43m(\u001B[49m\u001B[43mgroup\u001B[49m\u001B[43m)\u001B[49m\n\u001B[1;32m    768\u001B[0m \u001B[38;5;28;01mif\u001B[39;00m \u001B[38;5;129;01mnot\u001B[39;00m mutated \u001B[38;5;129;01mand\u001B[39;00m \u001B[38;5;129;01mnot\u001B[39;00m _is_indexed_like(res, group_axes, axis):\n",
      "File \u001B[0;32m~/work/projects/air_pol/air_pollution_predict/airpollpredictor/venv/lib/python3.10/site-packages/pandas/core/groupby/groupby.py:1341\u001B[0m, in \u001B[0;36mGroupBy.apply.<locals>.f\u001B[0;34m(g)\u001B[0m\n\u001B[1;32m   1340\u001B[0m \u001B[38;5;28;01mwith\u001B[39;00m np\u001B[38;5;241m.\u001B[39merrstate(\u001B[38;5;28mall\u001B[39m\u001B[38;5;241m=\u001B[39m\u001B[38;5;124m\"\u001B[39m\u001B[38;5;124mignore\u001B[39m\u001B[38;5;124m\"\u001B[39m):\n\u001B[0;32m-> 1341\u001B[0m     \u001B[38;5;28;01mreturn\u001B[39;00m \u001B[43mfunc\u001B[49m\u001B[43m(\u001B[49m\u001B[43mg\u001B[49m\u001B[43m,\u001B[49m\u001B[43m \u001B[49m\u001B[38;5;241;43m*\u001B[39;49m\u001B[43margs\u001B[49m\u001B[43m,\u001B[49m\u001B[43m \u001B[49m\u001B[38;5;241;43m*\u001B[39;49m\u001B[38;5;241;43m*\u001B[39;49m\u001B[43mkwargs\u001B[49m\u001B[43m)\u001B[49m\n",
      "File \u001B[0;32m~/work/projects/air_pol/air_pollution_predict/airpollpredictor/data_preprocessing/features_generations/ts_lag_features_generator.py:39\u001B[0m, in \u001B[0;36mfill_missing_dates\u001B[0;34m(df_source, date_col)\u001B[0m\n\u001B[1;32m     38\u001B[0m groupby_day \u001B[38;5;241m=\u001B[39m df_source\u001B[38;5;241m.\u001B[39mgroupby(pd\u001B[38;5;241m.\u001B[39mPeriodIndex(df_source[date_col], freq\u001B[38;5;241m=\u001B[39m\u001B[38;5;124m'\u001B[39m\u001B[38;5;124mD\u001B[39m\u001B[38;5;124m'\u001B[39m))\n\u001B[0;32m---> 39\u001B[0m results \u001B[38;5;241m=\u001B[39m \u001B[43mgroupby_day\u001B[49m\u001B[38;5;241;43m.\u001B[39;49m\u001B[43msum\u001B[49m\u001B[43m(\u001B[49m\u001B[43mmin_count\u001B[49m\u001B[38;5;241;43m=\u001B[39;49m\u001B[38;5;241;43m1\u001B[39;49m\u001B[43m)\u001B[49m\n\u001B[1;32m     41\u001B[0m idx \u001B[38;5;241m=\u001B[39m pd\u001B[38;5;241m.\u001B[39mperiod_range(min_date, max_date)\n",
      "File \u001B[0;32m~/work/projects/air_pol/air_pollution_predict/airpollpredictor/venv/lib/python3.10/site-packages/pandas/core/groupby/groupby.py:2263\u001B[0m, in \u001B[0;36mGroupBy.sum\u001B[0;34m(self, numeric_only, min_count, engine, engine_kwargs)\u001B[0m\n\u001B[1;32m   2262\u001B[0m \u001B[38;5;28;01mwith\u001B[39;00m com\u001B[38;5;241m.\u001B[39mtemp_setattr(\u001B[38;5;28mself\u001B[39m, \u001B[38;5;124m\"\u001B[39m\u001B[38;5;124mobserved\u001B[39m\u001B[38;5;124m\"\u001B[39m, \u001B[38;5;28;01mTrue\u001B[39;00m):\n\u001B[0;32m-> 2263\u001B[0m     result \u001B[38;5;241m=\u001B[39m \u001B[38;5;28;43mself\u001B[39;49m\u001B[38;5;241;43m.\u001B[39;49m\u001B[43m_agg_general\u001B[49m\u001B[43m(\u001B[49m\n\u001B[1;32m   2264\u001B[0m \u001B[43m        \u001B[49m\u001B[43mnumeric_only\u001B[49m\u001B[38;5;241;43m=\u001B[39;49m\u001B[43mnumeric_only\u001B[49m\u001B[43m,\u001B[49m\n\u001B[1;32m   2265\u001B[0m \u001B[43m        \u001B[49m\u001B[43mmin_count\u001B[49m\u001B[38;5;241;43m=\u001B[39;49m\u001B[43mmin_count\u001B[49m\u001B[43m,\u001B[49m\n\u001B[1;32m   2266\u001B[0m \u001B[43m        \u001B[49m\u001B[43malias\u001B[49m\u001B[38;5;241;43m=\u001B[39;49m\u001B[38;5;124;43m\"\u001B[39;49m\u001B[38;5;124;43msum\u001B[39;49m\u001B[38;5;124;43m\"\u001B[39;49m\u001B[43m,\u001B[49m\n\u001B[1;32m   2267\u001B[0m \u001B[43m        \u001B[49m\u001B[43mnpfunc\u001B[49m\u001B[38;5;241;43m=\u001B[39;49m\u001B[43mnp\u001B[49m\u001B[38;5;241;43m.\u001B[39;49m\u001B[43msum\u001B[49m\u001B[43m,\u001B[49m\n\u001B[1;32m   2268\u001B[0m \u001B[43m    \u001B[49m\u001B[43m)\u001B[49m\n\u001B[1;32m   2270\u001B[0m \u001B[38;5;28;01mreturn\u001B[39;00m \u001B[38;5;28mself\u001B[39m\u001B[38;5;241m.\u001B[39m_reindex_output(result, fill_value\u001B[38;5;241m=\u001B[39m\u001B[38;5;241m0\u001B[39m)\n",
      "File \u001B[0;32m~/work/projects/air_pol/air_pollution_predict/airpollpredictor/venv/lib/python3.10/site-packages/pandas/core/groupby/groupby.py:1422\u001B[0m, in \u001B[0;36mGroupBy._agg_general\u001B[0;34m(self, numeric_only, min_count, alias, npfunc)\u001B[0m\n\u001B[1;32m   1413\u001B[0m \u001B[38;5;129m@final\u001B[39m\n\u001B[1;32m   1414\u001B[0m \u001B[38;5;28;01mdef\u001B[39;00m \u001B[38;5;21m_agg_general\u001B[39m(\n\u001B[1;32m   1415\u001B[0m     \u001B[38;5;28mself\u001B[39m,\n\u001B[0;32m   (...)\u001B[0m\n\u001B[1;32m   1420\u001B[0m     npfunc: Callable,\n\u001B[1;32m   1421\u001B[0m ):\n\u001B[0;32m-> 1422\u001B[0m     result \u001B[38;5;241m=\u001B[39m \u001B[38;5;28;43mself\u001B[39;49m\u001B[38;5;241;43m.\u001B[39;49m\u001B[43m_cython_agg_general\u001B[49m\u001B[43m(\u001B[49m\n\u001B[1;32m   1423\u001B[0m \u001B[43m        \u001B[49m\u001B[43mhow\u001B[49m\u001B[38;5;241;43m=\u001B[39;49m\u001B[43malias\u001B[49m\u001B[43m,\u001B[49m\n\u001B[1;32m   1424\u001B[0m \u001B[43m        \u001B[49m\u001B[43malt\u001B[49m\u001B[38;5;241;43m=\u001B[39;49m\u001B[43mnpfunc\u001B[49m\u001B[43m,\u001B[49m\n\u001B[1;32m   1425\u001B[0m \u001B[43m        \u001B[49m\u001B[43mnumeric_only\u001B[49m\u001B[38;5;241;43m=\u001B[39;49m\u001B[43mnumeric_only\u001B[49m\u001B[43m,\u001B[49m\n\u001B[1;32m   1426\u001B[0m \u001B[43m        \u001B[49m\u001B[43mmin_count\u001B[49m\u001B[38;5;241;43m=\u001B[39;49m\u001B[43mmin_count\u001B[49m\u001B[43m,\u001B[49m\n\u001B[1;32m   1427\u001B[0m \u001B[43m    \u001B[49m\u001B[43m)\u001B[49m\n\u001B[1;32m   1428\u001B[0m     \u001B[38;5;28;01mreturn\u001B[39;00m result\u001B[38;5;241m.\u001B[39m__finalize__(\u001B[38;5;28mself\u001B[39m\u001B[38;5;241m.\u001B[39mobj, method\u001B[38;5;241m=\u001B[39m\u001B[38;5;124m\"\u001B[39m\u001B[38;5;124mgroupby\u001B[39m\u001B[38;5;124m\"\u001B[39m)\n",
      "File \u001B[0;32m~/work/projects/air_pol/air_pollution_predict/airpollpredictor/venv/lib/python3.10/site-packages/pandas/core/groupby/groupby.py:1507\u001B[0m, in \u001B[0;36mGroupBy._cython_agg_general\u001B[0;34m(self, how, alt, numeric_only, min_count, **kwargs)\u001B[0m\n\u001B[1;32m   1505\u001B[0m     \u001B[38;5;28;01mreturn\u001B[39;00m result\n\u001B[0;32m-> 1507\u001B[0m new_mgr \u001B[38;5;241m=\u001B[39m \u001B[43mdata\u001B[49m\u001B[38;5;241;43m.\u001B[39;49m\u001B[43mgrouped_reduce\u001B[49m\u001B[43m(\u001B[49m\u001B[43marray_func\u001B[49m\u001B[43m)\u001B[49m\n\u001B[1;32m   1508\u001B[0m res \u001B[38;5;241m=\u001B[39m \u001B[38;5;28mself\u001B[39m\u001B[38;5;241m.\u001B[39m_wrap_agged_manager(new_mgr)\n",
      "File \u001B[0;32m~/work/projects/air_pol/air_pollution_predict/airpollpredictor/venv/lib/python3.10/site-packages/pandas/core/internals/managers.py:1506\u001B[0m, in \u001B[0;36mBlockManager.grouped_reduce\u001B[0;34m(self, func)\u001B[0m\n\u001B[1;32m   1505\u001B[0m \u001B[38;5;28;01melse\u001B[39;00m:\n\u001B[0;32m-> 1506\u001B[0m     applied \u001B[38;5;241m=\u001B[39m \u001B[43mblk\u001B[49m\u001B[38;5;241;43m.\u001B[39;49m\u001B[43mapply\u001B[49m\u001B[43m(\u001B[49m\u001B[43mfunc\u001B[49m\u001B[43m)\u001B[49m\n\u001B[1;32m   1507\u001B[0m     result_blocks \u001B[38;5;241m=\u001B[39m extend_blocks(applied, result_blocks)\n",
      "File \u001B[0;32m~/work/projects/air_pol/air_pollution_predict/airpollpredictor/venv/lib/python3.10/site-packages/pandas/core/internals/blocks.py:329\u001B[0m, in \u001B[0;36mBlock.apply\u001B[0;34m(self, func, **kwargs)\u001B[0m\n\u001B[1;32m    325\u001B[0m \u001B[38;5;250m\u001B[39m\u001B[38;5;124;03m\"\"\"\u001B[39;00m\n\u001B[1;32m    326\u001B[0m \u001B[38;5;124;03mapply the function to my values; return a block if we are not\u001B[39;00m\n\u001B[1;32m    327\u001B[0m \u001B[38;5;124;03mone\u001B[39;00m\n\u001B[1;32m    328\u001B[0m \u001B[38;5;124;03m\"\"\"\u001B[39;00m\n\u001B[0;32m--> 329\u001B[0m result \u001B[38;5;241m=\u001B[39m \u001B[43mfunc\u001B[49m\u001B[43m(\u001B[49m\u001B[38;5;28;43mself\u001B[39;49m\u001B[38;5;241;43m.\u001B[39;49m\u001B[43mvalues\u001B[49m\u001B[43m,\u001B[49m\u001B[43m \u001B[49m\u001B[38;5;241;43m*\u001B[39;49m\u001B[38;5;241;43m*\u001B[39;49m\u001B[43mkwargs\u001B[49m\u001B[43m)\u001B[49m\n\u001B[1;32m    331\u001B[0m \u001B[38;5;28;01mreturn\u001B[39;00m \u001B[38;5;28mself\u001B[39m\u001B[38;5;241m.\u001B[39m_split_op_result(result)\n",
      "File \u001B[0;32m~/work/projects/air_pol/air_pollution_predict/airpollpredictor/venv/lib/python3.10/site-packages/pandas/core/groupby/groupby.py:1490\u001B[0m, in \u001B[0;36mGroupBy._cython_agg_general.<locals>.array_func\u001B[0;34m(values)\u001B[0m\n\u001B[1;32m   1489\u001B[0m \u001B[38;5;28;01mtry\u001B[39;00m:\n\u001B[0;32m-> 1490\u001B[0m     result \u001B[38;5;241m=\u001B[39m \u001B[38;5;28;43mself\u001B[39;49m\u001B[38;5;241;43m.\u001B[39;49m\u001B[43mgrouper\u001B[49m\u001B[38;5;241;43m.\u001B[39;49m\u001B[43m_cython_operation\u001B[49m\u001B[43m(\u001B[49m\n\u001B[1;32m   1491\u001B[0m \u001B[43m        \u001B[49m\u001B[38;5;124;43m\"\u001B[39;49m\u001B[38;5;124;43maggregate\u001B[39;49m\u001B[38;5;124;43m\"\u001B[39;49m\u001B[43m,\u001B[49m\n\u001B[1;32m   1492\u001B[0m \u001B[43m        \u001B[49m\u001B[43mvalues\u001B[49m\u001B[43m,\u001B[49m\n\u001B[1;32m   1493\u001B[0m \u001B[43m        \u001B[49m\u001B[43mhow\u001B[49m\u001B[43m,\u001B[49m\n\u001B[1;32m   1494\u001B[0m \u001B[43m        \u001B[49m\u001B[43maxis\u001B[49m\u001B[38;5;241;43m=\u001B[39;49m\u001B[43mdata\u001B[49m\u001B[38;5;241;43m.\u001B[39;49m\u001B[43mndim\u001B[49m\u001B[43m \u001B[49m\u001B[38;5;241;43m-\u001B[39;49m\u001B[43m \u001B[49m\u001B[38;5;241;43m1\u001B[39;49m\u001B[43m,\u001B[49m\n\u001B[1;32m   1495\u001B[0m \u001B[43m        \u001B[49m\u001B[43mmin_count\u001B[49m\u001B[38;5;241;43m=\u001B[39;49m\u001B[43mmin_count\u001B[49m\u001B[43m,\u001B[49m\n\u001B[1;32m   1496\u001B[0m \u001B[43m        \u001B[49m\u001B[38;5;241;43m*\u001B[39;49m\u001B[38;5;241;43m*\u001B[39;49m\u001B[43mkwargs\u001B[49m\u001B[43m,\u001B[49m\n\u001B[1;32m   1497\u001B[0m \u001B[43m    \u001B[49m\u001B[43m)\u001B[49m\n\u001B[1;32m   1498\u001B[0m \u001B[38;5;28;01mexcept\u001B[39;00m \u001B[38;5;167;01mNotImplementedError\u001B[39;00m:\n\u001B[1;32m   1499\u001B[0m     \u001B[38;5;66;03m# generally if we have numeric_only=False\u001B[39;00m\n\u001B[1;32m   1500\u001B[0m     \u001B[38;5;66;03m# and non-applicable functions\u001B[39;00m\n\u001B[1;32m   1501\u001B[0m     \u001B[38;5;66;03m# try to python agg\u001B[39;00m\n\u001B[1;32m   1502\u001B[0m     \u001B[38;5;66;03m# TODO: shouldn't min_count matter?\u001B[39;00m\n",
      "File \u001B[0;32m~/work/projects/air_pol/air_pollution_predict/airpollpredictor/venv/lib/python3.10/site-packages/pandas/core/groupby/ops.py:959\u001B[0m, in \u001B[0;36mBaseGrouper._cython_operation\u001B[0;34m(self, kind, values, how, axis, min_count, **kwargs)\u001B[0m\n\u001B[1;32m    958\u001B[0m ngroups \u001B[38;5;241m=\u001B[39m \u001B[38;5;28mself\u001B[39m\u001B[38;5;241m.\u001B[39mngroups\n\u001B[0;32m--> 959\u001B[0m \u001B[38;5;28;01mreturn\u001B[39;00m \u001B[43mcy_op\u001B[49m\u001B[38;5;241;43m.\u001B[39;49m\u001B[43mcython_operation\u001B[49m\u001B[43m(\u001B[49m\n\u001B[1;32m    960\u001B[0m \u001B[43m    \u001B[49m\u001B[43mvalues\u001B[49m\u001B[38;5;241;43m=\u001B[39;49m\u001B[43mvalues\u001B[49m\u001B[43m,\u001B[49m\n\u001B[1;32m    961\u001B[0m \u001B[43m    \u001B[49m\u001B[43maxis\u001B[49m\u001B[38;5;241;43m=\u001B[39;49m\u001B[43maxis\u001B[49m\u001B[43m,\u001B[49m\n\u001B[1;32m    962\u001B[0m \u001B[43m    \u001B[49m\u001B[43mmin_count\u001B[49m\u001B[38;5;241;43m=\u001B[39;49m\u001B[43mmin_count\u001B[49m\u001B[43m,\u001B[49m\n\u001B[1;32m    963\u001B[0m \u001B[43m    \u001B[49m\u001B[43mcomp_ids\u001B[49m\u001B[38;5;241;43m=\u001B[39;49m\u001B[43mids\u001B[49m\u001B[43m,\u001B[49m\n\u001B[1;32m    964\u001B[0m \u001B[43m    \u001B[49m\u001B[43mngroups\u001B[49m\u001B[38;5;241;43m=\u001B[39;49m\u001B[43mngroups\u001B[49m\u001B[43m,\u001B[49m\n\u001B[1;32m    965\u001B[0m \u001B[43m    \u001B[49m\u001B[38;5;241;43m*\u001B[39;49m\u001B[38;5;241;43m*\u001B[39;49m\u001B[43mkwargs\u001B[49m\u001B[43m,\u001B[49m\n\u001B[1;32m    966\u001B[0m \u001B[43m\u001B[49m\u001B[43m)\u001B[49m\n",
      "File \u001B[0;32m~/work/projects/air_pol/air_pollution_predict/airpollpredictor/venv/lib/python3.10/site-packages/pandas/core/groupby/ops.py:645\u001B[0m, in \u001B[0;36mWrappedCythonOp.cython_operation\u001B[0;34m(self, values, axis, min_count, comp_ids, ngroups, **kwargs)\u001B[0m\n\u001B[1;32m    643\u001B[0m \u001B[38;5;66;03m# can we do this operation with our cython functions\u001B[39;00m\n\u001B[1;32m    644\u001B[0m \u001B[38;5;66;03m# if not raise NotImplementedError\u001B[39;00m\n\u001B[0;32m--> 645\u001B[0m \u001B[38;5;28;43mself\u001B[39;49m\u001B[38;5;241;43m.\u001B[39;49m\u001B[43m_disallow_invalid_ops\u001B[49m\u001B[43m(\u001B[49m\u001B[43mdtype\u001B[49m\u001B[43m,\u001B[49m\u001B[43m \u001B[49m\u001B[43mis_numeric\u001B[49m\u001B[43m)\u001B[49m\n\u001B[1;32m    647\u001B[0m \u001B[38;5;28;01mif\u001B[39;00m \u001B[38;5;129;01mnot\u001B[39;00m \u001B[38;5;28misinstance\u001B[39m(values, np\u001B[38;5;241m.\u001B[39mndarray):\n\u001B[1;32m    648\u001B[0m     \u001B[38;5;66;03m# i.e. ExtensionArray\u001B[39;00m\n",
      "File \u001B[0;32m~/work/projects/air_pol/air_pollution_predict/airpollpredictor/venv/lib/python3.10/site-packages/pandas/core/groupby/ops.py:257\u001B[0m, in \u001B[0;36mWrappedCythonOp._disallow_invalid_ops\u001B[0;34m(self, dtype, is_numeric)\u001B[0m\n\u001B[1;32m    256\u001B[0m     \u001B[38;5;28;01mif\u001B[39;00m how \u001B[38;5;129;01min\u001B[39;00m [\u001B[38;5;124m\"\u001B[39m\u001B[38;5;124msum\u001B[39m\u001B[38;5;124m\"\u001B[39m, \u001B[38;5;124m\"\u001B[39m\u001B[38;5;124mprod\u001B[39m\u001B[38;5;124m\"\u001B[39m, \u001B[38;5;124m\"\u001B[39m\u001B[38;5;124mcumsum\u001B[39m\u001B[38;5;124m\"\u001B[39m, \u001B[38;5;124m\"\u001B[39m\u001B[38;5;124mcumprod\u001B[39m\u001B[38;5;124m\"\u001B[39m]:\n\u001B[0;32m--> 257\u001B[0m         \u001B[38;5;28;01mraise\u001B[39;00m \u001B[38;5;167;01mTypeError\u001B[39;00m(\u001B[38;5;124mf\u001B[39m\u001B[38;5;124m\"\u001B[39m\u001B[38;5;124mdatetime64 type does not support \u001B[39m\u001B[38;5;132;01m{\u001B[39;00mhow\u001B[38;5;132;01m}\u001B[39;00m\u001B[38;5;124m operations\u001B[39m\u001B[38;5;124m\"\u001B[39m)\n\u001B[1;32m    258\u001B[0m \u001B[38;5;28;01melif\u001B[39;00m is_period_dtype(dtype):\n\u001B[1;32m    259\u001B[0m     \u001B[38;5;66;03m# Adding/multiplying Periods is not valid\u001B[39;00m\n",
      "\u001B[0;31mTypeError\u001B[0m: datetime64 type does not support sum operations",
      "\nDuring handling of the above exception, another exception occurred:\n",
      "\u001B[0;31mTypeError\u001B[0m                                 Traceback (most recent call last)",
      "Cell \u001B[0;32mIn[15], line 1\u001B[0m\n\u001B[0;32m----> 1\u001B[0m df_aqi_mean_lags \u001B[38;5;241m=\u001B[39m \u001B[43mget_all_lag_data\u001B[49m\u001B[43m(\u001B[49m\u001B[43mdf_aqi_mean\u001B[49m\u001B[43m)\u001B[49m\n\u001B[1;32m      2\u001B[0m save_calc(df_aqi_mean_lags, \u001B[38;5;124m'\u001B[39m\u001B[38;5;124maqi_all_enrich_test.csv\u001B[39m\u001B[38;5;124m'\u001B[39m)\n\u001B[1;32m      3\u001B[0m df_aqi_mean_lags\u001B[38;5;241m.\u001B[39mhead()\n",
      "Cell \u001B[0;32mIn[14], line 122\u001B[0m, in \u001B[0;36mget_all_lag_data\u001B[0;34m(df)\u001B[0m\n\u001B[1;32m    120\u001B[0m \u001B[38;5;28;01mdef\u001B[39;00m \u001B[38;5;21mget_all_lag_data\u001B[39m(df: pd\u001B[38;5;241m.\u001B[39mDataFrame) \u001B[38;5;241m-\u001B[39m\u001B[38;5;241m>\u001B[39m pd\u001B[38;5;241m.\u001B[39mDataFrame:\n\u001B[1;32m    121\u001B[0m     g_shift \u001B[38;5;241m=\u001B[39m get_lag_data_shift(df)\n\u001B[0;32m--> 122\u001B[0m     g_shift \u001B[38;5;241m=\u001B[39m \u001B[43mget_lag_data_aqi\u001B[49m\u001B[43m(\u001B[49m\u001B[43mg_shift\u001B[49m\u001B[43m)\u001B[49m\n\u001B[1;32m    123\u001B[0m     \u001B[38;5;28;01mfor\u001B[39;00m method \u001B[38;5;129;01min\u001B[39;00m CONCENTRATION_AGGREGATES_FOR_LAGS:\n\u001B[1;32m    124\u001B[0m         g_shift \u001B[38;5;241m=\u001B[39m get_lag_data_concentration(g_shift, method)\n",
      "Cell \u001B[0;32mIn[7], line 5\u001B[0m, in \u001B[0;36mtimeit.<locals>.timeit_func.<locals>.timeit_wrapper\u001B[0;34m(*args, **kwargs)\u001B[0m\n\u001B[1;32m      3\u001B[0m \u001B[38;5;28;01mdef\u001B[39;00m \u001B[38;5;21mtimeit_wrapper\u001B[39m(\u001B[38;5;241m*\u001B[39margs, \u001B[38;5;241m*\u001B[39m\u001B[38;5;241m*\u001B[39mkwargs):\n\u001B[1;32m      4\u001B[0m     start_time \u001B[38;5;241m=\u001B[39m time\u001B[38;5;241m.\u001B[39mperf_counter()\n\u001B[0;32m----> 5\u001B[0m     result \u001B[38;5;241m=\u001B[39m \u001B[43mfunc\u001B[49m\u001B[43m(\u001B[49m\u001B[38;5;241;43m*\u001B[39;49m\u001B[43margs\u001B[49m\u001B[43m,\u001B[49m\u001B[43m \u001B[49m\u001B[38;5;241;43m*\u001B[39;49m\u001B[38;5;241;43m*\u001B[39;49m\u001B[43mkwargs\u001B[49m\u001B[43m)\u001B[49m\n\u001B[1;32m      6\u001B[0m     end_time \u001B[38;5;241m=\u001B[39m time\u001B[38;5;241m.\u001B[39mperf_counter()\n\u001B[1;32m      7\u001B[0m     total_time \u001B[38;5;241m=\u001B[39m end_time \u001B[38;5;241m-\u001B[39m start_time\n",
      "Cell \u001B[0;32mIn[14], line 59\u001B[0m, in \u001B[0;36mget_lag_data_aqi\u001B[0;34m(df)\u001B[0m\n\u001B[1;32m     56\u001B[0m total \u001B[38;5;241m=\u001B[39m \u001B[38;5;28mlen\u001B[39m(target_cols) \u001B[38;5;241m*\u001B[39m \u001B[38;5;28mlen\u001B[39m(lags) \u001B[38;5;241m*\u001B[39m \u001B[38;5;28mlen\u001B[39m(windows) \u001B[38;5;241m*\u001B[39m \u001B[38;5;28mlen\u001B[39m(agg_methods) \u001B[38;5;241m*\u001B[39m \u001B[38;5;28mlen\u001B[39m(filters)\n\u001B[1;32m     57\u001B[0m \u001B[38;5;28mprint\u001B[39m(\u001B[38;5;124mf\u001B[39m\u001B[38;5;124m'\u001B[39m\u001B[38;5;124mNew columns count: \u001B[39m\u001B[38;5;132;01m{\u001B[39;00mtotal\u001B[38;5;132;01m}\u001B[39;00m\u001B[38;5;124m'\u001B[39m)\n\u001B[0;32m---> 59\u001B[0m df_lagged_features \u001B[38;5;241m=\u001B[39m \u001B[43mlag_gen\u001B[49m\u001B[38;5;241;43m.\u001B[39;49m\u001B[43mgenerate_lagged_features\u001B[49m\u001B[43m(\u001B[49m\u001B[43mdf\u001B[49m\n\u001B[1;32m     60\u001B[0m \u001B[43m            \u001B[49m\u001B[43m,\u001B[49m\u001B[43m \u001B[49m\u001B[43mtarget_cols\u001B[49m\u001B[43m \u001B[49m\u001B[38;5;241;43m=\u001B[39;49m\u001B[43m \u001B[49m\u001B[43mtarget_cols\u001B[49m\n\u001B[1;32m     61\u001B[0m \u001B[43m            \u001B[49m\u001B[43m,\u001B[49m\u001B[43m \u001B[49m\u001B[43mid_cols\u001B[49m\u001B[43m \u001B[49m\u001B[38;5;241;43m=\u001B[39;49m\u001B[43m \u001B[49m\u001B[43mid_cols\u001B[49m\n\u001B[1;32m     62\u001B[0m \u001B[43m            \u001B[49m\u001B[43m,\u001B[49m\u001B[43m \u001B[49m\u001B[43mdate_col\u001B[49m\u001B[43m \u001B[49m\u001B[38;5;241;43m=\u001B[39;49m\u001B[43m \u001B[49m\u001B[43mdate_col\u001B[49m\n\u001B[1;32m     63\u001B[0m \u001B[43m            \u001B[49m\u001B[43m,\u001B[49m\u001B[43m \u001B[49m\u001B[43mlags\u001B[49m\u001B[43m \u001B[49m\u001B[38;5;241;43m=\u001B[39;49m\u001B[43m \u001B[49m\u001B[43mlags\u001B[49m\n\u001B[1;32m     64\u001B[0m \u001B[43m            \u001B[49m\u001B[43m,\u001B[49m\u001B[43m \u001B[49m\u001B[43mwindows\u001B[49m\u001B[43m \u001B[49m\u001B[38;5;241;43m=\u001B[39;49m\u001B[43m \u001B[49m\u001B[43mwindows\u001B[49m\n\u001B[1;32m     65\u001B[0m \u001B[43m            \u001B[49m\u001B[43m,\u001B[49m\u001B[43m \u001B[49m\u001B[43mpreagg_methods\u001B[49m\u001B[43m \u001B[49m\u001B[38;5;241;43m=\u001B[39;49m\u001B[43m \u001B[49m\u001B[43m[\u001B[49m\u001B[38;5;124;43m'\u001B[39;49m\u001B[38;5;124;43mmean\u001B[39;49m\u001B[38;5;124;43m'\u001B[39;49m\u001B[43m]\u001B[49m\n\u001B[1;32m     66\u001B[0m \u001B[43m            \u001B[49m\u001B[43m,\u001B[49m\u001B[43m \u001B[49m\u001B[43magg_methods\u001B[49m\u001B[43m \u001B[49m\u001B[38;5;241;43m=\u001B[39;49m\u001B[43m \u001B[49m\u001B[43magg_methods\u001B[49m\n\u001B[1;32m     67\u001B[0m \u001B[43m            \u001B[49m\u001B[43m,\u001B[49m\u001B[43m \u001B[49m\u001B[43mdynamic_filters\u001B[49m\u001B[43m \u001B[49m\u001B[38;5;241;43m=\u001B[39;49m\u001B[43m \u001B[49m\u001B[43mfilters\u001B[49m\n\u001B[1;32m     68\u001B[0m \u001B[43m            \u001B[49m\u001B[43m,\u001B[49m\u001B[43m \u001B[49m\u001B[43mewm_params\u001B[49m\u001B[38;5;241;43m=\u001B[39;49m\u001B[43mewm_params\u001B[49m\n\u001B[1;32m     69\u001B[0m \u001B[43m            \u001B[49m\u001B[43m)\u001B[49m\n\u001B[1;32m     70\u001B[0m df_lagged_features\u001B[38;5;241m.\u001B[39mset_index(date_col, inplace \u001B[38;5;241m=\u001B[39m \u001B[38;5;28;01mTrue\u001B[39;00m)\n\u001B[1;32m     72\u001B[0m \u001B[38;5;28mprint\u001B[39m(\u001B[38;5;124mf\u001B[39m\u001B[38;5;124m'\u001B[39m\u001B[38;5;132;01m{\u001B[39;00mmethod_name\u001B[38;5;132;01m}\u001B[39;00m\u001B[38;5;124m finished\u001B[39m\u001B[38;5;124m'\u001B[39m)\n",
      "File \u001B[0;32m~/work/projects/air_pol/air_pollution_predict/airpollpredictor/data_preprocessing/features_generations/ts_lag_features_generator.py:168\u001B[0m, in \u001B[0;36mgenerate_lagged_features\u001B[0;34m(data, target_cols, id_cols, date_col, lags, windows, preagg_methods, agg_methods, dynamic_filters, ewm_params)\u001B[0m\n\u001B[1;32m    165\u001B[0m preagg_str \u001B[38;5;241m=\u001B[39m \u001B[38;5;124mf\u001B[39m\u001B[38;5;124m'\u001B[39m\u001B[38;5;124mpreag\u001B[39m\u001B[38;5;132;01m{\u001B[39;00mpreagg\u001B[38;5;132;01m}\u001B[39;00m\u001B[38;5;124m_\u001B[39m\u001B[38;5;124m'\u001B[39m \u001B[38;5;28;01mif\u001B[39;00m preagg_methods_count \u001B[38;5;241m>\u001B[39m \u001B[38;5;241m1\u001B[39m \u001B[38;5;28;01melse\u001B[39;00m \u001B[38;5;124m'\u001B[39m\u001B[38;5;124m'\u001B[39m\n\u001B[1;32m    166\u001B[0m filter_col_str \u001B[38;5;241m=\u001B[39m \u001B[38;5;124mf\u001B[39m\u001B[38;5;124m'\u001B[39m\u001B[38;5;124mfilt\u001B[39m\u001B[38;5;132;01m{\u001B[39;00mfilter_col\u001B[38;5;132;01m}\u001B[39;00m\u001B[38;5;124m'\u001B[39m \u001B[38;5;28;01mif\u001B[39;00m filter_count \u001B[38;5;241m>\u001B[39m \u001B[38;5;241m1\u001B[39m \u001B[38;5;28;01melse\u001B[39;00m \u001B[38;5;124m'\u001B[39m\u001B[38;5;124m'\u001B[39m\n\u001B[0;32m--> 168\u001B[0m data_preag_filled \u001B[38;5;241m=\u001B[39m \u001B[43mcalc_preag_fill\u001B[49m\u001B[43m(\u001B[49m\u001B[43mdata\u001B[49m\u001B[43m,\u001B[49m\u001B[43m \u001B[49m\u001B[43mgroup_col\u001B[49m\u001B[43m,\u001B[49m\u001B[43m \u001B[49m\u001B[43mdate_col\u001B[49m\u001B[43m,\u001B[49m\u001B[43m \u001B[49m\u001B[43mtarget_cols\u001B[49m\u001B[43m,\u001B[49m\u001B[43m \u001B[49m\u001B[43mpreagg\u001B[49m\u001B[43m)\u001B[49m\n\u001B[1;32m    170\u001B[0m \u001B[38;5;66;03m# add ewm features\u001B[39;00m\n\u001B[1;32m    171\u001B[0m \u001B[38;5;28;01mfor\u001B[39;00m alpha \u001B[38;5;129;01min\u001B[39;00m ewm_params\u001B[38;5;241m.\u001B[39mget(filter_col, []):\n",
      "File \u001B[0;32m~/work/projects/air_pol/air_pollution_predict/airpollpredictor/data_preprocessing/features_generations/ts_lag_features_generator.py:64\u001B[0m, in \u001B[0;36mcalc_preag_fill\u001B[0;34m(df_source, group_col, date_col, target_cols, preagg_method)\u001B[0m\n\u001B[1;32m     60\u001B[0m data_preag \u001B[38;5;241m=\u001B[39m df_source\u001B[38;5;241m.\u001B[39mgroupby(group_col)\u001B[38;5;241m.\u001B[39magg(\n\u001B[1;32m     61\u001B[0m     preagg_method)[target_cols]\u001B[38;5;241m.\u001B[39mreset_index()\n\u001B[1;32m     63\u001B[0m \u001B[38;5;66;03m# fill missing dates\u001B[39;00m\n\u001B[0;32m---> 64\u001B[0m data_preag_filled \u001B[38;5;241m=\u001B[39m \u001B[43mdata_preag\u001B[49m\u001B[38;5;241;43m.\u001B[39;49m\u001B[43mgroupby\u001B[49m\u001B[43m(\u001B[49m\u001B[43mgroup_col\u001B[49m\u001B[43m[\u001B[49m\u001B[43m:\u001B[49m\u001B[38;5;241;43m-\u001B[39;49m\u001B[38;5;241;43m1\u001B[39;49m\u001B[43m]\u001B[49m\u001B[43m)\u001B[49m\u001B[38;5;241;43m.\u001B[39;49m\u001B[43mapply\u001B[49m\u001B[43m(\u001B[49m\n\u001B[1;32m     65\u001B[0m \u001B[43m    \u001B[49m\u001B[43mfill_missing_dates\u001B[49m\u001B[43m,\u001B[49m\u001B[43m \u001B[49m\u001B[43mdate_col\u001B[49m\u001B[38;5;241;43m=\u001B[39;49m\u001B[43mdate_col\u001B[49m\u001B[43m)\u001B[49m\u001B[38;5;241m.\u001B[39mdrop(group_col[:\u001B[38;5;241m-\u001B[39m\u001B[38;5;241m1\u001B[39m],\n\u001B[1;32m     66\u001B[0m                                                 axis\u001B[38;5;241m=\u001B[39m\u001B[38;5;241m1\u001B[39m)\u001B[38;5;241m.\u001B[39mreset_index()\n\u001B[1;32m     68\u001B[0m \u001B[38;5;66;03m# return DataFrame with calculated preaggregation and filled missing dates\u001B[39;00m\n\u001B[1;32m     69\u001B[0m \u001B[38;5;28;01mreturn\u001B[39;00m data_preag_filled\n",
      "File \u001B[0;32m~/work/projects/air_pol/air_pollution_predict/airpollpredictor/venv/lib/python3.10/site-packages/pandas/core/groupby/groupby.py:1363\u001B[0m, in \u001B[0;36mGroupBy.apply\u001B[0;34m(self, func, *args, **kwargs)\u001B[0m\n\u001B[1;32m   1353\u001B[0m         result \u001B[38;5;241m=\u001B[39m \u001B[38;5;28mself\u001B[39m\u001B[38;5;241m.\u001B[39m_python_apply_general(f, \u001B[38;5;28mself\u001B[39m\u001B[38;5;241m.\u001B[39m_selected_obj)\n\u001B[1;32m   1354\u001B[0m     \u001B[38;5;28;01mexcept\u001B[39;00m \u001B[38;5;167;01mTypeError\u001B[39;00m:\n\u001B[1;32m   1355\u001B[0m         \u001B[38;5;66;03m# gh-20949\u001B[39;00m\n\u001B[1;32m   1356\u001B[0m         \u001B[38;5;66;03m# try again, with .apply acting as a filtering\u001B[39;00m\n\u001B[0;32m   (...)\u001B[0m\n\u001B[1;32m   1360\u001B[0m         \u001B[38;5;66;03m# fails on *some* columns, e.g. a numeric operation\u001B[39;00m\n\u001B[1;32m   1361\u001B[0m         \u001B[38;5;66;03m# on a string grouper column\u001B[39;00m\n\u001B[0;32m-> 1363\u001B[0m         \u001B[38;5;28;01mreturn\u001B[39;00m \u001B[38;5;28;43mself\u001B[39;49m\u001B[38;5;241;43m.\u001B[39;49m\u001B[43m_python_apply_general\u001B[49m\u001B[43m(\u001B[49m\u001B[43mf\u001B[49m\u001B[43m,\u001B[49m\u001B[43m \u001B[49m\u001B[38;5;28;43mself\u001B[39;49m\u001B[38;5;241;43m.\u001B[39;49m\u001B[43m_obj_with_exclusions\u001B[49m\u001B[43m)\u001B[49m\n\u001B[1;32m   1365\u001B[0m \u001B[38;5;28;01mreturn\u001B[39;00m result\n",
      "File \u001B[0;32m~/work/projects/air_pol/air_pollution_predict/airpollpredictor/venv/lib/python3.10/site-packages/pandas/core/groupby/groupby.py:1402\u001B[0m, in \u001B[0;36mGroupBy._python_apply_general\u001B[0;34m(self, f, data, not_indexed_same, is_transform, is_agg)\u001B[0m\n\u001B[1;32m   1367\u001B[0m \u001B[38;5;129m@final\u001B[39m\n\u001B[1;32m   1368\u001B[0m \u001B[38;5;28;01mdef\u001B[39;00m \u001B[38;5;21m_python_apply_general\u001B[39m(\n\u001B[1;32m   1369\u001B[0m     \u001B[38;5;28mself\u001B[39m,\n\u001B[0;32m   (...)\u001B[0m\n\u001B[1;32m   1374\u001B[0m     is_agg: \u001B[38;5;28mbool\u001B[39m \u001B[38;5;241m=\u001B[39m \u001B[38;5;28;01mFalse\u001B[39;00m,\n\u001B[1;32m   1375\u001B[0m ) \u001B[38;5;241m-\u001B[39m\u001B[38;5;241m>\u001B[39m NDFrameT:\n\u001B[1;32m   1376\u001B[0m \u001B[38;5;250m    \u001B[39m\u001B[38;5;124;03m\"\"\"\u001B[39;00m\n\u001B[1;32m   1377\u001B[0m \u001B[38;5;124;03m    Apply function f in python space\u001B[39;00m\n\u001B[1;32m   1378\u001B[0m \n\u001B[0;32m   (...)\u001B[0m\n\u001B[1;32m   1400\u001B[0m \u001B[38;5;124;03m        data after applying f\u001B[39;00m\n\u001B[1;32m   1401\u001B[0m \u001B[38;5;124;03m    \"\"\"\u001B[39;00m\n\u001B[0;32m-> 1402\u001B[0m     values, mutated \u001B[38;5;241m=\u001B[39m \u001B[38;5;28;43mself\u001B[39;49m\u001B[38;5;241;43m.\u001B[39;49m\u001B[43mgrouper\u001B[49m\u001B[38;5;241;43m.\u001B[39;49m\u001B[43mapply\u001B[49m\u001B[43m(\u001B[49m\u001B[43mf\u001B[49m\u001B[43m,\u001B[49m\u001B[43m \u001B[49m\u001B[43mdata\u001B[49m\u001B[43m,\u001B[49m\u001B[43m \u001B[49m\u001B[38;5;28;43mself\u001B[39;49m\u001B[38;5;241;43m.\u001B[39;49m\u001B[43maxis\u001B[49m\u001B[43m)\u001B[49m\n\u001B[1;32m   1403\u001B[0m     \u001B[38;5;28;01mif\u001B[39;00m not_indexed_same \u001B[38;5;129;01mis\u001B[39;00m \u001B[38;5;28;01mNone\u001B[39;00m:\n\u001B[1;32m   1404\u001B[0m         not_indexed_same \u001B[38;5;241m=\u001B[39m mutated\n",
      "File \u001B[0;32m~/work/projects/air_pol/air_pollution_predict/airpollpredictor/venv/lib/python3.10/site-packages/pandas/core/groupby/ops.py:767\u001B[0m, in \u001B[0;36mBaseGrouper.apply\u001B[0;34m(self, f, data, axis)\u001B[0m\n\u001B[1;32m    765\u001B[0m \u001B[38;5;66;03m# group might be modified\u001B[39;00m\n\u001B[1;32m    766\u001B[0m group_axes \u001B[38;5;241m=\u001B[39m group\u001B[38;5;241m.\u001B[39maxes\n\u001B[0;32m--> 767\u001B[0m res \u001B[38;5;241m=\u001B[39m \u001B[43mf\u001B[49m\u001B[43m(\u001B[49m\u001B[43mgroup\u001B[49m\u001B[43m)\u001B[49m\n\u001B[1;32m    768\u001B[0m \u001B[38;5;28;01mif\u001B[39;00m \u001B[38;5;129;01mnot\u001B[39;00m mutated \u001B[38;5;129;01mand\u001B[39;00m \u001B[38;5;129;01mnot\u001B[39;00m _is_indexed_like(res, group_axes, axis):\n\u001B[1;32m    769\u001B[0m     mutated \u001B[38;5;241m=\u001B[39m \u001B[38;5;28;01mTrue\u001B[39;00m\n",
      "File \u001B[0;32m~/work/projects/air_pol/air_pollution_predict/airpollpredictor/venv/lib/python3.10/site-packages/pandas/core/groupby/groupby.py:1341\u001B[0m, in \u001B[0;36mGroupBy.apply.<locals>.f\u001B[0;34m(g)\u001B[0m\n\u001B[1;32m   1338\u001B[0m \u001B[38;5;129m@wraps\u001B[39m(func)\n\u001B[1;32m   1339\u001B[0m \u001B[38;5;28;01mdef\u001B[39;00m \u001B[38;5;21mf\u001B[39m(g):\n\u001B[1;32m   1340\u001B[0m     \u001B[38;5;28;01mwith\u001B[39;00m np\u001B[38;5;241m.\u001B[39merrstate(\u001B[38;5;28mall\u001B[39m\u001B[38;5;241m=\u001B[39m\u001B[38;5;124m\"\u001B[39m\u001B[38;5;124mignore\u001B[39m\u001B[38;5;124m\"\u001B[39m):\n\u001B[0;32m-> 1341\u001B[0m         \u001B[38;5;28;01mreturn\u001B[39;00m \u001B[43mfunc\u001B[49m\u001B[43m(\u001B[49m\u001B[43mg\u001B[49m\u001B[43m,\u001B[49m\u001B[43m \u001B[49m\u001B[38;5;241;43m*\u001B[39;49m\u001B[43margs\u001B[49m\u001B[43m,\u001B[49m\u001B[43m \u001B[49m\u001B[38;5;241;43m*\u001B[39;49m\u001B[38;5;241;43m*\u001B[39;49m\u001B[43mkwargs\u001B[49m\u001B[43m)\u001B[49m\n",
      "File \u001B[0;32m~/work/projects/air_pol/air_pollution_predict/airpollpredictor/data_preprocessing/features_generations/ts_lag_features_generator.py:39\u001B[0m, in \u001B[0;36mfill_missing_dates\u001B[0;34m(df_source, date_col)\u001B[0m\n\u001B[1;32m     37\u001B[0m min_date, max_date \u001B[38;5;241m=\u001B[39m df_source[date_col]\u001B[38;5;241m.\u001B[39mmin(), df_source[date_col]\u001B[38;5;241m.\u001B[39mmax()\n\u001B[1;32m     38\u001B[0m groupby_day \u001B[38;5;241m=\u001B[39m df_source\u001B[38;5;241m.\u001B[39mgroupby(pd\u001B[38;5;241m.\u001B[39mPeriodIndex(df_source[date_col], freq\u001B[38;5;241m=\u001B[39m\u001B[38;5;124m'\u001B[39m\u001B[38;5;124mD\u001B[39m\u001B[38;5;124m'\u001B[39m))\n\u001B[0;32m---> 39\u001B[0m results \u001B[38;5;241m=\u001B[39m \u001B[43mgroupby_day\u001B[49m\u001B[38;5;241;43m.\u001B[39;49m\u001B[43msum\u001B[49m\u001B[43m(\u001B[49m\u001B[43mmin_count\u001B[49m\u001B[38;5;241;43m=\u001B[39;49m\u001B[38;5;241;43m1\u001B[39;49m\u001B[43m)\u001B[49m\n\u001B[1;32m     41\u001B[0m idx \u001B[38;5;241m=\u001B[39m pd\u001B[38;5;241m.\u001B[39mperiod_range(min_date, max_date)\n\u001B[1;32m     42\u001B[0m results \u001B[38;5;241m=\u001B[39m results\u001B[38;5;241m.\u001B[39mreindex(idx, fill_value\u001B[38;5;241m=\u001B[39mnp\u001B[38;5;241m.\u001B[39mnan)\n",
      "File \u001B[0;32m~/work/projects/air_pol/air_pollution_predict/airpollpredictor/venv/lib/python3.10/site-packages/pandas/core/groupby/groupby.py:2263\u001B[0m, in \u001B[0;36mGroupBy.sum\u001B[0;34m(self, numeric_only, min_count, engine, engine_kwargs)\u001B[0m\n\u001B[1;32m   2258\u001B[0m \u001B[38;5;28;01melse\u001B[39;00m:\n\u001B[1;32m   2259\u001B[0m     \u001B[38;5;66;03m# If we are grouping on categoricals we want unobserved categories to\u001B[39;00m\n\u001B[1;32m   2260\u001B[0m     \u001B[38;5;66;03m# return zero, rather than the default of NaN which the reindexing in\u001B[39;00m\n\u001B[1;32m   2261\u001B[0m     \u001B[38;5;66;03m# _agg_general() returns. GH #31422\u001B[39;00m\n\u001B[1;32m   2262\u001B[0m     \u001B[38;5;28;01mwith\u001B[39;00m com\u001B[38;5;241m.\u001B[39mtemp_setattr(\u001B[38;5;28mself\u001B[39m, \u001B[38;5;124m\"\u001B[39m\u001B[38;5;124mobserved\u001B[39m\u001B[38;5;124m\"\u001B[39m, \u001B[38;5;28;01mTrue\u001B[39;00m):\n\u001B[0;32m-> 2263\u001B[0m         result \u001B[38;5;241m=\u001B[39m \u001B[38;5;28;43mself\u001B[39;49m\u001B[38;5;241;43m.\u001B[39;49m\u001B[43m_agg_general\u001B[49m\u001B[43m(\u001B[49m\n\u001B[1;32m   2264\u001B[0m \u001B[43m            \u001B[49m\u001B[43mnumeric_only\u001B[49m\u001B[38;5;241;43m=\u001B[39;49m\u001B[43mnumeric_only\u001B[49m\u001B[43m,\u001B[49m\n\u001B[1;32m   2265\u001B[0m \u001B[43m            \u001B[49m\u001B[43mmin_count\u001B[49m\u001B[38;5;241;43m=\u001B[39;49m\u001B[43mmin_count\u001B[49m\u001B[43m,\u001B[49m\n\u001B[1;32m   2266\u001B[0m \u001B[43m            \u001B[49m\u001B[43malias\u001B[49m\u001B[38;5;241;43m=\u001B[39;49m\u001B[38;5;124;43m\"\u001B[39;49m\u001B[38;5;124;43msum\u001B[39;49m\u001B[38;5;124;43m\"\u001B[39;49m\u001B[43m,\u001B[49m\n\u001B[1;32m   2267\u001B[0m \u001B[43m            \u001B[49m\u001B[43mnpfunc\u001B[49m\u001B[38;5;241;43m=\u001B[39;49m\u001B[43mnp\u001B[49m\u001B[38;5;241;43m.\u001B[39;49m\u001B[43msum\u001B[49m\u001B[43m,\u001B[49m\n\u001B[1;32m   2268\u001B[0m \u001B[43m        \u001B[49m\u001B[43m)\u001B[49m\n\u001B[1;32m   2270\u001B[0m     \u001B[38;5;28;01mreturn\u001B[39;00m \u001B[38;5;28mself\u001B[39m\u001B[38;5;241m.\u001B[39m_reindex_output(result, fill_value\u001B[38;5;241m=\u001B[39m\u001B[38;5;241m0\u001B[39m)\n",
      "File \u001B[0;32m~/work/projects/air_pol/air_pollution_predict/airpollpredictor/venv/lib/python3.10/site-packages/pandas/core/groupby/groupby.py:1422\u001B[0m, in \u001B[0;36mGroupBy._agg_general\u001B[0;34m(self, numeric_only, min_count, alias, npfunc)\u001B[0m\n\u001B[1;32m   1413\u001B[0m \u001B[38;5;129m@final\u001B[39m\n\u001B[1;32m   1414\u001B[0m \u001B[38;5;28;01mdef\u001B[39;00m \u001B[38;5;21m_agg_general\u001B[39m(\n\u001B[1;32m   1415\u001B[0m     \u001B[38;5;28mself\u001B[39m,\n\u001B[0;32m   (...)\u001B[0m\n\u001B[1;32m   1420\u001B[0m     npfunc: Callable,\n\u001B[1;32m   1421\u001B[0m ):\n\u001B[0;32m-> 1422\u001B[0m     result \u001B[38;5;241m=\u001B[39m \u001B[38;5;28;43mself\u001B[39;49m\u001B[38;5;241;43m.\u001B[39;49m\u001B[43m_cython_agg_general\u001B[49m\u001B[43m(\u001B[49m\n\u001B[1;32m   1423\u001B[0m \u001B[43m        \u001B[49m\u001B[43mhow\u001B[49m\u001B[38;5;241;43m=\u001B[39;49m\u001B[43malias\u001B[49m\u001B[43m,\u001B[49m\n\u001B[1;32m   1424\u001B[0m \u001B[43m        \u001B[49m\u001B[43malt\u001B[49m\u001B[38;5;241;43m=\u001B[39;49m\u001B[43mnpfunc\u001B[49m\u001B[43m,\u001B[49m\n\u001B[1;32m   1425\u001B[0m \u001B[43m        \u001B[49m\u001B[43mnumeric_only\u001B[49m\u001B[38;5;241;43m=\u001B[39;49m\u001B[43mnumeric_only\u001B[49m\u001B[43m,\u001B[49m\n\u001B[1;32m   1426\u001B[0m \u001B[43m        \u001B[49m\u001B[43mmin_count\u001B[49m\u001B[38;5;241;43m=\u001B[39;49m\u001B[43mmin_count\u001B[49m\u001B[43m,\u001B[49m\n\u001B[1;32m   1427\u001B[0m \u001B[43m    \u001B[49m\u001B[43m)\u001B[49m\n\u001B[1;32m   1428\u001B[0m     \u001B[38;5;28;01mreturn\u001B[39;00m result\u001B[38;5;241m.\u001B[39m__finalize__(\u001B[38;5;28mself\u001B[39m\u001B[38;5;241m.\u001B[39mobj, method\u001B[38;5;241m=\u001B[39m\u001B[38;5;124m\"\u001B[39m\u001B[38;5;124mgroupby\u001B[39m\u001B[38;5;124m\"\u001B[39m)\n",
      "File \u001B[0;32m~/work/projects/air_pol/air_pollution_predict/airpollpredictor/venv/lib/python3.10/site-packages/pandas/core/groupby/groupby.py:1507\u001B[0m, in \u001B[0;36mGroupBy._cython_agg_general\u001B[0;34m(self, how, alt, numeric_only, min_count, **kwargs)\u001B[0m\n\u001B[1;32m   1503\u001B[0m         result \u001B[38;5;241m=\u001B[39m \u001B[38;5;28mself\u001B[39m\u001B[38;5;241m.\u001B[39m_agg_py_fallback(values, ndim\u001B[38;5;241m=\u001B[39mdata\u001B[38;5;241m.\u001B[39mndim, alt\u001B[38;5;241m=\u001B[39malt)\n\u001B[1;32m   1505\u001B[0m     \u001B[38;5;28;01mreturn\u001B[39;00m result\n\u001B[0;32m-> 1507\u001B[0m new_mgr \u001B[38;5;241m=\u001B[39m \u001B[43mdata\u001B[49m\u001B[38;5;241;43m.\u001B[39;49m\u001B[43mgrouped_reduce\u001B[49m\u001B[43m(\u001B[49m\u001B[43marray_func\u001B[49m\u001B[43m)\u001B[49m\n\u001B[1;32m   1508\u001B[0m res \u001B[38;5;241m=\u001B[39m \u001B[38;5;28mself\u001B[39m\u001B[38;5;241m.\u001B[39m_wrap_agged_manager(new_mgr)\n\u001B[1;32m   1509\u001B[0m out \u001B[38;5;241m=\u001B[39m \u001B[38;5;28mself\u001B[39m\u001B[38;5;241m.\u001B[39m_wrap_aggregated_output(res)\n",
      "File \u001B[0;32m~/work/projects/air_pol/air_pollution_predict/airpollpredictor/venv/lib/python3.10/site-packages/pandas/core/internals/managers.py:1506\u001B[0m, in \u001B[0;36mBlockManager.grouped_reduce\u001B[0;34m(self, func)\u001B[0m\n\u001B[1;32m   1504\u001B[0m             result_blocks \u001B[38;5;241m=\u001B[39m extend_blocks(applied, result_blocks)\n\u001B[1;32m   1505\u001B[0m     \u001B[38;5;28;01melse\u001B[39;00m:\n\u001B[0;32m-> 1506\u001B[0m         applied \u001B[38;5;241m=\u001B[39m \u001B[43mblk\u001B[49m\u001B[38;5;241;43m.\u001B[39;49m\u001B[43mapply\u001B[49m\u001B[43m(\u001B[49m\u001B[43mfunc\u001B[49m\u001B[43m)\u001B[49m\n\u001B[1;32m   1507\u001B[0m         result_blocks \u001B[38;5;241m=\u001B[39m extend_blocks(applied, result_blocks)\n\u001B[1;32m   1509\u001B[0m \u001B[38;5;28;01mif\u001B[39;00m \u001B[38;5;28mlen\u001B[39m(result_blocks) \u001B[38;5;241m==\u001B[39m \u001B[38;5;241m0\u001B[39m:\n",
      "File \u001B[0;32m~/work/projects/air_pol/air_pollution_predict/airpollpredictor/venv/lib/python3.10/site-packages/pandas/core/internals/blocks.py:329\u001B[0m, in \u001B[0;36mBlock.apply\u001B[0;34m(self, func, **kwargs)\u001B[0m\n\u001B[1;32m    323\u001B[0m \u001B[38;5;129m@final\u001B[39m\n\u001B[1;32m    324\u001B[0m \u001B[38;5;28;01mdef\u001B[39;00m \u001B[38;5;21mapply\u001B[39m(\u001B[38;5;28mself\u001B[39m, func, \u001B[38;5;241m*\u001B[39m\u001B[38;5;241m*\u001B[39mkwargs) \u001B[38;5;241m-\u001B[39m\u001B[38;5;241m>\u001B[39m \u001B[38;5;28mlist\u001B[39m[Block]:\n\u001B[1;32m    325\u001B[0m \u001B[38;5;250m    \u001B[39m\u001B[38;5;124;03m\"\"\"\u001B[39;00m\n\u001B[1;32m    326\u001B[0m \u001B[38;5;124;03m    apply the function to my values; return a block if we are not\u001B[39;00m\n\u001B[1;32m    327\u001B[0m \u001B[38;5;124;03m    one\u001B[39;00m\n\u001B[1;32m    328\u001B[0m \u001B[38;5;124;03m    \"\"\"\u001B[39;00m\n\u001B[0;32m--> 329\u001B[0m     result \u001B[38;5;241m=\u001B[39m \u001B[43mfunc\u001B[49m\u001B[43m(\u001B[49m\u001B[38;5;28;43mself\u001B[39;49m\u001B[38;5;241;43m.\u001B[39;49m\u001B[43mvalues\u001B[49m\u001B[43m,\u001B[49m\u001B[43m \u001B[49m\u001B[38;5;241;43m*\u001B[39;49m\u001B[38;5;241;43m*\u001B[39;49m\u001B[43mkwargs\u001B[49m\u001B[43m)\u001B[49m\n\u001B[1;32m    331\u001B[0m     \u001B[38;5;28;01mreturn\u001B[39;00m \u001B[38;5;28mself\u001B[39m\u001B[38;5;241m.\u001B[39m_split_op_result(result)\n",
      "File \u001B[0;32m~/work/projects/air_pol/air_pollution_predict/airpollpredictor/venv/lib/python3.10/site-packages/pandas/core/groupby/groupby.py:1490\u001B[0m, in \u001B[0;36mGroupBy._cython_agg_general.<locals>.array_func\u001B[0;34m(values)\u001B[0m\n\u001B[1;32m   1488\u001B[0m \u001B[38;5;28;01mdef\u001B[39;00m \u001B[38;5;21marray_func\u001B[39m(values: ArrayLike) \u001B[38;5;241m-\u001B[39m\u001B[38;5;241m>\u001B[39m ArrayLike:\n\u001B[1;32m   1489\u001B[0m     \u001B[38;5;28;01mtry\u001B[39;00m:\n\u001B[0;32m-> 1490\u001B[0m         result \u001B[38;5;241m=\u001B[39m \u001B[38;5;28;43mself\u001B[39;49m\u001B[38;5;241;43m.\u001B[39;49m\u001B[43mgrouper\u001B[49m\u001B[38;5;241;43m.\u001B[39;49m\u001B[43m_cython_operation\u001B[49m\u001B[43m(\u001B[49m\n\u001B[1;32m   1491\u001B[0m \u001B[43m            \u001B[49m\u001B[38;5;124;43m\"\u001B[39;49m\u001B[38;5;124;43maggregate\u001B[39;49m\u001B[38;5;124;43m\"\u001B[39;49m\u001B[43m,\u001B[49m\n\u001B[1;32m   1492\u001B[0m \u001B[43m            \u001B[49m\u001B[43mvalues\u001B[49m\u001B[43m,\u001B[49m\n\u001B[1;32m   1493\u001B[0m \u001B[43m            \u001B[49m\u001B[43mhow\u001B[49m\u001B[43m,\u001B[49m\n\u001B[1;32m   1494\u001B[0m \u001B[43m            \u001B[49m\u001B[43maxis\u001B[49m\u001B[38;5;241;43m=\u001B[39;49m\u001B[43mdata\u001B[49m\u001B[38;5;241;43m.\u001B[39;49m\u001B[43mndim\u001B[49m\u001B[43m \u001B[49m\u001B[38;5;241;43m-\u001B[39;49m\u001B[43m \u001B[49m\u001B[38;5;241;43m1\u001B[39;49m\u001B[43m,\u001B[49m\n\u001B[1;32m   1495\u001B[0m \u001B[43m            \u001B[49m\u001B[43mmin_count\u001B[49m\u001B[38;5;241;43m=\u001B[39;49m\u001B[43mmin_count\u001B[49m\u001B[43m,\u001B[49m\n\u001B[1;32m   1496\u001B[0m \u001B[43m            \u001B[49m\u001B[38;5;241;43m*\u001B[39;49m\u001B[38;5;241;43m*\u001B[39;49m\u001B[43mkwargs\u001B[49m\u001B[43m,\u001B[49m\n\u001B[1;32m   1497\u001B[0m \u001B[43m        \u001B[49m\u001B[43m)\u001B[49m\n\u001B[1;32m   1498\u001B[0m     \u001B[38;5;28;01mexcept\u001B[39;00m \u001B[38;5;167;01mNotImplementedError\u001B[39;00m:\n\u001B[1;32m   1499\u001B[0m         \u001B[38;5;66;03m# generally if we have numeric_only=False\u001B[39;00m\n\u001B[1;32m   1500\u001B[0m         \u001B[38;5;66;03m# and non-applicable functions\u001B[39;00m\n\u001B[1;32m   1501\u001B[0m         \u001B[38;5;66;03m# try to python agg\u001B[39;00m\n\u001B[1;32m   1502\u001B[0m         \u001B[38;5;66;03m# TODO: shouldn't min_count matter?\u001B[39;00m\n\u001B[1;32m   1503\u001B[0m         result \u001B[38;5;241m=\u001B[39m \u001B[38;5;28mself\u001B[39m\u001B[38;5;241m.\u001B[39m_agg_py_fallback(values, ndim\u001B[38;5;241m=\u001B[39mdata\u001B[38;5;241m.\u001B[39mndim, alt\u001B[38;5;241m=\u001B[39malt)\n",
      "File \u001B[0;32m~/work/projects/air_pol/air_pollution_predict/airpollpredictor/venv/lib/python3.10/site-packages/pandas/core/groupby/ops.py:959\u001B[0m, in \u001B[0;36mBaseGrouper._cython_operation\u001B[0;34m(self, kind, values, how, axis, min_count, **kwargs)\u001B[0m\n\u001B[1;32m    957\u001B[0m ids, _, _ \u001B[38;5;241m=\u001B[39m \u001B[38;5;28mself\u001B[39m\u001B[38;5;241m.\u001B[39mgroup_info\n\u001B[1;32m    958\u001B[0m ngroups \u001B[38;5;241m=\u001B[39m \u001B[38;5;28mself\u001B[39m\u001B[38;5;241m.\u001B[39mngroups\n\u001B[0;32m--> 959\u001B[0m \u001B[38;5;28;01mreturn\u001B[39;00m \u001B[43mcy_op\u001B[49m\u001B[38;5;241;43m.\u001B[39;49m\u001B[43mcython_operation\u001B[49m\u001B[43m(\u001B[49m\n\u001B[1;32m    960\u001B[0m \u001B[43m    \u001B[49m\u001B[43mvalues\u001B[49m\u001B[38;5;241;43m=\u001B[39;49m\u001B[43mvalues\u001B[49m\u001B[43m,\u001B[49m\n\u001B[1;32m    961\u001B[0m \u001B[43m    \u001B[49m\u001B[43maxis\u001B[49m\u001B[38;5;241;43m=\u001B[39;49m\u001B[43maxis\u001B[49m\u001B[43m,\u001B[49m\n\u001B[1;32m    962\u001B[0m \u001B[43m    \u001B[49m\u001B[43mmin_count\u001B[49m\u001B[38;5;241;43m=\u001B[39;49m\u001B[43mmin_count\u001B[49m\u001B[43m,\u001B[49m\n\u001B[1;32m    963\u001B[0m \u001B[43m    \u001B[49m\u001B[43mcomp_ids\u001B[49m\u001B[38;5;241;43m=\u001B[39;49m\u001B[43mids\u001B[49m\u001B[43m,\u001B[49m\n\u001B[1;32m    964\u001B[0m \u001B[43m    \u001B[49m\u001B[43mngroups\u001B[49m\u001B[38;5;241;43m=\u001B[39;49m\u001B[43mngroups\u001B[49m\u001B[43m,\u001B[49m\n\u001B[1;32m    965\u001B[0m \u001B[43m    \u001B[49m\u001B[38;5;241;43m*\u001B[39;49m\u001B[38;5;241;43m*\u001B[39;49m\u001B[43mkwargs\u001B[49m\u001B[43m,\u001B[49m\n\u001B[1;32m    966\u001B[0m \u001B[43m\u001B[49m\u001B[43m)\u001B[49m\n",
      "File \u001B[0;32m~/work/projects/air_pol/air_pollution_predict/airpollpredictor/venv/lib/python3.10/site-packages/pandas/core/groupby/ops.py:645\u001B[0m, in \u001B[0;36mWrappedCythonOp.cython_operation\u001B[0;34m(self, values, axis, min_count, comp_ids, ngroups, **kwargs)\u001B[0m\n\u001B[1;32m    641\u001B[0m is_numeric \u001B[38;5;241m=\u001B[39m is_numeric_dtype(dtype)\n\u001B[1;32m    643\u001B[0m \u001B[38;5;66;03m# can we do this operation with our cython functions\u001B[39;00m\n\u001B[1;32m    644\u001B[0m \u001B[38;5;66;03m# if not raise NotImplementedError\u001B[39;00m\n\u001B[0;32m--> 645\u001B[0m \u001B[38;5;28;43mself\u001B[39;49m\u001B[38;5;241;43m.\u001B[39;49m\u001B[43m_disallow_invalid_ops\u001B[49m\u001B[43m(\u001B[49m\u001B[43mdtype\u001B[49m\u001B[43m,\u001B[49m\u001B[43m \u001B[49m\u001B[43mis_numeric\u001B[49m\u001B[43m)\u001B[49m\n\u001B[1;32m    647\u001B[0m \u001B[38;5;28;01mif\u001B[39;00m \u001B[38;5;129;01mnot\u001B[39;00m \u001B[38;5;28misinstance\u001B[39m(values, np\u001B[38;5;241m.\u001B[39mndarray):\n\u001B[1;32m    648\u001B[0m     \u001B[38;5;66;03m# i.e. ExtensionArray\u001B[39;00m\n\u001B[1;32m    649\u001B[0m     \u001B[38;5;28;01mreturn\u001B[39;00m \u001B[38;5;28mself\u001B[39m\u001B[38;5;241m.\u001B[39m_ea_wrap_cython_operation(\n\u001B[1;32m    650\u001B[0m         values,\n\u001B[1;32m    651\u001B[0m         min_count\u001B[38;5;241m=\u001B[39mmin_count,\n\u001B[0;32m   (...)\u001B[0m\n\u001B[1;32m    654\u001B[0m         \u001B[38;5;241m*\u001B[39m\u001B[38;5;241m*\u001B[39mkwargs,\n\u001B[1;32m    655\u001B[0m     )\n",
      "File \u001B[0;32m~/work/projects/air_pol/air_pollution_predict/airpollpredictor/venv/lib/python3.10/site-packages/pandas/core/groupby/ops.py:257\u001B[0m, in \u001B[0;36mWrappedCythonOp._disallow_invalid_ops\u001B[0;34m(self, dtype, is_numeric)\u001B[0m\n\u001B[1;32m    254\u001B[0m \u001B[38;5;28;01melif\u001B[39;00m is_datetime64_any_dtype(dtype):\n\u001B[1;32m    255\u001B[0m     \u001B[38;5;66;03m# Adding/multiplying datetimes is not valid\u001B[39;00m\n\u001B[1;32m    256\u001B[0m     \u001B[38;5;28;01mif\u001B[39;00m how \u001B[38;5;129;01min\u001B[39;00m [\u001B[38;5;124m\"\u001B[39m\u001B[38;5;124msum\u001B[39m\u001B[38;5;124m\"\u001B[39m, \u001B[38;5;124m\"\u001B[39m\u001B[38;5;124mprod\u001B[39m\u001B[38;5;124m\"\u001B[39m, \u001B[38;5;124m\"\u001B[39m\u001B[38;5;124mcumsum\u001B[39m\u001B[38;5;124m\"\u001B[39m, \u001B[38;5;124m\"\u001B[39m\u001B[38;5;124mcumprod\u001B[39m\u001B[38;5;124m\"\u001B[39m]:\n\u001B[0;32m--> 257\u001B[0m         \u001B[38;5;28;01mraise\u001B[39;00m \u001B[38;5;167;01mTypeError\u001B[39;00m(\u001B[38;5;124mf\u001B[39m\u001B[38;5;124m\"\u001B[39m\u001B[38;5;124mdatetime64 type does not support \u001B[39m\u001B[38;5;132;01m{\u001B[39;00mhow\u001B[38;5;132;01m}\u001B[39;00m\u001B[38;5;124m operations\u001B[39m\u001B[38;5;124m\"\u001B[39m)\n\u001B[1;32m    258\u001B[0m \u001B[38;5;28;01melif\u001B[39;00m is_period_dtype(dtype):\n\u001B[1;32m    259\u001B[0m     \u001B[38;5;66;03m# Adding/multiplying Periods is not valid\u001B[39;00m\n\u001B[1;32m    260\u001B[0m     \u001B[38;5;28;01mif\u001B[39;00m how \u001B[38;5;129;01min\u001B[39;00m [\u001B[38;5;124m\"\u001B[39m\u001B[38;5;124msum\u001B[39m\u001B[38;5;124m\"\u001B[39m, \u001B[38;5;124m\"\u001B[39m\u001B[38;5;124mprod\u001B[39m\u001B[38;5;124m\"\u001B[39m, \u001B[38;5;124m\"\u001B[39m\u001B[38;5;124mcumsum\u001B[39m\u001B[38;5;124m\"\u001B[39m, \u001B[38;5;124m\"\u001B[39m\u001B[38;5;124mcumprod\u001B[39m\u001B[38;5;124m\"\u001B[39m]:\n",
      "\u001B[0;31mTypeError\u001B[0m: datetime64 type does not support sum operations"
     ]
    }
   ],
   "source": [
    "df_aqi_mean_lags = get_all_lag_data(df_aqi_mean)\n",
    "save_calc(df_aqi_mean_lags, 'aqi_all_enrich_test.csv')\n",
    "df_aqi_mean_lags.head()"
   ],
   "metadata": {
    "collapsed": false
   }
  },
  {
   "cell_type": "code",
   "execution_count": 99,
   "outputs": [],
   "source": [
    "import re\n",
    "df_aqi_mean_lags = df_aqi_mean_lags.rename(columns = lambda x:re.sub('[^A-Za-z0-9_]+', '', x))\n",
    "save_calc(df_aqi_mean_lags, 'aqi_all_enrich.csv')"
   ],
   "metadata": {
    "collapsed": false
   }
  }
 ],
 "metadata": {
  "kernelspec": {
   "display_name": "Python 3",
   "language": "python",
   "name": "python3"
  },
  "language_info": {
   "codemirror_mode": {
    "name": "ipython",
    "version": 2
   },
   "file_extension": ".py",
   "mimetype": "text/x-python",
   "name": "python",
   "nbconvert_exporter": "python",
   "pygments_lexer": "ipython2",
   "version": "2.7.6"
  }
 },
 "nbformat": 4,
 "nbformat_minor": 0
}
