{
 "cells": [
  {
   "cell_type": "markdown",
   "source": [
    "## Initialization"
   ],
   "metadata": {
    "collapsed": false
   }
  },
  {
   "cell_type": "markdown",
   "source": [
    "### Imports"
   ],
   "metadata": {
    "collapsed": false
   }
  },
  {
   "cell_type": "code",
   "execution_count": 5,
   "outputs": [],
   "source": [
    "import lgbm.lgbm_optuna_column_filter as lgbm_fl\n",
    "from statsmodels.tsa.api import SimpleExpSmoothing\n",
    "import params_searchers.ts_splitter as ts_splitter\n",
    "from sklearn import metrics\n",
    "import pandas as pd\n",
    "import math\n",
    "import warnings\n",
    "import matplotlib.pyplot as plt\n",
    "warnings.filterwarnings('ignore')"
   ],
   "metadata": {
    "collapsed": false
   }
  },
  {
   "cell_type": "markdown",
   "source": [
    "### Constants"
   ],
   "metadata": {
    "collapsed": false
   }
  },
  {
   "cell_type": "code",
   "execution_count": 6,
   "outputs": [],
   "source": [
    "TRAIN_DATE_FROM = '2015-01-08'\n",
    "TRAIN_DATE_TO = '2023-02-05'\n",
    "VAL_DATE_FROM = '2023-02-06'\n",
    "VAL_DATE_TO = '2023-02-12'\n",
    "\n",
    "CSV_JOINT_FILE = '../datasources/ds_joint/ds.csv'\n",
    "\n",
    "POL_CODES = [7, 6001, 5, 8]\n",
    "POL_NAMES = {7: \"O3\", 6001: \"PM25\", 5: \"PM10\", 8: \"NO2\"}"
   ],
   "metadata": {
    "collapsed": false
   }
  },
  {
   "cell_type": "markdown",
   "source": [
    "### Data load"
   ],
   "metadata": {
    "collapsed": false
   }
  },
  {
   "cell_type": "code",
   "execution_count": 7,
   "outputs": [],
   "source": [
    "df_joint = pd.read_csv(CSV_JOINT_FILE, parse_dates=True, index_col='DatetimeEnd')"
   ],
   "metadata": {
    "collapsed": false
   }
  },
  {
   "cell_type": "code",
   "execution_count": 8,
   "outputs": [],
   "source": [
    "_, y_val = ts_splitter.split_x_y_for_period(df=df_joint, index_cols='DatetimeEnd', y_value_col='AQI',                                                           dt_start=VAL_DATE_FROM, dt_end=VAL_DATE_TO)\n",
    "_, y_train = ts_splitter.split_x_y_for_period(df=df_joint, index_cols='DatetimeEnd', y_value_col='AQI',                                                           dt_start=TRAIN_DATE_FROM, dt_end=TRAIN_DATE_TO)"
   ],
   "metadata": {
    "collapsed": false
   }
  },
  {
   "cell_type": "code",
   "execution_count": 9,
   "outputs": [
    {
     "data": {
      "text/plain": "             AQI_VAL\nDatetimeEnd         \n2023-02-06       115\n2023-02-07       139\n2023-02-08       143\n2023-02-09       127\n2023-02-10        97\n2023-02-11        74\n2023-02-12       128",
      "text/html": "<div>\n<style scoped>\n    .dataframe tbody tr th:only-of-type {\n        vertical-align: middle;\n    }\n\n    .dataframe tbody tr th {\n        vertical-align: top;\n    }\n\n    .dataframe thead th {\n        text-align: right;\n    }\n</style>\n<table border=\"1\" class=\"dataframe\">\n  <thead>\n    <tr style=\"text-align: right;\">\n      <th></th>\n      <th>AQI_VAL</th>\n    </tr>\n    <tr>\n      <th>DatetimeEnd</th>\n      <th></th>\n    </tr>\n  </thead>\n  <tbody>\n    <tr>\n      <th>2023-02-06</th>\n      <td>115</td>\n    </tr>\n    <tr>\n      <th>2023-02-07</th>\n      <td>139</td>\n    </tr>\n    <tr>\n      <th>2023-02-08</th>\n      <td>143</td>\n    </tr>\n    <tr>\n      <th>2023-02-09</th>\n      <td>127</td>\n    </tr>\n    <tr>\n      <th>2023-02-10</th>\n      <td>97</td>\n    </tr>\n    <tr>\n      <th>2023-02-11</th>\n      <td>74</td>\n    </tr>\n    <tr>\n      <th>2023-02-12</th>\n      <td>128</td>\n    </tr>\n  </tbody>\n</table>\n</div>"
     },
     "metadata": {},
     "output_type": "display_data"
    }
   ],
   "source": [
    "df_res = pd.DataFrame(index=y_val.index)\n",
    "df_res['AQI_VAL'] = y_val\n",
    "display(df_res)"
   ],
   "metadata": {
    "collapsed": false
   }
  },
  {
   "cell_type": "markdown",
   "source": [
    "### Functions"
   ],
   "metadata": {
    "collapsed": false
   }
  },
  {
   "cell_type": "code",
   "execution_count": 10,
   "outputs": [],
   "source": [
    "def get_prediction(df, pol_id, best_params, best_categories, best_feat_count, use_lag_cols=True):\n",
    "    use_aqi_cols = False if pol_id in [5, 6001] else True\n",
    "    use_c_mean_cols = not use_aqi_cols\n",
    "\n",
    "    o_helper, _, _, x_vl, _ = lgbm_fl.init_optuna(\n",
    "        df=df, pol_id=pol_id, prediction_value_type=lgbm_fl.PredictionValueType.AQI,\n",
    "        use_aqi_cols=use_aqi_cols, use_c_mean_cols=use_c_mean_cols, use_lag_cols=use_lag_cols, use_gen_lags_cols=True, use_weather_cols=True,\n",
    "        train_start_dt=TRAIN_DATE_FROM, train_end_dt=TRAIN_DATE_TO, test_start_dt=VAL_DATE_FROM, test_end_dt=VAL_DATE_TO,\n",
    "        default_params=best_params, default_category=best_categories, default_top_features_count=best_feat_count)\n",
    "\n",
    "    score_train, score_val, _ = o_helper.run_model_and_eval(best_features_only=True, set_as_best_model=True)\n",
    "    y_vl_pred = [int(round(x, 0)) for x in o_helper.predict_by_best_model(x_vl)]\n",
    "    print(f'train score: {score_train}, val score: {score_val}')\n",
    "    return y_vl_pred"
   ],
   "metadata": {
    "collapsed": false
   }
  },
  {
   "cell_type": "markdown",
   "source": [
    "## LGBM (+ weather, + lags, + gen lags) forecast"
   ],
   "metadata": {
    "collapsed": false
   }
  },
  {
   "cell_type": "markdown",
   "source": [
    "### O3"
   ],
   "metadata": {
    "collapsed": false
   }
  },
  {
   "cell_type": "code",
   "execution_count": 11,
   "outputs": [
    {
     "name": "stdout",
     "output_type": "stream",
     "text": [
      "[LightGBM] [Warning] Met categorical feature which contains sparse values. Consider renumbering to consecutive integers started from zero\n",
      "[LightGBM] [Warning] Met categorical feature which contains sparse values. Consider renumbering to consecutive integers started from zero\n",
      "train score: 3.189026108017582, val score: 8.580380904072792\n"
     ]
    }
   ],
   "source": [
    "best_o3_params = {'n_jobs': -1, 'verbosity': -1, 'objective': 'regression', 'metric': 'rmse', 'boosting_type': 'gbdt', 'extra_trees': False, 'n_estimators': 2600, 'num_leaves': 29, 'learning_rate': 0.12226624793990773, 'subsample': 0.8259925800585568, 'subsample_freq': 6, 'subsample_for_bin': 311124, 'min_child_samples': 13, 'reg_alpha': 0.1877661803380422, 'reg_lambda': 0.12122085900675779, 'max_depth': 7, 'max_bin': 346}\n",
    "best_o3_categories =  ['season', 'month', 'year']\n",
    "best_o3_features_count = 19\n",
    "\n",
    "y_val_o3 = get_prediction(df=df_joint, pol_id=7, best_params=best_o3_params, best_categories=best_o3_categories, best_feat_count=best_o3_features_count)\n",
    "df_res['AQI_O3_lgbm'] =  y_val_o3"
   ],
   "metadata": {
    "collapsed": false
   }
  },
  {
   "cell_type": "markdown",
   "source": [
    "### PM 2.5"
   ],
   "metadata": {
    "collapsed": false
   }
  },
  {
   "cell_type": "code",
   "execution_count": 12,
   "outputs": [
    {
     "name": "stdout",
     "output_type": "stream",
     "text": [
      "train score: 4.096338645025627, val score: 33.11449808343723\n"
     ]
    }
   ],
   "source": [
    "best_pm25_params = {'n_jobs': -1, 'verbosity': -1, 'objective': 'regression', 'metric': 'rmse', 'boosting_type': 'gbdt', 'extra_trees': False, 'n_estimators': 2100, 'num_leaves': 97, 'learning_rate': 0.11890042003021366, 'subsample': 0.4318782580934736, 'subsample_freq': 0, 'subsample_for_bin': 193295, 'min_child_samples': 14, 'reg_alpha': 0.394194026403052, 'reg_lambda': 0.708405421324422, 'max_depth': 3, 'max_bin': 206}\n",
    "best_pm25_categories = ['month', 'weekday']\n",
    "best_pm25_features_count = 73\n",
    "\n",
    "y_val_pm25 = get_prediction(df=df_joint, pol_id=6001,best_params=best_pm25_params, best_categories=best_pm25_categories, best_feat_count=best_pm25_features_count,\n",
    "                            use_lag_cols=False)\n",
    "\n",
    "df_res['AQI_PM25_lgbm'] =  y_val_pm25"
   ],
   "metadata": {
    "collapsed": false
   }
  },
  {
   "cell_type": "markdown",
   "source": [
    "### PM 10"
   ],
   "metadata": {
    "collapsed": false
   }
  },
  {
   "cell_type": "code",
   "execution_count": 13,
   "outputs": [
    {
     "name": "stdout",
     "output_type": "stream",
     "text": [
      "train score: 3.337251537037417, val score: 6.98974708460903\n"
     ]
    }
   ],
   "source": [
    "best_pm10_params = {'n_jobs': -1, 'verbosity': -1, 'objective': 'regression', 'metric': 'rmse', 'boosting_type': 'gbdt', 'extra_trees': False, 'n_estimators': 1100, 'num_leaves': 55, 'learning_rate': 0.13336706254004013, 'subsample': 0.7110931352351093, 'subsample_freq': 0, 'subsample_for_bin': 194563, 'min_child_samples': 45, 'reg_alpha': 0.18017308854453762, 'reg_lambda': 0.8264670184761244, 'max_depth': 5, 'max_bin': 270}\n",
    "\n",
    "best_pm10_categories =  ['season', 'weekday']\n",
    "best_pm10_features_count = 31\n",
    "\n",
    "y_val_pm10 = get_prediction(df=df_joint, pol_id=5, best_params=best_pm10_params, best_categories=best_pm10_categories, best_feat_count=best_pm10_features_count)\n",
    "\n",
    "df_res['AQI_PM10_lgbm'] =  y_val_pm10"
   ],
   "metadata": {
    "collapsed": false
   }
  },
  {
   "cell_type": "markdown",
   "source": [
    "### NO2"
   ],
   "metadata": {
    "collapsed": false
   }
  },
  {
   "cell_type": "code",
   "execution_count": 14,
   "outputs": [
    {
     "name": "stdout",
     "output_type": "stream",
     "text": [
      "train score: 4.45541823885513, val score: 3.1020357213684866\n"
     ]
    }
   ],
   "source": [
    "best_no2_params = {'n_jobs': -1, 'verbosity': -1, 'objective': 'regression', 'metric': 'rmse', 'boosting_type': 'gbdt', 'extra_trees': True, 'n_estimators': 2200, 'num_leaves': 140, 'learning_rate': 0.076297211673832, 'subsample': 0.9048416321209771, 'subsample_freq': 1, 'subsample_for_bin': 141792, 'min_child_samples': 48, 'reg_alpha': 0.31049100804293384, 'reg_lambda': 0.7272704696443957, 'max_depth': 4, 'max_bin': 307}\n",
    "\n",
    "best_no2_categories =  ['season', 'month']\n",
    "best_no2_features_count = 30\n",
    "y_val_no2 = get_prediction(df=df_joint, pol_id=8, best_params=best_no2_params, best_categories=best_no2_categories, best_feat_count=best_no2_features_count)\n",
    "df_res['AQI_NO2_lgbm'] =  y_val_no2"
   ],
   "metadata": {
    "collapsed": false
   }
  },
  {
   "cell_type": "markdown",
   "source": [
    "### Gen AQI from best LGBM forecast"
   ],
   "metadata": {
    "collapsed": false
   }
  },
  {
   "cell_type": "code",
   "execution_count": 15,
   "outputs": [
    {
     "data": {
      "text/plain": "             AQI_VAL  AQI_O3_lgbm  AQI_PM25_lgbm  AQI_PM10_lgbm  AQI_NO2_lgbm  \\\nDatetimeEnd                                                                     \n2023-02-06       115           19             98             22            30   \n2023-02-07       139           15            104             27            33   \n2023-02-08       143           19            103             27            33   \n2023-02-09       127           19             85             23            36   \n2023-02-10        97           19             73             20            36   \n2023-02-11        74           25             59             20            31   \n2023-02-12       128           18             86             20            33   \n\n             AQI_GEN_lgbm  \nDatetimeEnd                \n2023-02-06             98  \n2023-02-07            104  \n2023-02-08            103  \n2023-02-09             85  \n2023-02-10             73  \n2023-02-11             59  \n2023-02-12             86  ",
      "text/html": "<div>\n<style scoped>\n    .dataframe tbody tr th:only-of-type {\n        vertical-align: middle;\n    }\n\n    .dataframe tbody tr th {\n        vertical-align: top;\n    }\n\n    .dataframe thead th {\n        text-align: right;\n    }\n</style>\n<table border=\"1\" class=\"dataframe\">\n  <thead>\n    <tr style=\"text-align: right;\">\n      <th></th>\n      <th>AQI_VAL</th>\n      <th>AQI_O3_lgbm</th>\n      <th>AQI_PM25_lgbm</th>\n      <th>AQI_PM10_lgbm</th>\n      <th>AQI_NO2_lgbm</th>\n      <th>AQI_GEN_lgbm</th>\n    </tr>\n    <tr>\n      <th>DatetimeEnd</th>\n      <th></th>\n      <th></th>\n      <th></th>\n      <th></th>\n      <th></th>\n      <th></th>\n    </tr>\n  </thead>\n  <tbody>\n    <tr>\n      <th>2023-02-06</th>\n      <td>115</td>\n      <td>19</td>\n      <td>98</td>\n      <td>22</td>\n      <td>30</td>\n      <td>98</td>\n    </tr>\n    <tr>\n      <th>2023-02-07</th>\n      <td>139</td>\n      <td>15</td>\n      <td>104</td>\n      <td>27</td>\n      <td>33</td>\n      <td>104</td>\n    </tr>\n    <tr>\n      <th>2023-02-08</th>\n      <td>143</td>\n      <td>19</td>\n      <td>103</td>\n      <td>27</td>\n      <td>33</td>\n      <td>103</td>\n    </tr>\n    <tr>\n      <th>2023-02-09</th>\n      <td>127</td>\n      <td>19</td>\n      <td>85</td>\n      <td>23</td>\n      <td>36</td>\n      <td>85</td>\n    </tr>\n    <tr>\n      <th>2023-02-10</th>\n      <td>97</td>\n      <td>19</td>\n      <td>73</td>\n      <td>20</td>\n      <td>36</td>\n      <td>73</td>\n    </tr>\n    <tr>\n      <th>2023-02-11</th>\n      <td>74</td>\n      <td>25</td>\n      <td>59</td>\n      <td>20</td>\n      <td>31</td>\n      <td>59</td>\n    </tr>\n    <tr>\n      <th>2023-02-12</th>\n      <td>128</td>\n      <td>18</td>\n      <td>86</td>\n      <td>20</td>\n      <td>33</td>\n      <td>86</td>\n    </tr>\n  </tbody>\n</table>\n</div>"
     },
     "metadata": {},
     "output_type": "display_data"
    },
    {
     "data": {
      "text/plain": "32.60806210564673"
     },
     "execution_count": 15,
     "metadata": {},
     "output_type": "execute_result"
    }
   ],
   "source": [
    "df_res['AQI_GEN_lgbm'] = df_res[['AQI_O3_lgbm', 'AQI_PM25_lgbm', 'AQI_PM10_lgbm', 'AQI_NO2_lgbm']].values.max(axis=1)\n",
    "display(df_res)\n",
    "score_lgbm_weather = math.sqrt(metrics.mean_squared_error(df_res['AQI_VAL'].values, df_res['AQI_GEN_lgbm'].values))\n",
    "score_lgbm_weather"
   ],
   "metadata": {
    "collapsed": false
   }
  },
  {
   "cell_type": "markdown",
   "source": [
    "## Arima forecast"
   ],
   "metadata": {
    "collapsed": false
   }
  },
  {
   "cell_type": "markdown",
   "source": [
    "### O3"
   ],
   "metadata": {
    "collapsed": false
   }
  },
  {
   "cell_type": "code",
   "execution_count": 15,
   "outputs": [],
   "source": [],
   "metadata": {
    "collapsed": false
   }
  },
  {
   "cell_type": "markdown",
   "source": [
    "### PM 2.5"
   ],
   "metadata": {
    "collapsed": false
   }
  },
  {
   "cell_type": "code",
   "execution_count": 15,
   "outputs": [],
   "source": [],
   "metadata": {
    "collapsed": false
   }
  },
  {
   "cell_type": "markdown",
   "source": [
    "### PM 10"
   ],
   "metadata": {
    "collapsed": false
   }
  },
  {
   "cell_type": "code",
   "execution_count": 15,
   "outputs": [],
   "source": [],
   "metadata": {
    "collapsed": false
   }
  },
  {
   "cell_type": "markdown",
   "source": [
    "### NO2"
   ],
   "metadata": {
    "collapsed": false
   }
  },
  {
   "cell_type": "code",
   "execution_count": 15,
   "outputs": [],
   "source": [],
   "metadata": {
    "collapsed": false
   }
  },
  {
   "cell_type": "markdown",
   "source": [
    "## Simple Mean forecast"
   ],
   "metadata": {
    "collapsed": false
   }
  },
  {
   "cell_type": "code",
   "execution_count": 16,
   "outputs": [
    {
     "data": {
      "text/plain": "73.20519107276478"
     },
     "execution_count": 16,
     "metadata": {},
     "output_type": "execute_result"
    }
   ],
   "source": [
    "df_res['AQI_mean'] = int(round(y_train.mean()))\n",
    "score_mean = math.sqrt(metrics.mean_squared_error(df_res['AQI_VAL'].values, df_res['AQI_mean'].values))\n",
    "score_mean"
   ],
   "metadata": {
    "collapsed": false
   }
  },
  {
   "cell_type": "markdown",
   "source": [
    "## Simple Exponential Smoothing forecasts"
   ],
   "metadata": {
    "collapsed": false
   }
  },
  {
   "cell_type": "code",
   "execution_count": 17,
   "outputs": [],
   "source": [
    "def ses_by_pols(alpha, pol_id):\n",
    "    col_name = 'AQI_' + POL_NAMES[pol_id]\n",
    "    _, y_val = ts_splitter.split_x_y_for_period(df=df_joint, index_cols='DatetimeEnd', y_value_col=col_name,                                                           dt_start=VAL_DATE_FROM, dt_end=VAL_DATE_TO)\n",
    "    _, y_train = ts_splitter.split_x_y_for_period(df=df_joint, index_cols='DatetimeEnd', y_value_col=col_name,                                                           dt_start=TRAIN_DATE_FROM, dt_end=TRAIN_DATE_TO)\n",
    "    ses = SimpleExpSmoothing(y_train)\n",
    "    model_ses = ses.fit(smoothing_level = alpha, optimized = False)\n",
    "    y_pred = model_ses.forecast(7)\n",
    "    y_pred = [int(round(x)) for x in y_pred]\n",
    "    score = math.sqrt(metrics.mean_squared_error(y_val.values, y_pred))\n",
    "    print(f'Score for {POL_NAMES[pol_id]}: {score}')\n",
    "    return y_pred"
   ],
   "metadata": {
    "collapsed": false
   }
  },
  {
   "cell_type": "markdown",
   "source": [
    "### alpha = 0.1"
   ],
   "metadata": {
    "collapsed": false
   }
  },
  {
   "cell_type": "code",
   "execution_count": 18,
   "outputs": [
    {
     "name": "stdout",
     "output_type": "stream",
     "text": [
      "Score for O3: 7.681145747868608\n",
      "Score for PM25: 67.5288298221053\n",
      "Score for PM10: 11.532562594670797\n",
      "Score for NO2: 14.367622330384782\n"
     ]
    },
    {
     "data": {
      "text/plain": "67.5288298221053"
     },
     "execution_count": 18,
     "metadata": {},
     "output_type": "execute_result"
    }
   ],
   "source": [
    "alpha = 0.1\n",
    "for pol_id in POL_CODES:\n",
    "    df_res[f'AQI_{POL_NAMES[pol_id]}_ses_a01']= ses_by_pols(alpha, pol_id)\n",
    "\n",
    "df_res[f'AQI_ses_a01'] = df_res[['AQI_O3_ses_a01', 'AQI_PM25_ses_a01', 'AQI_PM10_ses_a01', 'AQI_NO2_ses_a01']].values.max(axis=1)\n",
    "score_ses_a01 = math.sqrt(metrics.mean_squared_error(df_res['AQI_VAL'].values, df_res['AQI_ses_a01'].values))\n",
    "score_ses_a01"
   ],
   "metadata": {
    "collapsed": false
   }
  },
  {
   "cell_type": "markdown",
   "source": [
    "### alpha = 0.5"
   ],
   "metadata": {
    "collapsed": false
   }
  },
  {
   "cell_type": "code",
   "execution_count": 19,
   "outputs": [
    {
     "name": "stdout",
     "output_type": "stream",
     "text": [
      "Score for O3: 15.883504471171161\n",
      "Score for PM25: 49.165899913310994\n",
      "Score for PM10: 6.928203230275509\n",
      "Score for NO2: 5.41162769282166\n"
     ]
    },
    {
     "data": {
      "text/plain": "49.165899913310994"
     },
     "execution_count": 19,
     "metadata": {},
     "output_type": "execute_result"
    }
   ],
   "source": [
    "alpha = 0.5\n",
    "for pol_id in POL_CODES:\n",
    "    df_res[f'AQI_{POL_NAMES[pol_id]}_ses_a05']= ses_by_pols(alpha, pol_id)\n",
    "\n",
    "df_res[f'AQI_ses_a05'] = df_res[['AQI_O3_ses_a05', 'AQI_PM25_ses_a05', 'AQI_PM10_ses_a05', 'AQI_NO2_ses_a05']].values.max(axis=1)\n",
    "score_ses_a05 = math.sqrt(metrics.mean_squared_error(df_res['AQI_VAL'].values, df_res['AQI_ses_a05'].values))\n",
    "score_ses_a05"
   ],
   "metadata": {
    "collapsed": false
   }
  },
  {
   "cell_type": "markdown",
   "source": [
    "### alpha = 1"
   ],
   "metadata": {
    "collapsed": false
   }
  },
  {
   "cell_type": "code",
   "execution_count": 20,
   "outputs": [
    {
     "name": "stdout",
     "output_type": "stream",
     "text": [
      "Score for O3: 21.44094880629786\n",
      "Score for PM25: 43.936642696371\n",
      "Score for PM10: 6.447590912226719\n",
      "Score for NO2: 4.750939756661683\n"
     ]
    },
    {
     "data": {
      "text/plain": "43.936642696371"
     },
     "execution_count": 20,
     "metadata": {},
     "output_type": "execute_result"
    }
   ],
   "source": [
    "alpha = 1\n",
    "for pol_id in POL_CODES:\n",
    "    df_res[f'AQI_{POL_NAMES[pol_id]}_ses_a1']= ses_by_pols(alpha, pol_id)\n",
    "\n",
    "df_res[f'AQI_ses_a1'] = df_res[['AQI_O3_ses_a1', 'AQI_PM25_ses_a1', 'AQI_PM10_ses_a1', 'AQI_NO2_ses_a1']].values.max(axis=1)\n",
    "score_ses_a1 = math.sqrt(metrics.mean_squared_error(df_res['AQI_VAL'].values, df_res['AQI_ses_a1'].values))\n",
    "score_ses_a1"
   ],
   "metadata": {
    "collapsed": false
   }
  },
  {
   "cell_type": "markdown",
   "source": [
    "## Forecast"
   ],
   "metadata": {
    "collapsed": false
   }
  },
  {
   "cell_type": "code",
   "execution_count": 21,
   "outputs": [
    {
     "data": {
      "text/plain": "<Figure size 1500x700 with 1 Axes>",
      "image/png": "[encoded data removed]"
     },
     "metadata": {},
     "output_type": "display_data"
    }
   ],
   "source": [
    "plt.figure(figsize=(15, 7))\n",
    "plt.title(f\"Прогноз AQI на последние 7 дней\")\n",
    "plt.plot(df_res['AQI_VAL'], label=\"actual\")\n",
    "plt.plot(df_res['AQI_ses_a1'], label=\"Baseline - SES a=1. RMSE=%.2f\" % score_ses_a1)\n",
    "plt.plot(df_res['AQI_GEN_lgbm'], label=\"LGBM + weather. RMSE=%.2f\" % score_lgbm_weather)\n",
    "#plt.plot(df_res['AQI_ses_a01'], label=\"SES a=0.1. RMSE=%.2f\" % score_ses_a01)\n",
    "#plt.plot(df_res['AQI_ses_a05'], label=\"SES a=0.5. RMSE=%.2f\" % score_ses_a05)\n",
    "#plt.plot(df_res['AQI_mean'], label=\"DF.MEAN. RMSE=%.2f\" % score_mean)\n",
    "plt.plot()\n",
    "plt.legend()\n",
    "plt.grid(True)\n",
    "plt.show()"
   ],
   "metadata": {
    "collapsed": false
   }
  }
 ],
 "metadata": {
  "kernelspec": {
   "display_name": "Python 3",
   "language": "python",
   "name": "python3"
  },
  "language_info": {
   "codemirror_mode": {
    "name": "ipython",
    "version": 2
   },
   "file_extension": ".py",
   "mimetype": "text/x-python",
   "name": "python",
   "nbconvert_exporter": "python",
   "pygments_lexer": "ipython2",
   "version": "2.7.6"
  }
 },
 "nbformat": 4,
 "nbformat_minor": 0
}
