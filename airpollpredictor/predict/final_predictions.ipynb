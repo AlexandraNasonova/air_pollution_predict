{
 "cells": [
  {
   "cell_type": "markdown",
   "source": [
    "## Initialization"
   ],
   "metadata": {
    "collapsed": false
   }
  },
  {
   "cell_type": "markdown",
   "source": [
    "### Imports"
   ],
   "metadata": {
    "collapsed": false
   }
  },
  {
   "cell_type": "code",
   "execution_count": 13,
   "outputs": [],
   "source": [
    "import lgbm.lgbm_optuna_column_filter as lgbm_fl\n",
    "import ml_models_search.arima.arima_cv_predictor as arima_cvpred\n",
    "from statsmodels.tsa.api import SimpleExpSmoothing\n",
    "import ml_models_search.ts_splitter as ts_splitter\n",
    "from ml_models_search.arima.transformations import TransformHelper\n",
    "from sklearn import metrics\n",
    "import pandas as pd\n",
    "import math\n",
    "import warnings\n",
    "import matplotlib.pyplot as plt\n",
    "warnings.filterwarnings('ignore')"
   ],
   "metadata": {
    "collapsed": false
   }
  },
  {
   "cell_type": "markdown",
   "source": [
    "### Constants"
   ],
   "metadata": {
    "collapsed": false
   }
  },
  {
   "cell_type": "code",
   "execution_count": 2,
   "outputs": [],
   "source": [
    "TRAIN_DATE_FROM = '2015-01-08'\n",
    "TRAIN_DATE_TO = '2023-02-05'\n",
    "VAL_DATE_FROM = '2023-02-06'\n",
    "VAL_DATE_TO = '2023-02-12'\n",
    "\n",
    "CSV_JOINT_FILE = '../datasources/ds_joint/ds.csv'\n",
    "\n",
    "POL_CODES = [7, 6001, 5, 8]\n",
    "POL_NAMES = {7: \"O3\", 6001: \"PM25\", 5: \"PM10\", 8: \"NO2\"}\n",
    "WEATHER_USE_COLUMNS = ['tavg', 'tmin', 'tmax', 'prcp', 'wdir', 'wspd', 'wpgt', 'pres']"
   ],
   "metadata": {
    "collapsed": false
   }
  },
  {
   "cell_type": "markdown",
   "source": [
    "### Data load"
   ],
   "metadata": {
    "collapsed": false
   }
  },
  {
   "cell_type": "code",
   "execution_count": 3,
   "outputs": [],
   "source": [
    "df_joint = pd.read_csv(CSV_JOINT_FILE, parse_dates=True, index_col='DatetimeEnd')"
   ],
   "metadata": {
    "collapsed": false
   }
  },
  {
   "cell_type": "code",
   "execution_count": 4,
   "outputs": [],
   "source": [
    "_, y_val = ts_splitter.split_x_y_for_period(df=df_joint, index_cols='DatetimeEnd', y_value_col='AQI',                                                           dt_start=VAL_DATE_FROM, dt_end=VAL_DATE_TO)\n",
    "_, y_train = ts_splitter.split_x_y_for_period(df=df_joint, index_cols='DatetimeEnd', y_value_col='AQI',                                                           dt_start=TRAIN_DATE_FROM, dt_end=TRAIN_DATE_TO)"
   ],
   "metadata": {
    "collapsed": false
   }
  },
  {
   "cell_type": "code",
   "execution_count": 5,
   "outputs": [
    {
     "data": {
      "text/plain": "             AQI_VAL\nDatetimeEnd         \n2023-02-06       115\n2023-02-07       139\n2023-02-08       143\n2023-02-09       127\n2023-02-10        97\n2023-02-11        74\n2023-02-12       128",
      "text/html": "<div>\n<style scoped>\n    .dataframe tbody tr th:only-of-type {\n        vertical-align: middle;\n    }\n\n    .dataframe tbody tr th {\n        vertical-align: top;\n    }\n\n    .dataframe thead th {\n        text-align: right;\n    }\n</style>\n<table border=\"1\" class=\"dataframe\">\n  <thead>\n    <tr style=\"text-align: right;\">\n      <th></th>\n      <th>AQI_VAL</th>\n    </tr>\n    <tr>\n      <th>DatetimeEnd</th>\n      <th></th>\n    </tr>\n  </thead>\n  <tbody>\n    <tr>\n      <th>2023-02-06</th>\n      <td>115</td>\n    </tr>\n    <tr>\n      <th>2023-02-07</th>\n      <td>139</td>\n    </tr>\n    <tr>\n      <th>2023-02-08</th>\n      <td>143</td>\n    </tr>\n    <tr>\n      <th>2023-02-09</th>\n      <td>127</td>\n    </tr>\n    <tr>\n      <th>2023-02-10</th>\n      <td>97</td>\n    </tr>\n    <tr>\n      <th>2023-02-11</th>\n      <td>74</td>\n    </tr>\n    <tr>\n      <th>2023-02-12</th>\n      <td>128</td>\n    </tr>\n  </tbody>\n</table>\n</div>"
     },
     "metadata": {},
     "output_type": "display_data"
    }
   ],
   "source": [
    "df_res = pd.DataFrame(index=y_val.index)\n",
    "df_res['AQI_VAL'] = y_val\n",
    "display(df_res)"
   ],
   "metadata": {
    "collapsed": false
   }
  },
  {
   "cell_type": "markdown",
   "source": [
    "### Functions"
   ],
   "metadata": {
    "collapsed": false
   }
  },
  {
   "cell_type": "code",
   "execution_count": 21,
   "outputs": [],
   "source": [
    "def get_prediction(df, pol_id, best_params, best_categories, best_feat_count, use_lag_cols=True):\n",
    "    use_aqi_cols = False if pol_id in [5, 6001] else True\n",
    "    use_c_mean_cols = not use_aqi_cols\n",
    "\n",
    "    o_helper, _, _, x_vl, _ = lgbm_fl.init_optuna(\n",
    "        df=df, pol_id=pol_id, prediction_value_type=lgbm_fl.PredictionValueType.AQI,\n",
    "        use_aqi_cols=use_aqi_cols, use_c_mean_cols=use_c_mean_cols, use_lag_cols=use_lag_cols, use_gen_lags_cols=True, use_weather_cols=True,\n",
    "        train_start_dt=TRAIN_DATE_FROM, train_end_dt=TRAIN_DATE_TO, test_start_dt=VAL_DATE_FROM, test_end_dt=VAL_DATE_TO,\n",
    "        default_params=best_params, default_category=best_categories, default_top_features_count=best_feat_count)\n",
    "\n",
    "    score_train, score_val, _ = o_helper.run_model_and_eval(best_features_only=True, set_as_best_model=True)\n",
    "    y_vl_pred = [int(round(x, 0)) for x in o_helper.predict_by_best_model(x_vl)]\n",
    "    return score_train, score_val, y_vl_pred"
   ],
   "metadata": {
    "collapsed": false
   }
  },
  {
   "cell_type": "markdown",
   "source": [
    "## LGBM (+ weather, + lags, + gen lags) forecast"
   ],
   "metadata": {
    "collapsed": false
   }
  },
  {
   "cell_type": "markdown",
   "source": [
    "### O3"
   ],
   "metadata": {
    "collapsed": false
   }
  },
  {
   "cell_type": "code",
   "execution_count": 22,
   "outputs": [
    {
     "name": "stdout",
     "output_type": "stream",
     "text": [
      "[LightGBM] [Warning] Met categorical feature which contains sparse values. Consider renumbering to consecutive integers started from zero\n",
      "[LightGBM] [Warning] Met categorical feature which contains sparse values. Consider renumbering to consecutive integers started from zero\n",
      "train score: 3.1890261080175812, val score: 8.580380904072792\n"
     ]
    }
   ],
   "source": [
    "best_o3_params = {'n_jobs': -1, 'verbosity': -1, 'objective': 'regression', 'metric': 'rmse', 'boosting_type': 'gbdt', 'extra_trees': False, 'n_estimators': 2600, 'num_leaves': 29, 'learning_rate': 0.12226624793990773, 'subsample': 0.8259925800585568, 'subsample_freq': 6, 'subsample_for_bin': 311124, 'min_child_samples': 13, 'reg_alpha': 0.1877661803380422, 'reg_lambda': 0.12122085900675779, 'max_depth': 7, 'max_bin': 346}\n",
    "best_o3_categories =  ['season', 'month', 'year']\n",
    "best_o3_features_count = 19\n",
    "score_train_lgbm_o3, score_val_lgbm_o3, y_val_lgbm_o3 = get_prediction(df=df_joint, pol_id=7, best_params=best_o3_params, best_categories=best_o3_categories, best_feat_count=best_o3_features_count)\n",
    "print(f'train score: {score_train_lgbm_o3}, val score: {score_val_lgbm_o3}')\n",
    "df_res['AQI_O3_lgbm'] =  y_val_lgbm_o3"
   ],
   "metadata": {
    "collapsed": false
   }
  },
  {
   "cell_type": "markdown",
   "source": [
    "### PM 2.5"
   ],
   "metadata": {
    "collapsed": false
   }
  },
  {
   "cell_type": "code",
   "execution_count": 24,
   "outputs": [
    {
     "name": "stdout",
     "output_type": "stream",
     "text": [
      "train score: 4.096338645025627, val score: 33.11449808343723\n"
     ]
    }
   ],
   "source": [
    "best_pm25_params = {'n_jobs': -1, 'verbosity': -1, 'objective': 'regression', 'metric': 'rmse', 'boosting_type': 'gbdt', 'extra_trees': False, 'n_estimators': 2100, 'num_leaves': 97, 'learning_rate': 0.11890042003021366, 'subsample': 0.4318782580934736, 'subsample_freq': 0, 'subsample_for_bin': 193295, 'min_child_samples': 14, 'reg_alpha': 0.394194026403052, 'reg_lambda': 0.708405421324422, 'max_depth': 3, 'max_bin': 206}\n",
    "best_pm25_categories = ['month', 'weekday']\n",
    "best_pm25_features_count = 73\n",
    "\n",
    "score_train_lgbm_pm25, score_val_lgbm_pm25, y_val_lgbm_pm25 = get_prediction(df=df_joint, pol_id=6001,best_params=best_pm25_params, best_categories=best_pm25_categories, best_feat_count=best_pm25_features_count,\n",
    "                            use_lag_cols=False)\n",
    "print(f'train score: {score_train_lgbm_pm25}, val score: {score_val_lgbm_pm25}')\n",
    "df_res['AQI_PM25_lgbm'] =  y_val_lgbm_pm25"
   ],
   "metadata": {
    "collapsed": false
   }
  },
  {
   "cell_type": "markdown",
   "source": [
    "### PM 10"
   ],
   "metadata": {
    "collapsed": false
   }
  },
  {
   "cell_type": "code",
   "execution_count": 26,
   "outputs": [
    {
     "name": "stdout",
     "output_type": "stream",
     "text": [
      "train score: 3.3372515370374174, val score: 6.98974708460903\n"
     ]
    }
   ],
   "source": [
    "best_pm10_params = {'n_jobs': -1, 'verbosity': -1, 'objective': 'regression', 'metric': 'rmse', 'boosting_type': 'gbdt', 'extra_trees': False, 'n_estimators': 1100, 'num_leaves': 55, 'learning_rate': 0.13336706254004013, 'subsample': 0.7110931352351093, 'subsample_freq': 0, 'subsample_for_bin': 194563, 'min_child_samples': 45, 'reg_alpha': 0.18017308854453762, 'reg_lambda': 0.8264670184761244, 'max_depth': 5, 'max_bin': 270}\n",
    "\n",
    "best_pm10_categories =  ['season', 'weekday']\n",
    "best_pm10_features_count = 31\n",
    "\n",
    "score_train_lgbm_pm10, score_val_lgbm_pm10, y_val_lgbm_pm10 = get_prediction(df=df_joint, pol_id=5, best_params=best_pm10_params, best_categories=best_pm10_categories, best_feat_count=best_pm10_features_count)\n",
    "print(f'train score: {score_train_lgbm_pm10}, val score: {score_val_lgbm_pm10}')\n",
    "df_res['AQI_PM10_lgbm'] =  y_val_lgbm_pm10"
   ],
   "metadata": {
    "collapsed": false
   }
  },
  {
   "cell_type": "markdown",
   "source": [
    "### NO2"
   ],
   "metadata": {
    "collapsed": false
   }
  },
  {
   "cell_type": "code",
   "execution_count": 27,
   "outputs": [
    {
     "name": "stdout",
     "output_type": "stream",
     "text": [
      "train score: 4.45541823885513, val score: 4.45541823885513\n"
     ]
    }
   ],
   "source": [
    "best_no2_params = {'n_jobs': -1, 'verbosity': -1, 'objective': 'regression', 'metric': 'rmse', 'boosting_type': 'gbdt', 'extra_trees': True, 'n_estimators': 2200, 'num_leaves': 140, 'learning_rate': 0.076297211673832, 'subsample': 0.9048416321209771, 'subsample_freq': 1, 'subsample_for_bin': 141792, 'min_child_samples': 48, 'reg_alpha': 0.31049100804293384, 'reg_lambda': 0.7272704696443957, 'max_depth': 4, 'max_bin': 307}\n",
    "\n",
    "best_no2_categories =  ['season', 'month']\n",
    "best_no2_features_count = 30\n",
    "score_train_lgbm_no2, score_val_lgbm_no2, y_val_lgbm_no2 = get_prediction(df=df_joint, pol_id=8, best_params=best_no2_params, best_categories=best_no2_categories, best_feat_count=best_no2_features_count)\n",
    "print(f'train score: {score_train_lgbm_no2}, val score: {score_train_lgbm_no2}')\n",
    "df_res['AQI_NO2_lgbm'] =  y_val_lgbm_no2"
   ],
   "metadata": {
    "collapsed": false
   }
  },
  {
   "cell_type": "markdown",
   "source": [
    "### Gen AQI from best LGBM forecast"
   ],
   "metadata": {
    "collapsed": false
   }
  },
  {
   "cell_type": "code",
   "execution_count": 28,
   "outputs": [
    {
     "data": {
      "text/plain": "             AQI_VAL  AQI_O3_lgbm  AQI_PM25_lgbm  AQI_PM10_lgbm  AQI_NO2_lgbm  \\\nDatetimeEnd                                                                     \n2023-02-06       115           19             98             22            30   \n2023-02-07       139           15            104             27            33   \n2023-02-08       143           19            103             27            33   \n2023-02-09       127           19             85             23            36   \n2023-02-10        97           19             73             20            36   \n2023-02-11        74           25             59             20            31   \n2023-02-12       128           18             86             20            33   \n\n             AQI_GEN_lgbm  \nDatetimeEnd                \n2023-02-06             98  \n2023-02-07            104  \n2023-02-08            103  \n2023-02-09             85  \n2023-02-10             73  \n2023-02-11             59  \n2023-02-12             86  ",
      "text/html": "<div>\n<style scoped>\n    .dataframe tbody tr th:only-of-type {\n        vertical-align: middle;\n    }\n\n    .dataframe tbody tr th {\n        vertical-align: top;\n    }\n\n    .dataframe thead th {\n        text-align: right;\n    }\n</style>\n<table border=\"1\" class=\"dataframe\">\n  <thead>\n    <tr style=\"text-align: right;\">\n      <th></th>\n      <th>AQI_VAL</th>\n      <th>AQI_O3_lgbm</th>\n      <th>AQI_PM25_lgbm</th>\n      <th>AQI_PM10_lgbm</th>\n      <th>AQI_NO2_lgbm</th>\n      <th>AQI_GEN_lgbm</th>\n    </tr>\n    <tr>\n      <th>DatetimeEnd</th>\n      <th></th>\n      <th></th>\n      <th></th>\n      <th></th>\n      <th></th>\n      <th></th>\n    </tr>\n  </thead>\n  <tbody>\n    <tr>\n      <th>2023-02-06</th>\n      <td>115</td>\n      <td>19</td>\n      <td>98</td>\n      <td>22</td>\n      <td>30</td>\n      <td>98</td>\n    </tr>\n    <tr>\n      <th>2023-02-07</th>\n      <td>139</td>\n      <td>15</td>\n      <td>104</td>\n      <td>27</td>\n      <td>33</td>\n      <td>104</td>\n    </tr>\n    <tr>\n      <th>2023-02-08</th>\n      <td>143</td>\n      <td>19</td>\n      <td>103</td>\n      <td>27</td>\n      <td>33</td>\n      <td>103</td>\n    </tr>\n    <tr>\n      <th>2023-02-09</th>\n      <td>127</td>\n      <td>19</td>\n      <td>85</td>\n      <td>23</td>\n      <td>36</td>\n      <td>85</td>\n    </tr>\n    <tr>\n      <th>2023-02-10</th>\n      <td>97</td>\n      <td>19</td>\n      <td>73</td>\n      <td>20</td>\n      <td>36</td>\n      <td>73</td>\n    </tr>\n    <tr>\n      <th>2023-02-11</th>\n      <td>74</td>\n      <td>25</td>\n      <td>59</td>\n      <td>20</td>\n      <td>31</td>\n      <td>59</td>\n    </tr>\n    <tr>\n      <th>2023-02-12</th>\n      <td>128</td>\n      <td>18</td>\n      <td>86</td>\n      <td>20</td>\n      <td>33</td>\n      <td>86</td>\n    </tr>\n  </tbody>\n</table>\n</div>"
     },
     "metadata": {},
     "output_type": "display_data"
    },
    {
     "data": {
      "text/plain": "32.60806210564673"
     },
     "execution_count": 28,
     "metadata": {},
     "output_type": "execute_result"
    }
   ],
   "source": [
    "df_res['AQI_GEN_lgbm'] = df_res[['AQI_O3_lgbm', 'AQI_PM25_lgbm', 'AQI_PM10_lgbm', 'AQI_NO2_lgbm']].values.max(axis=1)\n",
    "display(df_res)\n",
    "score_val_lgbm_weather = math.sqrt(metrics.mean_squared_error(df_res['AQI_VAL'].values, df_res['AQI_GEN_lgbm'].values))\n",
    "score_val_lgbm_weather"
   ],
   "metadata": {
    "collapsed": false
   }
  },
  {
   "cell_type": "markdown",
   "source": [
    "## Arima forecast"
   ],
   "metadata": {
    "collapsed": false
   }
  },
  {
   "cell_type": "code",
   "execution_count": null,
   "outputs": [],
   "source": [
    "df_weather = df_joint.loc[TRAIN_DATE_FROM:VAL_DATE_TO, WEATHER_USE_COLUMNS]\n",
    "df_weather['prcp'].fillna(0, inplace=True)\n",
    "df_weather['wpgt'].fillna(0, inplace=True)\n",
    "df_weather['tavg'].fillna(df_weather['tavg'].interpolate(option='time'), inplace=True)\n",
    "df_weather['tmin'].fillna(df_weather['tmin'].interpolate(option='time'), inplace=True)\n",
    "df_weather['tmax'].fillna(df_weather['tmax'].interpolate(option='time'), inplace=True)\n",
    "df_weather['wdir'].fillna(df_weather['wdir'].interpolate(option='time'), inplace=True)\n",
    "df_weather['wspd'].fillna(df_weather['wspd'].interpolate(option='time'), inplace=True)\n",
    "df_weather['pres'].fillna(df_weather['pres'].interpolate(option='time'), inplace=True)"
   ],
   "metadata": {
    "collapsed": false,
    "pycharm": {
     "is_executing": true
    }
   }
  },
  {
   "cell_type": "markdown",
   "source": [
    "### O3"
   ],
   "metadata": {
    "collapsed": false
   }
  },
  {
   "cell_type": "code",
   "execution_count": 15,
   "outputs": [],
   "source": [],
   "metadata": {
    "collapsed": false
   }
  },
  {
   "cell_type": "markdown",
   "source": [
    "### PM 2.5"
   ],
   "metadata": {
    "collapsed": false
   }
  },
  {
   "cell_type": "code",
   "execution_count": 18,
   "outputs": [],
   "source": [
    "column_name = 'AQI_PM25'\n",
    "df_pm25 = df_joint.loc[TRAIN_DATE_FROM:VAL_DATE_TO, [column_name]]\n",
    "df_train_pm25 = df_pm25.loc[TRAIN_DATE_FROM:TRAIN_DATE_TO,]\n",
    "df_val_pm25 = df_pm25.loc[VAL_DATE_FROM:VAL_DATE_TO,]\n",
    "\n",
    "fourier_k1_pm25 = TransformHelper.apply_fourier(df_pm25)\n",
    "fourier_k1_train_pm25 = fourier_k1_pm25.loc[TRAIN_DATE_FROM:TRAIN_DATE_TO,]\n",
    "fourier_k1_val_pm25 =fourier_k1_pm25.loc[VAL_DATE_FROM:VAL_DATE_TO,]\n",
    "\n",
    "exog_weather_pm25 = df_weather[['tavg','tmax','wdir','wspd','pres']]\n",
    "exog_weather_train_pm25 = exog_weather_pm25.loc[TRAIN_DATE_FROM:TRAIN_DATE_TO,]\n",
    "exog_weather_val_pm25 = exog_weather_pm25.loc[VAL_DATE_FROM:VAL_DATE_TO,]\n",
    "\n",
    "exog_fourier_k1_weather_train_pm25 = fourier_k1_train_pm25.merge(exog_weather_train_pm25, left_index=True, right_index=True)\n",
    "exog_fourier_k1_weather_val_pm25 = fourier_k1_val_pm25.merge(exog_weather_val_pm25, left_index=True, right_index=True)"
   ],
   "metadata": {
    "collapsed": false
   }
  },
  {
   "cell_type": "code",
   "execution_count": 29,
   "outputs": [
    {
     "name": "stdout",
     "output_type": "stream",
     "text": [
      "train score: 18.102478180407605, val score: 53.2812042263063\n"
     ]
    }
   ],
   "source": [
    "score_train_arima_fourier_k1_weather, train_predictions_arima_fourier_k1_weather = arima_cvpred.cross_val_sarimax_calc_rmse(ts_train=df_train_pm25, order=(4,1,1), seasonal_order=None, exog_train=exog_fourier_k1_weather_train_pm25)\n",
    "score_val_arima_fourier_k1_weather, predictions_arima_fourier_k1_weather = arima_cvpred.predict_sarimax_calc_rmse(ts_train=df_train_pm25, ts_val=df_val_pm25, order=(4,1,1), seasonal_order=None, exog_train=exog_fourier_k1_weather_train_pm25, exog_val=exog_fourier_k1_weather_val_pm25)\n",
    "print(f'train score: {score_train_arima_fourier_k1_weather}, val score: {score_val_arima_fourier_k1_weather}')"
   ],
   "metadata": {
    "collapsed": false
   }
  },
  {
   "cell_type": "markdown",
   "source": [
    "### PM 10"
   ],
   "metadata": {
    "collapsed": false
   }
  },
  {
   "cell_type": "code",
   "execution_count": 15,
   "outputs": [],
   "source": [],
   "metadata": {
    "collapsed": false
   }
  },
  {
   "cell_type": "markdown",
   "source": [
    "### NO2"
   ],
   "metadata": {
    "collapsed": false
   }
  },
  {
   "cell_type": "code",
   "execution_count": null,
   "outputs": [],
   "source": [],
   "metadata": {
    "collapsed": false
   }
  },
  {
   "cell_type": "markdown",
   "source": [
    "### Gen AQI from best ARIMA forecast"
   ],
   "metadata": {
    "collapsed": false
   }
  },
  {
   "cell_type": "code",
   "execution_count": null,
   "outputs": [],
   "source": [],
   "metadata": {
    "collapsed": false
   }
  },
  {
   "cell_type": "markdown",
   "source": [
    "## Simple Exponential Smoothing forecasts"
   ],
   "metadata": {
    "collapsed": false
   }
  },
  {
   "cell_type": "code",
   "execution_count": 31,
   "outputs": [],
   "source": [
    "def ses_by_pols(alpha, pol_id):\n",
    "    col_name = 'AQI_' + POL_NAMES[pol_id]\n",
    "    _, y_val = ts_splitter.split_x_y_for_period(df=df_joint, index_cols='DatetimeEnd', y_value_col=col_name,                                                           dt_start=VAL_DATE_FROM, dt_end=VAL_DATE_TO)\n",
    "    _, y_train = ts_splitter.split_x_y_for_period(df=df_joint, index_cols='DatetimeEnd', y_value_col=col_name,                                                           dt_start=TRAIN_DATE_FROM, dt_end=TRAIN_DATE_TO)\n",
    "    ses = SimpleExpSmoothing(y_train)\n",
    "    model_ses = ses.fit(smoothing_level = alpha, optimized = False)\n",
    "    y_pred = model_ses.forecast(7)\n",
    "    y_pred = [int(round(x)) for x in y_pred]\n",
    "    score = math.sqrt(metrics.mean_squared_error(y_val.values, y_pred))\n",
    "    print(f'Score for {POL_NAMES[pol_id]}: {score}')\n",
    "    return y_pred"
   ],
   "metadata": {
    "collapsed": false
   }
  },
  {
   "cell_type": "markdown",
   "source": [
    "### alpha = 0.1"
   ],
   "metadata": {
    "collapsed": false
   }
  },
  {
   "cell_type": "code",
   "execution_count": 32,
   "outputs": [
    {
     "name": "stdout",
     "output_type": "stream",
     "text": [
      "Score for O3: 7.681145747868608\n",
      "Score for PM25: 67.5288298221053\n",
      "Score for PM10: 11.532562594670797\n",
      "Score for NO2: 14.367622330384782\n"
     ]
    },
    {
     "data": {
      "text/plain": "67.5288298221053"
     },
     "execution_count": 32,
     "metadata": {},
     "output_type": "execute_result"
    }
   ],
   "source": [
    "alpha = 0.1\n",
    "for pol_id in POL_CODES:\n",
    "    df_res[f'AQI_{POL_NAMES[pol_id]}_ses_a01']= ses_by_pols(alpha, pol_id)\n",
    "\n",
    "df_res[f'AQI_ses_a01'] = df_res[['AQI_O3_ses_a01', 'AQI_PM25_ses_a01', 'AQI_PM10_ses_a01', 'AQI_NO2_ses_a01']].values.max(axis=1)\n",
    "score_ses_a01 = math.sqrt(metrics.mean_squared_error(df_res['AQI_VAL'].values, df_res['AQI_ses_a01'].values))\n",
    "score_ses_a01"
   ],
   "metadata": {
    "collapsed": false
   }
  },
  {
   "cell_type": "markdown",
   "source": [
    "### alpha = 0.5"
   ],
   "metadata": {
    "collapsed": false
   }
  },
  {
   "cell_type": "code",
   "execution_count": 33,
   "outputs": [
    {
     "name": "stdout",
     "output_type": "stream",
     "text": [
      "Score for O3: 15.883504471171161\n",
      "Score for PM25: 49.165899913310994\n",
      "Score for PM10: 6.928203230275509\n",
      "Score for NO2: 5.41162769282166\n"
     ]
    },
    {
     "data": {
      "text/plain": "49.165899913310994"
     },
     "execution_count": 33,
     "metadata": {},
     "output_type": "execute_result"
    }
   ],
   "source": [
    "alpha = 0.5\n",
    "for pol_id in POL_CODES:\n",
    "    df_res[f'AQI_{POL_NAMES[pol_id]}_ses_a05']= ses_by_pols(alpha, pol_id)\n",
    "\n",
    "df_res[f'AQI_ses_a05'] = df_res[['AQI_O3_ses_a05', 'AQI_PM25_ses_a05', 'AQI_PM10_ses_a05', 'AQI_NO2_ses_a05']].values.max(axis=1)\n",
    "score_ses_a05 = math.sqrt(metrics.mean_squared_error(df_res['AQI_VAL'].values, df_res['AQI_ses_a05'].values))\n",
    "score_ses_a05"
   ],
   "metadata": {
    "collapsed": false
   }
  },
  {
   "cell_type": "markdown",
   "source": [
    "### alpha = 1"
   ],
   "metadata": {
    "collapsed": false
   }
  },
  {
   "cell_type": "code",
   "execution_count": 34,
   "outputs": [
    {
     "name": "stdout",
     "output_type": "stream",
     "text": [
      "Score for O3: 21.44094880629786\n",
      "Score for PM25: 43.936642696371\n",
      "Score for PM10: 6.447590912226719\n",
      "Score for NO2: 4.750939756661683\n"
     ]
    },
    {
     "data": {
      "text/plain": "43.936642696371"
     },
     "execution_count": 34,
     "metadata": {},
     "output_type": "execute_result"
    }
   ],
   "source": [
    "alpha = 1\n",
    "for pol_id in POL_CODES:\n",
    "    df_res[f'AQI_{POL_NAMES[pol_id]}_ses_a1']= ses_by_pols(alpha, pol_id)\n",
    "\n",
    "df_res[f'AQI_ses_a1'] = df_res[['AQI_O3_ses_a1', 'AQI_PM25_ses_a1', 'AQI_PM10_ses_a1', 'AQI_NO2_ses_a1']].values.max(axis=1)\n",
    "score_ses_a1 = math.sqrt(metrics.mean_squared_error(df_res['AQI_VAL'].values, df_res['AQI_ses_a1'].values))\n",
    "score_ses_a1"
   ],
   "metadata": {
    "collapsed": false
   }
  },
  {
   "cell_type": "markdown",
   "source": [
    "## Forecast"
   ],
   "metadata": {
    "collapsed": false
   }
  },
  {
   "cell_type": "code",
   "execution_count": 36,
   "outputs": [
    {
     "data": {
      "text/plain": "<Figure size 1500x700 with 1 Axes>",
      "image/png": "[encoded data removed]"
     },
     "metadata": {},
     "output_type": "display_data"
    }
   ],
   "source": [
    "plt.figure(figsize=(15, 7))\n",
    "plt.title(f\"Прогноз AQI на последние 7 дней\")\n",
    "plt.plot(df_res['AQI_VAL'], label=\"actual\")\n",
    "plt.plot(df_res['AQI_GEN_lgbm'], label=\"LGBM + weather. RMSE=%.2f\" % score_val_lgbm_weather)\n",
    "plt.plot(df_res['AQI_ses_a1'], label=\"Baseline - SES a=1. RMSE=%.2f\" % score_ses_a1)\n",
    "plt.plot(predictions_arima_fourier_k1_weather, label=\"ARIMA + Fourier(k=1) + weather. RMSE=%.2f\" % score_val_arima_fourier_k1_weather)\n",
    "plt.plot()\n",
    "plt.legend()\n",
    "plt.grid(True)\n",
    "plt.show()"
   ],
   "metadata": {
    "collapsed": false
   }
  }
 ],
 "metadata": {
  "kernelspec": {
   "display_name": "Python 3",
   "language": "python",
   "name": "python3"
  },
  "language_info": {
   "codemirror_mode": {
    "name": "ipython",
    "version": 2
   },
   "file_extension": ".py",
   "mimetype": "text/x-python",
   "name": "python",
   "nbconvert_exporter": "python",
   "pygments_lexer": "ipython2",
   "version": "2.7.6"
  }
 },
 "nbformat": 4,
 "nbformat_minor": 0
}
