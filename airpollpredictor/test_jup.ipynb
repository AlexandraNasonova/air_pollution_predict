{
 "cells": [
  {
   "cell_type": "code",
   "execution_count": 9,
   "metadata": {
    "collapsed": true,
    "ExecuteTime": {
     "start_time": "2023-04-15T09:33:44.293330Z",
     "end_time": "2023-04-15T09:33:44.304484Z"
    }
   },
   "outputs": [],
   "source": [
    "import onnx\n",
    "from onnxmltools.convert import convert_lightgbm\n",
    "import onnxruntime as rt\n",
    "import pandas as pd\n",
    "from skl2onnx.common.data_types import FloatTensorType\n",
    "from settings import settings\n",
    "import ml_tune_helpers.ts_splitter as ts_splitter\n",
    "from ml_tune_helpers.lgbm_optuna.optuna_lgb_search import OptunaLgbSearch\n",
    "import warnings\n",
    "warnings.filterwarnings('ignore')"
   ]
  },
  {
   "cell_type": "code",
   "execution_count": 3,
   "outputs": [
    {
     "data": {
      "text/plain": "(7.286649673817787, 27.724438877025666)"
     },
     "execution_count": 3,
     "metadata": {},
     "output_type": "execute_result"
    }
   ],
   "source": [
    "df_train = pd.read_csv(\"experiments_results/lgbm/6001/train.csv\", parse_dates=True,\n",
    "                       index_col=settings.DATE_COLUMN_NAME)\n",
    "df_val = pd.read_csv(\"experiments_results/lgbm/6001/val.csv\", parse_dates=True,\n",
    "                     index_col=settings.DATE_COLUMN_NAME)\n",
    "x_train, y_train = ts_splitter.extract_labels(df_train, 'AQI_PM25')\n",
    "x_val, y_val = ts_splitter.extract_labels(df_val, 'AQI_PM25')\n",
    "\n",
    "\n",
    "best_pm25_params = {'n_jobs': -1, 'verbosity': -1, 'objective': 'regression', 'metric': 'rmse', 'boosting_type': 'gbdt', 'extra_trees': False, 'n_estimators': 2100, 'num_leaves': 97, 'learning_rate': 0.11890042003021366, 'subsample': 0.4318782580934736, 'subsample_freq': 0, 'subsample_for_bin': 193295, 'min_child_samples': 14, 'reg_alpha': 0.394194026403052, 'reg_lambda': 0.708405421324422, 'max_depth': 3, 'max_bin': 206}\n",
    "best_pm25_categories = ['month', 'weekday']\n",
    "best_pm25_features_count = 73\n",
    "categories = [\n",
    "    ['month', 'weekday'],\n",
    "    ['season', 'month'],\n",
    "    ['season', 'month', 'weekday']\n",
    "  ]\n",
    "\n",
    "optuna_tuner = OptunaLgbSearch(\n",
    "    study_name=f'lgbm_6001',\n",
    "    metric='rmse',\n",
    "    objective='regression',\n",
    "    x_train=x_train, y_train=y_train,\n",
    "    x_val=x_val, y_val=y_val,\n",
    "    default_params=best_pm25_params,\n",
    "    default_category=best_pm25_categories,\n",
    "    categories_for_optimization=categories,\n",
    "    default_top_features_count=best_pm25_features_count\n",
    ")\n",
    "\n",
    "score_train, score_val, model_best = optuna_tuner.run_model_and_eval(best_features_only=True, set_as_best_model=True)\n",
    "score_train, score_val"
   ],
   "metadata": {
    "collapsed": false,
    "ExecuteTime": {
     "start_time": "2023-04-15T09:29:26.613070Z",
     "end_time": "2023-04-15T09:29:36.105928Z"
    }
   }
  },
  {
   "cell_type": "code",
   "execution_count": 5,
   "outputs": [],
   "source": [
    "# # Convert model to ONNX\n",
    "onnxfile = 'experiments_results/lgbm/6001/model.onnx'\n",
    "initial_type = [('float_input', FloatTensorType([None, x_train.shape[1]]))]\n",
    "onnx_model = convert_lightgbm(model_best, initial_types=initial_type, target_opset=8)\n",
    "#onnx_model = onnxmltools.convert_lightgbm(lgb_model, initial_types=[(variable_name, data_type), (variable_name, data_type)])"
   ],
   "metadata": {
    "collapsed": false,
    "ExecuteTime": {
     "start_time": "2023-04-15T09:30:18.987370Z",
     "end_time": "2023-04-15T09:30:19.064423Z"
    }
   }
  },
  {
   "cell_type": "code",
   "execution_count": 6,
   "outputs": [],
   "source": [
    "onnx.checker.check_model(onnx_model)\n",
    "with open(onnxfile, \"wb\") as f:\n",
    "    f.write( onnx_model.SerializeToString())"
   ],
   "metadata": {
    "collapsed": false,
    "ExecuteTime": {
     "start_time": "2023-04-15T09:30:20.806127Z",
     "end_time": "2023-04-15T09:30:20.807493Z"
    }
   }
  },
  {
   "cell_type": "code",
   "execution_count": 7,
   "outputs": [],
   "source": [
    "onnx_model_pred_test = onnx.load(onnxfile)\n",
    "onnx.checker.check_model(onnx_model_pred_test)"
   ],
   "metadata": {
    "collapsed": false,
    "ExecuteTime": {
     "start_time": "2023-04-15T09:30:30.242815Z",
     "end_time": "2023-04-15T09:30:30.284850Z"
    }
   }
  },
  {
   "cell_type": "code",
   "execution_count": 29,
   "outputs": [
    {
     "name": "stdout",
     "output_type": "stream",
     "text": [
      "[[55.831226]\n",
      " [55.250202]\n",
      " [66.52815 ]]\n"
     ]
    }
   ],
   "source": [
    "import numpy\n",
    "sess = rt.InferenceSession(onnxfile)\n",
    "input_name = sess.get_inputs()[0].name\n",
    "label_name = sess.get_outputs()[0].name\n",
    "pred_onx = sess.run([label_name], {input_name: x_val.astype(numpy.float32).to_numpy()})[0]\n",
    "print(pred_onx)"
   ],
   "metadata": {
    "collapsed": false,
    "ExecuteTime": {
     "start_time": "2023-04-15T09:58:56.273000Z",
     "end_time": "2023-04-15T09:58:56.316933Z"
    }
   }
  },
  {
   "cell_type": "code",
   "execution_count": 25,
   "outputs": [
    {
     "ename": "RuntimeError",
     "evalue": "Input must be a list of dictionaries or a single numpy array for input 'float_input'.",
     "output_type": "error",
     "traceback": [
      "\u001B[0;31m---------------------------------------------------------------------------\u001B[0m",
      "\u001B[0;31mRuntimeError\u001B[0m                              Traceback (most recent call last)",
      "Cell \u001B[0;32mIn[25], line 1\u001B[0m\n\u001B[0;32m----> 1\u001B[0m pred_onx \u001B[38;5;241m=\u001B[39m \u001B[43msess\u001B[49m\u001B[38;5;241;43m.\u001B[39;49m\u001B[43mrun\u001B[49m\u001B[43m(\u001B[49m\u001B[38;5;28;43;01mNone\u001B[39;49;00m\u001B[43m,\u001B[49m\u001B[43m \u001B[49m\u001B[43m{\u001B[49m\u001B[43minput_name\u001B[49m\u001B[43m:\u001B[49m\u001B[43m \u001B[49m\u001B[43mx_train\u001B[49m\u001B[38;5;241;43m.\u001B[39;49m\u001B[43mastype\u001B[49m\u001B[43m(\u001B[49m\u001B[43mnumpy\u001B[49m\u001B[38;5;241;43m.\u001B[39;49m\u001B[43mfloat32\u001B[49m\u001B[43m)\u001B[49m\u001B[43m}\u001B[49m\u001B[43m)\u001B[49m\n\u001B[1;32m      2\u001B[0m \u001B[38;5;28mprint\u001B[39m(pred_onx)\n",
      "File \u001B[0;32m~/work/projects/air_pol/air_pollution_predict/airpollpredictor/venv/lib/python3.10/site-packages/onnxruntime/capi/onnxruntime_inference_collection.py:200\u001B[0m, in \u001B[0;36mSession.run\u001B[0;34m(self, output_names, input_feed, run_options)\u001B[0m\n\u001B[1;32m    198\u001B[0m     output_names \u001B[38;5;241m=\u001B[39m [output\u001B[38;5;241m.\u001B[39mname \u001B[38;5;28;01mfor\u001B[39;00m output \u001B[38;5;129;01min\u001B[39;00m \u001B[38;5;28mself\u001B[39m\u001B[38;5;241m.\u001B[39m_outputs_meta]\n\u001B[1;32m    199\u001B[0m \u001B[38;5;28;01mtry\u001B[39;00m:\n\u001B[0;32m--> 200\u001B[0m     \u001B[38;5;28;01mreturn\u001B[39;00m \u001B[38;5;28;43mself\u001B[39;49m\u001B[38;5;241;43m.\u001B[39;49m\u001B[43m_sess\u001B[49m\u001B[38;5;241;43m.\u001B[39;49m\u001B[43mrun\u001B[49m\u001B[43m(\u001B[49m\u001B[43moutput_names\u001B[49m\u001B[43m,\u001B[49m\u001B[43m \u001B[49m\u001B[43minput_feed\u001B[49m\u001B[43m,\u001B[49m\u001B[43m \u001B[49m\u001B[43mrun_options\u001B[49m\u001B[43m)\u001B[49m\n\u001B[1;32m    201\u001B[0m \u001B[38;5;28;01mexcept\u001B[39;00m C\u001B[38;5;241m.\u001B[39mEPFail \u001B[38;5;28;01mas\u001B[39;00m err:\n\u001B[1;32m    202\u001B[0m     \u001B[38;5;28;01mif\u001B[39;00m \u001B[38;5;28mself\u001B[39m\u001B[38;5;241m.\u001B[39m_enable_fallback:\n",
      "\u001B[0;31mRuntimeError\u001B[0m: Input must be a list of dictionaries or a single numpy array for input 'float_input'."
     ]
    }
   ],
   "source": [
    "print(pred_onx)"
   ],
   "metadata": {
    "collapsed": false
   }
  }
 ],
 "metadata": {
  "kernelspec": {
   "display_name": "Python 3",
   "language": "python",
   "name": "python3"
  },
  "language_info": {
   "codemirror_mode": {
    "name": "ipython",
    "version": 2
   },
   "file_extension": ".py",
   "mimetype": "text/x-python",
   "name": "python",
   "nbconvert_exporter": "python",
   "pygments_lexer": "ipython2",
   "version": "2.7.6"
  }
 },
 "nbformat": 4,
 "nbformat_minor": 0
}
