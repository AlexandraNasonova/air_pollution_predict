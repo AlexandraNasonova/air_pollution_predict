{
 "cells": [
  {
   "cell_type": "code",
   "execution_count": 10,
   "outputs": [],
   "source": [
    "import pandas as pd\n",
    "import json\n",
    "import mlflow\n",
    "from mlflow.models.signature import infer_signature\n",
    "from mlflow.lightgbm import log_model\n",
    "from sklearn.model_selection import TimeSeriesSplit\n",
    "import yaml\n",
    "from settings import settings\n",
    "import lgbm_tuner.columns_filter as col_filter\n",
    "import lgbm_tuner.tuner as tuner\n",
    "from ml_tune_helpers.lgbm_optuna.optuna_lgb_search import OptunaLgbSearch\n",
    "import warnings\n",
    "warnings.filterwarnings('ignore')"
   ],
   "metadata": {
    "collapsed": false,
    "ExecuteTime": {
     "start_time": "2023-04-14T10:30:29.161296Z",
     "end_time": "2023-04-14T10:30:29.205000Z"
    }
   }
  },
  {
   "cell_type": "code",
   "execution_count": 2,
   "outputs": [],
   "source": [
    "def __extract_labels(df_ts: pd.DataFrame, target_column: str):\n",
    "    x_ts = df_ts.drop([target_column], axis=1)\n",
    "    y_ts = df_ts[target_column]\n",
    "    return x_ts, y_ts"
   ],
   "metadata": {
    "collapsed": false,
    "ExecuteTime": {
     "start_time": "2023-04-14T10:23:10.642432Z",
     "end_time": "2023-04-14T10:23:10.644178Z"
    }
   }
  },
  {
   "cell_type": "code",
   "execution_count": 0,
   "outputs": [],
   "source": [
    "file_name = \"params.yaml\"\n",
    "with open(file_name, 'r', encoding='UTF-8') as file_stream:\n",
    "    yaml_params = yaml.safe_load(file_stream)\n",
    "\n",
    "model_params = yaml_params[\"lgbm_pm25\"]\n",
    "metric = yaml_params[\"metric\"]\n",
    "optuna_params = yaml_params[\"optuna\"]\n",
    "pol_id = model_params[\"pol_id\"]\n",
    "target_column_name = col_filter.get_target_column(\n",
    "    prediction_value_type=model_params['prediction_value_type'],\n",
    "    pol_id=pol_id)\n",
    "\n",
    "default_params = {'n_jobs': -1, 'verbosity': -1, 'metric': 'rmse', 'boosting_type': 'gbdt',\n",
    "                  'extra_trees': True, 'n_estimators': 1000, 'num_leaves': 150, 'learning_rate': 0.01,\n",
    "                  'subsample': 0.7, 'subsample_freq': 5, 'subsample_for_bin': 100000, 'min_child_samples': 30,\n",
    "                  'reg_alpha': 0.1, 'reg_lambda': 0.2, 'max_depth': 10, 'max_bin': 150}"
   ],
   "metadata": {
    "collapsed": false,
    "ExecuteTime": {
     "start_time": "2023-04-14T10:27:57.744523Z",
     "end_time": "2023-04-14T10:27:57.784963Z"
    }
   }
  },
  {
   "cell_type": "code",
   "execution_count": 17,
   "outputs": [],
   "source": [
    "df_train = pd.read_csv(\"experiments_results/lgbm/6001/train.csv\", parse_dates=True,\n",
    "                       index_col=settings.DATE_COLUMN_NAME)\n",
    "df_val = pd.read_csv(\"experiments_results/lgbm/6001/val.csv\", parse_dates=True,\n",
    "                     index_col=settings.DATE_COLUMN_NAME)\n",
    "x_train_1, y_train_1 = __extract_labels(df_train, target_column_name)\n",
    "x_val_1, y_val_1 = __extract_labels(df_val, target_column_name)"
   ],
   "metadata": {
    "collapsed": false,
    "ExecuteTime": {
     "start_time": "2023-04-14T10:35:29.438808Z",
     "end_time": "2023-04-14T10:35:29.452959Z"
    }
   }
  },
  {
   "cell_type": "code",
   "execution_count": 14,
   "outputs": [],
   "source": [
    "TRAIN_DATE_FROM = '2015-01-08'\n",
    "TRAIN_DATE_TO = '2023-02-05'\n",
    "VAL_DATE_FROM = '2023-02-06'\n",
    "VAL_DATE_TO = '2023-02-12'\n",
    "\n",
    "CSV_JOINT_FILE = 'datasources/ds_joint/ds.csv'\n",
    "df_joint = pd.read_csv(CSV_JOINT_FILE, parse_dates=True, index_col='DatetimeEnd')"
   ],
   "metadata": {
    "collapsed": false,
    "ExecuteTime": {
     "start_time": "2023-04-14T10:33:05.319506Z",
     "end_time": "2023-04-14T10:33:05.733215Z"
    }
   }
  },
  {
   "cell_type": "code",
   "execution_count": 15,
   "outputs": [],
   "source": [
    "optuna_tuner, x_train, y_train, x_val, y_val = tuner.init_optuna(\n",
    "    df_timeseries=df_joint, pol_id=pol_id, prediction_value_type=\"AQI\",\n",
    "    use_aqi_cols=True, use_c_mean_cols=False, use_lag_cols=True, use_gen_lags_cols=True, use_weather_cols=True,\n",
    "    train_start_dt=TRAIN_DATE_FROM, train_end_dt=TRAIN_DATE_TO, test_start_dt=VAL_DATE_FROM, test_end_dt=VAL_DATE_TO, default_params=default_params, default_category=model_params[\"default_category\"], categories_for_optimization=model_params[\"categories\"], default_top_features_count=-1)"
   ],
   "metadata": {
    "collapsed": false,
    "ExecuteTime": {
     "start_time": "2023-04-14T10:33:06.429971Z",
     "end_time": "2023-04-14T10:33:07.885364Z"
    }
   }
  },
  {
   "cell_type": "code",
   "execution_count": 29,
   "outputs": [
    {
     "data": {
      "text/plain": "False"
     },
     "execution_count": 29,
     "metadata": {},
     "output_type": "execute_result"
    }
   ],
   "source": [
    "set(x_val.columns.values) == set(x_val_1.columns.values)"
   ],
   "metadata": {
    "collapsed": false,
    "ExecuteTime": {
     "start_time": "2023-04-14T10:38:56.138272Z",
     "end_time": "2023-04-14T10:38:56.181157Z"
    }
   }
  },
  {
   "cell_type": "code",
   "execution_count": 43,
   "outputs": [],
   "source": [
    "optuna_tuner = OptunaLgbSearch(\n",
    "    study_name=f'lgbm_{pol_id if pol_id > 0 else \"all\"}',\n",
    "    metric=metric,\n",
    "    objective=optuna_params[\"objective\"],\n",
    "    x_train=x_train_1, y_train=y_train_1,\n",
    "    x_val=x_val_1, y_val=y_val_1,\n",
    "    default_params= model_params[\"default_params\"],\n",
    "    default_category=model_params[\"default_category\"],\n",
    "    categories_for_optimization=model_params[\"categories\"],\n",
    "    default_top_features_count=-1)"
   ],
   "metadata": {
    "collapsed": false,
    "ExecuteTime": {
     "start_time": "2023-04-14T10:43:21.380000Z",
     "end_time": "2023-04-14T10:43:21.400745Z"
    }
   }
  },
  {
   "cell_type": "code",
   "execution_count": 44,
   "outputs": [
    {
     "name": "stdout",
     "output_type": "stream",
     "text": [
      "run_params_search n_trials=100, search_category=True, best_features_only=True, with_pruner=True\n"
     ]
    },
    {
     "data": {
      "text/plain": "  0%|          | 0/100 [00:00<?, ?it/s]",
      "application/vnd.jupyter.widget-view+json": {
       "version_major": 2,
       "version_minor": 0,
       "model_id": "dba1919f5f224e63a2303fc5b523d75c"
      }
     },
     "metadata": {},
     "output_type": "display_data"
    },
    {
     "name": "stderr",
     "output_type": "stream",
     "text": [
      "[LightGBM] [Fatal] Check failed: (num_data) > (0) at /__w/1/s/python-package/compile/src/io/dataset.cpp, line 33 .\n",
      "\n",
      "[LightGBM] [Fatal] Check failed: (num_data) > (0) at /__w/1/s/python-package/compile/src/io/dataset.cpp, line 33 .\n",
      "\n"
     ]
    },
    {
     "name": "stdout",
     "output_type": "stream",
     "text": [
      "\u001B[33m[W 2023-04-14 10:43:23,409]\u001B[0m Trial 2 failed with parameters: {'n_jobs': -1, 'verbosity': -1, 'objective': 'regression', 'metric': 'rmse', 'boosting_type': 'gbdt', 'extra_trees': True, 'n_estimators': 1400, 'num_leaves': 85, 'learning_rate': 0.11118757375018051, 'subsample': 0.22034051608484195, 'subsample_freq': 6, 'subsample_for_bin': 238663, 'min_child_samples': 10, 'reg_alpha': 0.8739491050653283, 'reg_lambda': 0.8299948182739849, 'max_depth': 9, 'max_bin': 175, 'categorical_features': ['month', 'weekday']} because of the following error: LightGBMError('Check failed: (num_data) > (0) at /__w/1/s/python-package/compile/src/io/dataset.cpp, line 33 .\\n').\u001B[0m\n",
      "Traceback (most recent call last):\n",
      "  File \"/home/alexandra/work/projects/air_pol/air_pollution_predict/airpollpredictor/venv/lib/python3.10/site-packages/optuna/study/_optimize.py\", line 200, in _run_trial\n",
      "    value_or_values = func(trial)\n",
      "  File \"/home/alexandra/work/projects/air_pol/air_pollution_predict/airpollpredictor/ml_tune_helpers/lgbm_optuna/optuna_lgb_search.py\", line 173, in <lambda>\n",
      "    self.__objective(trial, with_pruner=with_pruner, search_category=search_category,\n",
      "  File \"/home/alexandra/work/projects/air_pol/air_pollution_predict/airpollpredictor/ml_tune_helpers/lgbm_optuna/optuna_lgb_search.py\", line 122, in __objective\n",
      "    self.__run_model_cv(params=model_params, categorical_features=categorical_features,\n",
      "  File \"/home/alexandra/work/projects/air_pol/air_pollution_predict/airpollpredictor/ml_tune_helpers/lgbm_optuna/optuna_lgb_search.py\", line 296, in __run_model_cv\n",
      "    return self.__run_model_cross_validation(params=params,\n",
      "  File \"/home/alexandra/work/projects/air_pol/air_pollution_predict/airpollpredictor/ml_tune_helpers/lgbm_optuna/optuna_lgb_search.py\", line 273, in __run_model_cross_validation\n",
      "    cv_res_obj = lgb.cv(params, lgb_train, metrics=self.metric,\n",
      "  File \"/home/alexandra/work/projects/air_pol/air_pollution_predict/airpollpredictor/venv/lib/python3.10/site-packages/lightgbm/engine.py\", line 605, in cv\n",
      "    cvfolds = _make_n_folds(train_set, folds=folds, nfold=nfold,\n",
      "  File \"/home/alexandra/work/projects/air_pol/air_pollution_predict/airpollpredictor/venv/lib/python3.10/site-packages/lightgbm/engine.py\", line 410, in _make_n_folds\n",
      "    cvbooster = Booster(tparam, train_set)\n",
      "  File \"/home/alexandra/work/projects/air_pol/air_pollution_predict/airpollpredictor/venv/lib/python3.10/site-packages/lightgbm/basic.py\", line 2610, in __init__\n",
      "    _safe_call(_LIB.LGBM_BoosterCreate(\n",
      "  File \"/home/alexandra/work/projects/air_pol/air_pollution_predict/airpollpredictor/venv/lib/python3.10/site-packages/lightgbm/basic.py\", line 125, in _safe_call\n",
      "    raise LightGBMError(_LIB.LGBM_GetLastError().decode('utf-8'))\n",
      "lightgbm.basic.LightGBMError: Check failed: (num_data) > (0) at /__w/1/s/python-package/compile/src/io/dataset.cpp, line 33 .\n",
      "\n",
      "\u001B[33m[W 2023-04-14 10:43:23,411]\u001B[0m Trial 2 failed with value None.\u001B[0m\n",
      "\u001B[33m[W 2023-04-14 10:43:23,418]\u001B[0m Trial 4 failed with parameters: {'n_jobs': -1, 'verbosity': -1, 'objective': 'regression', 'metric': 'rmse', 'boosting_type': 'gbdt', 'extra_trees': False, 'n_estimators': 1600, 'num_leaves': 135, 'learning_rate': 0.11021619930553761, 'subsample': 0.18013695577613414, 'subsample_freq': 3, 'subsample_for_bin': 299624, 'min_child_samples': 481, 'reg_alpha': 0.6943343238886548, 'reg_lambda': 0.872131193404707, 'max_depth': 3, 'max_bin': 90, 'categorical_features': ['season', 'month', 'weekday']} because of the following error: LightGBMError('Check failed: (num_data) > (0) at /__w/1/s/python-package/compile/src/io/dataset.cpp, line 33 .\\n').\u001B[0m\n",
      "Traceback (most recent call last):\n",
      "  File \"/home/alexandra/work/projects/air_pol/air_pollution_predict/airpollpredictor/venv/lib/python3.10/site-packages/optuna/study/_optimize.py\", line 200, in _run_trial\n",
      "    value_or_values = func(trial)\n",
      "  File \"/home/alexandra/work/projects/air_pol/air_pollution_predict/airpollpredictor/ml_tune_helpers/lgbm_optuna/optuna_lgb_search.py\", line 173, in <lambda>\n",
      "    self.__objective(trial, with_pruner=with_pruner, search_category=search_category,\n",
      "  File \"/home/alexandra/work/projects/air_pol/air_pollution_predict/airpollpredictor/ml_tune_helpers/lgbm_optuna/optuna_lgb_search.py\", line 122, in __objective\n",
      "    self.__run_model_cv(params=model_params, categorical_features=categorical_features,\n",
      "  File \"/home/alexandra/work/projects/air_pol/air_pollution_predict/airpollpredictor/ml_tune_helpers/lgbm_optuna/optuna_lgb_search.py\", line 296, in __run_model_cv\n",
      "    return self.__run_model_cross_validation(params=params,\n",
      "  File \"/home/alexandra/work/projects/air_pol/air_pollution_predict/airpollpredictor/ml_tune_helpers/lgbm_optuna/optuna_lgb_search.py\", line 273, in __run_model_cross_validation\n",
      "    cv_res_obj = lgb.cv(params, lgb_train, metrics=self.metric,\n",
      "  File \"/home/alexandra/work/projects/air_pol/air_pollution_predict/airpollpredictor/venv/lib/python3.10/site-packages/lightgbm/engine.py\", line 605, in cv\n",
      "    cvfolds = _make_n_folds(train_set, folds=folds, nfold=nfold,\n",
      "  File \"/home/alexandra/work/projects/air_pol/air_pollution_predict/airpollpredictor/venv/lib/python3.10/site-packages/lightgbm/engine.py\", line 410, in _make_n_folds\n",
      "    cvbooster = Booster(tparam, train_set)\n",
      "  File \"/home/alexandra/work/projects/air_pol/air_pollution_predict/airpollpredictor/venv/lib/python3.10/site-packages/lightgbm/basic.py\", line 2610, in __init__\n",
      "    _safe_call(_LIB.LGBM_BoosterCreate(\n",
      "  File \"/home/alexandra/work/projects/air_pol/air_pollution_predict/airpollpredictor/venv/lib/python3.10/site-packages/lightgbm/basic.py\", line 125, in _safe_call\n",
      "    raise LightGBMError(_LIB.LGBM_GetLastError().decode('utf-8'))\n",
      "lightgbm.basic.LightGBMError: Check failed: (num_data) > (0) at /__w/1/s/python-package/compile/src/io/dataset.cpp, line 33 .\n",
      "\n",
      "\u001B[33m[W 2023-04-14 10:43:23,420]\u001B[0m Trial 4 failed with value None.\u001B[0m\n",
      "Trial 5 finished with best value: 52.628523212057544 and parameters: {'n_jobs': -1, 'verbosity': -1, 'objective': 'regression', 'metric': 'rmse', 'boosting_type': 'gbdt', 'extra_trees': True, 'n_estimators': 2100, 'num_leaves': 138, 'learning_rate': 0.09852222395111057, 'subsample': 0.7390685940776623, 'subsample_freq': 1, 'subsample_for_bin': 447931, 'min_child_samples': 502, 'reg_alpha': 0.2583567922023374, 'reg_lambda': 0.7706775983742686, 'max_depth': 8, 'max_bin': 176, 'categorical_features': ['season', 'month']}. \n"
     ]
    },
    {
     "ename": "LightGBMError",
     "evalue": "Check failed: (num_data) > (0) at /__w/1/s/python-package/compile/src/io/dataset.cpp, line 33 .\n",
     "output_type": "error",
     "traceback": [
      "\u001B[0;31m---------------------------------------------------------------------------\u001B[0m",
      "\u001B[0;31mLightGBMError\u001B[0m                             Traceback (most recent call last)",
      "Cell \u001B[0;32mIn[44], line 1\u001B[0m\n\u001B[0;32m----> 1\u001B[0m \u001B[43moptuna_tuner\u001B[49m\u001B[38;5;241;43m.\u001B[39;49m\u001B[43mrun_params_search\u001B[49m\u001B[43m(\u001B[49m\n\u001B[1;32m      2\u001B[0m \u001B[43m    \u001B[49m\u001B[43mn_trials\u001B[49m\u001B[38;5;241;43m=\u001B[39;49m\u001B[38;5;241;43m100\u001B[39;49m\u001B[43m,\u001B[49m\n\u001B[1;32m      3\u001B[0m \u001B[43m    \u001B[49m\u001B[43mn_jobs\u001B[49m\u001B[38;5;241;43m=\u001B[39;49m\u001B[38;5;241;43m6\u001B[39;49m\u001B[43m,\u001B[49m\n\u001B[1;32m      4\u001B[0m \u001B[43m    \u001B[49m\u001B[43msave_best_params\u001B[49m\u001B[38;5;241;43m=\u001B[39;49m\u001B[38;5;28;43;01mTrue\u001B[39;49;00m\u001B[43m,\u001B[49m\n\u001B[1;32m      5\u001B[0m \u001B[43m    \u001B[49m\u001B[43mdirection\u001B[49m\u001B[38;5;241;43m=\u001B[39;49m\u001B[38;5;124;43m'\u001B[39;49m\u001B[38;5;124;43mminimize\u001B[39;49m\u001B[38;5;124;43m'\u001B[39;49m\u001B[43m,\u001B[49m\n\u001B[1;32m      6\u001B[0m \u001B[43m    \u001B[49m\u001B[43mbest_features_only\u001B[49m\u001B[38;5;241;43m=\u001B[39;49m\u001B[38;5;28;43;01mTrue\u001B[39;49;00m\u001B[43m,\u001B[49m\n\u001B[1;32m      7\u001B[0m \u001B[43m    \u001B[49m\u001B[43msearch_category\u001B[49m\u001B[38;5;241;43m=\u001B[39;49m\u001B[38;5;28;43;01mTrue\u001B[39;49;00m\u001B[43m,\u001B[49m\n\u001B[1;32m      8\u001B[0m \u001B[43m    \u001B[49m\u001B[43mwith_pruner\u001B[49m\u001B[38;5;241;43m=\u001B[39;49m\u001B[38;5;28;43;01mTrue\u001B[39;49;00m\u001B[43m,\u001B[49m\n\u001B[1;32m      9\u001B[0m \u001B[43m    \u001B[49m\u001B[43mcv_splitter\u001B[49m\u001B[38;5;241;43m=\u001B[39;49m\u001B[43m \u001B[49m\u001B[43mTimeSeriesSplit\u001B[49m\u001B[43m(\u001B[49m\u001B[38;5;241;43m16\u001B[39;49m\u001B[43m)\u001B[49m\u001B[43m,\u001B[49m\n\u001B[1;32m     10\u001B[0m \u001B[43m    \u001B[49m\u001B[43mwarm_params\u001B[49m\u001B[38;5;241;43m=\u001B[39;49m\u001B[38;5;28;43;01mNone\u001B[39;49;00m\u001B[43m)\u001B[49m\n",
      "File \u001B[0;32m~/work/projects/air_pol/air_pollution_predict/airpollpredictor/ml_tune_helpers/lgbm_optuna/optuna_lgb_search.py:171\u001B[0m, in \u001B[0;36mOptunaLgbSearch.run_params_search\u001B[0;34m(self, n_trials, n_jobs, study_name, direction, cv_splitter, with_pruner, search_category, best_features_only, save_best_params, warm_params)\u001B[0m\n\u001B[1;32m    168\u001B[0m     \u001B[38;5;28mself\u001B[39m\u001B[38;5;241m.\u001B[39mstudy\u001B[38;5;241m.\u001B[39menqueue_trial(warm_params)\n\u001B[1;32m    170\u001B[0m optuna\u001B[38;5;241m.\u001B[39mlogging\u001B[38;5;241m.\u001B[39mset_verbosity(optuna\u001B[38;5;241m.\u001B[39mlogging\u001B[38;5;241m.\u001B[39mWARN)\n\u001B[0;32m--> 171\u001B[0m \u001B[38;5;28;43mself\u001B[39;49m\u001B[38;5;241;43m.\u001B[39;49m\u001B[43mstudy\u001B[49m\u001B[38;5;241;43m.\u001B[39;49m\u001B[43moptimize\u001B[49m\u001B[43m(\u001B[49m\n\u001B[1;32m    172\u001B[0m \u001B[43m    \u001B[49m\u001B[43m(\u001B[49m\u001B[38;5;28;43;01mlambda\u001B[39;49;00m\u001B[43m \u001B[49m\u001B[43mtrial\u001B[49m\u001B[43m:\u001B[49m\n\u001B[1;32m    173\u001B[0m \u001B[43m     \u001B[49m\u001B[38;5;28;43mself\u001B[39;49m\u001B[38;5;241;43m.\u001B[39;49m\u001B[43m__objective\u001B[49m\u001B[43m(\u001B[49m\u001B[43mtrial\u001B[49m\u001B[43m,\u001B[49m\u001B[43m \u001B[49m\u001B[43mwith_pruner\u001B[49m\u001B[38;5;241;43m=\u001B[39;49m\u001B[43mwith_pruner\u001B[49m\u001B[43m,\u001B[49m\u001B[43m \u001B[49m\u001B[43msearch_category\u001B[49m\u001B[38;5;241;43m=\u001B[39;49m\u001B[43msearch_category\u001B[49m\u001B[43m,\u001B[49m\n\u001B[1;32m    174\u001B[0m \u001B[43m                      \u001B[49m\u001B[43mbest_features_only\u001B[49m\u001B[38;5;241;43m=\u001B[39;49m\u001B[43mbest_features_only\u001B[49m\u001B[43m,\u001B[49m\u001B[43m \u001B[49m\u001B[43mcv_splitter\u001B[49m\u001B[38;5;241;43m=\u001B[39;49m\u001B[43mcv_splitter\u001B[49m\u001B[43m)\u001B[49m\u001B[43m)\u001B[49m\u001B[43m,\u001B[49m\n\u001B[1;32m    175\u001B[0m \u001B[43m    \u001B[49m\u001B[43mn_trials\u001B[49m\u001B[38;5;241;43m=\u001B[39;49m\u001B[43mn_trials\u001B[49m\u001B[43m,\u001B[49m\u001B[43m \u001B[49m\u001B[43mn_jobs\u001B[49m\u001B[38;5;241;43m=\u001B[39;49m\u001B[43mn_jobs\u001B[49m\u001B[43m,\u001B[49m\u001B[43m \u001B[49m\u001B[43mshow_progress_bar\u001B[49m\u001B[38;5;241;43m=\u001B[39;49m\u001B[38;5;28;43;01mTrue\u001B[39;49;00m\u001B[43m,\u001B[49m\n\u001B[1;32m    176\u001B[0m \u001B[43m    \u001B[49m\u001B[43mcallbacks\u001B[49m\u001B[38;5;241;43m=\u001B[39;49m\u001B[43m[\u001B[49m\u001B[38;5;28;43mself\u001B[39;49m\u001B[38;5;241;43m.\u001B[39;49m\u001B[43m__logging_callback\u001B[49m\u001B[43m]\u001B[49m\u001B[43m,\u001B[49m\n\u001B[1;32m    177\u001B[0m \u001B[43m    \u001B[49m\u001B[43mcatch\u001B[49m\u001B[38;5;241;43m=\u001B[39;49m\u001B[43m(\u001B[49m\u001B[38;5;167;43;01mRuntimeError\u001B[39;49;00m\u001B[43m,\u001B[49m\u001B[43m \u001B[49m\u001B[43m)\u001B[49m\u001B[43m,\u001B[49m\n\u001B[1;32m    178\u001B[0m \u001B[43m    \u001B[49m\u001B[43mgc_after_trial\u001B[49m\u001B[38;5;241;43m=\u001B[39;49m\u001B[43m(\u001B[49m\u001B[43mn_jobs\u001B[49m\u001B[43m \u001B[49m\u001B[38;5;241;43m==\u001B[39;49m\u001B[43m \u001B[49m\u001B[38;5;241;43m-\u001B[39;49m\u001B[38;5;241;43m1\u001B[39;49m\u001B[43m \u001B[49m\u001B[38;5;129;43;01mor\u001B[39;49;00m\u001B[43m \u001B[49m\u001B[43mn_jobs\u001B[49m\u001B[43m \u001B[49m\u001B[38;5;241;43m>\u001B[39;49m\u001B[43m \u001B[49m\u001B[38;5;241;43m10\u001B[39;49m\u001B[43m)\u001B[49m\u001B[43m)\u001B[49m\n\u001B[1;32m    180\u001B[0m \u001B[38;5;28;01mif\u001B[39;00m save_best_params:\n\u001B[1;32m    181\u001B[0m     \u001B[38;5;28mself\u001B[39m\u001B[38;5;241m.\u001B[39mstudy_best_params \u001B[38;5;241m=\u001B[39m \u001B[38;5;28mself\u001B[39m\u001B[38;5;241m.\u001B[39mstudy\u001B[38;5;241m.\u001B[39mbest_params\n",
      "File \u001B[0;32m~/work/projects/air_pol/air_pollution_predict/airpollpredictor/venv/lib/python3.10/site-packages/optuna/study/study.py:425\u001B[0m, in \u001B[0;36mStudy.optimize\u001B[0;34m(self, func, n_trials, timeout, n_jobs, catch, callbacks, gc_after_trial, show_progress_bar)\u001B[0m\n\u001B[1;32m    321\u001B[0m \u001B[38;5;28;01mdef\u001B[39;00m \u001B[38;5;21moptimize\u001B[39m(\n\u001B[1;32m    322\u001B[0m     \u001B[38;5;28mself\u001B[39m,\n\u001B[1;32m    323\u001B[0m     func: ObjectiveFuncType,\n\u001B[0;32m   (...)\u001B[0m\n\u001B[1;32m    330\u001B[0m     show_progress_bar: \u001B[38;5;28mbool\u001B[39m \u001B[38;5;241m=\u001B[39m \u001B[38;5;28;01mFalse\u001B[39;00m,\n\u001B[1;32m    331\u001B[0m ) \u001B[38;5;241m-\u001B[39m\u001B[38;5;241m>\u001B[39m \u001B[38;5;28;01mNone\u001B[39;00m:\n\u001B[1;32m    332\u001B[0m \u001B[38;5;250m    \u001B[39m\u001B[38;5;124;03m\"\"\"Optimize an objective function.\u001B[39;00m\n\u001B[1;32m    333\u001B[0m \n\u001B[1;32m    334\u001B[0m \u001B[38;5;124;03m    Optimization is done by choosing a suitable set of hyperparameter values from a given\u001B[39;00m\n\u001B[0;32m   (...)\u001B[0m\n\u001B[1;32m    422\u001B[0m \u001B[38;5;124;03m            If nested invocation of this method occurs.\u001B[39;00m\n\u001B[1;32m    423\u001B[0m \u001B[38;5;124;03m    \"\"\"\u001B[39;00m\n\u001B[0;32m--> 425\u001B[0m     \u001B[43m_optimize\u001B[49m\u001B[43m(\u001B[49m\n\u001B[1;32m    426\u001B[0m \u001B[43m        \u001B[49m\u001B[43mstudy\u001B[49m\u001B[38;5;241;43m=\u001B[39;49m\u001B[38;5;28;43mself\u001B[39;49m\u001B[43m,\u001B[49m\n\u001B[1;32m    427\u001B[0m \u001B[43m        \u001B[49m\u001B[43mfunc\u001B[49m\u001B[38;5;241;43m=\u001B[39;49m\u001B[43mfunc\u001B[49m\u001B[43m,\u001B[49m\n\u001B[1;32m    428\u001B[0m \u001B[43m        \u001B[49m\u001B[43mn_trials\u001B[49m\u001B[38;5;241;43m=\u001B[39;49m\u001B[43mn_trials\u001B[49m\u001B[43m,\u001B[49m\n\u001B[1;32m    429\u001B[0m \u001B[43m        \u001B[49m\u001B[43mtimeout\u001B[49m\u001B[38;5;241;43m=\u001B[39;49m\u001B[43mtimeout\u001B[49m\u001B[43m,\u001B[49m\n\u001B[1;32m    430\u001B[0m \u001B[43m        \u001B[49m\u001B[43mn_jobs\u001B[49m\u001B[38;5;241;43m=\u001B[39;49m\u001B[43mn_jobs\u001B[49m\u001B[43m,\u001B[49m\n\u001B[1;32m    431\u001B[0m \u001B[43m        \u001B[49m\u001B[43mcatch\u001B[49m\u001B[38;5;241;43m=\u001B[39;49m\u001B[38;5;28;43mtuple\u001B[39;49m\u001B[43m(\u001B[49m\u001B[43mcatch\u001B[49m\u001B[43m)\u001B[49m\u001B[43m \u001B[49m\u001B[38;5;28;43;01mif\u001B[39;49;00m\u001B[43m \u001B[49m\u001B[38;5;28;43misinstance\u001B[39;49m\u001B[43m(\u001B[49m\u001B[43mcatch\u001B[49m\u001B[43m,\u001B[49m\u001B[43m \u001B[49m\u001B[43mIterable\u001B[49m\u001B[43m)\u001B[49m\u001B[43m \u001B[49m\u001B[38;5;28;43;01melse\u001B[39;49;00m\u001B[43m \u001B[49m\u001B[43m(\u001B[49m\u001B[43mcatch\u001B[49m\u001B[43m,\u001B[49m\u001B[43m)\u001B[49m\u001B[43m,\u001B[49m\n\u001B[1;32m    432\u001B[0m \u001B[43m        \u001B[49m\u001B[43mcallbacks\u001B[49m\u001B[38;5;241;43m=\u001B[39;49m\u001B[43mcallbacks\u001B[49m\u001B[43m,\u001B[49m\n\u001B[1;32m    433\u001B[0m \u001B[43m        \u001B[49m\u001B[43mgc_after_trial\u001B[49m\u001B[38;5;241;43m=\u001B[39;49m\u001B[43mgc_after_trial\u001B[49m\u001B[43m,\u001B[49m\n\u001B[1;32m    434\u001B[0m \u001B[43m        \u001B[49m\u001B[43mshow_progress_bar\u001B[49m\u001B[38;5;241;43m=\u001B[39;49m\u001B[43mshow_progress_bar\u001B[49m\u001B[43m,\u001B[49m\n\u001B[1;32m    435\u001B[0m \u001B[43m    \u001B[49m\u001B[43m)\u001B[49m\n",
      "File \u001B[0;32m~/work/projects/air_pol/air_pollution_predict/airpollpredictor/venv/lib/python3.10/site-packages/optuna/study/_optimize.py:103\u001B[0m, in \u001B[0;36m_optimize\u001B[0;34m(study, func, n_trials, timeout, n_jobs, catch, callbacks, gc_after_trial, show_progress_bar)\u001B[0m\n\u001B[1;32m    101\u001B[0m                     \u001B[38;5;66;03m# Raise if exception occurred in executing the completed futures.\u001B[39;00m\n\u001B[1;32m    102\u001B[0m                     \u001B[38;5;28;01mfor\u001B[39;00m f \u001B[38;5;129;01min\u001B[39;00m completed:\n\u001B[0;32m--> 103\u001B[0m                         \u001B[43mf\u001B[49m\u001B[38;5;241;43m.\u001B[39;49m\u001B[43mresult\u001B[49m\u001B[43m(\u001B[49m\u001B[43m)\u001B[49m\n\u001B[1;32m    105\u001B[0m                 futures\u001B[38;5;241m.\u001B[39madd(\n\u001B[1;32m    106\u001B[0m                     executor\u001B[38;5;241m.\u001B[39msubmit(\n\u001B[1;32m    107\u001B[0m                         _optimize_sequential,\n\u001B[0;32m   (...)\u001B[0m\n\u001B[1;32m    118\u001B[0m                     )\n\u001B[1;32m    119\u001B[0m                 )\n\u001B[1;32m    120\u001B[0m \u001B[38;5;28;01mfinally\u001B[39;00m:\n",
      "File \u001B[0;32m/usr/lib/python3.10/concurrent/futures/_base.py:451\u001B[0m, in \u001B[0;36mFuture.result\u001B[0;34m(self, timeout)\u001B[0m\n\u001B[1;32m    449\u001B[0m     \u001B[38;5;28;01mraise\u001B[39;00m CancelledError()\n\u001B[1;32m    450\u001B[0m \u001B[38;5;28;01melif\u001B[39;00m \u001B[38;5;28mself\u001B[39m\u001B[38;5;241m.\u001B[39m_state \u001B[38;5;241m==\u001B[39m FINISHED:\n\u001B[0;32m--> 451\u001B[0m     \u001B[38;5;28;01mreturn\u001B[39;00m \u001B[38;5;28;43mself\u001B[39;49m\u001B[38;5;241;43m.\u001B[39;49m\u001B[43m__get_result\u001B[49m\u001B[43m(\u001B[49m\u001B[43m)\u001B[49m\n\u001B[1;32m    453\u001B[0m \u001B[38;5;28mself\u001B[39m\u001B[38;5;241m.\u001B[39m_condition\u001B[38;5;241m.\u001B[39mwait(timeout)\n\u001B[1;32m    455\u001B[0m \u001B[38;5;28;01mif\u001B[39;00m \u001B[38;5;28mself\u001B[39m\u001B[38;5;241m.\u001B[39m_state \u001B[38;5;129;01min\u001B[39;00m [CANCELLED, CANCELLED_AND_NOTIFIED]:\n",
      "File \u001B[0;32m/usr/lib/python3.10/concurrent/futures/_base.py:403\u001B[0m, in \u001B[0;36mFuture.__get_result\u001B[0;34m(self)\u001B[0m\n\u001B[1;32m    401\u001B[0m \u001B[38;5;28;01mif\u001B[39;00m \u001B[38;5;28mself\u001B[39m\u001B[38;5;241m.\u001B[39m_exception:\n\u001B[1;32m    402\u001B[0m     \u001B[38;5;28;01mtry\u001B[39;00m:\n\u001B[0;32m--> 403\u001B[0m         \u001B[38;5;28;01mraise\u001B[39;00m \u001B[38;5;28mself\u001B[39m\u001B[38;5;241m.\u001B[39m_exception\n\u001B[1;32m    404\u001B[0m     \u001B[38;5;28;01mfinally\u001B[39;00m:\n\u001B[1;32m    405\u001B[0m         \u001B[38;5;66;03m# Break a reference cycle with the exception in self._exception\u001B[39;00m\n\u001B[1;32m    406\u001B[0m         \u001B[38;5;28mself\u001B[39m \u001B[38;5;241m=\u001B[39m \u001B[38;5;28;01mNone\u001B[39;00m\n",
      "File \u001B[0;32m/usr/lib/python3.10/concurrent/futures/thread.py:58\u001B[0m, in \u001B[0;36m_WorkItem.run\u001B[0;34m(self)\u001B[0m\n\u001B[1;32m     55\u001B[0m     \u001B[38;5;28;01mreturn\u001B[39;00m\n\u001B[1;32m     57\u001B[0m \u001B[38;5;28;01mtry\u001B[39;00m:\n\u001B[0;32m---> 58\u001B[0m     result \u001B[38;5;241m=\u001B[39m \u001B[38;5;28;43mself\u001B[39;49m\u001B[38;5;241;43m.\u001B[39;49m\u001B[43mfn\u001B[49m\u001B[43m(\u001B[49m\u001B[38;5;241;43m*\u001B[39;49m\u001B[38;5;28;43mself\u001B[39;49m\u001B[38;5;241;43m.\u001B[39;49m\u001B[43margs\u001B[49m\u001B[43m,\u001B[49m\u001B[43m \u001B[49m\u001B[38;5;241;43m*\u001B[39;49m\u001B[38;5;241;43m*\u001B[39;49m\u001B[38;5;28;43mself\u001B[39;49m\u001B[38;5;241;43m.\u001B[39;49m\u001B[43mkwargs\u001B[49m\u001B[43m)\u001B[49m\n\u001B[1;32m     59\u001B[0m \u001B[38;5;28;01mexcept\u001B[39;00m \u001B[38;5;167;01mBaseException\u001B[39;00m \u001B[38;5;28;01mas\u001B[39;00m exc:\n\u001B[1;32m     60\u001B[0m     \u001B[38;5;28mself\u001B[39m\u001B[38;5;241m.\u001B[39mfuture\u001B[38;5;241m.\u001B[39mset_exception(exc)\n",
      "File \u001B[0;32m~/work/projects/air_pol/air_pollution_predict/airpollpredictor/venv/lib/python3.10/site-packages/optuna/study/_optimize.py:163\u001B[0m, in \u001B[0;36m_optimize_sequential\u001B[0;34m(study, func, n_trials, timeout, catch, callbacks, gc_after_trial, reseed_sampler_rng, time_start, progress_bar)\u001B[0m\n\u001B[1;32m    160\u001B[0m         \u001B[38;5;28;01mbreak\u001B[39;00m\n\u001B[1;32m    162\u001B[0m \u001B[38;5;28;01mtry\u001B[39;00m:\n\u001B[0;32m--> 163\u001B[0m     frozen_trial \u001B[38;5;241m=\u001B[39m \u001B[43m_run_trial\u001B[49m\u001B[43m(\u001B[49m\u001B[43mstudy\u001B[49m\u001B[43m,\u001B[49m\u001B[43m \u001B[49m\u001B[43mfunc\u001B[49m\u001B[43m,\u001B[49m\u001B[43m \u001B[49m\u001B[43mcatch\u001B[49m\u001B[43m)\u001B[49m\n\u001B[1;32m    164\u001B[0m \u001B[38;5;28;01mfinally\u001B[39;00m:\n\u001B[1;32m    165\u001B[0m     \u001B[38;5;66;03m# The following line mitigates memory problems that can be occurred in some\u001B[39;00m\n\u001B[1;32m    166\u001B[0m     \u001B[38;5;66;03m# environments (e.g., services that use computing containers such as GitHub Actions).\u001B[39;00m\n\u001B[1;32m    167\u001B[0m     \u001B[38;5;66;03m# Please refer to the following PR for further details:\u001B[39;00m\n\u001B[1;32m    168\u001B[0m     \u001B[38;5;66;03m# https://github.com/optuna/optuna/pull/325.\u001B[39;00m\n\u001B[1;32m    169\u001B[0m     \u001B[38;5;28;01mif\u001B[39;00m gc_after_trial:\n",
      "File \u001B[0;32m~/work/projects/air_pol/air_pollution_predict/airpollpredictor/venv/lib/python3.10/site-packages/optuna/study/_optimize.py:251\u001B[0m, in \u001B[0;36m_run_trial\u001B[0;34m(study, func, catch)\u001B[0m\n\u001B[1;32m    244\u001B[0m         \u001B[38;5;28;01massert\u001B[39;00m \u001B[38;5;28;01mFalse\u001B[39;00m, \u001B[38;5;124m\"\u001B[39m\u001B[38;5;124mShould not reach.\u001B[39m\u001B[38;5;124m\"\u001B[39m\n\u001B[1;32m    246\u001B[0m \u001B[38;5;28;01mif\u001B[39;00m (\n\u001B[1;32m    247\u001B[0m     frozen_trial\u001B[38;5;241m.\u001B[39mstate \u001B[38;5;241m==\u001B[39m TrialState\u001B[38;5;241m.\u001B[39mFAIL\n\u001B[1;32m    248\u001B[0m     \u001B[38;5;129;01mand\u001B[39;00m func_err \u001B[38;5;129;01mis\u001B[39;00m \u001B[38;5;129;01mnot\u001B[39;00m \u001B[38;5;28;01mNone\u001B[39;00m\n\u001B[1;32m    249\u001B[0m     \u001B[38;5;129;01mand\u001B[39;00m \u001B[38;5;129;01mnot\u001B[39;00m \u001B[38;5;28misinstance\u001B[39m(func_err, catch)\n\u001B[1;32m    250\u001B[0m ):\n\u001B[0;32m--> 251\u001B[0m     \u001B[38;5;28;01mraise\u001B[39;00m func_err\n\u001B[1;32m    252\u001B[0m \u001B[38;5;28;01mreturn\u001B[39;00m frozen_trial\n",
      "File \u001B[0;32m~/work/projects/air_pol/air_pollution_predict/airpollpredictor/venv/lib/python3.10/site-packages/optuna/study/_optimize.py:200\u001B[0m, in \u001B[0;36m_run_trial\u001B[0;34m(study, func, catch)\u001B[0m\n\u001B[1;32m    198\u001B[0m \u001B[38;5;28;01mwith\u001B[39;00m get_heartbeat_thread(trial\u001B[38;5;241m.\u001B[39m_trial_id, study\u001B[38;5;241m.\u001B[39m_storage):\n\u001B[1;32m    199\u001B[0m     \u001B[38;5;28;01mtry\u001B[39;00m:\n\u001B[0;32m--> 200\u001B[0m         value_or_values \u001B[38;5;241m=\u001B[39m \u001B[43mfunc\u001B[49m\u001B[43m(\u001B[49m\u001B[43mtrial\u001B[49m\u001B[43m)\u001B[49m\n\u001B[1;32m    201\u001B[0m     \u001B[38;5;28;01mexcept\u001B[39;00m exceptions\u001B[38;5;241m.\u001B[39mTrialPruned \u001B[38;5;28;01mas\u001B[39;00m e:\n\u001B[1;32m    202\u001B[0m         \u001B[38;5;66;03m# TODO(mamu): Handle multi-objective cases.\u001B[39;00m\n\u001B[1;32m    203\u001B[0m         state \u001B[38;5;241m=\u001B[39m TrialState\u001B[38;5;241m.\u001B[39mPRUNED\n",
      "File \u001B[0;32m~/work/projects/air_pol/air_pollution_predict/airpollpredictor/ml_tune_helpers/lgbm_optuna/optuna_lgb_search.py:173\u001B[0m, in \u001B[0;36mOptunaLgbSearch.run_params_search.<locals>.<lambda>\u001B[0;34m(trial)\u001B[0m\n\u001B[1;32m    168\u001B[0m     \u001B[38;5;28mself\u001B[39m\u001B[38;5;241m.\u001B[39mstudy\u001B[38;5;241m.\u001B[39menqueue_trial(warm_params)\n\u001B[1;32m    170\u001B[0m optuna\u001B[38;5;241m.\u001B[39mlogging\u001B[38;5;241m.\u001B[39mset_verbosity(optuna\u001B[38;5;241m.\u001B[39mlogging\u001B[38;5;241m.\u001B[39mWARN)\n\u001B[1;32m    171\u001B[0m \u001B[38;5;28mself\u001B[39m\u001B[38;5;241m.\u001B[39mstudy\u001B[38;5;241m.\u001B[39moptimize(\n\u001B[1;32m    172\u001B[0m     (\u001B[38;5;28;01mlambda\u001B[39;00m trial:\n\u001B[0;32m--> 173\u001B[0m      \u001B[38;5;28;43mself\u001B[39;49m\u001B[38;5;241;43m.\u001B[39;49m\u001B[43m__objective\u001B[49m\u001B[43m(\u001B[49m\u001B[43mtrial\u001B[49m\u001B[43m,\u001B[49m\u001B[43m \u001B[49m\u001B[43mwith_pruner\u001B[49m\u001B[38;5;241;43m=\u001B[39;49m\u001B[43mwith_pruner\u001B[49m\u001B[43m,\u001B[49m\u001B[43m \u001B[49m\u001B[43msearch_category\u001B[49m\u001B[38;5;241;43m=\u001B[39;49m\u001B[43msearch_category\u001B[49m\u001B[43m,\u001B[49m\n\u001B[1;32m    174\u001B[0m \u001B[43m                      \u001B[49m\u001B[43mbest_features_only\u001B[49m\u001B[38;5;241;43m=\u001B[39;49m\u001B[43mbest_features_only\u001B[49m\u001B[43m,\u001B[49m\u001B[43m \u001B[49m\u001B[43mcv_splitter\u001B[49m\u001B[38;5;241;43m=\u001B[39;49m\u001B[43mcv_splitter\u001B[49m\u001B[43m)\u001B[49m),\n\u001B[1;32m    175\u001B[0m     n_trials\u001B[38;5;241m=\u001B[39mn_trials, n_jobs\u001B[38;5;241m=\u001B[39mn_jobs, show_progress_bar\u001B[38;5;241m=\u001B[39m\u001B[38;5;28;01mTrue\u001B[39;00m,\n\u001B[1;32m    176\u001B[0m     callbacks\u001B[38;5;241m=\u001B[39m[\u001B[38;5;28mself\u001B[39m\u001B[38;5;241m.\u001B[39m__logging_callback],\n\u001B[1;32m    177\u001B[0m     catch\u001B[38;5;241m=\u001B[39m(\u001B[38;5;167;01mRuntimeError\u001B[39;00m, ),\n\u001B[1;32m    178\u001B[0m     gc_after_trial\u001B[38;5;241m=\u001B[39m(n_jobs \u001B[38;5;241m==\u001B[39m \u001B[38;5;241m-\u001B[39m\u001B[38;5;241m1\u001B[39m \u001B[38;5;129;01mor\u001B[39;00m n_jobs \u001B[38;5;241m>\u001B[39m \u001B[38;5;241m10\u001B[39m))\n\u001B[1;32m    180\u001B[0m \u001B[38;5;28;01mif\u001B[39;00m save_best_params:\n\u001B[1;32m    181\u001B[0m     \u001B[38;5;28mself\u001B[39m\u001B[38;5;241m.\u001B[39mstudy_best_params \u001B[38;5;241m=\u001B[39m \u001B[38;5;28mself\u001B[39m\u001B[38;5;241m.\u001B[39mstudy\u001B[38;5;241m.\u001B[39mbest_params\n",
      "File \u001B[0;32m~/work/projects/air_pol/air_pollution_predict/airpollpredictor/ml_tune_helpers/lgbm_optuna/optuna_lgb_search.py:122\u001B[0m, in \u001B[0;36mOptunaLgbSearch.__objective\u001B[0;34m(self, trial, search_category, with_pruner, best_features_only, cv_splitter)\u001B[0m\n\u001B[1;32m    116\u001B[0m     _, metric_val, _ \u001B[38;5;241m=\u001B[39m \\\n\u001B[1;32m    117\u001B[0m         \u001B[38;5;28mself\u001B[39m\u001B[38;5;241m.\u001B[39mrun_model_and_eval(model_params, categorical_features\u001B[38;5;241m=\u001B[39mcategorical_features,\n\u001B[1;32m    118\u001B[0m                                 best_features_only\u001B[38;5;241m=\u001B[39mbest_features_only,\n\u001B[1;32m    119\u001B[0m                                 pruning_callback\u001B[38;5;241m=\u001B[39mpruning_callback)\n\u001B[1;32m    120\u001B[0m \u001B[38;5;28;01melse\u001B[39;00m:\n\u001B[1;32m    121\u001B[0m     metric_val \u001B[38;5;241m=\u001B[39m \\\n\u001B[0;32m--> 122\u001B[0m         \u001B[38;5;28;43mself\u001B[39;49m\u001B[38;5;241;43m.\u001B[39;49m\u001B[43m__run_model_cv\u001B[49m\u001B[43m(\u001B[49m\u001B[43mparams\u001B[49m\u001B[38;5;241;43m=\u001B[39;49m\u001B[43mmodel_params\u001B[49m\u001B[43m,\u001B[49m\u001B[43m \u001B[49m\u001B[43mcategorical_features\u001B[49m\u001B[38;5;241;43m=\u001B[39;49m\u001B[43mcategorical_features\u001B[49m\u001B[43m,\u001B[49m\n\u001B[1;32m    123\u001B[0m \u001B[43m                            \u001B[49m\u001B[43mcv_splitter\u001B[49m\u001B[38;5;241;43m=\u001B[39;49m\u001B[43mcv_splitter\u001B[49m\u001B[43m,\u001B[49m\u001B[43m \u001B[49m\u001B[43mpruning_callback\u001B[49m\u001B[38;5;241;43m=\u001B[39;49m\u001B[43mpruning_callback\u001B[49m\u001B[43m,\u001B[49m\n\u001B[1;32m    124\u001B[0m \u001B[43m                            \u001B[49m\u001B[43mbest_features_only\u001B[49m\u001B[38;5;241;43m=\u001B[39;49m\u001B[43mbest_features_only\u001B[49m\u001B[43m)\u001B[49m\n\u001B[1;32m    125\u001B[0m \u001B[38;5;28;01mreturn\u001B[39;00m metric_val\n",
      "File \u001B[0;32m~/work/projects/air_pol/air_pollution_predict/airpollpredictor/ml_tune_helpers/lgbm_optuna/optuna_lgb_search.py:296\u001B[0m, in \u001B[0;36mOptunaLgbSearch.__run_model_cv\u001B[0;34m(self, params, cv_splitter, categorical_features, pruning_callback, best_features_list, best_features_only)\u001B[0m\n\u001B[1;32m    293\u001B[0m \u001B[38;5;28;01melse\u001B[39;00m:\n\u001B[1;32m    294\u001B[0m     x_train_f \u001B[38;5;241m=\u001B[39m \u001B[38;5;28mself\u001B[39m\u001B[38;5;241m.\u001B[39mx_train\n\u001B[0;32m--> 296\u001B[0m \u001B[38;5;28;01mreturn\u001B[39;00m \u001B[38;5;28;43mself\u001B[39;49m\u001B[38;5;241;43m.\u001B[39;49m\u001B[43m__run_model_cross_validation\u001B[49m\u001B[43m(\u001B[49m\u001B[43mparams\u001B[49m\u001B[38;5;241;43m=\u001B[39;49m\u001B[43mparams\u001B[49m\u001B[43m,\u001B[49m\n\u001B[1;32m    297\u001B[0m \u001B[43m                                         \u001B[49m\u001B[43mcategorical_features\u001B[49m\u001B[38;5;241;43m=\u001B[39;49m\u001B[43mcategorical_features\u001B[49m\u001B[43m,\u001B[49m\n\u001B[1;32m    298\u001B[0m \u001B[43m                                         \u001B[49m\u001B[43mx_train\u001B[49m\u001B[38;5;241;43m=\u001B[39;49m\u001B[43mx_train_f\u001B[49m\u001B[43m,\u001B[49m\n\u001B[1;32m    299\u001B[0m \u001B[43m                                         \u001B[49m\u001B[43my_train\u001B[49m\u001B[38;5;241;43m=\u001B[39;49m\u001B[38;5;28;43mself\u001B[39;49m\u001B[38;5;241;43m.\u001B[39;49m\u001B[43my_train\u001B[49m\u001B[43m,\u001B[49m\n\u001B[1;32m    300\u001B[0m \u001B[43m                                         \u001B[49m\u001B[43mcv_splitter\u001B[49m\u001B[38;5;241;43m=\u001B[39;49m\u001B[43mcv_splitter\u001B[49m\u001B[43m,\u001B[49m\n\u001B[1;32m    301\u001B[0m \u001B[43m                                         \u001B[49m\u001B[43mpruning_callback\u001B[49m\u001B[38;5;241;43m=\u001B[39;49m\u001B[43mpruning_callback\u001B[49m\u001B[43m)\u001B[49m\n",
      "File \u001B[0;32m~/work/projects/air_pol/air_pollution_predict/airpollpredictor/ml_tune_helpers/lgbm_optuna/optuna_lgb_search.py:273\u001B[0m, in \u001B[0;36mOptunaLgbSearch.__run_model_cross_validation\u001B[0;34m(self, params, categorical_features, x_train, y_train, cv_splitter, pruning_callback)\u001B[0m\n\u001B[1;32m    270\u001B[0m \u001B[38;5;28;01mif\u001B[39;00m pruning_callback \u001B[38;5;129;01mis\u001B[39;00m \u001B[38;5;129;01mnot\u001B[39;00m \u001B[38;5;28;01mNone\u001B[39;00m:\n\u001B[1;32m    271\u001B[0m     callbacks\u001B[38;5;241m.\u001B[39mappend(pruning_callback)\n\u001B[0;32m--> 273\u001B[0m cv_res_obj \u001B[38;5;241m=\u001B[39m \u001B[43mlgb\u001B[49m\u001B[38;5;241;43m.\u001B[39;49m\u001B[43mcv\u001B[49m\u001B[43m(\u001B[49m\u001B[43mparams\u001B[49m\u001B[43m,\u001B[49m\u001B[43m \u001B[49m\u001B[43mlgb_train\u001B[49m\u001B[43m,\u001B[49m\u001B[43m \u001B[49m\u001B[43mmetrics\u001B[49m\u001B[38;5;241;43m=\u001B[39;49m\u001B[38;5;28;43mself\u001B[39;49m\u001B[38;5;241;43m.\u001B[39;49m\u001B[43mmetric\u001B[49m\u001B[43m,\u001B[49m\n\u001B[1;32m    274\u001B[0m \u001B[43m                    \u001B[49m\u001B[43mnum_boost_round\u001B[49m\u001B[38;5;241;43m=\u001B[39;49m\u001B[38;5;241;43m100\u001B[39;49m\u001B[43m,\u001B[49m\u001B[43m \u001B[49m\u001B[43mfolds\u001B[49m\u001B[38;5;241;43m=\u001B[39;49m\u001B[43mcv_splitter\u001B[49m\u001B[43m,\u001B[49m\n\u001B[1;32m    275\u001B[0m \u001B[43m                    \u001B[49m\u001B[43mverbose_eval\u001B[49m\u001B[38;5;241;43m=\u001B[39;49m\u001B[38;5;28;43;01mFalse\u001B[39;49;00m\u001B[43m,\u001B[49m\u001B[43m \u001B[49m\u001B[43mcallbacks\u001B[49m\u001B[38;5;241;43m=\u001B[39;49m\u001B[43mcallbacks\u001B[49m\u001B[43m,\u001B[49m\n\u001B[1;32m    276\u001B[0m \u001B[43m                    \u001B[49m\u001B[43mstratified\u001B[49m\u001B[38;5;241;43m=\u001B[39;49m\u001B[38;5;28;43;01mFalse\u001B[39;49;00m\u001B[43m,\u001B[49m\u001B[43m \u001B[49m\u001B[43mshuffle\u001B[49m\u001B[38;5;241;43m=\u001B[39;49m\u001B[38;5;28;43;01mFalse\u001B[39;49;00m\u001B[43m)\u001B[49m\n\u001B[1;32m    278\u001B[0m val_score \u001B[38;5;241m=\u001B[39m cv_res_obj[\u001B[38;5;124mf\u001B[39m\u001B[38;5;124m'\u001B[39m\u001B[38;5;132;01m{\u001B[39;00m\u001B[38;5;28mself\u001B[39m\u001B[38;5;241m.\u001B[39mmetric\u001B[38;5;132;01m}\u001B[39;00m\u001B[38;5;124m-mean\u001B[39m\u001B[38;5;124m'\u001B[39m][\u001B[38;5;241m-\u001B[39m\u001B[38;5;241m1\u001B[39m]\n\u001B[1;32m    279\u001B[0m \u001B[38;5;28;01mreturn\u001B[39;00m val_score\n",
      "File \u001B[0;32m~/work/projects/air_pol/air_pollution_predict/airpollpredictor/venv/lib/python3.10/site-packages/lightgbm/engine.py:605\u001B[0m, in \u001B[0;36mcv\u001B[0;34m(params, train_set, num_boost_round, folds, nfold, stratified, shuffle, metrics, fobj, feval, init_model, feature_name, categorical_feature, early_stopping_rounds, fpreproc, verbose_eval, show_stdv, seed, callbacks, eval_train_metric, return_cvbooster)\u001B[0m\n\u001B[1;32m    599\u001B[0m train_set\u001B[38;5;241m.\u001B[39m_update_params(params) \\\n\u001B[1;32m    600\u001B[0m          \u001B[38;5;241m.\u001B[39m_set_predictor(predictor) \\\n\u001B[1;32m    601\u001B[0m          \u001B[38;5;241m.\u001B[39mset_feature_name(feature_name) \\\n\u001B[1;32m    602\u001B[0m          \u001B[38;5;241m.\u001B[39mset_categorical_feature(categorical_feature)\n\u001B[1;32m    604\u001B[0m results \u001B[38;5;241m=\u001B[39m collections\u001B[38;5;241m.\u001B[39mdefaultdict(\u001B[38;5;28mlist\u001B[39m)\n\u001B[0;32m--> 605\u001B[0m cvfolds \u001B[38;5;241m=\u001B[39m \u001B[43m_make_n_folds\u001B[49m\u001B[43m(\u001B[49m\u001B[43mtrain_set\u001B[49m\u001B[43m,\u001B[49m\u001B[43m \u001B[49m\u001B[43mfolds\u001B[49m\u001B[38;5;241;43m=\u001B[39;49m\u001B[43mfolds\u001B[49m\u001B[43m,\u001B[49m\u001B[43m \u001B[49m\u001B[43mnfold\u001B[49m\u001B[38;5;241;43m=\u001B[39;49m\u001B[43mnfold\u001B[49m\u001B[43m,\u001B[49m\n\u001B[1;32m    606\u001B[0m \u001B[43m                        \u001B[49m\u001B[43mparams\u001B[49m\u001B[38;5;241;43m=\u001B[39;49m\u001B[43mparams\u001B[49m\u001B[43m,\u001B[49m\u001B[43m \u001B[49m\u001B[43mseed\u001B[49m\u001B[38;5;241;43m=\u001B[39;49m\u001B[43mseed\u001B[49m\u001B[43m,\u001B[49m\u001B[43m \u001B[49m\u001B[43mfpreproc\u001B[49m\u001B[38;5;241;43m=\u001B[39;49m\u001B[43mfpreproc\u001B[49m\u001B[43m,\u001B[49m\n\u001B[1;32m    607\u001B[0m \u001B[43m                        \u001B[49m\u001B[43mstratified\u001B[49m\u001B[38;5;241;43m=\u001B[39;49m\u001B[43mstratified\u001B[49m\u001B[43m,\u001B[49m\u001B[43m \u001B[49m\u001B[43mshuffle\u001B[49m\u001B[38;5;241;43m=\u001B[39;49m\u001B[43mshuffle\u001B[49m\u001B[43m,\u001B[49m\n\u001B[1;32m    608\u001B[0m \u001B[43m                        \u001B[49m\u001B[43meval_train_metric\u001B[49m\u001B[38;5;241;43m=\u001B[39;49m\u001B[43meval_train_metric\u001B[49m\u001B[43m)\u001B[49m\n\u001B[1;32m    610\u001B[0m \u001B[38;5;66;03m# setup callbacks\u001B[39;00m\n\u001B[1;32m    611\u001B[0m \u001B[38;5;28;01mif\u001B[39;00m callbacks \u001B[38;5;129;01mis\u001B[39;00m \u001B[38;5;28;01mNone\u001B[39;00m:\n",
      "File \u001B[0;32m~/work/projects/air_pol/air_pollution_predict/airpollpredictor/venv/lib/python3.10/site-packages/lightgbm/engine.py:410\u001B[0m, in \u001B[0;36m_make_n_folds\u001B[0;34m(full_data, folds, nfold, params, seed, fpreproc, stratified, shuffle, eval_train_metric)\u001B[0m\n\u001B[1;32m    408\u001B[0m \u001B[38;5;28;01melse\u001B[39;00m:\n\u001B[1;32m    409\u001B[0m     tparam \u001B[38;5;241m=\u001B[39m params\n\u001B[0;32m--> 410\u001B[0m cvbooster \u001B[38;5;241m=\u001B[39m \u001B[43mBooster\u001B[49m\u001B[43m(\u001B[49m\u001B[43mtparam\u001B[49m\u001B[43m,\u001B[49m\u001B[43m \u001B[49m\u001B[43mtrain_set\u001B[49m\u001B[43m)\u001B[49m\n\u001B[1;32m    411\u001B[0m \u001B[38;5;28;01mif\u001B[39;00m eval_train_metric:\n\u001B[1;32m    412\u001B[0m     cvbooster\u001B[38;5;241m.\u001B[39madd_valid(train_set, \u001B[38;5;124m'\u001B[39m\u001B[38;5;124mtrain\u001B[39m\u001B[38;5;124m'\u001B[39m)\n",
      "File \u001B[0;32m~/work/projects/air_pol/air_pollution_predict/airpollpredictor/venv/lib/python3.10/site-packages/lightgbm/basic.py:2610\u001B[0m, in \u001B[0;36mBooster.__init__\u001B[0;34m(self, params, train_set, model_file, model_str, silent)\u001B[0m\n\u001B[1;32m   2608\u001B[0m params_str \u001B[38;5;241m=\u001B[39m param_dict_to_str(params)\n\u001B[1;32m   2609\u001B[0m \u001B[38;5;28mself\u001B[39m\u001B[38;5;241m.\u001B[39mhandle \u001B[38;5;241m=\u001B[39m ctypes\u001B[38;5;241m.\u001B[39mc_void_p()\n\u001B[0;32m-> 2610\u001B[0m \u001B[43m_safe_call\u001B[49m\u001B[43m(\u001B[49m\u001B[43m_LIB\u001B[49m\u001B[38;5;241;43m.\u001B[39;49m\u001B[43mLGBM_BoosterCreate\u001B[49m\u001B[43m(\u001B[49m\n\u001B[1;32m   2611\u001B[0m \u001B[43m    \u001B[49m\u001B[43mtrain_set\u001B[49m\u001B[38;5;241;43m.\u001B[39;49m\u001B[43mhandle\u001B[49m\u001B[43m,\u001B[49m\n\u001B[1;32m   2612\u001B[0m \u001B[43m    \u001B[49m\u001B[43mc_str\u001B[49m\u001B[43m(\u001B[49m\u001B[43mparams_str\u001B[49m\u001B[43m)\u001B[49m\u001B[43m,\u001B[49m\n\u001B[1;32m   2613\u001B[0m \u001B[43m    \u001B[49m\u001B[43mctypes\u001B[49m\u001B[38;5;241;43m.\u001B[39;49m\u001B[43mbyref\u001B[49m\u001B[43m(\u001B[49m\u001B[38;5;28;43mself\u001B[39;49m\u001B[38;5;241;43m.\u001B[39;49m\u001B[43mhandle\u001B[49m\u001B[43m)\u001B[49m\u001B[43m)\u001B[49m\u001B[43m)\u001B[49m\n\u001B[1;32m   2614\u001B[0m \u001B[38;5;66;03m# save reference to data\u001B[39;00m\n\u001B[1;32m   2615\u001B[0m \u001B[38;5;28mself\u001B[39m\u001B[38;5;241m.\u001B[39mtrain_set \u001B[38;5;241m=\u001B[39m train_set\n",
      "File \u001B[0;32m~/work/projects/air_pol/air_pollution_predict/airpollpredictor/venv/lib/python3.10/site-packages/lightgbm/basic.py:125\u001B[0m, in \u001B[0;36m_safe_call\u001B[0;34m(ret)\u001B[0m\n\u001B[1;32m    117\u001B[0m \u001B[38;5;250m\u001B[39m\u001B[38;5;124;03m\"\"\"Check the return value from C API call.\u001B[39;00m\n\u001B[1;32m    118\u001B[0m \n\u001B[1;32m    119\u001B[0m \u001B[38;5;124;03mParameters\u001B[39;00m\n\u001B[0;32m   (...)\u001B[0m\n\u001B[1;32m    122\u001B[0m \u001B[38;5;124;03m    The return value from C API calls.\u001B[39;00m\n\u001B[1;32m    123\u001B[0m \u001B[38;5;124;03m\"\"\"\u001B[39;00m\n\u001B[1;32m    124\u001B[0m \u001B[38;5;28;01mif\u001B[39;00m ret \u001B[38;5;241m!=\u001B[39m \u001B[38;5;241m0\u001B[39m:\n\u001B[0;32m--> 125\u001B[0m     \u001B[38;5;28;01mraise\u001B[39;00m LightGBMError(_LIB\u001B[38;5;241m.\u001B[39mLGBM_GetLastError()\u001B[38;5;241m.\u001B[39mdecode(\u001B[38;5;124m'\u001B[39m\u001B[38;5;124mutf-8\u001B[39m\u001B[38;5;124m'\u001B[39m))\n",
      "\u001B[0;31mLightGBMError\u001B[0m: Check failed: (num_data) > (0) at /__w/1/s/python-package/compile/src/io/dataset.cpp, line 33 .\n"
     ]
    }
   ],
   "source": [
    "optuna_tuner.run_params_search(\n",
    "    n_trials=100,\n",
    "    n_jobs=6,\n",
    "    save_best_params=True,\n",
    "    direction='minimize',\n",
    "    best_features_only=True,\n",
    "    search_category=True,\n",
    "    with_pruner=True,\n",
    "    cv_splitter= TimeSeriesSplit(16),\n",
    "    warm_params=None)"
   ],
   "metadata": {
    "collapsed": false
   }
  },
  {
   "cell_type": "code",
   "execution_count": null,
   "outputs": [],
   "source": [
    "\n",
    "train_score_best, val_score_best, model_best = optuna_tuner.run_model_and_eval(\n",
    "    params=optuna_tuner.study_best_params,\n",
    "    categorical_features=optuna_tuner.study_best_params['categorical_features'],\n",
    "    best_features_only=True,\n",
    "    set_as_best_model=False)"
   ],
   "metadata": {
    "collapsed": false
   }
  }
 ],
 "metadata": {
  "kernelspec": {
   "display_name": "Python 3",
   "language": "python",
   "name": "python3"
  },
  "language_info": {
   "codemirror_mode": {
    "name": "ipython",
    "version": 2
   },
   "file_extension": ".py",
   "mimetype": "text/x-python",
   "name": "python",
   "nbconvert_exporter": "python",
   "pygments_lexer": "ipython2",
   "version": "2.7.6"
  }
 },
 "nbformat": 4,
 "nbformat_minor": 0
}
