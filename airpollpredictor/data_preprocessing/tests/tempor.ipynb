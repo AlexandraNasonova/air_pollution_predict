{
 "cells": [
  {
   "cell_type": "code",
   "execution_count": 1,
   "outputs": [],
   "source": [
    "import pandas as pd\n",
    "from copy import deepcopy\n",
    "import datetime\n",
    "import numpy as np\n",
    "import data_preprocessing.features_generations.ts_lag_features_generator as lag_gen"
   ],
   "metadata": {
    "collapsed": false,
    "ExecuteTime": {
     "start_time": "2023-04-08T12:19:37.765853Z",
     "end_time": "2023-04-08T12:19:37.858403Z"
    }
   }
  },
  {
   "cell_type": "code",
   "execution_count": 2,
   "outputs": [
    {
     "data": {
      "text/plain": "             AQI_O3  AQI_PM25  AQI  Pollutant  C_MEAN_O3  C_MEAN_PM25   \nDatetimeEnd                                                             \n2023-01-01       27        68   68       6001  51.766087    20.416739  \\\n2023-01-02       23        39   39       6001  38.189583     9.294000   \n2023-01-03       25        60   60       6001  32.061667    16.974417   \n2023-01-04       31        51   51       6001  59.843636    12.758045   \n2023-01-05       27        74   74       6001  43.312500    23.074208   \n\n             NoFilter  \nDatetimeEnd            \n2023-01-01          1  \n2023-01-02          1  \n2023-01-03          1  \n2023-01-04          1  \n2023-01-05          1  ",
      "text/html": "<div>\n<style scoped>\n    .dataframe tbody tr th:only-of-type {\n        vertical-align: middle;\n    }\n\n    .dataframe tbody tr th {\n        vertical-align: top;\n    }\n\n    .dataframe thead th {\n        text-align: right;\n    }\n</style>\n<table border=\"1\" class=\"dataframe\">\n  <thead>\n    <tr style=\"text-align: right;\">\n      <th></th>\n      <th>AQI_O3</th>\n      <th>AQI_PM25</th>\n      <th>AQI</th>\n      <th>Pollutant</th>\n      <th>C_MEAN_O3</th>\n      <th>C_MEAN_PM25</th>\n      <th>NoFilter</th>\n    </tr>\n    <tr>\n      <th>DatetimeEnd</th>\n      <th></th>\n      <th></th>\n      <th></th>\n      <th></th>\n      <th></th>\n      <th></th>\n      <th></th>\n    </tr>\n  </thead>\n  <tbody>\n    <tr>\n      <th>2023-01-01</th>\n      <td>27</td>\n      <td>68</td>\n      <td>68</td>\n      <td>6001</td>\n      <td>51.766087</td>\n      <td>20.416739</td>\n      <td>1</td>\n    </tr>\n    <tr>\n      <th>2023-01-02</th>\n      <td>23</td>\n      <td>39</td>\n      <td>39</td>\n      <td>6001</td>\n      <td>38.189583</td>\n      <td>9.294000</td>\n      <td>1</td>\n    </tr>\n    <tr>\n      <th>2023-01-03</th>\n      <td>25</td>\n      <td>60</td>\n      <td>60</td>\n      <td>6001</td>\n      <td>32.061667</td>\n      <td>16.974417</td>\n      <td>1</td>\n    </tr>\n    <tr>\n      <th>2023-01-04</th>\n      <td>31</td>\n      <td>51</td>\n      <td>51</td>\n      <td>6001</td>\n      <td>59.843636</td>\n      <td>12.758045</td>\n      <td>1</td>\n    </tr>\n    <tr>\n      <th>2023-01-05</th>\n      <td>27</td>\n      <td>74</td>\n      <td>74</td>\n      <td>6001</td>\n      <td>43.312500</td>\n      <td>23.074208</td>\n      <td>1</td>\n    </tr>\n  </tbody>\n</table>\n</div>"
     },
     "execution_count": 2,
     "metadata": {},
     "output_type": "execute_result"
    }
   ],
   "source": [
    "date_col = 'DatetimeEnd'\n",
    "filter_col = 'NoFilter'\n",
    "target_cols = ['AQI', 'AQI_O3', 'AQI_PM25']\n",
    "source_file = \"datasets_tests/pollutants-merged-data/pol_merged.csv\"\n",
    "data = pd.read_csv(source_file, index_col=date_col, parse_dates=True)\n",
    "data[filter_col] = 1\n",
    "data = data.sort_values(date_col)\n",
    "group_col = [filter_col] + [] + [date_col]\n",
    "preagg_method = 'mean'\n",
    "lag = 7\n",
    "data.head()"
   ],
   "metadata": {
    "collapsed": false,
    "ExecuteTime": {
     "start_time": "2023-04-08T12:19:37.860414Z",
     "end_time": "2023-04-08T12:19:37.867210Z"
    }
   }
  },
  {
   "cell_type": "code",
   "execution_count": 3,
   "outputs": [],
   "source": [
    "data_cl = deepcopy(data)\n",
    "data_cl.reset_index(inplace=True)\n",
    "data_cl[date_col] = data_cl[date_col].map(datetime.datetime.date)\n",
    "data_cl.set_index(date_col, inplace=True)\n",
    "data_cl.sort_values(date_col, inplace=True)"
   ],
   "metadata": {
    "collapsed": false,
    "ExecuteTime": {
     "start_time": "2023-04-08T12:19:37.867461Z",
     "end_time": "2023-04-08T12:19:37.882557Z"
    }
   }
  },
  {
   "cell_type": "code",
   "execution_count": 4,
   "outputs": [
    {
     "data": {
      "text/plain": "   NoFilter DatetimeEnd   AQI  AQI_O3  AQI_PM25\n0         1  2023-01-01  68.0    27.0      68.0\n1         1  2023-01-02  39.0    23.0      39.0\n2         1  2023-01-03  60.0    25.0      60.0\n3         1  2023-01-04  51.0    31.0      51.0\n4         1  2023-01-05  74.0    27.0      74.0",
      "text/html": "<div>\n<style scoped>\n    .dataframe tbody tr th:only-of-type {\n        vertical-align: middle;\n    }\n\n    .dataframe tbody tr th {\n        vertical-align: top;\n    }\n\n    .dataframe thead th {\n        text-align: right;\n    }\n</style>\n<table border=\"1\" class=\"dataframe\">\n  <thead>\n    <tr style=\"text-align: right;\">\n      <th></th>\n      <th>NoFilter</th>\n      <th>DatetimeEnd</th>\n      <th>AQI</th>\n      <th>AQI_O3</th>\n      <th>AQI_PM25</th>\n    </tr>\n  </thead>\n  <tbody>\n    <tr>\n      <th>0</th>\n      <td>1</td>\n      <td>2023-01-01</td>\n      <td>68.0</td>\n      <td>27.0</td>\n      <td>68.0</td>\n    </tr>\n    <tr>\n      <th>1</th>\n      <td>1</td>\n      <td>2023-01-02</td>\n      <td>39.0</td>\n      <td>23.0</td>\n      <td>39.0</td>\n    </tr>\n    <tr>\n      <th>2</th>\n      <td>1</td>\n      <td>2023-01-03</td>\n      <td>60.0</td>\n      <td>25.0</td>\n      <td>60.0</td>\n    </tr>\n    <tr>\n      <th>3</th>\n      <td>1</td>\n      <td>2023-01-04</td>\n      <td>51.0</td>\n      <td>31.0</td>\n      <td>51.0</td>\n    </tr>\n    <tr>\n      <th>4</th>\n      <td>1</td>\n      <td>2023-01-05</td>\n      <td>74.0</td>\n      <td>27.0</td>\n      <td>74.0</td>\n    </tr>\n  </tbody>\n</table>\n</div>"
     },
     "execution_count": 4,
     "metadata": {},
     "output_type": "execute_result"
    }
   ],
   "source": [
    "data_preag_filled = lag_gen.calc_preag_fill(data_cl, group_col, date_col, target_cols, preagg_method)\n",
    "data_preag_filled.head()"
   ],
   "metadata": {
    "collapsed": false,
    "ExecuteTime": {
     "start_time": "2023-04-08T12:19:37.880726Z",
     "end_time": "2023-04-08T12:19:37.947018Z"
    }
   }
  },
  {
   "cell_type": "code",
   "execution_count": 5,
   "outputs": [
    {
     "data": {
      "text/plain": "    NoFilter DatetimeEnd        AQI     AQI_O3   AQI_PM25\n0          1  2023-01-01        NaN        NaN        NaN\n1          1  2023-01-02        NaN        NaN        NaN\n2          1  2023-01-03        NaN        NaN        NaN\n3          1  2023-01-04        NaN        NaN        NaN\n4          1  2023-01-05        NaN        NaN        NaN\n..       ...         ...        ...        ...        ...\n92         1  2023-04-03  36.001200  34.912400  21.938009\n93         1  2023-04-04  35.500900  34.684300  23.703507\n94         1  2023-04-05  35.375675  34.763225  24.527630\n95         1  2023-04-06  36.531756  36.072419  25.645723\n96         1  2023-04-07  35.648817  35.304314  21.734292\n\n[97 rows x 5 columns]",
      "text/html": "<div>\n<style scoped>\n    .dataframe tbody tr th:only-of-type {\n        vertical-align: middle;\n    }\n\n    .dataframe tbody tr th {\n        vertical-align: top;\n    }\n\n    .dataframe thead th {\n        text-align: right;\n    }\n</style>\n<table border=\"1\" class=\"dataframe\">\n  <thead>\n    <tr style=\"text-align: right;\">\n      <th></th>\n      <th>NoFilter</th>\n      <th>DatetimeEnd</th>\n      <th>AQI</th>\n      <th>AQI_O3</th>\n      <th>AQI_PM25</th>\n    </tr>\n  </thead>\n  <tbody>\n    <tr>\n      <th>0</th>\n      <td>1</td>\n      <td>2023-01-01</td>\n      <td>NaN</td>\n      <td>NaN</td>\n      <td>NaN</td>\n    </tr>\n    <tr>\n      <th>1</th>\n      <td>1</td>\n      <td>2023-01-02</td>\n      <td>NaN</td>\n      <td>NaN</td>\n      <td>NaN</td>\n    </tr>\n    <tr>\n      <th>2</th>\n      <td>1</td>\n      <td>2023-01-03</td>\n      <td>NaN</td>\n      <td>NaN</td>\n      <td>NaN</td>\n    </tr>\n    <tr>\n      <th>3</th>\n      <td>1</td>\n      <td>2023-01-04</td>\n      <td>NaN</td>\n      <td>NaN</td>\n      <td>NaN</td>\n    </tr>\n    <tr>\n      <th>4</th>\n      <td>1</td>\n      <td>2023-01-05</td>\n      <td>NaN</td>\n      <td>NaN</td>\n      <td>NaN</td>\n    </tr>\n    <tr>\n      <th>...</th>\n      <td>...</td>\n      <td>...</td>\n      <td>...</td>\n      <td>...</td>\n      <td>...</td>\n    </tr>\n    <tr>\n      <th>92</th>\n      <td>1</td>\n      <td>2023-04-03</td>\n      <td>36.001200</td>\n      <td>34.912400</td>\n      <td>21.938009</td>\n    </tr>\n    <tr>\n      <th>93</th>\n      <td>1</td>\n      <td>2023-04-04</td>\n      <td>35.500900</td>\n      <td>34.684300</td>\n      <td>23.703507</td>\n    </tr>\n    <tr>\n      <th>94</th>\n      <td>1</td>\n      <td>2023-04-05</td>\n      <td>35.375675</td>\n      <td>34.763225</td>\n      <td>24.527630</td>\n    </tr>\n    <tr>\n      <th>95</th>\n      <td>1</td>\n      <td>2023-04-06</td>\n      <td>36.531756</td>\n      <td>36.072419</td>\n      <td>25.645723</td>\n    </tr>\n    <tr>\n      <th>96</th>\n      <td>1</td>\n      <td>2023-04-07</td>\n      <td>35.648817</td>\n      <td>35.304314</td>\n      <td>21.734292</td>\n    </tr>\n  </tbody>\n</table>\n<p>97 rows × 5 columns</p>\n</div>"
     },
     "execution_count": 5,
     "metadata": {},
     "output_type": "execute_result"
    }
   ],
   "source": [
    "alpha = 7\n",
    "ewm_filled = lag_gen.calc_ewm(data_preag_filled, group_col, date_col, alpha)\n",
    "ewm = lag_gen.shift(ewm_filled, group_col, date_col, lag)\n",
    "ewm"
   ],
   "metadata": {
    "collapsed": false,
    "ExecuteTime": {
     "start_time": "2023-04-08T12:19:40.467235Z",
     "end_time": "2023-04-08T12:19:40.469366Z"
    }
   }
  },
  {
   "cell_type": "code",
   "execution_count": 13,
   "outputs": [
    {
     "data": {
      "text/plain": "'10'"
     },
     "execution_count": 13,
     "metadata": {},
     "output_type": "execute_result"
    }
   ],
   "source": [
    "s = 'percentileL(10)'\n",
    "l = len('percentile')\n",
    "n = s[:l]\n",
    "import re\n",
    "re.findall(r'\\d+', s)[0]"
   ],
   "metadata": {
    "collapsed": false,
    "ExecuteTime": {
     "start_time": "2023-04-08T13:06:15.427057Z",
     "end_time": "2023-04-08T13:06:15.428850Z"
    }
   }
  },
  {
   "cell_type": "code",
   "execution_count": 15,
   "outputs": [],
   "source": [
    "lf_df = ewm_filled.apply(lambda x: x.shift(lag)).reset_index()\n",
    "#data_cl[date_col].map(datetime.datetime.date)\n",
    "#lf_df[date_col] = pd.to_datetime(lf_df[date_col].astype(str))\n",
    "lf_df[date_col] = pd.to_datetime(lf_df[date_col].astype(str)).map(datetime.datetime.date)\n"
   ],
   "metadata": {
    "collapsed": false,
    "ExecuteTime": {
     "start_time": "2023-04-08T12:25:29.968867Z",
     "end_time": "2023-04-08T12:25:29.970473Z"
    }
   }
  },
  {
   "cell_type": "code",
   "execution_count": 16,
   "outputs": [
    {
     "ename": "TypeError",
     "evalue": "'Series' object is not callable",
     "output_type": "error",
     "traceback": [
      "\u001B[0;31m---------------------------------------------------------------------------\u001B[0m",
      "\u001B[0;31mTypeError\u001B[0m                                 Traceback (most recent call last)",
      "Cell \u001B[0;32mIn[16], line 1\u001B[0m\n\u001B[0;32m----> 1\u001B[0m \u001B[43mlf_df\u001B[49m\u001B[38;5;241;43m.\u001B[39;49m\u001B[43mdtypes\u001B[49m\u001B[43m(\u001B[49m\u001B[43m)\u001B[49m\n",
      "\u001B[0;31mTypeError\u001B[0m: 'Series' object is not callable"
     ]
    }
   ],
   "source": [],
   "metadata": {
    "collapsed": false
   }
  },
  {
   "cell_type": "code",
   "execution_count": 13,
   "outputs": [],
   "source": [
    "lf_df = ewm_filled.apply(lambda x: x.shift(lag)).reset_index()"
   ],
   "metadata": {
    "collapsed": false,
    "ExecuteTime": {
     "start_time": "2023-04-08T12:17:30.053823Z",
     "end_time": "2023-04-08T12:17:30.094055Z"
    }
   }
  },
  {
   "cell_type": "code",
   "execution_count": null,
   "outputs": [],
   "source": [
    "ewm_filled = calc_ewm(data_preag_filled, group_col, date_col, alpha)\n",
    "ewm = shift(ewm_filled, group_col, date_col, lag)\n",
    "new_names = \\\n",
    "    {x: f\"{x}_lag{lag}d_ewm{alpha}_{key_str}{preagg_str}{filter_col_str}\"\n",
    "     for x in target_cols}\n",
    "data_cl = pd.merge(data_cl, ewm.rename(columns=new_names),\n",
    "                   how='left', on=group_col)"
   ],
   "metadata": {
    "collapsed": false
   }
  },
  {
   "cell_type": "code",
   "execution_count": null,
   "outputs": [],
   "source": [
    "lf_df[date_col] = pd.to_datetime(lf_df[date_col].astype(str))\n",
    "ewm = shift(ewm_filled, group_col, date_col, lag)"
   ],
   "metadata": {
    "collapsed": false
   }
  },
  {
   "cell_type": "code",
   "execution_count": 35,
   "outputs": [
    {
     "data": {
      "text/plain": "            NoFilter   AQI  AQI_O3  AQI_PM25\n2023-01-01         1  68.0    27.0      68.0\n2023-01-02         1  39.0    23.0      39.0\n2023-01-03         1  60.0    25.0      60.0\n2023-01-04         1  51.0    31.0      51.0\n2023-01-05         1  74.0    27.0      74.0\n...              ...   ...     ...       ...\n2023-04-03         1  36.0    36.0      14.0\n2023-04-04         1  39.0    39.0      33.0\n2023-04-05         1  63.0    39.0      63.0\n2023-04-06         1  51.0    28.0      51.0\n2023-04-07         1  38.0    38.0      20.0\n\n[97 rows x 4 columns]",
      "text/html": "<div>\n<style scoped>\n    .dataframe tbody tr th:only-of-type {\n        vertical-align: middle;\n    }\n\n    .dataframe tbody tr th {\n        vertical-align: top;\n    }\n\n    .dataframe thead th {\n        text-align: right;\n    }\n</style>\n<table border=\"1\" class=\"dataframe\">\n  <thead>\n    <tr style=\"text-align: right;\">\n      <th></th>\n      <th>NoFilter</th>\n      <th>AQI</th>\n      <th>AQI_O3</th>\n      <th>AQI_PM25</th>\n    </tr>\n  </thead>\n  <tbody>\n    <tr>\n      <th>2023-01-01</th>\n      <td>1</td>\n      <td>68.0</td>\n      <td>27.0</td>\n      <td>68.0</td>\n    </tr>\n    <tr>\n      <th>2023-01-02</th>\n      <td>1</td>\n      <td>39.0</td>\n      <td>23.0</td>\n      <td>39.0</td>\n    </tr>\n    <tr>\n      <th>2023-01-03</th>\n      <td>1</td>\n      <td>60.0</td>\n      <td>25.0</td>\n      <td>60.0</td>\n    </tr>\n    <tr>\n      <th>2023-01-04</th>\n      <td>1</td>\n      <td>51.0</td>\n      <td>31.0</td>\n      <td>51.0</td>\n    </tr>\n    <tr>\n      <th>2023-01-05</th>\n      <td>1</td>\n      <td>74.0</td>\n      <td>27.0</td>\n      <td>74.0</td>\n    </tr>\n    <tr>\n      <th>...</th>\n      <td>...</td>\n      <td>...</td>\n      <td>...</td>\n      <td>...</td>\n    </tr>\n    <tr>\n      <th>2023-04-03</th>\n      <td>1</td>\n      <td>36.0</td>\n      <td>36.0</td>\n      <td>14.0</td>\n    </tr>\n    <tr>\n      <th>2023-04-04</th>\n      <td>1</td>\n      <td>39.0</td>\n      <td>39.0</td>\n      <td>33.0</td>\n    </tr>\n    <tr>\n      <th>2023-04-05</th>\n      <td>1</td>\n      <td>63.0</td>\n      <td>39.0</td>\n      <td>63.0</td>\n    </tr>\n    <tr>\n      <th>2023-04-06</th>\n      <td>1</td>\n      <td>51.0</td>\n      <td>28.0</td>\n      <td>51.0</td>\n    </tr>\n    <tr>\n      <th>2023-04-07</th>\n      <td>1</td>\n      <td>38.0</td>\n      <td>38.0</td>\n      <td>20.0</td>\n    </tr>\n  </tbody>\n</table>\n<p>97 rows × 4 columns</p>\n</div>"
     },
     "execution_count": 35,
     "metadata": {},
     "output_type": "execute_result"
    }
   ],
   "source": [
    "min_date, max_date = data_preag[date_col].min(), data_preag[date_col].max()\n",
    "groupby_day = data_preag.groupby(pd.PeriodIndex(data_preag[date_col], freq='D'))\n",
    "results = groupby_day.sum(min_count=1)\n",
    "idx = pd.period_range(min_date, max_date)\n",
    "results = results.reindex(idx, fill_value=np.nan)\n",
    "if date_col in results.columns.values:\n",
    "    results.drop([date_col], axis=1, inplace=True)\n",
    "\n"
   ],
   "metadata": {
    "collapsed": false,
    "ExecuteTime": {
     "start_time": "2023-04-08T09:39:36.753964Z",
     "end_time": "2023-04-08T09:39:36.764464Z"
    }
   }
  },
  {
   "cell_type": "code",
   "execution_count": 17,
   "outputs": [
    {
     "ename": "KeyError",
     "evalue": "'DatetimeEnd'",
     "output_type": "error",
     "traceback": [
      "\u001B[0;31m---------------------------------------------------------------------------\u001B[0m",
      "\u001B[0;31mKeyError\u001B[0m                                  Traceback (most recent call last)",
      "File \u001B[0;32m~/work/projects/air_pol/air_pollution_predict/airpollpredictor/venv/lib/python3.10/site-packages/pandas/core/indexes/base.py:3652\u001B[0m, in \u001B[0;36mIndex.get_loc\u001B[0;34m(self, key)\u001B[0m\n\u001B[1;32m   3651\u001B[0m \u001B[38;5;28;01mtry\u001B[39;00m:\n\u001B[0;32m-> 3652\u001B[0m     \u001B[38;5;28;01mreturn\u001B[39;00m \u001B[38;5;28;43mself\u001B[39;49m\u001B[38;5;241;43m.\u001B[39;49m\u001B[43m_engine\u001B[49m\u001B[38;5;241;43m.\u001B[39;49m\u001B[43mget_loc\u001B[49m\u001B[43m(\u001B[49m\u001B[43mcasted_key\u001B[49m\u001B[43m)\u001B[49m\n\u001B[1;32m   3653\u001B[0m \u001B[38;5;28;01mexcept\u001B[39;00m \u001B[38;5;167;01mKeyError\u001B[39;00m \u001B[38;5;28;01mas\u001B[39;00m err:\n",
      "File \u001B[0;32m~/work/projects/air_pol/air_pollution_predict/airpollpredictor/venv/lib/python3.10/site-packages/pandas/_libs/index.pyx:147\u001B[0m, in \u001B[0;36mpandas._libs.index.IndexEngine.get_loc\u001B[0;34m()\u001B[0m\n",
      "File \u001B[0;32m~/work/projects/air_pol/air_pollution_predict/airpollpredictor/venv/lib/python3.10/site-packages/pandas/_libs/index.pyx:176\u001B[0m, in \u001B[0;36mpandas._libs.index.IndexEngine.get_loc\u001B[0;34m()\u001B[0m\n",
      "File \u001B[0;32mpandas/_libs/hashtable_class_helper.pxi:7080\u001B[0m, in \u001B[0;36mpandas._libs.hashtable.PyObjectHashTable.get_item\u001B[0;34m()\u001B[0m\n",
      "File \u001B[0;32mpandas/_libs/hashtable_class_helper.pxi:7088\u001B[0m, in \u001B[0;36mpandas._libs.hashtable.PyObjectHashTable.get_item\u001B[0;34m()\u001B[0m\n",
      "\u001B[0;31mKeyError\u001B[0m: 'DatetimeEnd'",
      "\nThe above exception was the direct cause of the following exception:\n",
      "\u001B[0;31mKeyError\u001B[0m                                  Traceback (most recent call last)",
      "Cell \u001B[0;32mIn[17], line 1\u001B[0m\n\u001B[0;32m----> 1\u001B[0m \u001B[43mfill_missing_dates\u001B[49m\u001B[43m(\u001B[49m\u001B[43mout_df\u001B[49m\u001B[43m,\u001B[49m\u001B[43m \u001B[49m\u001B[43mdate_col\u001B[49m\u001B[43m)\u001B[49m\n",
      "Cell \u001B[0;32mIn[7], line 8\u001B[0m, in \u001B[0;36mfill_missing_dates\u001B[0;34m(df_source, date_col)\u001B[0m\n\u001B[1;32m      1\u001B[0m \u001B[38;5;28;01mdef\u001B[39;00m \u001B[38;5;21mfill_missing_dates\u001B[39m(df_source, date_col):\n\u001B[1;32m      2\u001B[0m \u001B[38;5;250m    \u001B[39m\u001B[38;5;124;03m\"\"\"\u001B[39;00m\n\u001B[1;32m      3\u001B[0m \u001B[38;5;124;03m    Add missing dates to GroupBy.Core object\u001B[39;00m\n\u001B[1;32m      4\u001B[0m \u001B[38;5;124;03m    @param df_source: Source dataframe\u001B[39;00m\n\u001B[1;32m      5\u001B[0m \u001B[38;5;124;03m    @param date_col: The name of the columns with dates\u001B[39;00m\n\u001B[1;32m      6\u001B[0m \u001B[38;5;124;03m    @return: Processed dataframe with fixed dates\u001B[39;00m\n\u001B[1;32m      7\u001B[0m \u001B[38;5;124;03m    \"\"\"\u001B[39;00m\n\u001B[0;32m----> 8\u001B[0m     min_date, max_date \u001B[38;5;241m=\u001B[39m \u001B[43mdf_source\u001B[49m\u001B[43m[\u001B[49m\u001B[43mdate_col\u001B[49m\u001B[43m]\u001B[49m\u001B[38;5;241m.\u001B[39mmin(), df_source[date_col]\u001B[38;5;241m.\u001B[39mmax()\n\u001B[1;32m      9\u001B[0m     groupby_day \u001B[38;5;241m=\u001B[39m df_source\u001B[38;5;241m.\u001B[39mgroupby(pd\u001B[38;5;241m.\u001B[39mPeriodIndex(df_source[date_col], freq\u001B[38;5;241m=\u001B[39m\u001B[38;5;124m'\u001B[39m\u001B[38;5;124mD\u001B[39m\u001B[38;5;124m'\u001B[39m))\n\u001B[1;32m     10\u001B[0m     results \u001B[38;5;241m=\u001B[39m groupby_day\u001B[38;5;241m.\u001B[39msum(min_count\u001B[38;5;241m=\u001B[39m\u001B[38;5;241m1\u001B[39m)\n",
      "File \u001B[0;32m~/work/projects/air_pol/air_pollution_predict/airpollpredictor/venv/lib/python3.10/site-packages/pandas/core/frame.py:3760\u001B[0m, in \u001B[0;36mDataFrame.__getitem__\u001B[0;34m(self, key)\u001B[0m\n\u001B[1;32m   3758\u001B[0m \u001B[38;5;28;01mif\u001B[39;00m \u001B[38;5;28mself\u001B[39m\u001B[38;5;241m.\u001B[39mcolumns\u001B[38;5;241m.\u001B[39mnlevels \u001B[38;5;241m>\u001B[39m \u001B[38;5;241m1\u001B[39m:\n\u001B[1;32m   3759\u001B[0m     \u001B[38;5;28;01mreturn\u001B[39;00m \u001B[38;5;28mself\u001B[39m\u001B[38;5;241m.\u001B[39m_getitem_multilevel(key)\n\u001B[0;32m-> 3760\u001B[0m indexer \u001B[38;5;241m=\u001B[39m \u001B[38;5;28;43mself\u001B[39;49m\u001B[38;5;241;43m.\u001B[39;49m\u001B[43mcolumns\u001B[49m\u001B[38;5;241;43m.\u001B[39;49m\u001B[43mget_loc\u001B[49m\u001B[43m(\u001B[49m\u001B[43mkey\u001B[49m\u001B[43m)\u001B[49m\n\u001B[1;32m   3761\u001B[0m \u001B[38;5;28;01mif\u001B[39;00m is_integer(indexer):\n\u001B[1;32m   3762\u001B[0m     indexer \u001B[38;5;241m=\u001B[39m [indexer]\n",
      "File \u001B[0;32m~/work/projects/air_pol/air_pollution_predict/airpollpredictor/venv/lib/python3.10/site-packages/pandas/core/indexes/base.py:3654\u001B[0m, in \u001B[0;36mIndex.get_loc\u001B[0;34m(self, key)\u001B[0m\n\u001B[1;32m   3652\u001B[0m     \u001B[38;5;28;01mreturn\u001B[39;00m \u001B[38;5;28mself\u001B[39m\u001B[38;5;241m.\u001B[39m_engine\u001B[38;5;241m.\u001B[39mget_loc(casted_key)\n\u001B[1;32m   3653\u001B[0m \u001B[38;5;28;01mexcept\u001B[39;00m \u001B[38;5;167;01mKeyError\u001B[39;00m \u001B[38;5;28;01mas\u001B[39;00m err:\n\u001B[0;32m-> 3654\u001B[0m     \u001B[38;5;28;01mraise\u001B[39;00m \u001B[38;5;167;01mKeyError\u001B[39;00m(key) \u001B[38;5;28;01mfrom\u001B[39;00m \u001B[38;5;21;01merr\u001B[39;00m\n\u001B[1;32m   3655\u001B[0m \u001B[38;5;28;01mexcept\u001B[39;00m \u001B[38;5;167;01mTypeError\u001B[39;00m:\n\u001B[1;32m   3656\u001B[0m     \u001B[38;5;66;03m# If we have a listlike key, _check_indexing_error will raise\u001B[39;00m\n\u001B[1;32m   3657\u001B[0m     \u001B[38;5;66;03m#  InvalidIndexError. Otherwise we fall through and re-raise\u001B[39;00m\n\u001B[1;32m   3658\u001B[0m     \u001B[38;5;66;03m#  the TypeError.\u001B[39;00m\n\u001B[1;32m   3659\u001B[0m     \u001B[38;5;28mself\u001B[39m\u001B[38;5;241m.\u001B[39m_check_indexing_error(key)\n",
      "\u001B[0;31mKeyError\u001B[0m: 'DatetimeEnd'"
     ]
    }
   ],
   "source": [
    "min_date, max_date = data_preag[date_col].min(), data_preag[date_col].max()\n",
    "groupby_day = data_preag.groupby(pd.PeriodIndex(data_preag[date_col], freq='D'))\n",
    "results = groupby_day.sum(min_count=1)\n",
    "\n",
    "idx = pd.period_range(min_date, max_date)\n",
    "results = results.reindex(idx, fill_value=np.nan)\n",
    "\n",
    "results.index.rename(date_col, inplace=True)"
   ],
   "metadata": {
    "collapsed": false,
    "ExecuteTime": {
     "start_time": "2023-04-08T09:33:01.026798Z",
     "end_time": "2023-04-08T09:33:01.030108Z"
    }
   }
  },
  {
   "cell_type": "code",
   "execution_count": 15,
   "outputs": [
    {
     "ename": "ValueError",
     "evalue": "cannot insert DatetimeEnd, already exists",
     "output_type": "error",
     "traceback": [
      "\u001B[0;31m---------------------------------------------------------------------------\u001B[0m",
      "\u001B[0;31mValueError\u001B[0m                                Traceback (most recent call last)",
      "Cell \u001B[0;32mIn[15], line 3\u001B[0m\n\u001B[1;32m      1\u001B[0m data_preag_filled \u001B[38;5;241m=\u001B[39m \u001B[43mdata_preag\u001B[49m\u001B[38;5;241;43m.\u001B[39;49m\u001B[43mgroupby\u001B[49m\u001B[43m(\u001B[49m\u001B[43mgroup_col\u001B[49m\u001B[43m[\u001B[49m\u001B[43m:\u001B[49m\u001B[38;5;241;43m-\u001B[39;49m\u001B[38;5;241;43m1\u001B[39;49m\u001B[43m]\u001B[49m\u001B[43m)\u001B[49m\u001B[38;5;241;43m.\u001B[39;49m\u001B[43mapply\u001B[49m\u001B[43m(\u001B[49m\n\u001B[1;32m      2\u001B[0m \u001B[43m    \u001B[49m\u001B[43mfill_missing_dates\u001B[49m\u001B[43m,\u001B[49m\u001B[43m \u001B[49m\u001B[43mdate_col\u001B[49m\u001B[38;5;241;43m=\u001B[39;49m\u001B[43mdate_col\u001B[49m\u001B[43m)\u001B[49m\u001B[38;5;241;43m.\u001B[39;49m\u001B[43mdrop\u001B[49m\u001B[43m(\u001B[49m\u001B[43mgroup_col\u001B[49m\u001B[43m[\u001B[49m\u001B[43m:\u001B[49m\u001B[38;5;241;43m-\u001B[39;49m\u001B[38;5;241;43m1\u001B[39;49m\u001B[43m]\u001B[49m\u001B[43m,\u001B[49m\n\u001B[0;32m----> 3\u001B[0m \u001B[43m                                                \u001B[49m\u001B[43maxis\u001B[49m\u001B[38;5;241;43m=\u001B[39;49m\u001B[38;5;241;43m1\u001B[39;49m\u001B[43m)\u001B[49m\u001B[38;5;241;43m.\u001B[39;49m\u001B[43mreset_index\u001B[49m\u001B[43m(\u001B[49m\u001B[43m)\u001B[49m\n",
      "File \u001B[0;32m~/work/projects/air_pol/air_pollution_predict/airpollpredictor/venv/lib/python3.10/site-packages/pandas/core/frame.py:6217\u001B[0m, in \u001B[0;36mDataFrame.reset_index\u001B[0;34m(self, level, drop, inplace, col_level, col_fill, allow_duplicates, names)\u001B[0m\n\u001B[1;32m   6211\u001B[0m         \u001B[38;5;28;01mif\u001B[39;00m lab \u001B[38;5;129;01mis\u001B[39;00m \u001B[38;5;129;01mnot\u001B[39;00m \u001B[38;5;28;01mNone\u001B[39;00m:\n\u001B[1;32m   6212\u001B[0m             \u001B[38;5;66;03m# if we have the codes, extract the values with a mask\u001B[39;00m\n\u001B[1;32m   6213\u001B[0m             level_values \u001B[38;5;241m=\u001B[39m algorithms\u001B[38;5;241m.\u001B[39mtake(\n\u001B[1;32m   6214\u001B[0m                 level_values, lab, allow_fill\u001B[38;5;241m=\u001B[39m\u001B[38;5;28;01mTrue\u001B[39;00m, fill_value\u001B[38;5;241m=\u001B[39mlev\u001B[38;5;241m.\u001B[39m_na_value\n\u001B[1;32m   6215\u001B[0m             )\n\u001B[0;32m-> 6217\u001B[0m         \u001B[43mnew_obj\u001B[49m\u001B[38;5;241;43m.\u001B[39;49m\u001B[43minsert\u001B[49m\u001B[43m(\u001B[49m\n\u001B[1;32m   6218\u001B[0m \u001B[43m            \u001B[49m\u001B[38;5;241;43m0\u001B[39;49m\u001B[43m,\u001B[49m\n\u001B[1;32m   6219\u001B[0m \u001B[43m            \u001B[49m\u001B[43mname\u001B[49m\u001B[43m,\u001B[49m\n\u001B[1;32m   6220\u001B[0m \u001B[43m            \u001B[49m\u001B[43mlevel_values\u001B[49m\u001B[43m,\u001B[49m\n\u001B[1;32m   6221\u001B[0m \u001B[43m            \u001B[49m\u001B[43mallow_duplicates\u001B[49m\u001B[38;5;241;43m=\u001B[39;49m\u001B[43mallow_duplicates\u001B[49m\u001B[43m,\u001B[49m\n\u001B[1;32m   6222\u001B[0m \u001B[43m        \u001B[49m\u001B[43m)\u001B[49m\n\u001B[1;32m   6224\u001B[0m new_obj\u001B[38;5;241m.\u001B[39mindex \u001B[38;5;241m=\u001B[39m new_index\n\u001B[1;32m   6225\u001B[0m \u001B[38;5;28;01mif\u001B[39;00m \u001B[38;5;129;01mnot\u001B[39;00m inplace:\n",
      "File \u001B[0;32m~/work/projects/air_pol/air_pollution_predict/airpollpredictor/venv/lib/python3.10/site-packages/pandas/core/frame.py:4780\u001B[0m, in \u001B[0;36mDataFrame.insert\u001B[0;34m(self, loc, column, value, allow_duplicates)\u001B[0m\n\u001B[1;32m   4774\u001B[0m     \u001B[38;5;28;01mraise\u001B[39;00m \u001B[38;5;167;01mValueError\u001B[39;00m(\n\u001B[1;32m   4775\u001B[0m         \u001B[38;5;124m\"\u001B[39m\u001B[38;5;124mCannot specify \u001B[39m\u001B[38;5;124m'\u001B[39m\u001B[38;5;124mallow_duplicates=True\u001B[39m\u001B[38;5;124m'\u001B[39m\u001B[38;5;124m when \u001B[39m\u001B[38;5;124m\"\u001B[39m\n\u001B[1;32m   4776\u001B[0m         \u001B[38;5;124m\"\u001B[39m\u001B[38;5;124m'\u001B[39m\u001B[38;5;124mself.flags.allows_duplicate_labels\u001B[39m\u001B[38;5;124m'\u001B[39m\u001B[38;5;124m is False.\u001B[39m\u001B[38;5;124m\"\u001B[39m\n\u001B[1;32m   4777\u001B[0m     )\n\u001B[1;32m   4778\u001B[0m \u001B[38;5;28;01mif\u001B[39;00m \u001B[38;5;129;01mnot\u001B[39;00m allow_duplicates \u001B[38;5;129;01mand\u001B[39;00m column \u001B[38;5;129;01min\u001B[39;00m \u001B[38;5;28mself\u001B[39m\u001B[38;5;241m.\u001B[39mcolumns:\n\u001B[1;32m   4779\u001B[0m     \u001B[38;5;66;03m# Should this be a different kind of error??\u001B[39;00m\n\u001B[0;32m-> 4780\u001B[0m     \u001B[38;5;28;01mraise\u001B[39;00m \u001B[38;5;167;01mValueError\u001B[39;00m(\u001B[38;5;124mf\u001B[39m\u001B[38;5;124m\"\u001B[39m\u001B[38;5;124mcannot insert \u001B[39m\u001B[38;5;132;01m{\u001B[39;00mcolumn\u001B[38;5;132;01m}\u001B[39;00m\u001B[38;5;124m, already exists\u001B[39m\u001B[38;5;124m\"\u001B[39m)\n\u001B[1;32m   4781\u001B[0m \u001B[38;5;28;01mif\u001B[39;00m \u001B[38;5;129;01mnot\u001B[39;00m \u001B[38;5;28misinstance\u001B[39m(loc, \u001B[38;5;28mint\u001B[39m):\n\u001B[1;32m   4782\u001B[0m     \u001B[38;5;28;01mraise\u001B[39;00m \u001B[38;5;167;01mTypeError\u001B[39;00m(\u001B[38;5;124m\"\u001B[39m\u001B[38;5;124mloc must be int\u001B[39m\u001B[38;5;124m\"\u001B[39m)\n",
      "\u001B[0;31mValueError\u001B[0m: cannot insert DatetimeEnd, already exists"
     ]
    }
   ],
   "source": [
    "data_preag_filled = data_preag.groupby(group_col[:-1]).apply(\n",
    "    fill_missing_dates, date_col=date_col).drop(group_col[:-1],\n",
    "                                                axis=1).reset_index()"
   ],
   "metadata": {
    "collapsed": false
   }
  },
  {
   "cell_type": "code",
   "execution_count": 41,
   "outputs": [],
   "source": [
    "data_preag = out_df.groupby(group_col).agg(preagg)[target_cols].reset_index()\n",
    "min_date, max_date = data_preag[date_col].min(), data_preag[date_col].max()\n",
    "groupby_day = data_preag.groupby(pd.PeriodIndex(data_preag[date_col], freq='D'))"
   ],
   "metadata": {
    "collapsed": false,
    "ExecuteTime": {
     "start_time": "2023-04-08T09:24:10.412699Z",
     "end_time": "2023-04-08T09:24:10.453992Z"
    }
   }
  },
  {
   "cell_type": "code",
   "execution_count": 43,
   "outputs": [],
   "source": [
    "results = groupby_day.sum(min_count=1)"
   ],
   "metadata": {
    "collapsed": false,
    "ExecuteTime": {
     "start_time": "2023-04-08T09:25:07.216736Z",
     "end_time": "2023-04-08T09:25:07.258005Z"
    }
   }
  },
  {
   "cell_type": "code",
   "execution_count": 27,
   "outputs": [],
   "source": [
    "dc = data.reset_index()\n",
    "import datetime\n",
    "dc[date_col] = dc[date_col].map(datetime.datetime.date)"
   ],
   "metadata": {
    "collapsed": false,
    "ExecuteTime": {
     "start_time": "2023-04-08T09:16:56.360700Z",
     "end_time": "2023-04-08T09:16:56.364954Z"
    }
   }
  },
  {
   "cell_type": "code",
   "execution_count": 33,
   "outputs": [],
   "source": [
    "results = groupby_day.sum(min_count=1)"
   ],
   "metadata": {
    "collapsed": false,
    "ExecuteTime": {
     "start_time": "2023-04-08T09:18:17.711789Z",
     "end_time": "2023-04-08T09:18:17.754026Z"
    }
   }
  },
  {
   "cell_type": "code",
   "execution_count": null,
   "outputs": [],
   "source": [
    "idx = pd.period_range(min_date, max_date)\n",
    "results = results.reindex(idx, fill_value=np.nan)\n",
    "results.index.rename(date_col, inplace=True)"
   ],
   "metadata": {
    "collapsed": false
   }
  },
  {
   "cell_type": "code",
   "execution_count": 37,
   "outputs": [
    {
     "ename": "ValueError",
     "evalue": "cannot insert DatetimeEnd, already exists",
     "output_type": "error",
     "traceback": [
      "\u001B[0;31m---------------------------------------------------------------------------\u001B[0m",
      "\u001B[0;31mValueError\u001B[0m                                Traceback (most recent call last)",
      "Cell \u001B[0;32mIn[37], line 1\u001B[0m\n\u001B[0;32m----> 1\u001B[0m data_preag_filled \u001B[38;5;241m=\u001B[39m \u001B[43mlag_gen\u001B[49m\u001B[38;5;241;43m.\u001B[39;49m\u001B[43mcalc_preag_fill\u001B[49m\u001B[43m(\u001B[49m\u001B[43mout_df\u001B[49m\u001B[43m,\u001B[49m\u001B[43m \u001B[49m\u001B[43mgroup_col\u001B[49m\u001B[43m,\u001B[49m\u001B[43m \u001B[49m\u001B[43mdate_col\u001B[49m\u001B[43m,\u001B[49m\u001B[43m \u001B[49m\u001B[43mtarget_cols\u001B[49m\u001B[43m,\u001B[49m\u001B[43m \u001B[49m\u001B[43mpreagg\u001B[49m\u001B[43m)\u001B[49m\n",
      "File \u001B[0;32m~/work/projects/air_pol/air_pollution_predict/airpollpredictor/data_preprocessing/features_generations/ts_lag_features_generator.py:67\u001B[0m, in \u001B[0;36mcalc_preag_fill\u001B[0;34m(df_source, group_col, date_col, target_cols, preagg_method)\u001B[0m\n\u001B[1;32m     63\u001B[0m data_preag \u001B[38;5;241m=\u001B[39m df_source\u001B[38;5;241m.\u001B[39mgroupby(group_col)\u001B[38;5;241m.\u001B[39magg(\n\u001B[1;32m     64\u001B[0m     preagg_method)[target_cols]\u001B[38;5;241m.\u001B[39mreset_index()\n\u001B[1;32m     66\u001B[0m \u001B[38;5;66;03m# fill missing dates\u001B[39;00m\n\u001B[0;32m---> 67\u001B[0m data_preag_filled \u001B[38;5;241m=\u001B[39m data_preag\u001B[38;5;241m.\u001B[39mgroupby(group_col[:\u001B[38;5;241m-\u001B[39m\u001B[38;5;241m1\u001B[39m])\u001B[38;5;241m.\u001B[39mapply(\n\u001B[1;32m     68\u001B[0m     fill_missing_dates, date_col\u001B[38;5;241m=\u001B[39mdate_col)\u001B[38;5;241m.\u001B[39mdrop(group_col[:\u001B[38;5;241m-\u001B[39m\u001B[38;5;241m1\u001B[39m],\n\u001B[1;32m     69\u001B[0m                                                 axis\u001B[38;5;241m=\u001B[39m\u001B[38;5;241m1\u001B[39m)\u001B[38;5;241m.\u001B[39mreset_index()\n\u001B[1;32m     71\u001B[0m \u001B[38;5;66;03m# return DataFrame with calculated preaggregation and filled missing dates\u001B[39;00m\n\u001B[1;32m     72\u001B[0m \u001B[38;5;28;01mreturn\u001B[39;00m data_preag_filled\n",
      "File \u001B[0;32m~/work/projects/air_pol/air_pollution_predict/airpollpredictor/venv/lib/python3.10/site-packages/pandas/core/frame.py:6217\u001B[0m, in \u001B[0;36mDataFrame.reset_index\u001B[0;34m(self, level, drop, inplace, col_level, col_fill, allow_duplicates, names)\u001B[0m\n\u001B[1;32m   6211\u001B[0m         \u001B[38;5;28;01mif\u001B[39;00m lab \u001B[38;5;129;01mis\u001B[39;00m \u001B[38;5;129;01mnot\u001B[39;00m \u001B[38;5;28;01mNone\u001B[39;00m:\n\u001B[1;32m   6212\u001B[0m             \u001B[38;5;66;03m# if we have the codes, extract the values with a mask\u001B[39;00m\n\u001B[1;32m   6213\u001B[0m             level_values \u001B[38;5;241m=\u001B[39m algorithms\u001B[38;5;241m.\u001B[39mtake(\n\u001B[1;32m   6214\u001B[0m                 level_values, lab, allow_fill\u001B[38;5;241m=\u001B[39m\u001B[38;5;28;01mTrue\u001B[39;00m, fill_value\u001B[38;5;241m=\u001B[39mlev\u001B[38;5;241m.\u001B[39m_na_value\n\u001B[1;32m   6215\u001B[0m             )\n\u001B[0;32m-> 6217\u001B[0m         \u001B[43mnew_obj\u001B[49m\u001B[38;5;241;43m.\u001B[39;49m\u001B[43minsert\u001B[49m\u001B[43m(\u001B[49m\n\u001B[1;32m   6218\u001B[0m \u001B[43m            \u001B[49m\u001B[38;5;241;43m0\u001B[39;49m\u001B[43m,\u001B[49m\n\u001B[1;32m   6219\u001B[0m \u001B[43m            \u001B[49m\u001B[43mname\u001B[49m\u001B[43m,\u001B[49m\n\u001B[1;32m   6220\u001B[0m \u001B[43m            \u001B[49m\u001B[43mlevel_values\u001B[49m\u001B[43m,\u001B[49m\n\u001B[1;32m   6221\u001B[0m \u001B[43m            \u001B[49m\u001B[43mallow_duplicates\u001B[49m\u001B[38;5;241;43m=\u001B[39;49m\u001B[43mallow_duplicates\u001B[49m\u001B[43m,\u001B[49m\n\u001B[1;32m   6222\u001B[0m \u001B[43m        \u001B[49m\u001B[43m)\u001B[49m\n\u001B[1;32m   6224\u001B[0m new_obj\u001B[38;5;241m.\u001B[39mindex \u001B[38;5;241m=\u001B[39m new_index\n\u001B[1;32m   6225\u001B[0m \u001B[38;5;28;01mif\u001B[39;00m \u001B[38;5;129;01mnot\u001B[39;00m inplace:\n",
      "File \u001B[0;32m~/work/projects/air_pol/air_pollution_predict/airpollpredictor/venv/lib/python3.10/site-packages/pandas/core/frame.py:4780\u001B[0m, in \u001B[0;36mDataFrame.insert\u001B[0;34m(self, loc, column, value, allow_duplicates)\u001B[0m\n\u001B[1;32m   4774\u001B[0m     \u001B[38;5;28;01mraise\u001B[39;00m \u001B[38;5;167;01mValueError\u001B[39;00m(\n\u001B[1;32m   4775\u001B[0m         \u001B[38;5;124m\"\u001B[39m\u001B[38;5;124mCannot specify \u001B[39m\u001B[38;5;124m'\u001B[39m\u001B[38;5;124mallow_duplicates=True\u001B[39m\u001B[38;5;124m'\u001B[39m\u001B[38;5;124m when \u001B[39m\u001B[38;5;124m\"\u001B[39m\n\u001B[1;32m   4776\u001B[0m         \u001B[38;5;124m\"\u001B[39m\u001B[38;5;124m'\u001B[39m\u001B[38;5;124mself.flags.allows_duplicate_labels\u001B[39m\u001B[38;5;124m'\u001B[39m\u001B[38;5;124m is False.\u001B[39m\u001B[38;5;124m\"\u001B[39m\n\u001B[1;32m   4777\u001B[0m     )\n\u001B[1;32m   4778\u001B[0m \u001B[38;5;28;01mif\u001B[39;00m \u001B[38;5;129;01mnot\u001B[39;00m allow_duplicates \u001B[38;5;129;01mand\u001B[39;00m column \u001B[38;5;129;01min\u001B[39;00m \u001B[38;5;28mself\u001B[39m\u001B[38;5;241m.\u001B[39mcolumns:\n\u001B[1;32m   4779\u001B[0m     \u001B[38;5;66;03m# Should this be a different kind of error??\u001B[39;00m\n\u001B[0;32m-> 4780\u001B[0m     \u001B[38;5;28;01mraise\u001B[39;00m \u001B[38;5;167;01mValueError\u001B[39;00m(\u001B[38;5;124mf\u001B[39m\u001B[38;5;124m\"\u001B[39m\u001B[38;5;124mcannot insert \u001B[39m\u001B[38;5;132;01m{\u001B[39;00mcolumn\u001B[38;5;132;01m}\u001B[39;00m\u001B[38;5;124m, already exists\u001B[39m\u001B[38;5;124m\"\u001B[39m)\n\u001B[1;32m   4781\u001B[0m \u001B[38;5;28;01mif\u001B[39;00m \u001B[38;5;129;01mnot\u001B[39;00m \u001B[38;5;28misinstance\u001B[39m(loc, \u001B[38;5;28mint\u001B[39m):\n\u001B[1;32m   4782\u001B[0m     \u001B[38;5;28;01mraise\u001B[39;00m \u001B[38;5;167;01mTypeError\u001B[39;00m(\u001B[38;5;124m\"\u001B[39m\u001B[38;5;124mloc must be int\u001B[39m\u001B[38;5;124m\"\u001B[39m)\n",
      "\u001B[0;31mValueError\u001B[0m: cannot insert DatetimeEnd, already exists"
     ]
    }
   ],
   "source": [
    "data_preag_filled = lag_gen.calc_preag_fill(out_df, group_col, date_col, target_cols, preagg)"
   ],
   "metadata": {
    "collapsed": false
   }
  }
 ],
 "metadata": {
  "kernelspec": {
   "display_name": "Python 3",
   "language": "python",
   "name": "python3"
  },
  "language_info": {
   "codemirror_mode": {
    "name": "ipython",
    "version": 2
   },
   "file_extension": ".py",
   "mimetype": "text/x-python",
   "name": "python",
   "nbconvert_exporter": "python",
   "pygments_lexer": "ipython2",
   "version": "2.7.6"
  }
 },
 "nbformat": 4,
 "nbformat_minor": 0
}
