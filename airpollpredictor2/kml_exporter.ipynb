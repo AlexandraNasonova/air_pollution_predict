{
 "cells": [
  {
   "cell_type": "markdown",
   "id": "c686d50e",
   "metadata": {},
   "source": [
    "Файлы в формате kml и kmz позволяют загрузить в Google Earth Pro список объектов с координатами и отобразить их на карте. Что может быть полезно, например, для определения в каком населенном пункте находится станция, т.к. в наших метаданных далеко не во всех станциях указан населенный пункт в которых они раполагаются. Также, в рамках нашего проекта такие файлы можно, например, использовать для отображения индексов качества воздуха для каждой станции, если предварительно создать и использовать маркеры разных цветов, соответствующих цветам шкалы индекса качества воздуха.<br><br>\n",
    "В качестве основы был взят файл AirBase_v5.kmz. Из него распаковкой был получен kml-файл, который был нарезан на элементы-шаблоны, далее в этих  шаблонах вручную были размечены необходимые переменные. Для удобства все основные элементы были сохранены в файл \"kml_elements.csv\". В случае если необходимо создать более сложную древовидную структуру, то в элемент folder можно вставлять подпапки с отступом в два пробела, которые, аналогичным образом, можно заполнять другими подпапками до получения необходимой структуры.<br><br>\n",
    "В данной работе kml_exporter был использован для создания kml-файла с информацией о всех станциях входящих в новейшие метаданные."
   ]
  },
  {
   "cell_type": "code",
   "execution_count": 1,
   "id": "e1fdc45d",
   "metadata": {},
   "outputs": [],
   "source": [
    "import datetime\n",
    "import pandas as pd\n",
    "pd.set_option('display.max_columns', None)"
   ]
  },
  {
   "cell_type": "code",
   "execution_count": 2,
   "id": "36a2a04f",
   "metadata": {},
   "outputs": [],
   "source": [
    "### Import previously created kml templates\n",
    "\n",
    "# with open('mark2.txt', 'r', encoding='utf-8') as f:\n",
    "#     temp_page = f.readlines()\n",
    "# with open('folder2begin.txt', 'r', encoding='utf-8') as f:\n",
    "#     folder_start = f.readlines()\n",
    "# with open('folder2end.txt', 'r', encoding='utf-8') as f:\n",
    "#     folder_end = f.readlines()\n",
    "# with open('folder3begin.txt', 'r', encoding='utf-8') as f:\n",
    "#     subfolder_start = f.readlines()\n",
    "# with open('folder3end.txt', 'r', encoding='utf-8') as f:\n",
    "#     subfolder_end = f.readlines()\n",
    "# with open('doc2begin.txt', 'r', encoding='utf-8') as f:\n",
    "#     doc_begin = f.readlines()\n",
    "# with open('doc2end.txt', 'r', encoding='utf-8') as f:\n",
    "#     doc_end = f.readlines()\n",
    "# with open('AirBase_v5.kml', 'r', encoding='utf-8') as f:\n",
    "#     AirBase = f.readlines()"
   ]
  },
  {
   "cell_type": "code",
   "execution_count": 3,
   "id": "5b3caac1",
   "metadata": {},
   "outputs": [],
   "source": [
    "### Create and export kml_df with containing kml templates\n",
    "\n",
    "# kml1 = {'placemark': (''.join(temp_page) + '\\n'), \\\n",
    "#         'folder_top': ''.join(folder_start), \\\n",
    "#         'folder_bot': ('\\n' + ''.join(folder_end) + '\\n'), \\\n",
    "#         'subfolder_top': ('\\n' + ''.join(subfolder_start) + '\\n'), \\\n",
    "#         'subfolder_bot': ''.join(subfolder_end), \\\n",
    "#         'doc_top': (''.join(doc_begin) + '\\n'), \\\n",
    "#         'doc_bot': ''.join(doc_end), \\\n",
    "#         'airbase_v5_kml': ''.join(AirBase)}\n",
    "# kml_df = pd.DataFrame(0, index=range(8), columns=range(0))\n",
    "# kml_df['ele'] = kml1.keys()\n",
    "# kml_df['val'] = kml1.values()\n",
    "# kml_df.to_csv(\"kml_elements.csv\", index=False, encoding='utf-8-sig')"
   ]
  },
  {
   "cell_type": "code",
   "execution_count": 4,
   "id": "200224e8",
   "metadata": {},
   "outputs": [],
   "source": [
    "### KML exporter function\n",
    "### Exports stations grouped by countries\n",
    "### Each country has subfolders corresponding to 3 categories: inactive, active, active with unspecified location\n",
    "### Can be modified and tweaked to group by something else, if no extra subfolder levels are required\n",
    "### If you need extra subfolder levels you need to edit and add new kml templates into kml_df\n",
    "\n",
    "def kml_exporter(df, Username='Adele Kim', Githublink='https://github.com/Adele-Kim') -> None:\n",
    "    kml_df = pd.read_csv('kml_elements.csv')\n",
    "    folder_list = []\n",
    "    stat_count = 0\n",
    "    df1 = df.drop_duplicates(['AirQualityStation'], keep='first')\n",
    "    for element in list(df1['Countrycode'].unique()):\n",
    "        dff = df1[df1['Countrycode'] ==element].reset_index(drop=True)\n",
    "        temp_page_inactive_list = []\n",
    "        temp_page_active_list = []\n",
    "        temp_page_new_list = []\n",
    "        for i in range(len(list(dff['AirQualityStation']))):\n",
    "            DateEnd = ''\n",
    "            a_status = ''\n",
    "            AirQualityStation = dff.loc[i, 'AirQualityStation'] \n",
    "            LocalCode = dff.loc[i, 'LocalCode']\n",
    "            StationName = dff.loc[i, 'StationName']\n",
    "            try:\n",
    "                ObservationDateBegin = dff.loc[i, 'ObservationDateBegin'][0:10]\n",
    "            except:\n",
    "                ObservationDateBegin = ''\n",
    "            status1 = [dff.loc[i, 'ObservationDateEnd']!=dff.loc[i, 'ObservationDateEnd']][0]\n",
    "            status2 = [dff.loc[i, 'LocalCode']!=dff.loc[i, 'LocalCode']][0]\n",
    "            if (status1==True) or (status2==True):\n",
    "                try:\n",
    "                    DateEnd = dff.loc[i, 'ObservationDateEnd'][0:10]\n",
    "                except:\n",
    "                    DateEnd = ''\n",
    "                a_status = 'inactive station'\n",
    "            elif dff.loc[i, 'StationCity']!=dff.loc[i, 'StationCity']:\n",
    "                a_status = 'active station without location'\n",
    "                DateEnd = ''\n",
    "            else:\n",
    "                a_status = 'active station'\n",
    "                DateEnd = ''\n",
    "            ObservationDateEnd = DateEnd\n",
    "            active_status = a_status\n",
    "            AirQualityStationType = dff.loc[i, 'AirQualityStationType']\n",
    "            AirQualityStationArea = dff.loc[i, 'AirQualityStationArea']\n",
    "            Longitude = format(dff.loc[i, 'Longitude'], '.6f')\n",
    "            Latitude = format(dff.loc[i, 'Latitude'], '.6f')\n",
    "            Altitude = format(dff.loc[i, 'Altitude'])\n",
    "            my_str = (kml_df['val'][0]).format(AirQualityStation=AirQualityStation, \\\n",
    "                                               LocalCode=LocalCode, StationName=StationName, \\\n",
    "                                               ObservationDateBegin=ObservationDateBegin, \\\n",
    "                                               ObservationDateEnd=ObservationDateEnd, \\\n",
    "                                               active_status=active_status, \\\n",
    "                                               AirQualityStationType=AirQualityStationType, \\\n",
    "                                               AirQualityStationArea=AirQualityStationArea, \\\n",
    "                                               Longitude=Longitude, Latitude=Latitude, Altitude=Altitude)\n",
    "            if active_status== 'inactive station':\n",
    "                temp_page_inactive_list.append(my_str)\n",
    "            elif active_status== 'active station':\n",
    "                temp_page_active_list.append(my_str)\n",
    "            elif active_status== 'active station without location':\n",
    "                temp_page_new_list.append(my_str)\n",
    "        subfolder_text1 = kml_df['val'][3] + ''.join(temp_page_inactive_list) + kml_df['val'][4]\n",
    "        subfolder_text1 = subfolder_text1.format(aa_status='inactive', StatusNumber=len(temp_page_inactive_list))\n",
    "        subfolder_text2 = kml_df['val'][3] + ''.join(temp_page_active_list) + kml_df['val'][4]\n",
    "        subfolder_text2 = subfolder_text2.format(aa_status='active', StatusNumber=len(temp_page_active_list))\n",
    "        subfolder_text3 = kml_df['val'][3] + ''.join(temp_page_new_list) + kml_df['val'][4]\n",
    "        subfolder_text3 = subfolder_text3.format(aa_status='active_unspecified_location', StatusNumber=len(temp_page_new_list))\n",
    "        subfolder_text_final = subfolder_text1 + subfolder_text2 + subfolder_text3\n",
    "        StationsNumber = len(temp_page_inactive_list)+len(temp_page_active_list)+len(temp_page_new_list)\n",
    "        stat_count = stat_count + StationsNumber\n",
    "        folder_text = kml_df['val'][1] + subfolder_text_final + kml_df['val'][2]\n",
    "        folder_text = folder_text.format(Countrycode=element, StationsNumber=StationsNumber)\n",
    "        folder_list.append(folder_text)\n",
    "    document_text = kml_df['val'][5] + ''.join(folder_list) + kml_df['val'][6]\n",
    "    TotalStationsNum = stat_count\n",
    "    Date = datetime.datetime.now().strftime('%Y-%m-%d %H:%M')\n",
    "    UserName, GithubLink = Username, Githublink\n",
    "    document_text = document_text.format(TotalStationsNum=TotalStationsNum, Date=Date, \\\n",
    "                                         UserName=UserName, GithubLink=GithubLink)\n",
    "    filename = datetime.datetime.now().strftime('%Y_%m_%d_%H') + '_' + 'stations' + '.kml'\n",
    "    with open(filename, 'w', encoding='utf-8') as the_file:\n",
    "        the_file.write(document_text)"
   ]
  },
  {
   "cell_type": "code",
   "execution_count": 5,
   "id": "484c63fd",
   "metadata": {},
   "outputs": [],
   "source": [
    "new_metadata = pd.read_csv('final_metadata.csv', low_memory=False)"
   ]
  },
  {
   "cell_type": "code",
   "execution_count": 6,
   "id": "481bb4da",
   "metadata": {},
   "outputs": [],
   "source": [
    "kml_exporter(new_metadata)"
   ]
  }
 ],
 "metadata": {
  "kernelspec": {
   "display_name": "Python 3 (ipykernel)",
   "language": "python",
   "name": "python3"
  },
  "language_info": {
   "codemirror_mode": {
    "name": "ipython",
    "version": 3
   },
   "file_extension": ".py",
   "mimetype": "text/x-python",
   "name": "python",
   "nbconvert_exporter": "python",
   "pygments_lexer": "ipython3",
   "version": "3.9.15"
  }
 },
 "nbformat": 4,
 "nbformat_minor": 5
}
