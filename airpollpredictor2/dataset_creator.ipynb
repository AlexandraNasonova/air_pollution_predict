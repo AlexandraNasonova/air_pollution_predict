{
 "cells": [
  {
   "cell_type": "code",
   "execution_count": 1,
   "id": "3e7c928b",
   "metadata": {},
   "outputs": [],
   "source": [
    "import os\n",
    "import time\n",
    "import glob\n",
    "import pathlib\n",
    "import pandas as pd"
   ]
  },
  {
   "cell_type": "code",
   "execution_count": 2,
   "id": "d28f8926",
   "metadata": {},
   "outputs": [
    {
     "name": "stdout",
     "output_type": "stream",
     "text": [
      "['ES', 'LT', 'BA', 'BE', 'CY', 'DK', 'BG', 'IE', 'HR', 'SI', 'LU', 'TR', 'SE', 'NL', 'RS', 'UA', 'GI', 'AD', 'DE', 'IS', 'CZ', 'GR', 'RO', 'NO', 'GB', 'AL', 'AT', 'FR', 'CH', 'HU', 'LV', 'PT', 'XK', 'MK', 'GE', 'MT', 'PL', 'SK', 'FI', 'ME', 'EE', 'IT']\n"
     ]
    }
   ],
   "source": [
    "csv1 = glob.glob(os.getcwd() + '/data' + '/**/*.csv', recursive=True)\n",
    "codes = [] \n",
    "for file in csv1:\n",
    "    codes.append(file.split('\\\\')[-1][:2])\n",
    "codes = list(set(codes))\n",
    "print(codes)"
   ]
  },
  {
   "cell_type": "code",
   "execution_count": 3,
   "id": "2ac2d476",
   "metadata": {},
   "outputs": [],
   "source": [
    "def dataset_by_country(*codes) -> None:  ### pass codes separated by comma\n",
    "    codelist = [*codes]\n",
    "    csv2 = []\n",
    "    for file in csv1:\n",
    "        for code in codelist:\n",
    "            if code in file:\n",
    "                csv2.append(file)\n",
    "    df = pd.concat([pd.read_csv(f) for f in csv2])\n",
    "    df.to_csv( \"df_\" + '_'.join(code for code in codelist) + \".csv\", index=False, encoding='utf-8-sig')"
   ]
  },
  {
   "cell_type": "code",
   "execution_count": 4,
   "id": "29ca14e8",
   "metadata": {},
   "outputs": [],
   "source": [
    "dataset_by_country('DK', 'RS')"
   ]
  }
 ],
 "metadata": {
  "kernelspec": {
   "display_name": "Python 3 (ipykernel)",
   "language": "python",
   "name": "python3"
  },
  "language_info": {
   "codemirror_mode": {
    "name": "ipython",
    "version": 3
   },
   "file_extension": ".py",
   "mimetype": "text/x-python",
   "name": "python",
   "nbconvert_exporter": "python",
   "pygments_lexer": "ipython3",
   "version": "3.9.15"
  }
 },
 "nbformat": 4,
 "nbformat_minor": 5
}
