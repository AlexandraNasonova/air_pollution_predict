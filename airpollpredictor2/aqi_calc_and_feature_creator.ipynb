{
 "cells": [
  {
   "cell_type": "markdown",
   "id": "172d5e96",
   "metadata": {},
   "source": [
    "Данный ноутбук содержит скрипт для расчета индекса AQI, а также код для создания фичей для последующего этапа ML."
   ]
  },
  {
   "cell_type": "code",
   "execution_count": 57,
   "id": "6245377c",
   "metadata": {},
   "outputs": [],
   "source": [
    "import datetime\n",
    "import pytz\n",
    "import numpy as np\n",
    "import matplotlib.pyplot as plt\n",
    "from functools import reduce\n",
    "%matplotlib inline\n",
    "import seaborn as sns\n",
    "import pandas as pd\n",
    "pd.set_option('display.max_columns', None)"
   ]
  },
  {
   "cell_type": "code",
   "execution_count": 58,
   "id": "eb98157a",
   "metadata": {},
   "outputs": [],
   "source": [
    "pol_codes = [1, 5, 7, 8, 10, 6001]\n",
    "pol_dict = {7: \"O3\", 6001: \"PM2.5\", 5: \"PM10\", 10: \"CO\", 1: \"SO2\", 8: \"NO2\"}\n",
    "pol_dict_rev ={'SO2': 1,'PM10': 5,'O3': 7,'NO2': 8,'CO': 10,'PM2.5': 6001}\n",
    "pol_units = {1:'µg/m3',5:'µg/m3',7:'µg/m3',8:'µg/m3',10:'mg/m3',6001:'µg/m3'}"
   ]
  },
  {
   "cell_type": "markdown",
   "id": "ee6bf564",
   "metadata": {},
   "source": [
    "В качестве датасета было решено выбрать данные Дании, так как субъективно, исходя из предыдущего этапа EDA, их данные чуть более качественные и содержат меньше пропусков и аномалий. "
   ]
  },
  {
   "cell_type": "code",
   "execution_count": 59,
   "id": "c5c6bc9f",
   "metadata": {},
   "outputs": [],
   "source": [
    "### Import final version of Denmark dataset\n",
    "\n",
    "df_denmark_v5 = pd.read_csv('denmark_v5.csv', low_memory=False)\n",
    "df_denmark_v5 = df_denmark_v5.drop_duplicates(['AirQualityStation','AirPollutant','DatetimeEnd'], keep='last')"
   ]
  },
  {
   "cell_type": "code",
   "execution_count": 60,
   "id": "0e20c9b6",
   "metadata": {},
   "outputs": [
    {
     "data": {
      "text/html": [
       "<div>\n",
       "<style scoped>\n",
       "    .dataframe tbody tr th:only-of-type {\n",
       "        vertical-align: middle;\n",
       "    }\n",
       "\n",
       "    .dataframe tbody tr th {\n",
       "        vertical-align: top;\n",
       "    }\n",
       "\n",
       "    .dataframe thead th {\n",
       "        text-align: right;\n",
       "    }\n",
       "</style>\n",
       "<table border=\"1\" class=\"dataframe\">\n",
       "  <thead>\n",
       "    <tr style=\"text-align: right;\">\n",
       "      <th></th>\n",
       "      <th>AirQualityStation</th>\n",
       "      <th>Concentration</th>\n",
       "    </tr>\n",
       "  </thead>\n",
       "  <tbody>\n",
       "    <tr>\n",
       "      <th>6</th>\n",
       "      <td>STA-DK0034A</td>\n",
       "      <td>468964</td>\n",
       "    </tr>\n",
       "    <tr>\n",
       "      <th>1</th>\n",
       "      <td>STA-DK0012R</td>\n",
       "      <td>300024</td>\n",
       "    </tr>\n",
       "    <tr>\n",
       "      <th>7</th>\n",
       "      <td>STA-DK0045A</td>\n",
       "      <td>234902</td>\n",
       "    </tr>\n",
       "  </tbody>\n",
       "</table>\n",
       "</div>"
      ],
      "text/plain": [
       "  AirQualityStation  Concentration\n",
       "6       STA-DK0034A         468964\n",
       "1       STA-DK0012R         300024\n",
       "7       STA-DK0045A         234902"
      ]
     },
     "execution_count": 60,
     "metadata": {},
     "output_type": "execute_result"
    }
   ],
   "source": [
    "### Check top3 stations of Denmark\n",
    "\n",
    "df_denmark_v5.groupby('AirQualityStation')['Concentration'].count().reset_index().sort_values(by='Concentration', ascending=False).head(3)"
   ]
  },
  {
   "cell_type": "code",
   "execution_count": 61,
   "id": "0a26d946",
   "metadata": {},
   "outputs": [],
   "source": [
    "### Select one specific station in Denmark - 'STA-DK0034A'\n",
    "\n",
    "df_v5 = df_denmark_v5[df_denmark_v5['AirQualityStation']=='STA-DK0034A'].copy()\n",
    "df_v5['DatetimeEnd'] = pd.to_datetime(df_v5['DatetimeEnd'], format=\"%Y-%m-%d %H:%M:%S\")"
   ]
  },
  {
   "cell_type": "code",
   "execution_count": 62,
   "id": "8e51669e",
   "metadata": {},
   "outputs": [
    {
     "data": {
      "text/plain": [
       "AirPollutant\n",
       "1       79115\n",
       "5       79067\n",
       "7       76232\n",
       "8       79330\n",
       "10      78594\n",
       "6001    76626\n",
       "Name: DatetimeEnd, dtype: int64"
      ]
     },
     "execution_count": 62,
     "metadata": {},
     "output_type": "execute_result"
    }
   ],
   "source": [
    "### Check measurements number for each pollutant\n",
    "\n",
    "df_v5.groupby('AirPollutant')['DatetimeEnd'].count()"
   ]
  },
  {
   "cell_type": "code",
   "execution_count": 63,
   "id": "d6875d8a",
   "metadata": {},
   "outputs": [
    {
     "name": "stdout",
     "output_type": "stream",
     "text": [
      "<class 'pandas.core.frame.DataFrame'>\n",
      "Int64Index: 468964 entries, 8147 to 2407479\n",
      "Data columns (total 7 columns):\n",
      " #   Column                 Non-Null Count   Dtype                               \n",
      "---  ------                 --------------   -----                               \n",
      " 0   AirQualityStation      468964 non-null  object                              \n",
      " 1   AirPollutant           468964 non-null  int64                               \n",
      " 2   Concentration          468964 non-null  float64                             \n",
      " 3   DatetimeEnd            468964 non-null  datetime64[ns, pytz.FixedOffset(60)]\n",
      " 4   AirQualityStationType  468964 non-null  object                              \n",
      " 5   AirQualityStationArea  468964 non-null  object                              \n",
      " 6   StationCity            468964 non-null  object                              \n",
      "dtypes: datetime64[ns, pytz.FixedOffset(60)](1), float64(1), int64(1), object(4)\n",
      "memory usage: 28.6+ MB\n"
     ]
    }
   ],
   "source": [
    "df_v5.info(verbose=True, show_counts=True)"
   ]
  },
  {
   "cell_type": "code",
   "execution_count": 64,
   "id": "4ffcf592",
   "metadata": {},
   "outputs": [],
   "source": [
    "### Code to convert data into timeseries format. \n",
    "### Written by Alexandra Nasonova https://github.com/AlexandraNasonova\n",
    "### Modified and adapted by Adele Kim https://github.com/Adele-Kim\n",
    "\n",
    "def mean_timeseries(df):\n",
    "    df_mean_list = list()\n",
    "    for i in range(len(pol_codes)):\n",
    "        df_mean_list.append(df[df['AirPollutant']==pol_codes[i]].groupby('DatetimeEnd', as_index=False)['Concentration'].mean())\n",
    "        df_mean_list[i].rename(columns={'Concentration': pol_dict[pol_codes[i]]}, inplace=True)\n",
    "        timeseries = reduce(lambda df1, df2: df1.merge(df2, how='outer', left_on=['DatetimeEnd'], right_on=['DatetimeEnd']), df_mean_list)\n",
    "    return timeseries"
   ]
  },
  {
   "cell_type": "code",
   "execution_count": 65,
   "id": "a43e246b",
   "metadata": {},
   "outputs": [],
   "source": [
    "### Create timeseries, then make sure that it covers every hour\n",
    "\n",
    "ts_dk = mean_timeseries(df_v5)\n",
    "ts_dk2 = ts_dk.copy()\n",
    "ts_dk2 = ts_dk2.set_index('DatetimeEnd')\n",
    "ts_dk2 = ts_dk2.asfreq('H')"
   ]
  },
  {
   "cell_type": "code",
   "execution_count": 66,
   "id": "2de8da95",
   "metadata": {},
   "outputs": [
    {
     "name": "stdout",
     "output_type": "stream",
     "text": [
      "23.348\n",
      "685.7\n",
      "160.9\n",
      "217.043\n",
      "5.362\n",
      "472.8\n"
     ]
    }
   ],
   "source": [
    "### Check max concentrations of each pollutant\n",
    "\n",
    "print(ts_dk2['SO2'].max())\n",
    "print(ts_dk2['PM10'].max())\n",
    "print(ts_dk2['O3'].max())\n",
    "print(ts_dk2['NO2'].max())\n",
    "print(ts_dk2['CO'].max())\n",
    "print(ts_dk2['PM2.5'].max())"
   ]
  },
  {
   "cell_type": "code",
   "execution_count": 67,
   "id": "4f44c109",
   "metadata": {},
   "outputs": [],
   "source": [
    "### AQI subindex calculator for SO2\n",
    "\n",
    "def aqi_easy_1(df, column_index): # SO2\n",
    "    conc = [j for i in df.iloc[:, column_index:(column_index+1)].values.tolist() for j in i]\n",
    "    c_list = []\n",
    "    aqi = 0\n",
    "    c = 0\n",
    "    for i in range(len(conc)):\n",
    "        try:\n",
    "            if conc[i]<=35:\n",
    "                aqi = int(round((50 * conc[i]) / 35, 0))\n",
    "            elif 35<conc[i]<=75:\n",
    "                aqi = int(round((100 - 51) * (conc[i] - 36) / (75 - 36) + 51, 0))\n",
    "            elif 100<conc[i]<=185:\n",
    "                aqi = int(round((150 - 101) * (conc[i] - 76) / (185 - 76) + 101, 0))\n",
    "            elif 185<conc[i]<=304:\n",
    "                aqi = int(round((200 - 151) * (conc[i] - 186) / (304 - 186) + 151, 0))\n",
    "            elif 304<conc[i]<=604:\n",
    "                aqi = int(round((300 - 201) * (conc[i] - 305) / (604 - 305) + 201, 0))\n",
    "            elif 604<conc[i]<=804:\n",
    "                aqi = int(round((400 - 301) * (conc[i] - 605) / (804 - 605) + 301, 0))\n",
    "            else:\n",
    "                aqi = int(round((500 - 401) * (conc[i] - 805) / (1004 - 805) + 401, 0))\n",
    "        except:\n",
    "            aqi = np.nan\n",
    "        c_list.append(aqi)\n",
    "    return c_list"
   ]
  },
  {
   "cell_type": "code",
   "execution_count": 68,
   "id": "c0566afb",
   "metadata": {},
   "outputs": [],
   "source": [
    "### AQI subindex calculator for PM10\n",
    "\n",
    "def aqi_easy_5(df, column_index): # PM10\n",
    "    conc = [j for i in df.iloc[:, column_index:(column_index+1)].values.tolist() for j in i]\n",
    "    c_list = []\n",
    "    aqi = 0\n",
    "    c = 0\n",
    "    for i in range(len(conc)):\n",
    "        try:\n",
    "            if conc[i]<=54:\n",
    "                aqi = int(round((50 * conc[i]) / 54, 0))\n",
    "            elif 54<conc[i]<=154:\n",
    "                aqi = int(round((100 - 51) * (conc[i] - 55) / (154 - 55) + 51, 0))\n",
    "            elif 154<conc[i]<=254:\n",
    "                aqi = int(round((150 - 101) * (conc[i] - 155) / (254 - 155) + 101, 0))\n",
    "            elif 254<conc[i]<=354:\n",
    "                aqi = int(round((200 - 151) * (conc[i] - 255) / (354 - 255) + 151, 0))\n",
    "            elif 354<conc[i]<=424:\n",
    "                aqi = int(round((300 - 201) * (conc[i] - 355) / (424 - 355) + 201, 0))\n",
    "            elif 424<conc[i]<=504:\n",
    "                aqi = int(round((400 - 301) * (conc[i] - 425) / (504 - 425) + 301, 0))\n",
    "            else:\n",
    "                aqi = int(round((500 - 401) * (conc[i] - 505) / (604 - 505) + 401, 0))\n",
    "        except:\n",
    "            aqi = np.nan\n",
    "        c_list.append(aqi)\n",
    "    return c_list"
   ]
  },
  {
   "cell_type": "code",
   "execution_count": 69,
   "id": "ba9d04d6",
   "metadata": {},
   "outputs": [],
   "source": [
    "### AQI subindex calculator for O3\n",
    "\n",
    "def aqi_easy_7_8H(df, column_index): # O3 8Hour\n",
    "    conc = [j for i in df.iloc[:, column_index:(column_index+1)].values.tolist() for j in i]\n",
    "    c_list = []\n",
    "    aqi = 0\n",
    "    c = 0\n",
    "    for i in range(len(conc)):\n",
    "        try:\n",
    "            if conc[i]<=0.054:\n",
    "                aqi = int(round((50 * conc[i]) / 0.054, 0))\n",
    "            elif 0.054<conc[i]<=0.070:\n",
    "                aqi = int(round((100 - 51) * (conc[i] - 0.055) / (0.070 - 0.055) + 51, 0))\n",
    "            elif 0.070<conc[i]<=0.085:\n",
    "                aqi = int(round((150 - 101) * (conc[i] - 0.071) / (0.085 - 0.071) + 101, 0))\n",
    "            elif 0.085<conc[i]<=0.105:\n",
    "                aqi = int(round((200 - 151) * (conc[i] - 0.086) / (0.105 - 0.086) + 151, 0))\n",
    "            elif 0.105<conc[i]<=0.200:\n",
    "                aqi = int(round((300 - 201) * (conc[i] - 0.106) / (0.200 - 0.106) + 201, 0))\n",
    "            else:\n",
    "                aqi = np.nan\n",
    "        except:\n",
    "            aqi = np.nan\n",
    "        c_list.append(aqi)\n",
    "    return c_list\n",
    "\n",
    "\n",
    "def aqi_easy_7_1H(df, column_index): # O3 1Hour\n",
    "    conc = [j for i in df.iloc[:, column_index:(column_index+1)].values.tolist() for j in i]\n",
    "    c_list = []\n",
    "    aqi = 0\n",
    "    c = 0\n",
    "    for i in range(len(conc)):\n",
    "        try:\n",
    "            if 0.124<conc[i]<=0.164:\n",
    "                aqi = int(round((150 - 101) * (conc[i] - 0.125) / (0.164 - 0.125) + 101, 0))\n",
    "            elif 0.164<conc[i]<=0.204:\n",
    "                aqi = int(round((200 - 151) * (conc[i] - 0.165) / (0.204 - 0.165) + 151, 0))\n",
    "            elif 0.204<conc[i]<=0.404:\n",
    "                aqi = int(round((300 - 201) * (conc[i] - 0.205) / (0.404 - 0.205) + 201, 0))\n",
    "            elif 0.404<conc[i]<=0.504:\n",
    "                aqi = int(round((400 - 301) * (conc[i] - 0.405) / (0.504 - 0.405) + 301, 0))\n",
    "            elif 0.504<conc[i]<=0.604:\n",
    "                aqi = int(round((500 - 401) * (conc[i] - 0.505) / (0.604 - 0.505) + 401, 0))\n",
    "            else:\n",
    "                aqi = np.nan\n",
    "        except:\n",
    "            aqi = np.nan\n",
    "        c_list.append(aqi)\n",
    "    return c_list"
   ]
  },
  {
   "cell_type": "code",
   "execution_count": 70,
   "id": "a6a1703b",
   "metadata": {},
   "outputs": [],
   "source": [
    "### AQI subindex calculator for NO2\n",
    "\n",
    "def aqi_easy_8(df, column_index): # NO2\n",
    "    conc = [j for i in df.iloc[:, column_index:(column_index+1)].values.tolist() for j in i]\n",
    "    c_list = []\n",
    "    aqi = 0\n",
    "    c = 0\n",
    "    for i in range(len(conc)):\n",
    "        try:\n",
    "            if conc[i]<=53.0:\n",
    "                aqi = int(round((50 * conc[i]) / 53, 0))\n",
    "            elif 53<conc[i]<=100:\n",
    "                aqi = int(round((100 - 51) * (conc[i] - 54) / (100 - 54) + 51, 0))\n",
    "            elif 100<conc[i]<=360:\n",
    "                aqi = int(round((150 - 101) * (conc[i] - 101) / (360 - 101) + 101, 0))\n",
    "            elif 360<conc[i]<=649:\n",
    "                aqi = int(round((200 - 151) * (conc[i] - 361) / (649 - 361) + 151, 0))\n",
    "            elif 649<conc[i]<=1249:\n",
    "                aqi = int(round((300 - 201) * (conc[i] - 650) / (1249 - 650) + 201, 0))\n",
    "            elif 1249<conc[i]<=1649:\n",
    "                aqi = int(round((400 - 301) * (conc[i] - 1250) / (1649 - 1250) + 301, 0))\n",
    "            else:\n",
    "                aqi = int(round((500 - 401) * (conc[i] - 1650) / (2049 - 1650) + 401, 0))\n",
    "        except:\n",
    "            aqi = np.nan\n",
    "        c_list.append(aqi)\n",
    "    return c_list"
   ]
  },
  {
   "cell_type": "code",
   "execution_count": 71,
   "id": "b3888ee2",
   "metadata": {},
   "outputs": [],
   "source": [
    "### AQI subindex calculator for CO\n",
    "\n",
    "def aqi_easy_10(df, column_index): # CO\n",
    "    conc = [j for i in df.iloc[:, column_index:(column_index+1)].values.tolist() for j in i]\n",
    "    c_list = []\n",
    "    aqi = 0\n",
    "    c = 0\n",
    "    for i in range(len(conc)):\n",
    "        try:\n",
    "            if conc[i]<=4.4:\n",
    "                aqi = int(round((50 * conc[i]) / 4.4, 0))\n",
    "            elif 4.4<conc[i]<=9.4:\n",
    "                aqi = int(round((100 - 51) * (conc[i] - 4.5) / (9.4 - 4.5) + 51, 0))\n",
    "            elif 9.4<conc[i]<=12.4:\n",
    "                aqi = int(round((150 - 101) * (conc[i] - 9.5) / (12.4 - 9.5) + 101, 0))\n",
    "            elif 12.4<conc[i]<=15.4:\n",
    "                aqi = int(round((200 - 151) * (conc[i] - 12.5) / (15.4 - 12.5) + 151, 0))\n",
    "            elif 15.4<conc[i]<=30.4:\n",
    "                aqi = int(round((300 - 201) * (conc[i] - 15.5) / (30.4 - 15.5) + 201, 0))\n",
    "            elif 30.4<conc[i]<=40.4:\n",
    "                aqi = int(round((400 - 301) * (conc[i] - 30.5) / (40.4 - 30.5) + 301, 0))\n",
    "            else:\n",
    "                aqi = int(round((500 - 401) * (conc[i] - 40.5) / (50.4 - 40.5) + 401, 0))\n",
    "        except:\n",
    "            aqi = np.nan\n",
    "        c_list.append(aqi)\n",
    "    return c_list"
   ]
  },
  {
   "cell_type": "code",
   "execution_count": 72,
   "id": "ca818370",
   "metadata": {},
   "outputs": [],
   "source": [
    "### AQI subindex calculator for PM2.5\n",
    "\n",
    "def aqi_easy_6001(df, column_index): # PM2.5\n",
    "    conc = [j for i in df.iloc[:, column_index:(column_index+1)].values.tolist() for j in i]\n",
    "    c_list = []\n",
    "    aqi = 0\n",
    "    c = 0\n",
    "    for i in range(len(conc)):\n",
    "        try:\n",
    "            if conc[i]<=12.0:\n",
    "                aqi = int(round((50 * conc[i]) / 12.0, 0))\n",
    "            elif 12.0<conc[i]<=35.4:\n",
    "                aqi = int(round((100 - 51) * (conc[i] - 12.1) / (35.4 - 12.1) + 51, 0))\n",
    "            elif 35.4<conc[i]<=55.4:\n",
    "                aqi = int(round((150 - 101) * (conc[i] - 35.5) / (55.4 - 35.5) + 101, 0))\n",
    "            elif 55.4<conc[i]<=150.4:\n",
    "                aqi = int(round((200 - 151) * (conc[i] - 55.5) / (150.4 - 55.5) + 151, 0))\n",
    "            elif 150.4<conc[i]<=250.4:\n",
    "                aqi = int(round((300 - 201) * (conc[i] - 150.5) / (250.4 - 150.5) + 201, 0))\n",
    "            elif 250.4<conc[i]<=350.4:\n",
    "                aqi = int(round((400 - 301) * (conc[i] - 250.5) / (350.4 - 250.5) + 301, 0))\n",
    "            else:\n",
    "                aqi = int(round((500 - 401) * (conc[i] - 350.5) / (500.4 - 350.5) + 401, 0))\n",
    "        except:\n",
    "            aqi = np.nan\n",
    "        c_list.append(aqi)\n",
    "    return c_list"
   ]
  },
  {
   "cell_type": "code",
   "execution_count": 73,
   "id": "8e44b4df",
   "metadata": {},
   "outputs": [],
   "source": [
    "### Measurement converter (converts them into units used to calculate subindices)\n",
    "\n",
    "# SO2 = 1000*0.001*(ug/m3)/2.664 = (ug/m3)/2.664\n",
    "# NO2 = 1000*0.001*(ug/m3)/1.913 = (ug/m3)/1.913\n",
    "# O3 = (ug/m3)/(1.996*1000) Ozon\n",
    "# CO = (mg/m3)/1.165 CO\n",
    "\n",
    "def converter(df_temp):\n",
    "    df = df_temp\n",
    "    df.iloc[:, 0:1] = df.iloc[:, 0:1]/2.664      # SO2\n",
    "    df.iloc[:, 2:3] = df.iloc[:, 2:3]/1996       # O3\n",
    "    df.iloc[:, 3:4] = df.iloc[:, 3:4]/1.913      # NO2\n",
    "    df.iloc[:, 4:5] = df.iloc[:, 4:5]/1.165      # CO\n",
    "    return df"
   ]
  },
  {
   "cell_type": "code",
   "execution_count": 74,
   "id": "c242c41c",
   "metadata": {},
   "outputs": [],
   "source": [
    "### Function which \"rolls\" measurements in a specific intervals as required by AQI-document\n",
    "\n",
    "def roller(df_temp):\n",
    "    df = df_temp\n",
    "    df['1_1H'] = df.iloc[:, 0:1]                                              # SO2    1H \n",
    "    df['5_24H'] = df.iloc[:, 1:2].rolling(window=24, min_periods=1).mean()    # PM10  24H\n",
    "    df['7_8H'] = df.iloc[:, 2:3].rolling(window=8, min_periods=1).mean()      # O3     8H\n",
    "    df['7_1H'] = df.iloc[:, 2:3]                                              # O3     1H\n",
    "    df['8_1H'] = df.iloc[:, 3:4]                                              # NO2    1H\n",
    "    df['10_8H'] = df.iloc[:, 4:5].rolling(window=24, min_periods=1).mean()    # CO     8H\n",
    "    df['6001_24H'] = df.iloc[:, 5:6].rolling(window=24, min_periods=1).mean() # PM2.5 24H\n",
    "    return df"
   ]
  },
  {
   "cell_type": "code",
   "execution_count": 75,
   "id": "a432720f",
   "metadata": {},
   "outputs": [],
   "source": [
    "### Function which calculates subindices for each pollutant\n",
    "\n",
    "def calculator(df_temp):\n",
    "    df = df_temp\n",
    "    df['aqi_1'] = aqi_easy_1(df, 0)\n",
    "    df['aqi_5'] = aqi_easy_5(df, 1)\n",
    "    df['aqi_7_8H'] = aqi_easy_7_8H(df, 2)\n",
    "    df['aqi_7_1H'] = aqi_easy_7_1H(df, 2)\n",
    "    df['aqi_8'] = aqi_easy_8(df, 3)\n",
    "    df['aqi_10'] = aqi_easy_10(df, 4)\n",
    "    df['aqi_6001'] = aqi_easy_6001(df, 5)\n",
    "    return df"
   ]
  },
  {
   "cell_type": "code",
   "execution_count": 76,
   "id": "fbfee204",
   "metadata": {},
   "outputs": [],
   "source": [
    "### Function which calculates final AQI from previously calculated subindices\n",
    "\n",
    "def combiner(df_temp):\n",
    "    df = df_temp\n",
    "    df = df.iloc[:,13:20]\n",
    "    df['aqi'] = df.iloc[:,:7].max(axis=1)\n",
    "    df = df.iloc[:,7:8]\n",
    "    return df"
   ]
  },
  {
   "cell_type": "code",
   "execution_count": 77,
   "id": "69349fb3",
   "metadata": {},
   "outputs": [],
   "source": [
    "### Function which creates daily (24H) AQI values using hourly (1H) AQI\n",
    "\n",
    "def grouper(df_temp):\n",
    "    df = df_temp\n",
    "    df_index = pd.DataFrame(index=df.groupby(pd.Grouper(freq=\"24H\")).count().index)\n",
    "    df = df_index.merge(df.groupby(pd.Grouper(freq=\"24H\")).mean(), left_index=True, right_index=True)\n",
    "    return df"
   ]
  },
  {
   "cell_type": "code",
   "execution_count": 78,
   "id": "5f418611",
   "metadata": {},
   "outputs": [],
   "source": [
    "### Function to fill gaps in timeseries by median\n",
    "\n",
    "def filler(df_temp):\n",
    "    df = df_temp\n",
    "    df = df.fillna(df.median())\n",
    "    return df"
   ]
  },
  {
   "cell_type": "code",
   "execution_count": 79,
   "id": "e7b13078",
   "metadata": {},
   "outputs": [],
   "source": [
    "### Function to round calculated AQI\n",
    "\n",
    "def rounder(df_temp):\n",
    "    df = df_temp\n",
    "    df['aqi'] = round(df['aqi'], 0)\n",
    "    return df"
   ]
  },
  {
   "cell_type": "code",
   "execution_count": 80,
   "id": "497affe8",
   "metadata": {},
   "outputs": [],
   "source": [
    "### Combined super-function creating timeseries with final 24H AQI values from initial timeseries\n",
    "\n",
    "def aqi(df):\n",
    "    df = rounder(filler(grouper(combiner(calculator(roller(converter(df)))))))\n",
    "    return df"
   ]
  },
  {
   "cell_type": "code",
   "execution_count": 81,
   "id": "a04676a8",
   "metadata": {},
   "outputs": [
    {
     "data": {
      "text/html": [
       "<div>\n",
       "<style scoped>\n",
       "    .dataframe tbody tr th:only-of-type {\n",
       "        vertical-align: middle;\n",
       "    }\n",
       "\n",
       "    .dataframe tbody tr th {\n",
       "        vertical-align: top;\n",
       "    }\n",
       "\n",
       "    .dataframe thead th {\n",
       "        text-align: right;\n",
       "    }\n",
       "</style>\n",
       "<table border=\"1\" class=\"dataframe\">\n",
       "  <thead>\n",
       "    <tr style=\"text-align: right;\">\n",
       "      <th></th>\n",
       "      <th>aqi</th>\n",
       "    </tr>\n",
       "    <tr>\n",
       "      <th>DatetimeEnd</th>\n",
       "      <th></th>\n",
       "    </tr>\n",
       "  </thead>\n",
       "  <tbody>\n",
       "    <tr>\n",
       "      <th>2013-01-01 00:00:00+01:00</th>\n",
       "      <td>21.0</td>\n",
       "    </tr>\n",
       "    <tr>\n",
       "      <th>2013-01-02 00:00:00+01:00</th>\n",
       "      <td>41.0</td>\n",
       "    </tr>\n",
       "    <tr>\n",
       "      <th>2013-01-03 00:00:00+01:00</th>\n",
       "      <td>39.0</td>\n",
       "    </tr>\n",
       "    <tr>\n",
       "      <th>2013-01-04 00:00:00+01:00</th>\n",
       "      <td>48.0</td>\n",
       "    </tr>\n",
       "    <tr>\n",
       "      <th>2013-01-05 00:00:00+01:00</th>\n",
       "      <td>33.0</td>\n",
       "    </tr>\n",
       "  </tbody>\n",
       "</table>\n",
       "</div>"
      ],
      "text/plain": [
       "                            aqi\n",
       "DatetimeEnd                    \n",
       "2013-01-01 00:00:00+01:00  21.0\n",
       "2013-01-02 00:00:00+01:00  41.0\n",
       "2013-01-03 00:00:00+01:00  39.0\n",
       "2013-01-04 00:00:00+01:00  48.0\n",
       "2013-01-05 00:00:00+01:00  33.0"
      ]
     },
     "execution_count": 81,
     "metadata": {},
     "output_type": "execute_result"
    }
   ],
   "source": [
    "### Calculate AQI for previously chosen station of Denmark\n",
    "\n",
    "ts_dk8 = aqi(ts_dk2)\n",
    "ts_dk8.head()"
   ]
  },
  {
   "cell_type": "code",
   "execution_count": 82,
   "id": "30e4b680",
   "metadata": {},
   "outputs": [
    {
     "data": {
      "text/plain": [
       "43"
      ]
     },
     "metadata": {},
     "output_type": "display_data"
    }
   ],
   "source": [
    "### Check how many NaNs were there before we applied filler function\n",
    "\n",
    "display(len((grouper(combiner(calculator(roller(converter(ts_dk2)))))).query('aqi!=aqi')))"
   ]
  },
  {
   "cell_type": "code",
   "execution_count": 83,
   "id": "ca9a8686",
   "metadata": {},
   "outputs": [],
   "source": [
    "ts_final = ts_dk8.copy()"
   ]
  },
  {
   "cell_type": "code",
   "execution_count": 84,
   "id": "405bdefb",
   "metadata": {},
   "outputs": [],
   "source": [
    "### Create lag-features\n",
    "\n",
    "def feature_creator_v2(df_temp):\n",
    "    df = df_temp\n",
    "    df.columns = ['aqi_d1']\n",
    "    df['aqi_d2'] = df['aqi_d1'].shift(1)\n",
    "    df['aqi_d3'] = df['aqi_d1'].shift(2)\n",
    "    df['aqi_d4'] = df['aqi_d1'].shift(3)\n",
    "    df['aqi_d5'] = df['aqi_d1'].shift(4)\n",
    "#     df['aqi'] = df['aqi_d5'].shift(5)\n",
    "#     df['aqi_dd1'] = df['aqi_d1'].shift(1)\n",
    "#     df['aqi_dd2'] = df['aqi_d1'].shift(2)\n",
    "#     df['aqi_dd1'] = df['aqi_d1'] - df['aqi_d2']\n",
    "#     df['aqi_dd2'] = df['aqi_d1'] - df['aqi_d3']\n",
    "#     df['month'] = df.index.month\n",
    "#     df['monthday'] = df.index.strftime(\"%d\")\n",
    "# #     df['week'] = df.index.isocalendar().week\n",
    "#     df['weekend'] = df.index.weekday\n",
    "#     weekdays_list = list(df[\"weekend\"])\n",
    "#     weekend_list = []\n",
    "#     for i in range(len(weekdays_list)):\n",
    "#         weekend_flag = False\n",
    "#         if (weekdays_list[i] == 6) | (weekdays_list[i] == 0):\n",
    "#             weekend_flag = True\n",
    "#         weekend_list.append(weekend_flag)\n",
    "#     df['weekend'] = weekend_list\n",
    "    df = df.iloc[7:,:]\n",
    "    return df"
   ]
  },
  {
   "cell_type": "code",
   "execution_count": 85,
   "id": "c46ad364",
   "metadata": {},
   "outputs": [],
   "source": [
    "tsf2 = feature_creator_v2(ts_final)"
   ]
  }
 ],
 "metadata": {
  "kernelspec": {
   "display_name": "Python 3 (ipykernel)",
   "language": "python",
   "name": "python3"
  },
  "language_info": {
   "codemirror_mode": {
    "name": "ipython",
    "version": 3
   },
   "file_extension": ".py",
   "mimetype": "text/x-python",
   "name": "python",
   "nbconvert_exporter": "python",
   "pygments_lexer": "ipython3",
   "version": "3.9.15"
  }
 },
 "nbformat": 4,
 "nbformat_minor": 5
}
