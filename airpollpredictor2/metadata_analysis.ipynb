{
 "cells": [
  {
   "cell_type": "markdown",
   "metadata": {},
   "source": [
    "У нас имеются 2 файла с метаданными:<br>\n",
    "1) AirBase_v8_stations.csv - это старые метаданные, но здесь есть информация о соответствии станций городам \n",
    "<br>\n",
    "2) PanEuropean_metadata.csv - это новые метаданные, здесь нет информации о соответствии станций городам\n",
    "<br>\n",
    "\n",
    "Нам нужно будет их объединить, для того чтобы получить метаданные с максимальной полной информацией."
   ]
  },
  {
   "cell_type": "code",
   "execution_count": 1,
   "metadata": {},
   "outputs": [],
   "source": [
    "import pandas as pd\n",
    "pd.set_option('display.max_columns', None)"
   ]
  },
  {
   "cell_type": "code",
   "execution_count": 2,
   "metadata": {},
   "outputs": [
    {
     "name": "stdout",
     "output_type": "stream",
     "text": [
      "<class 'pandas.core.frame.DataFrame'>\n",
      "RangeIndex: 8626 entries, 0 to 8625\n",
      "Data columns (total 20 columns):\n",
      " #   Column                        Non-Null Count  Dtype  \n",
      "---  ------                        --------------  -----  \n",
      " 0   station_european_code         8626 non-null   object \n",
      " 1   station_local_code            8374 non-null   object \n",
      " 2   country_iso_code              8626 non-null   object \n",
      " 3   country_name                  8626 non-null   object \n",
      " 4   station_name                  8626 non-null   object \n",
      " 5   station_start_date            8626 non-null   object \n",
      " 6   station_end_date              2514 non-null   object \n",
      " 7   type_of_station               8623 non-null   object \n",
      " 8   station_ozone_classification  3647 non-null   object \n",
      " 9   station_type_of_area          8626 non-null   object \n",
      " 10  station_subcat_rural_back     2785 non-null   object \n",
      " 11  street_type                   2887 non-null   object \n",
      " 12  station_longitude_deg         8626 non-null   float64\n",
      " 13  station_latitude_deg          8626 non-null   float64\n",
      " 14  station_altitude              8626 non-null   int64  \n",
      " 15  station_city                  6846 non-null   object \n",
      " 16  lau_level1_code               3161 non-null   object \n",
      " 17  lau_level2_code               4570 non-null   object \n",
      " 18  lau_level2_name               6306 non-null   object \n",
      " 19  EMEP_station                  8626 non-null   object \n",
      "dtypes: float64(2), int64(1), object(17)\n",
      "memory usage: 1.3+ MB\n"
     ]
    },
    {
     "data": {
      "text/html": [
       "<div>\n",
       "<style scoped>\n",
       "    .dataframe tbody tr th:only-of-type {\n",
       "        vertical-align: middle;\n",
       "    }\n",
       "\n",
       "    .dataframe tbody tr th {\n",
       "        vertical-align: top;\n",
       "    }\n",
       "\n",
       "    .dataframe thead th {\n",
       "        text-align: right;\n",
       "    }\n",
       "</style>\n",
       "<table border=\"1\" class=\"dataframe\">\n",
       "  <thead>\n",
       "    <tr style=\"text-align: right;\">\n",
       "      <th></th>\n",
       "      <th>station_european_code</th>\n",
       "      <th>station_local_code</th>\n",
       "      <th>country_iso_code</th>\n",
       "      <th>country_name</th>\n",
       "      <th>station_name</th>\n",
       "      <th>station_start_date</th>\n",
       "      <th>station_end_date</th>\n",
       "      <th>type_of_station</th>\n",
       "      <th>station_ozone_classification</th>\n",
       "      <th>station_type_of_area</th>\n",
       "      <th>station_subcat_rural_back</th>\n",
       "      <th>street_type</th>\n",
       "      <th>station_longitude_deg</th>\n",
       "      <th>station_latitude_deg</th>\n",
       "      <th>station_altitude</th>\n",
       "      <th>station_city</th>\n",
       "      <th>lau_level1_code</th>\n",
       "      <th>lau_level2_code</th>\n",
       "      <th>lau_level2_name</th>\n",
       "      <th>EMEP_station</th>\n",
       "    </tr>\n",
       "  </thead>\n",
       "  <tbody>\n",
       "    <tr>\n",
       "      <th>1084</th>\n",
       "      <td>DEBE018</td>\n",
       "      <td>DEBE018</td>\n",
       "      <td>DE</td>\n",
       "      <td>Germany</td>\n",
       "      <td>B Schöneberg-Belziger Straße</td>\n",
       "      <td>1986-11-01</td>\n",
       "      <td>NaN</td>\n",
       "      <td>Background</td>\n",
       "      <td>NaN</td>\n",
       "      <td>urban</td>\n",
       "      <td>unknown</td>\n",
       "      <td>NaN</td>\n",
       "      <td>13.348775</td>\n",
       "      <td>52.485814</td>\n",
       "      <td>40</td>\n",
       "      <td>BERLIN</td>\n",
       "      <td>NaN</td>\n",
       "      <td>11000000</td>\n",
       "      <td>Berlin, Stadt</td>\n",
       "      <td>no</td>\n",
       "    </tr>\n",
       "  </tbody>\n",
       "</table>\n",
       "</div>"
      ],
      "text/plain": [
       "     station_european_code station_local_code country_iso_code country_name  \\\n",
       "1084               DEBE018            DEBE018               DE      Germany   \n",
       "\n",
       "                      station_name station_start_date station_end_date  \\\n",
       "1084  B Schöneberg-Belziger Straße         1986-11-01              NaN   \n",
       "\n",
       "     type_of_station station_ozone_classification station_type_of_area  \\\n",
       "1084      Background                          NaN                urban   \n",
       "\n",
       "     station_subcat_rural_back street_type  station_longitude_deg  \\\n",
       "1084                   unknown         NaN              13.348775   \n",
       "\n",
       "      station_latitude_deg  station_altitude station_city lau_level1_code  \\\n",
       "1084             52.485814                40       BERLIN             NaN   \n",
       "\n",
       "     lau_level2_code lau_level2_name EMEP_station  \n",
       "1084        11000000   Berlin, Stadt           no  "
      ]
     },
     "execution_count": 2,
     "metadata": {},
     "output_type": "execute_result"
    }
   ],
   "source": [
    "df_stat = pd.read_csv('AirBase_v8_stations.csv', sep=\"\\t\")\n",
    "df_stat.info()\n",
    "df_stat.sample(1)"
   ]
  },
  {
   "cell_type": "markdown",
   "metadata": {},
   "source": [
    "В названиях всех скачанных файлов timeseries указан цифровой код станции  - local_code или local_id, а в наших метаданных коды станции содержат помимо цифр также и буквы. Нужно проверить, действительно ли в метаданных нет цифровых кодов станций."
   ]
  },
  {
   "cell_type": "code",
   "execution_count": 3,
   "metadata": {},
   "outputs": [
    {
     "name": "stdout",
     "output_type": "stream",
     "text": [
      "<class 'pandas.core.frame.DataFrame'>\n",
      "RangeIndex: 66163 entries, 0 to 66162\n",
      "Data columns (total 25 columns):\n",
      " #   Column                    Non-Null Count  Dtype  \n",
      "---  ------                    --------------  -----  \n",
      " 0   Countrycode               66163 non-null  object \n",
      " 1   Timezone                  66163 non-null  object \n",
      " 2   Namespace                 66163 non-null  object \n",
      " 3   AirQualityNetwork         66163 non-null  object \n",
      " 4   AirQualityStation         66163 non-null  object \n",
      " 5   AirQualityStationEoICode  66163 non-null  object \n",
      " 6   AirQualityStationNatCode  66133 non-null  object \n",
      " 7   SamplingPoint             66163 non-null  object \n",
      " 8   SamplingProces            66160 non-null  object \n",
      " 9   Sample                    62077 non-null  object \n",
      " 10  AirPollutantCode          66163 non-null  object \n",
      " 11  ObservationDateBegin      59674 non-null  object \n",
      " 12  ObservationDateEnd        16417 non-null  object \n",
      " 13  Projection                66163 non-null  object \n",
      " 14  Longitude                 66163 non-null  float64\n",
      " 15  Latitude                  66163 non-null  float64\n",
      " 16  Altitude                  66163 non-null  float64\n",
      " 17  MeasurementType           63557 non-null  object \n",
      " 18  AirQualityStationType     66163 non-null  object \n",
      " 19  AirQualityStationArea     66163 non-null  object \n",
      " 20  EquivalenceDemonstrated   60643 non-null  object \n",
      " 21  MeasurementEquipment      30002 non-null  object \n",
      " 22  InletHeight               66163 non-null  float64\n",
      " 23  BuildingDistance          66163 non-null  float64\n",
      " 24  KerbDistance              66163 non-null  float64\n",
      "dtypes: float64(6), object(19)\n",
      "memory usage: 12.6+ MB\n"
     ]
    },
    {
     "data": {
      "text/html": [
       "<div>\n",
       "<style scoped>\n",
       "    .dataframe tbody tr th:only-of-type {\n",
       "        vertical-align: middle;\n",
       "    }\n",
       "\n",
       "    .dataframe tbody tr th {\n",
       "        vertical-align: top;\n",
       "    }\n",
       "\n",
       "    .dataframe thead th {\n",
       "        text-align: right;\n",
       "    }\n",
       "</style>\n",
       "<table border=\"1\" class=\"dataframe\">\n",
       "  <thead>\n",
       "    <tr style=\"text-align: right;\">\n",
       "      <th></th>\n",
       "      <th>Countrycode</th>\n",
       "      <th>Timezone</th>\n",
       "      <th>Namespace</th>\n",
       "      <th>AirQualityNetwork</th>\n",
       "      <th>AirQualityStation</th>\n",
       "      <th>AirQualityStationEoICode</th>\n",
       "      <th>AirQualityStationNatCode</th>\n",
       "      <th>SamplingPoint</th>\n",
       "      <th>SamplingProces</th>\n",
       "      <th>Sample</th>\n",
       "      <th>AirPollutantCode</th>\n",
       "      <th>ObservationDateBegin</th>\n",
       "      <th>ObservationDateEnd</th>\n",
       "      <th>Projection</th>\n",
       "      <th>Longitude</th>\n",
       "      <th>Latitude</th>\n",
       "      <th>Altitude</th>\n",
       "      <th>MeasurementType</th>\n",
       "      <th>AirQualityStationType</th>\n",
       "      <th>AirQualityStationArea</th>\n",
       "      <th>EquivalenceDemonstrated</th>\n",
       "      <th>MeasurementEquipment</th>\n",
       "      <th>InletHeight</th>\n",
       "      <th>BuildingDistance</th>\n",
       "      <th>KerbDistance</th>\n",
       "    </tr>\n",
       "  </thead>\n",
       "  <tbody>\n",
       "    <tr>\n",
       "      <th>63679</th>\n",
       "      <td>TR</td>\n",
       "      <td>http://dd.eionet.europa.eu/vocabulary/aq/timez...</td>\n",
       "      <td>TR.UHKIA.AQD</td>\n",
       "      <td>NET-TR001A</td>\n",
       "      <td>STA-TR200241</td>\n",
       "      <td>TR0036A</td>\n",
       "      <td>TR200241</td>\n",
       "      <td>SPO-TR200241_5014</td>\n",
       "      <td>SPP-TR200241_5014_CD_TECORA_2.3_AUTO</td>\n",
       "      <td>SAM-TR200241_5014</td>\n",
       "      <td>http://dd.eionet.europa.eu/vocabulary/aq/pollu...</td>\n",
       "      <td>2007-02-16T00:00:00</td>\n",
       "      <td>NaN</td>\n",
       "      <td>EPSG:4979</td>\n",
       "      <td>29.08719</td>\n",
       "      <td>37.78156</td>\n",
       "      <td>382.0</td>\n",
       "      <td>active</td>\n",
       "      <td>background</td>\n",
       "      <td>urban</td>\n",
       "      <td>ref</td>\n",
       "      <td>NaN</td>\n",
       "      <td>3.5</td>\n",
       "      <td>-999.0</td>\n",
       "      <td>-999.0</td>\n",
       "    </tr>\n",
       "  </tbody>\n",
       "</table>\n",
       "</div>"
      ],
      "text/plain": [
       "      Countrycode                                           Timezone  \\\n",
       "63679          TR  http://dd.eionet.europa.eu/vocabulary/aq/timez...   \n",
       "\n",
       "          Namespace AirQualityNetwork AirQualityStation  \\\n",
       "63679  TR.UHKIA.AQD        NET-TR001A      STA-TR200241   \n",
       "\n",
       "      AirQualityStationEoICode AirQualityStationNatCode      SamplingPoint  \\\n",
       "63679                  TR0036A                 TR200241  SPO-TR200241_5014   \n",
       "\n",
       "                             SamplingProces             Sample  \\\n",
       "63679  SPP-TR200241_5014_CD_TECORA_2.3_AUTO  SAM-TR200241_5014   \n",
       "\n",
       "                                        AirPollutantCode ObservationDateBegin  \\\n",
       "63679  http://dd.eionet.europa.eu/vocabulary/aq/pollu...  2007-02-16T00:00:00   \n",
       "\n",
       "      ObservationDateEnd Projection  Longitude  Latitude  Altitude  \\\n",
       "63679                NaN  EPSG:4979   29.08719  37.78156     382.0   \n",
       "\n",
       "      MeasurementType AirQualityStationType AirQualityStationArea  \\\n",
       "63679          active            background                 urban   \n",
       "\n",
       "      EquivalenceDemonstrated MeasurementEquipment  InletHeight  \\\n",
       "63679                     ref                  NaN          3.5   \n",
       "\n",
       "       BuildingDistance  KerbDistance  \n",
       "63679            -999.0        -999.0  "
      ]
     },
     "execution_count": 3,
     "metadata": {},
     "output_type": "execute_result"
    }
   ],
   "source": [
    "df_meta = pd.read_csv('PanEuropean_metadata.csv', sep=\"\\t\")\n",
    "df_meta.info()\n",
    "df_meta.sample(1)"
   ]
  },
  {
   "cell_type": "markdown",
   "metadata": {},
   "source": [
    "К сожалению, после подробного и внимательного анализа файлов с метаданными выявилось отсутствие колонок, соответствующих идентификаторам 'localid\". При этом, при просмотре нескольких случайно выбранных файлов какой-либо четкой закономерности нумерации и присваивания localid EoI-кодам выявлено не было. Так, например, EoI-коду DERP020 соответствует localid 3541, EoI-коду DERP019 - 3546, а DEBB032 - 3626. Также, в ходе проверки кодов в колонке AirQualityStationNatCode по папке с файлами не удалось найти ни одного совпадения с соответствием страны(например код 8145, который здесь приведен для Греции, используется в названиях файлов, соответствующих Германии)."
   ]
  },
  {
   "cell_type": "code",
   "execution_count": 4,
   "metadata": {},
   "outputs": [
    {
     "name": "stdout",
     "output_type": "stream",
     "text": [
      "['812', '9', '5', '428', '325', '425', '427', '426', '404', '429', '765', '7', '4', '856', '20', '223', '43', '15', '345', '263', '244', '243', '11', '12', '303', '283', '284', '14', '444', '203', '364', '384', '22', '464', '625', '525', '585', '304', '705', '830', '806', '808', '665', '666', '504', '605', '814', '827', '843', '163', '847', '853', '854', '852', '818', '896', '894', '885', '857', '815', '924', '959', '981', '1088', '985', '1091', '1087', '1137', '1136', '1140', '1142', '1143', '1150', '1147', '1145', '1146', '1141', '1148', '1144', '1152', '1161', '1162', '1164', '1163', '1159', '1167', '1168', '1172', '1174', '1175', '1173', '1155', '1169', '1170']\n"
     ]
    }
   ],
   "source": [
    "print(list(df_meta[df_meta['Countrycode']=='NO']['AirQualityStationNatCode'].unique()))"
   ]
  },
  {
   "cell_type": "markdown",
   "metadata": {},
   "source": [
    "Здесь, например, для Норвегии максимальные значения 'AirQualityStationNatCode' являются четырехзначными. А в папке с загруженными файлами localid, указанные в названниях файлов, находятся в диапазоне с 28633-76736. Проверка еще нескольких случайно выбранных стран показала, что значения в данный колонке ни для одной страны не совпадают с localid в названиях файлов. Исходя из этого делаем вывод, что в таблице отсутствует информация по кодам localid. <br><br>\n",
    "Попытка найти таблицу соответствия localid и StationEoICode на сайте eea.europa.eu и на других сайтах оказалась безуспешной. Поэтому нам нужно будет извлечь localid из названий файлов и добавить их в новые метаданные, чтобы можно было создавать датасеты для выбранных населенных пунктов."
   ]
  }
 ],
 "metadata": {
  "kernelspec": {
   "display_name": "Python 3 (ipykernel)",
   "language": "python",
   "name": "python3"
  },
  "language_info": {
   "codemirror_mode": {
    "name": "ipython",
    "version": 3
   },
   "file_extension": ".py",
   "mimetype": "text/x-python",
   "name": "python",
   "nbconvert_exporter": "python",
   "pygments_lexer": "ipython3",
   "version": "3.9.15"
  }
 },
 "nbformat": 4,
 "nbformat_minor": 1
}
