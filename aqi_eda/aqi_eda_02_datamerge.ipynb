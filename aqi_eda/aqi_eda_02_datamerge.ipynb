{
 "cells": [
  {
   "cell_type": "code",
   "execution_count": 69,
   "id": "d28f8926",
   "metadata": {},
   "outputs": [],
   "source": [
    "# import os\n",
    "# import glob\n",
    "# import pandas as pd\n",
    "# extension = 'csv'\n",
    "# bslash=\"\\\\\"   # this only works for windows, for linux you should probably use \"/\"\n",
    "# path_to_home=r'INSERT_HOME_DIR_PATH_HERE'\n",
    "# path_to_1=path_to_home + bslash + 'foldername_for_1'\n",
    "# path_to_5=path_to_home + bslash + 'foldername_for_5'\n",
    "# path_to_7=path_to_home + bslash + 'foldername_for_7'\n",
    "# path_to_8=path_to_home + bslash + 'foldername_for_8'\n",
    "# path_to_10=path_to_home + bslash + 'foldername_for_10'\n",
    "# path_to_6001=path_to_home + bslash + 'foldername_for_6001'"
   ]
  },
  {
   "cell_type": "code",
   "execution_count": 59,
   "id": "310a5555",
   "metadata": {},
   "outputs": [],
   "source": [
    "# os.chdir(path_to_1)\n",
    "# all_names_1 = [i for i in glob.glob('*.{}'.format(extension))]\n",
    "# os.chdir(path_to_5)\n",
    "# all_names_5 = [i for i in glob.glob('*.{}'.format(extension))]\n",
    "# os.chdir(path_to_7)\n",
    "# all_names_7 = [i for i in glob.glob('*.{}'.format(extension))]\n",
    "# os.chdir(path_to_8)\n",
    "# all_names_8 = [i for i in glob.glob('*.{}'.format(extension))]\n",
    "# os.chdir(path_to_10)\n",
    "# all_names_10 = [i for i in glob.glob('*.{}'.format(extension))]\n",
    "# os.chdir(path_to_6001)\n",
    "# all_names_6001 = [i for i in glob.glob('*.{}'.format(extension))]\n",
    "# os.chdir(path_to_home)"
   ]
  },
  {
   "cell_type": "code",
   "execution_count": 60,
   "id": "b1c355ec",
   "metadata": {},
   "outputs": [],
   "source": [
    "#                                               # Объединение всех файлов для загрязнителя 1\n",
    "#all_names_11 = [path_to_1 + bslash + s for s in all_names_1]\n",
    "#merged_11 = pd.concat([pd.read_csv(f) for f in all_names_11])\n",
    "#merged_11.to_csv( \"merged_1.csv\", index=False, encoding='utf-8-sig')"
   ]
  },
  {
   "cell_type": "code",
   "execution_count": 61,
   "id": "780cb8f3",
   "metadata": {},
   "outputs": [],
   "source": [
    "#                                               # Объединение всех файлов для загрязнителя 5\n",
    "# all_names_55 = [path_to_5 + bslash + s for s in all_names_5]\n",
    "# merged_55 = pd.concat([pd.read_csv(f) for f in all_names_55])\n",
    "# merged_55.to_csv( \"merged_5.csv\", index=False, encoding='utf-8-sig')"
   ]
  },
  {
   "cell_type": "code",
   "execution_count": 62,
   "id": "f1956c90",
   "metadata": {},
   "outputs": [],
   "source": [
    "#                                               # Объединение всех файлов для загрязнителя 7\n",
    "# all_names_77 = [path_to_7 + bslash + s for s in all_names_7]\n",
    "# merged_77 = pd.concat([pd.read_csv(f) for f in all_names_77])\n",
    "# merged_77.to_csv( \"merged_7.csv\", index=False, encoding='utf-8-sig')"
   ]
  },
  {
   "cell_type": "code",
   "execution_count": 63,
   "id": "c22f2602",
   "metadata": {},
   "outputs": [],
   "source": [
    "#                                                # Объединение всех файлов для загрязнителя 8\n",
    "# all_names_88 = [path_to_8 + bslash + s for s in all_names_8]\n",
    "# merged_88 = pd.concat([pd.read_csv(f) for f in all_names_88])\n",
    "# merged_88.to_csv( \"merged_8.csv\", index=False, encoding='utf-8-sig')"
   ]
  },
  {
   "cell_type": "code",
   "execution_count": 64,
   "id": "d3ea6b78",
   "metadata": {},
   "outputs": [],
   "source": [
    "#                                                # Объединение всех файлов для загрязнителя 10\n",
    "# all_names_1010 = [path_to_10 + bslash + s for s in all_names_10]\n",
    "# merged_1010 = pd.concat([pd.read_csv(f) for f in all_names_1010])\n",
    "# merged_1010.to_csv( \"merged_10.csv\", index=False, encoding='utf-8-sig')"
   ]
  },
  {
   "cell_type": "code",
   "execution_count": 65,
   "id": "9423df51",
   "metadata": {},
   "outputs": [],
   "source": [
    "#                                                # Объединение всех файлов для загрязнителя 6001\n",
    "# all_names_60016001 = [path_to_6001 + bslash + s for s in all_names_6001]\n",
    "# merged_60016001 = pd.concat([pd.read_csv(f) for f in all_names_60016001])\n",
    "# merged_60016001.to_csv( \"merged_6001.csv\", index=False, encoding='utf-8-sig')"
   ]
  },
  {
   "cell_type": "code",
   "execution_count": 66,
   "id": "5785a484",
   "metadata": {},
   "outputs": [],
   "source": [
    "#                                                # Объединение всех файлов для всех загрязнителей\n",
    "# os.chdir(path_to_home)\n",
    "# all_names_home = [i for i in glob.glob('*.{}'.format(extension))]\n",
    "# all_names_homehome = [path_to_home + bslash + s for s in all_names_home]\n",
    "# merged_homehome = pd.concat([pd.read_csv(f) for f in all_names_homehome])\n",
    "# merged_homehome.to_csv( \"merged_all.csv\", index=False, encoding='utf-8-sig')"
   ]
  }
 ],
 "metadata": {
  "kernelspec": {
   "display_name": "Python 3 (ipykernel)",
   "language": "python",
   "name": "python3"
  },
  "language_info": {
   "codemirror_mode": {
    "name": "ipython",
    "version": 3
   },
   "file_extension": ".py",
   "mimetype": "text/x-python",
   "name": "python",
   "nbconvert_exporter": "python",
   "pygments_lexer": "ipython3",
   "version": "3.9.7"
  }
 },
 "nbformat": 4,
 "nbformat_minor": 5
}
